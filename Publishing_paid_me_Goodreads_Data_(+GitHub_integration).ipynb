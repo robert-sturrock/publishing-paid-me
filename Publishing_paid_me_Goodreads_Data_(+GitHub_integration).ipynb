{
  "nbformat": 4,
  "nbformat_minor": 0,
  "metadata": {
    "colab": {
      "name": "Publishing paid me - Goodreads Data (+GitHub integration).ipynb",
      "provenance": [],
      "collapsed_sections": [],
      "toc_visible": true,
      "authorship_tag": "ABX9TyP9O1dRd9Tv8dwPk0gWBYgo",
      "include_colab_link": true
    },
    "kernelspec": {
      "name": "python3",
      "display_name": "Python 3"
    }
  },
  "cells": [
    {
      "cell_type": "markdown",
      "metadata": {
        "id": "view-in-github",
        "colab_type": "text"
      },
      "source": [
        "<a href=\"https://colab.research.google.com/github/robert-sturrock/publishing-paid-me/blob/master/Publishing_paid_me_Goodreads_Data_(%2BGitHub_integration).ipynb\" target=\"_parent\"><img src=\"https://colab.research.google.com/assets/colab-badge.svg\" alt=\"Open In Colab\"/></a>"
      ]
    },
    {
      "cell_type": "markdown",
      "metadata": {
        "id": "7jC0MVms8des"
      },
      "source": [
        "# Publishing paid me - Goodreads Data\n",
        "\n",
        "Aim of this workbook is to get a list of all Goodreads data that will roughly match to the Publishing Paid Me dataset. "
      ]
    },
    {
      "cell_type": "code",
      "metadata": {
        "id": "Yw3d6unwbW98"
      },
      "source": [
        "#@title Set up code here{display-mode: \"form\"} \n",
        "import numpy as np\n",
        "import matplotlib as m\n",
        "import matplotlib.pyplot as plt\n",
        "from tqdm.notebook import tqdm\n",
        "\n",
        "import re as re\n",
        "import pandas as pd\n",
        "import unicodedata \n",
        "import requests\n",
        "import seaborn as sns\n",
        "%matplotlib inline"
      ],
      "execution_count": null,
      "outputs": []
    },
    {
      "cell_type": "code",
      "metadata": {
        "id": "as5uhrwLiARO"
      },
      "source": [
        "import pandas as pd\n",
        "import numpy as np\n",
        "import seaborn as sns\n",
        "import matplotlib.pyplot as plt\n",
        "\n",
        "# Loading package for % on axis\n",
        "import matplotlib.ticker as mtick\n",
        "from matplotlib.dates import DateFormatter\n",
        "\n",
        "# set style\n",
        "# NOTE: without this the other formatting options (eg. dpi) don't actually work\n",
        "# Load packages for plotting / styling\n",
        "import matplotlib.style as style\n",
        "# print(plt.style.available)\n",
        "import seaborn as sns\n",
        "style.use('default')"
      ],
      "execution_count": null,
      "outputs": []
    },
    {
      "cell_type": "code",
      "metadata": {
        "id": "HEbwrLH8n0vQ"
      },
      "source": [
        "# Limiting floats output to 3 decimal points\n",
        "pd.set_option('display.float_format', lambda x: '{:.3f}'.format(x)) "
      ],
      "execution_count": null,
      "outputs": []
    },
    {
      "cell_type": "markdown",
      "metadata": {
        "id": "O9W2GNh0C8Q9"
      },
      "source": [
        "## Sync with GitHub"
      ]
    },
    {
      "cell_type": "markdown",
      "metadata": {
        "id": "BzVraJPBf-hH"
      },
      "source": [
        "Mount drive and Github"
      ]
    },
    {
      "cell_type": "code",
      "metadata": {
        "colab": {
          "base_uri": "https://localhost:8080/"
        },
        "id": "OUlveEqFf9sH",
        "outputId": "244b755f-5ca4-4c17-f62d-aff95cbf41f2"
      },
      "source": [
        "from google.colab import drive\r\n",
        "from os.path import join\r\n",
        "\r\n",
        "ROOT = '/content/drive'     # default for the drive\r\n",
        "PROJ = 'My Drive/Data Projects/Publishing Paid Me'\r\n",
        "\r\n",
        "GIT_USERNAME = \"robert-sturrock\" \r\n",
        "GIT_TOKEN = \"50391de799dba17eec450691a028bc5319e4412a\" \r\n",
        "GIT_REPOSITORY = \"publishing-paid-me\"    \r\n",
        "\r\n",
        "\r\n",
        "drive.mount(ROOT)  # we mount the drive at /content/drive\r\n",
        "\r\n",
        "PROJECT_PATH = join(ROOT, PROJ)\r\n",
        "\r\n",
        "GIT_PATH = f\"https://{GIT_TOKEN}@github.com/{GIT_USERNAME}/{GIT_REPOSITORY}.git\"\r\n",
        "!mkdir ./tmp/publishing-paid-me\r\n",
        "!git clone \"{GIT_PATH}\" ./tmp/publishing-paid-me\r\n",
        "!mv ./tmp/publishing-paid-me/* \"{PROJECT_PATH}\"\r\n",
        "!rm -r ./tmp/publishing-paid-me\r\n",
        "\r\n",
        "# not sure what rsync is doing here. But I think it's copying the files back to the root\r\n",
        "# !rsync -a -P --exclude=data/ \"{PROJECT_PATH}\"/* ./"
      ],
      "execution_count": null,
      "outputs": [
        {
          "output_type": "stream",
          "text": [
            "Drive already mounted at /content/drive; to attempt to forcibly remount, call drive.mount(\"/content/drive\", force_remount=True).\n",
            "Cloning into './tmp/publishing-paid-me'...\n",
            "remote: Enumerating objects: 40, done.\u001b[K\n",
            "remote: Counting objects: 100% (40/40), done.\u001b[K\n",
            "remote: Compressing objects: 100% (36/36), done.\u001b[K\n",
            "remote: Total 40 (delta 11), reused 14 (delta 3), pack-reused 0\u001b[K\n",
            "Unpacking objects: 100% (40/40), done.\n"
          ],
          "name": "stdout"
        }
      ]
    },
    {
      "cell_type": "markdown",
      "metadata": {
        "id": "9a1FE2buDwmo"
      },
      "source": [
        "Check files in drive now"
      ]
    },
    {
      "cell_type": "code",
      "metadata": {
        "colab": {
          "base_uri": "https://localhost:8080/"
        },
        "id": "pZym1Md3DnLJ",
        "outputId": "d87d5a28-fa54-4de6-897f-7b7ed5414718"
      },
      "source": [
        "!ls \"{PROJECT_PATH}\""
      ],
      "execution_count": null,
      "outputs": [
        {
          "output_type": "stream",
          "text": [
            "books.csv  LICENSE  ppm_20201010.csv\n"
          ],
          "name": "stdout"
        }
      ]
    },
    {
      "cell_type": "markdown",
      "metadata": {
        "id": "9-5NUL0Z7SZD"
      },
      "source": [
        "## Create Goodreads Data\r\n"
      ]
    },
    {
      "cell_type": "markdown",
      "metadata": {
        "id": "Ge5GWPlIdLnT"
      },
      "source": [
        "Data stored in Drive / Github"
      ]
    },
    {
      "cell_type": "code",
      "metadata": {
        "id": "kXN4MrUDcU9e"
      },
      "source": [
        "file_path = f\"{PROJECT_PATH}/ppm_20201010.csv\"\n",
        "df = pd.read_csv(file_path)"
      ],
      "execution_count": null,
      "outputs": []
    },
    {
      "cell_type": "markdown",
      "metadata": {
        "id": "d5jQVes1dHyK"
      },
      "source": [
        "Rename all of the columns"
      ]
    },
    {
      "cell_type": "code",
      "metadata": {
        "id": "ghdY6vuKc-05",
        "colab": {
          "base_uri": "https://localhost:8080/",
          "height": 339
        },
        "outputId": "f4fb8a2a-6fce-4abe-cc56-1435247124a3"
      },
      "source": [
        "cols = ['timestamp','genre','payment','rights','year','publisher','debut','agented','race','gender','sex_orient','disability','auth_name','title','comp_titles','comments']\n",
        "df.columns = cols\n",
        "df.head()"
      ],
      "execution_count": null,
      "outputs": [
        {
          "output_type": "execute_result",
          "data": {
            "text/html": [
              "<div>\n",
              "<style scoped>\n",
              "    .dataframe tbody tr th:only-of-type {\n",
              "        vertical-align: middle;\n",
              "    }\n",
              "\n",
              "    .dataframe tbody tr th {\n",
              "        vertical-align: top;\n",
              "    }\n",
              "\n",
              "    .dataframe thead th {\n",
              "        text-align: right;\n",
              "    }\n",
              "</style>\n",
              "<table border=\"1\" class=\"dataframe\">\n",
              "  <thead>\n",
              "    <tr style=\"text-align: right;\">\n",
              "      <th></th>\n",
              "      <th>timestamp</th>\n",
              "      <th>genre</th>\n",
              "      <th>payment</th>\n",
              "      <th>rights</th>\n",
              "      <th>year</th>\n",
              "      <th>publisher</th>\n",
              "      <th>debut</th>\n",
              "      <th>agented</th>\n",
              "      <th>race</th>\n",
              "      <th>gender</th>\n",
              "      <th>sex_orient</th>\n",
              "      <th>disability</th>\n",
              "      <th>auth_name</th>\n",
              "      <th>title</th>\n",
              "      <th>comp_titles</th>\n",
              "      <th>comments</th>\n",
              "    </tr>\n",
              "  </thead>\n",
              "  <tbody>\n",
              "    <tr>\n",
              "      <th>0</th>\n",
              "      <td>6/11/2020 7:09:01</td>\n",
              "      <td>Academic</td>\n",
              "      <td>$1,000</td>\n",
              "      <td>Worldwide</td>\n",
              "      <td>2018</td>\n",
              "      <td>Springer</td>\n",
              "      <td>Yes</td>\n",
              "      <td>No</td>\n",
              "      <td>White</td>\n",
              "      <td>Cis Man</td>\n",
              "      <td>Straight</td>\n",
              "      <td>No</td>\n",
              "      <td>Moorkens Castilho Gaspari Doherty</td>\n",
              "      <td>Translation Quality Assessment</td>\n",
              "      <td>NaN</td>\n",
              "      <td>NaN</td>\n",
              "    </tr>\n",
              "    <tr>\n",
              "      <th>1</th>\n",
              "      <td>6/7/2020 0:17:09</td>\n",
              "      <td>Academic</td>\n",
              "      <td>$3,000</td>\n",
              "      <td>Worldwide</td>\n",
              "      <td>2019</td>\n",
              "      <td>University Press</td>\n",
              "      <td>No</td>\n",
              "      <td>Yes</td>\n",
              "      <td>White</td>\n",
              "      <td>NaN</td>\n",
              "      <td>Straight</td>\n",
              "      <td>No</td>\n",
              "      <td>NaN</td>\n",
              "      <td>NaN</td>\n",
              "      <td>NaN</td>\n",
              "      <td>NaN</td>\n",
              "    </tr>\n",
              "    <tr>\n",
              "      <th>2</th>\n",
              "      <td>6/9/2020 7:15:32</td>\n",
              "      <td>Academic</td>\n",
              "      <td>$0</td>\n",
              "      <td>North America Only</td>\n",
              "      <td>2011</td>\n",
              "      <td>Louisiana State University</td>\n",
              "      <td>Yes</td>\n",
              "      <td>No</td>\n",
              "      <td>White</td>\n",
              "      <td>Cis Woman</td>\n",
              "      <td>Straight</td>\n",
              "      <td>No</td>\n",
              "      <td>NaN</td>\n",
              "      <td>NaN</td>\n",
              "      <td>NaN</td>\n",
              "      <td>NaN</td>\n",
              "    </tr>\n",
              "    <tr>\n",
              "      <th>3</th>\n",
              "      <td>6/10/2020 9:23:46</td>\n",
              "      <td>Academic</td>\n",
              "      <td>$500</td>\n",
              "      <td>Worldwide</td>\n",
              "      <td>2013</td>\n",
              "      <td>Praeger</td>\n",
              "      <td>No</td>\n",
              "      <td>No</td>\n",
              "      <td>Multiracial</td>\n",
              "      <td>Cis Woman</td>\n",
              "      <td>Straight</td>\n",
              "      <td>No</td>\n",
              "      <td>NaN</td>\n",
              "      <td>NaN</td>\n",
              "      <td>NaN</td>\n",
              "      <td>NaN</td>\n",
              "    </tr>\n",
              "    <tr>\n",
              "      <th>4</th>\n",
              "      <td>6/10/2020 9:24:52</td>\n",
              "      <td>Academic</td>\n",
              "      <td>$0</td>\n",
              "      <td>Worldwide</td>\n",
              "      <td>2012</td>\n",
              "      <td>University Press</td>\n",
              "      <td>Yes</td>\n",
              "      <td>No</td>\n",
              "      <td>Multiracial</td>\n",
              "      <td>Cis Woman</td>\n",
              "      <td>Straight</td>\n",
              "      <td>No</td>\n",
              "      <td>NaN</td>\n",
              "      <td>NaN</td>\n",
              "      <td>NaN</td>\n",
              "      <td>NaN</td>\n",
              "    </tr>\n",
              "  </tbody>\n",
              "</table>\n",
              "</div>"
            ],
            "text/plain": [
              "           timestamp     genre  ... comp_titles comments\n",
              "0  6/11/2020 7:09:01  Academic  ...         NaN      NaN\n",
              "1   6/7/2020 0:17:09  Academic  ...         NaN      NaN\n",
              "2   6/9/2020 7:15:32  Academic  ...         NaN      NaN\n",
              "3  6/10/2020 9:23:46  Academic  ...         NaN      NaN\n",
              "4  6/10/2020 9:24:52  Academic  ...         NaN      NaN\n",
              "\n",
              "[5 rows x 16 columns]"
            ]
          },
          "metadata": {
            "tags": []
          },
          "execution_count": 197
        }
      ]
    },
    {
      "cell_type": "markdown",
      "metadata": {
        "id": "d_FdaNO28Pe3"
      },
      "source": [
        "Get list of all non-NA titles"
      ]
    },
    {
      "cell_type": "code",
      "metadata": {
        "id": "Ej4CBg7k8O3H"
      },
      "source": [
        "titles = df.loc[~df.title.isna()]"
      ],
      "execution_count": null,
      "outputs": []
    },
    {
      "cell_type": "markdown",
      "metadata": {
        "id": "M4gGF3od8S-A"
      },
      "source": [
        "## Use Goodreads API to get data"
      ]
    },
    {
      "cell_type": "markdown",
      "metadata": {
        "id": "GO6u4ALVGu37"
      },
      "source": [
        "**PROBLEM!: Goodreads has depreciated their API, so this is no longer possible**"
      ]
    },
    {
      "cell_type": "markdown",
      "metadata": {
        "id": "MYFABEywTP28"
      },
      "source": [
        "Going to use this package to get the data:\n",
        "https://pypi.org/project/Goodreads/"
      ]
    },
    {
      "cell_type": "code",
      "metadata": {
        "id": "StdnjuKKSljC",
        "colab": {
          "base_uri": "https://localhost:8080/"
        },
        "outputId": "39ca773f-af6a-475c-c025-c1693d9b062f"
      },
      "source": [
        "!pip install Goodreads"
      ],
      "execution_count": null,
      "outputs": [
        {
          "output_type": "stream",
          "text": [
            "Requirement already satisfied: Goodreads in /usr/local/lib/python3.6/dist-packages (0.3.2)\n",
            "Requirement already satisfied: requests in /usr/local/lib/python3.6/dist-packages (from Goodreads) (2.23.0)\n",
            "Requirement already satisfied: nose in /usr/local/lib/python3.6/dist-packages (from Goodreads) (1.3.7)\n",
            "Requirement already satisfied: rauth in /usr/local/lib/python3.6/dist-packages (from Goodreads) (0.7.3)\n",
            "Requirement already satisfied: xmltodict in /usr/local/lib/python3.6/dist-packages (from Goodreads) (0.12.0)\n",
            "Requirement already satisfied: urllib3!=1.25.0,!=1.25.1,<1.26,>=1.21.1 in /usr/local/lib/python3.6/dist-packages (from requests->Goodreads) (1.24.3)\n",
            "Requirement already satisfied: certifi>=2017.4.17 in /usr/local/lib/python3.6/dist-packages (from requests->Goodreads) (2020.6.20)\n",
            "Requirement already satisfied: chardet<4,>=3.0.2 in /usr/local/lib/python3.6/dist-packages (from requests->Goodreads) (3.0.4)\n",
            "Requirement already satisfied: idna<3,>=2.5 in /usr/local/lib/python3.6/dist-packages (from requests->Goodreads) (2.10)\n"
          ],
          "name": "stdout"
        }
      ]
    },
    {
      "cell_type": "code",
      "metadata": {
        "id": "xwNDzJ9fSn98"
      },
      "source": [
        "import xmltodict\n",
        "import requests\n",
        "import rauth"
      ],
      "execution_count": null,
      "outputs": []
    },
    {
      "cell_type": "code",
      "metadata": {
        "id": "EVw1OOywSuGt"
      },
      "source": [
        "from goodreads import client\n",
        "gc = client.GoodreadsClient('eMGdHafsnpk0r3Qy27yrRg', '0EvpzI1rPanBWkcO23OJcHVkHjldHzxfd0NXAThZI')"
      ],
      "execution_count": null,
      "outputs": []
    },
    {
      "cell_type": "code",
      "metadata": {
        "id": "waZ1wDoBTWid"
      },
      "source": [
        "book = gc.book(1)"
      ],
      "execution_count": null,
      "outputs": []
    },
    {
      "cell_type": "code",
      "metadata": {
        "id": "B44wNFX-Tmc2",
        "colab": {
          "base_uri": "https://localhost:8080/"
        },
        "outputId": "4e7a1c6a-fa36-4fad-e24f-e457c414a5ce"
      },
      "source": [
        "book"
      ],
      "execution_count": null,
      "outputs": [
        {
          "output_type": "execute_result",
          "data": {
            "text/plain": [
              "Harry Potter and the Half-Blood Prince (Harry Potter, #6)"
            ]
          },
          "metadata": {
            "tags": []
          },
          "execution_count": 143
        }
      ]
    },
    {
      "cell_type": "code",
      "metadata": {
        "id": "fGeh4FDnT9S4"
      },
      "source": [
        "books = gc.search_books('People Who Knew Me')"
      ],
      "execution_count": null,
      "outputs": []
    },
    {
      "cell_type": "code",
      "metadata": {
        "id": "KHY3Qpbn-FT4"
      },
      "source": [
        "book = books[0]"
      ],
      "execution_count": null,
      "outputs": []
    },
    {
      "cell_type": "code",
      "metadata": {
        "colab": {
          "base_uri": "https://localhost:8080/",
          "height": 35
        },
        "id": "M-l72cfi-FT4",
        "outputId": "4645411d-e5ef-4453-a30e-73e0a1faffc0"
      },
      "source": [
        "book.title"
      ],
      "execution_count": null,
      "outputs": [
        {
          "output_type": "execute_result",
          "data": {
            "application/vnd.google.colaboratory.intrinsic+json": {
              "type": "string"
            },
            "text/plain": [
              "'People Who Knew Me'"
            ]
          },
          "metadata": {
            "tags": []
          },
          "execution_count": 146
        }
      ]
    },
    {
      "cell_type": "code",
      "metadata": {
        "id": "0OBId4g3VPq_",
        "colab": {
          "base_uri": "https://localhost:8080/"
        },
        "outputId": "ddb820f3-8139-4278-ad1b-c97468a359cf"
      },
      "source": [
        "book.authors[0]"
      ],
      "execution_count": null,
      "outputs": [
        {
          "output_type": "execute_result",
          "data": {
            "text/plain": [
              "Kim Hooper"
            ]
          },
          "metadata": {
            "tags": []
          },
          "execution_count": 147
        }
      ]
    },
    {
      "cell_type": "code",
      "metadata": {
        "id": "UvtXrIoyVmDx",
        "colab": {
          "base_uri": "https://localhost:8080/",
          "height": 35
        },
        "outputId": "829989dd-3a7c-46ce-a0fc-8f5caa2dcbed"
      },
      "source": [
        "book.average_rating"
      ],
      "execution_count": null,
      "outputs": [
        {
          "output_type": "execute_result",
          "data": {
            "application/vnd.google.colaboratory.intrinsic+json": {
              "type": "string"
            },
            "text/plain": [
              "'3.99'"
            ]
          },
          "metadata": {
            "tags": []
          },
          "execution_count": 148
        }
      ]
    },
    {
      "cell_type": "code",
      "metadata": {
        "id": "ObNiBOK0WpbV",
        "colab": {
          "base_uri": "https://localhost:8080/",
          "height": 35
        },
        "outputId": "bd804e56-ead6-4f1c-be34-6a500f079ed5"
      },
      "source": [
        "book.ratings_count"
      ],
      "execution_count": null,
      "outputs": [
        {
          "output_type": "execute_result",
          "data": {
            "application/vnd.google.colaboratory.intrinsic+json": {
              "type": "string"
            },
            "text/plain": [
              "'925'"
            ]
          },
          "metadata": {
            "tags": []
          },
          "execution_count": 149
        }
      ]
    },
    {
      "cell_type": "code",
      "metadata": {
        "id": "mHix2rfzWt1X",
        "colab": {
          "base_uri": "https://localhost:8080/",
          "height": 35
        },
        "outputId": "f80ff3bc-4c15-4e86-b7d5-0a6761621fa1"
      },
      "source": [
        "book.publisher"
      ],
      "execution_count": null,
      "outputs": [
        {
          "output_type": "execute_result",
          "data": {
            "application/vnd.google.colaboratory.intrinsic+json": {
              "type": "string"
            },
            "text/plain": [
              "\"St. Martin's Press\""
            ]
          },
          "metadata": {
            "tags": []
          },
          "execution_count": 150
        }
      ]
    },
    {
      "cell_type": "code",
      "metadata": {
        "id": "RK3dzCi4W0zo",
        "colab": {
          "base_uri": "https://localhost:8080/"
        },
        "outputId": "87fd5362-619d-4809-8552-42ca45988bf3"
      },
      "source": [
        "book.publication_date"
      ],
      "execution_count": null,
      "outputs": [
        {
          "output_type": "execute_result",
          "data": {
            "text/plain": [
              "('5', '24', '2016')"
            ]
          },
          "metadata": {
            "tags": []
          },
          "execution_count": 151
        }
      ]
    },
    {
      "cell_type": "code",
      "metadata": {
        "id": "HUacnov3Gr5K",
        "colab": {
          "base_uri": "https://localhost:8080/"
        },
        "outputId": "722465ac-23e5-4ad9-e0e9-e483ac9dd5b4"
      },
      "source": [
        "int(book.publication_date[2])"
      ],
      "execution_count": null,
      "outputs": [
        {
          "output_type": "execute_result",
          "data": {
            "text/plain": [
              "2016"
            ]
          },
          "metadata": {
            "tags": []
          },
          "execution_count": 152
        }
      ]
    },
    {
      "cell_type": "markdown",
      "metadata": {
        "id": "IHgCs4LlW_ty"
      },
      "source": [
        "Now let's systematize this a bit"
      ]
    },
    {
      "cell_type": "code",
      "metadata": {
        "id": "1K_SDlAeYWfV"
      },
      "source": [
        "def pull_top_matches(title, number_matches):\n",
        "  records = list()\n",
        "  try:\n",
        "    books = gc.search_books(title)\n",
        "    for book in books[:number_matches]:\n",
        "      rec = dict()\n",
        "      rec['search_term'] = title\n",
        "      rec['title'] = book.title\n",
        "      rec['author'] = book.authors[0]\n",
        "      rec['publisher'] = book.publisher\n",
        "      rec['ratings_count'] = book.ratings_count\n",
        "      rec['average_rating'] = book.average_rating\n",
        "      rec['pub_date'] = book.publication_date\n",
        "      rec['pub_year'] = book.publication_date[2]\n",
        "      records.append(rec)\n",
        "      # import pdb; pdb.set_trace()\n",
        "  except:\n",
        "      print(\"error: \",title)\n",
        "  df = pd.DataFrame.from_records(records)\n",
        "  return df\n"
      ],
      "execution_count": null,
      "outputs": []
    },
    {
      "cell_type": "markdown",
      "metadata": {
        "id": "0PrXxZt5NVG3"
      },
      "source": [
        "Is there any difference in time it takes to pull more results? "
      ]
    },
    {
      "cell_type": "code",
      "metadata": {
        "id": "3RHaZBJRL_B7",
        "colab": {
          "base_uri": "https://localhost:8080/"
        },
        "outputId": "b76dad13-c966-4669-e791-2bd8add44a79"
      },
      "source": [
        "import time\n",
        "\n",
        "start = time.time()\n",
        "\n",
        "tmp1 = pull_top_matches('People Who Knew Me', 3)\n",
        "\n",
        "end = time.time()\n",
        "print(end-start)"
      ],
      "execution_count": null,
      "outputs": [
        {
          "output_type": "stream",
          "text": [
            "9.722641229629517\n"
          ],
          "name": "stdout"
        }
      ]
    },
    {
      "cell_type": "code",
      "metadata": {
        "id": "i0VQ7dN3M0YB",
        "colab": {
          "base_uri": "https://localhost:8080/"
        },
        "outputId": "e660a10e-b428-4235-de4b-ba24a15d46fa"
      },
      "source": [
        "start = time.time()\n",
        "\n",
        "tmp2 = pull_top_matches('People Who Knew Me', 25)\n",
        "\n",
        "end = time.time()\n",
        "print(end-start)"
      ],
      "execution_count": null,
      "outputs": [
        {
          "output_type": "stream",
          "text": [
            "9.676860332489014\n"
          ],
          "name": "stdout"
        }
      ]
    },
    {
      "cell_type": "markdown",
      "metadata": {
        "id": "ACTixmkydyRd"
      },
      "source": [
        "Doesn't seem like there is any time difference."
      ]
    },
    {
      "cell_type": "code",
      "metadata": {
        "id": "Br0z_szmZqxE",
        "colab": {
          "base_uri": "https://localhost:8080/",
          "height": 142
        },
        "outputId": "3ee1dcfe-dc38-467c-9c73-d275b6c6be8c"
      },
      "source": [
        "pull_top_matches('The Wild Inside', 3)"
      ],
      "execution_count": null,
      "outputs": [
        {
          "output_type": "execute_result",
          "data": {
            "text/html": [
              "<div>\n",
              "<style scoped>\n",
              "    .dataframe tbody tr th:only-of-type {\n",
              "        vertical-align: middle;\n",
              "    }\n",
              "\n",
              "    .dataframe tbody tr th {\n",
              "        vertical-align: top;\n",
              "    }\n",
              "\n",
              "    .dataframe thead th {\n",
              "        text-align: right;\n",
              "    }\n",
              "</style>\n",
              "<table border=\"1\" class=\"dataframe\">\n",
              "  <thead>\n",
              "    <tr style=\"text-align: right;\">\n",
              "      <th></th>\n",
              "      <th>search_term</th>\n",
              "      <th>title</th>\n",
              "      <th>author</th>\n",
              "      <th>publisher</th>\n",
              "      <th>ratings_count</th>\n",
              "      <th>average_rating</th>\n",
              "      <th>pub_date</th>\n",
              "      <th>pub_year</th>\n",
              "    </tr>\n",
              "  </thead>\n",
              "  <tbody>\n",
              "    <tr>\n",
              "      <th>0</th>\n",
              "      <td>The Wild Inside</td>\n",
              "      <td>The Wild Inside (Glacier Mystery #1)</td>\n",
              "      <td>Christine Carbo</td>\n",
              "      <td>Atria Books</td>\n",
              "      <td>2289</td>\n",
              "      <td>3.62</td>\n",
              "      <td>(6, 16, 2015)</td>\n",
              "      <td>2015</td>\n",
              "    </tr>\n",
              "    <tr>\n",
              "      <th>1</th>\n",
              "      <td>The Wild Inside</td>\n",
              "      <td>The Operators: The Wild and Terrifying Inside ...</td>\n",
              "      <td>Michael Hastings</td>\n",
              "      <td>Little, Brown &amp; Company</td>\n",
              "      <td>1702</td>\n",
              "      <td>3.93</td>\n",
              "      <td>(12, 6, 2011)</td>\n",
              "      <td>2011</td>\n",
              "    </tr>\n",
              "    <tr>\n",
              "      <th>2</th>\n",
              "      <td>The Wild Inside</td>\n",
              "      <td>The Wild Inside</td>\n",
              "      <td>Jamey Bradbury</td>\n",
              "      <td>William Morrow</td>\n",
              "      <td>574</td>\n",
              "      <td>3.29</td>\n",
              "      <td>(3, 20, 2018)</td>\n",
              "      <td>2018</td>\n",
              "    </tr>\n",
              "  </tbody>\n",
              "</table>\n",
              "</div>"
            ],
            "text/plain": [
              "       search_term  ... pub_year\n",
              "0  The Wild Inside  ...     2015\n",
              "1  The Wild Inside  ...     2011\n",
              "2  The Wild Inside  ...     2018\n",
              "\n",
              "[3 rows x 8 columns]"
            ]
          },
          "metadata": {
            "tags": []
          },
          "execution_count": 156
        }
      ]
    },
    {
      "cell_type": "markdown",
      "metadata": {
        "id": "9P559B1ud3Y2"
      },
      "source": [
        "We can really narrow the search results if we include the first word in the authors column"
      ]
    },
    {
      "cell_type": "code",
      "metadata": {
        "id": "GJ6xkn1Cd_dr",
        "colab": {
          "base_uri": "https://localhost:8080/",
          "height": 80
        },
        "outputId": "af28ab92-f8b7-4075-be7e-9fecc28dbcc5"
      },
      "source": [
        "search_term = titles.iloc[1].title + ' ' + titles.iloc[1].auth_name\n",
        "pull_top_matches(search_term, 3)"
      ],
      "execution_count": null,
      "outputs": [
        {
          "output_type": "execute_result",
          "data": {
            "text/html": [
              "<div>\n",
              "<style scoped>\n",
              "    .dataframe tbody tr th:only-of-type {\n",
              "        vertical-align: middle;\n",
              "    }\n",
              "\n",
              "    .dataframe tbody tr th {\n",
              "        vertical-align: top;\n",
              "    }\n",
              "\n",
              "    .dataframe thead th {\n",
              "        text-align: right;\n",
              "    }\n",
              "</style>\n",
              "<table border=\"1\" class=\"dataframe\">\n",
              "  <thead>\n",
              "    <tr style=\"text-align: right;\">\n",
              "      <th></th>\n",
              "      <th>search_term</th>\n",
              "      <th>title</th>\n",
              "      <th>author</th>\n",
              "      <th>publisher</th>\n",
              "      <th>ratings_count</th>\n",
              "      <th>average_rating</th>\n",
              "      <th>pub_date</th>\n",
              "      <th>pub_year</th>\n",
              "    </tr>\n",
              "  </thead>\n",
              "  <tbody>\n",
              "    <tr>\n",
              "      <th>0</th>\n",
              "      <td>The Wild Inside Jamey Bradbury</td>\n",
              "      <td>The Wild Inside</td>\n",
              "      <td>Jamey Bradbury</td>\n",
              "      <td>William Morrow</td>\n",
              "      <td>574</td>\n",
              "      <td>3.29</td>\n",
              "      <td>(3, 20, 2018)</td>\n",
              "      <td>2018</td>\n",
              "    </tr>\n",
              "  </tbody>\n",
              "</table>\n",
              "</div>"
            ],
            "text/plain": [
              "                      search_term            title  ...       pub_date pub_year\n",
              "0  The Wild Inside Jamey Bradbury  The Wild Inside  ...  (3, 20, 2018)     2018\n",
              "\n",
              "[1 rows x 8 columns]"
            ]
          },
          "metadata": {
            "tags": []
          },
          "execution_count": 157
        }
      ]
    },
    {
      "cell_type": "markdown",
      "metadata": {
        "id": "hz9UkMLHfn_S"
      },
      "source": [
        "This also seems to speed up the search process a lot"
      ]
    },
    {
      "cell_type": "code",
      "metadata": {
        "id": "Qp5y2YNff62k",
        "colab": {
          "base_uri": "https://localhost:8080/"
        },
        "outputId": "daa3f3ac-459d-4611-8eb4-04f35a923aed"
      },
      "source": [
        "# Create a variable that combines author and title\n",
        "titles['auth_title'] = titles.title + ' ' + titles.auth_name"
      ],
      "execution_count": null,
      "outputs": [
        {
          "output_type": "stream",
          "text": [
            "/usr/local/lib/python3.6/dist-packages/ipykernel_launcher.py:2: SettingWithCopyWarning: \n",
            "A value is trying to be set on a copy of a slice from a DataFrame.\n",
            "Try using .loc[row_indexer,col_indexer] = value instead\n",
            "\n",
            "See the caveats in the documentation: https://pandas.pydata.org/pandas-docs/stable/user_guide/indexing.html#returning-a-view-versus-a-copy\n",
            "  \n"
          ],
          "name": "stderr"
        }
      ]
    },
    {
      "cell_type": "code",
      "metadata": {
        "id": "dCzmweyLgwIj",
        "colab": {
          "base_uri": "https://localhost:8080/",
          "height": 250
        },
        "outputId": "bf9ad77b-31fa-4cfd-af40-22e8b2fadce6"
      },
      "source": [
        "titles.loc[titles.auth_title.str.contains('The Wild', na=False)]"
      ],
      "execution_count": null,
      "outputs": [
        {
          "output_type": "execute_result",
          "data": {
            "text/html": [
              "<div>\n",
              "<style scoped>\n",
              "    .dataframe tbody tr th:only-of-type {\n",
              "        vertical-align: middle;\n",
              "    }\n",
              "\n",
              "    .dataframe tbody tr th {\n",
              "        vertical-align: top;\n",
              "    }\n",
              "\n",
              "    .dataframe thead th {\n",
              "        text-align: right;\n",
              "    }\n",
              "</style>\n",
              "<table border=\"1\" class=\"dataframe\">\n",
              "  <thead>\n",
              "    <tr style=\"text-align: right;\">\n",
              "      <th></th>\n",
              "      <th>timestamp</th>\n",
              "      <th>genre</th>\n",
              "      <th>payment</th>\n",
              "      <th>rights</th>\n",
              "      <th>year</th>\n",
              "      <th>publisher</th>\n",
              "      <th>debut</th>\n",
              "      <th>agented</th>\n",
              "      <th>race</th>\n",
              "      <th>gender</th>\n",
              "      <th>sex_orient</th>\n",
              "      <th>disability</th>\n",
              "      <th>auth_name</th>\n",
              "      <th>title</th>\n",
              "      <th>comp_titles</th>\n",
              "      <th>comments</th>\n",
              "      <th>payment_cleaned</th>\n",
              "      <th>genre_clean</th>\n",
              "      <th>publisher_clean</th>\n",
              "      <th>race_group</th>\n",
              "      <th>race_group_detail</th>\n",
              "      <th>payment_category</th>\n",
              "      <th>auth_title</th>\n",
              "    </tr>\n",
              "  </thead>\n",
              "  <tbody>\n",
              "    <tr>\n",
              "      <th>6</th>\n",
              "      <td>6/10/2020 15:30:39</td>\n",
              "      <td>Adult Literary Fiction</td>\n",
              "      <td>$285,000</td>\n",
              "      <td>English Language Only</td>\n",
              "      <td>2018</td>\n",
              "      <td>HarperCollins (and Imprints)</td>\n",
              "      <td>Yes</td>\n",
              "      <td>Yes</td>\n",
              "      <td>White</td>\n",
              "      <td>Cis Woman</td>\n",
              "      <td>Demi/Asexual</td>\n",
              "      <td>No</td>\n",
              "      <td>Jamey Bradbury</td>\n",
              "      <td>The Wild Inside</td>\n",
              "      <td>NaN</td>\n",
              "      <td>NaN</td>\n",
              "      <td>285000.000</td>\n",
              "      <td>Literary</td>\n",
              "      <td>Big 5</td>\n",
              "      <td>White</td>\n",
              "      <td>White</td>\n",
              "      <td>$100k+</td>\n",
              "      <td>The Wild Inside Jamey Bradbury</td>\n",
              "    </tr>\n",
              "    <tr>\n",
              "      <th>899</th>\n",
              "      <td>6/10/2020 6:59:01</td>\n",
              "      <td>Non-Fiction, Audio</td>\n",
              "      <td>$473,000</td>\n",
              "      <td>Worldwide</td>\n",
              "      <td>2015</td>\n",
              "      <td>Penguin Random House (and Imprints)</td>\n",
              "      <td>No</td>\n",
              "      <td>Yes</td>\n",
              "      <td>White</td>\n",
              "      <td>Cis Man</td>\n",
              "      <td>Straight</td>\n",
              "      <td>No</td>\n",
              "      <td>Abel James</td>\n",
              "      <td>The Wild Diet</td>\n",
              "      <td>NaN</td>\n",
              "      <td>Multiple offers from bidding, many in the 300-...</td>\n",
              "      <td>473000.000</td>\n",
              "      <td>Non-Fiction</td>\n",
              "      <td>Big 5</td>\n",
              "      <td>White</td>\n",
              "      <td>White</td>\n",
              "      <td>$100k+</td>\n",
              "      <td>The Wild Diet Abel James</td>\n",
              "    </tr>\n",
              "  </tbody>\n",
              "</table>\n",
              "</div>"
            ],
            "text/plain": [
              "              timestamp  ...                      auth_title\n",
              "6    6/10/2020 15:30:39  ...  The Wild Inside Jamey Bradbury\n",
              "899   6/10/2020 6:59:01  ...        The Wild Diet Abel James\n",
              "\n",
              "[2 rows x 23 columns]"
            ]
          },
          "metadata": {
            "tags": []
          },
          "execution_count": 207
        }
      ]
    },
    {
      "cell_type": "markdown",
      "metadata": {
        "id": "yUPv7IEOZv5F"
      },
      "source": [
        "Now iterate over all of the books in the list"
      ]
    },
    {
      "cell_type": "code",
      "metadata": {
        "id": "7sfvxsBFHKRN",
        "colab": {
          "base_uri": "https://localhost:8080/"
        },
        "outputId": "06c34693-473e-4742-8edd-82d4544ec959"
      },
      "source": [
        "import tqdm\n",
        "\n",
        "book_list = list(titles.auth_title[0:10])\n",
        "results = list()\n",
        "\n",
        "# iterate\n",
        "for auth_title in tqdm.tqdm(book_list): \n",
        "  print(auth_title)\n",
        "  result = pull_top_matches(auth_title, number_matches=3)\n",
        "  results.append(result)\n",
        "\n",
        "# concatenate\n",
        "gr_results = pd.concat(results)\n",
        "\n"
      ],
      "execution_count": null,
      "outputs": [
        {
          "output_type": "stream",
          "text": [
            "\r  0%|          | 0/10 [00:00<?, ?it/s]"
          ],
          "name": "stderr"
        },
        {
          "output_type": "stream",
          "text": [
            "Translation Quality Assessment Moorkens Castilho Gaspari Doherty\n"
          ],
          "name": "stdout"
        },
        {
          "output_type": "stream",
          "text": [
            "\r 10%|█         | 1/10 [00:01<00:11,  1.25s/it]"
          ],
          "name": "stderr"
        },
        {
          "output_type": "stream",
          "text": [
            "The Wild Inside Jamey Bradbury\n"
          ],
          "name": "stdout"
        },
        {
          "output_type": "stream",
          "text": [
            "\r 20%|██        | 2/10 [00:02<00:08,  1.11s/it]"
          ],
          "name": "stderr"
        },
        {
          "output_type": "stream",
          "text": [
            "People Who Knew Me Kim Hooper\n"
          ],
          "name": "stdout"
        },
        {
          "output_type": "stream",
          "text": [
            "\r 30%|███       | 3/10 [00:02<00:07,  1.00s/it]"
          ],
          "name": "stderr"
        },
        {
          "output_type": "stream",
          "text": [
            "Cherry Blossoms Kim Hooper\n"
          ],
          "name": "stdout"
        },
        {
          "output_type": "stream",
          "text": [
            "\r 40%|████      | 4/10 [00:03<00:06,  1.03s/it]"
          ],
          "name": "stderr"
        },
        {
          "output_type": "stream",
          "text": [
            "Tiny Kim Hooper\n"
          ],
          "name": "stdout"
        },
        {
          "output_type": "stream",
          "text": [
            "\r 50%|█████     | 5/10 [00:05<00:05,  1.06s/it]"
          ],
          "name": "stderr"
        },
        {
          "output_type": "stream",
          "text": [
            "Landfalls Naomi J. Williams\n"
          ],
          "name": "stdout"
        },
        {
          "output_type": "stream",
          "text": [
            "\r 60%|██████    | 6/10 [00:05<00:04,  1.02s/it]"
          ],
          "name": "stderr"
        },
        {
          "output_type": "stream",
          "text": [
            "Scratch: Writers, Money, and the Art of Making a Living Manjula Martin\n"
          ],
          "name": "stdout"
        },
        {
          "output_type": "stream",
          "text": [
            "\r 70%|███████   | 7/10 [00:06<00:02,  1.05it/s]"
          ],
          "name": "stderr"
        },
        {
          "output_type": "stream",
          "text": [
            "Fools in Love Rebecca Podos\n"
          ],
          "name": "stdout"
        },
        {
          "output_type": "stream",
          "text": [
            "\r 80%|████████  | 8/10 [00:07<00:01,  1.09it/s]"
          ],
          "name": "stderr"
        },
        {
          "output_type": "stream",
          "text": [
            "Loose Lips Amy Stephenson\n"
          ],
          "name": "stdout"
        },
        {
          "output_type": "stream",
          "text": [
            "\r 90%|█████████ | 9/10 [00:08<00:00,  1.11it/s]"
          ],
          "name": "stderr"
        },
        {
          "output_type": "stream",
          "text": [
            "Moonflower, Nightshade, All the Hours of the Day JD Scott\n"
          ],
          "name": "stdout"
        },
        {
          "output_type": "stream",
          "text": [
            "100%|██████████| 10/10 [00:09<00:00,  1.04it/s]\n"
          ],
          "name": "stderr"
        }
      ]
    },
    {
      "cell_type": "code",
      "metadata": {
        "id": "6TdkeeXWIkzm",
        "colab": {
          "base_uri": "https://localhost:8080/",
          "height": 204
        },
        "outputId": "091cd10b-5557-4f5b-8342-532f8faaa825"
      },
      "source": [
        "vars = ['title','auth_name','publisher','year','payment']\n",
        "titles[vars].head(5)"
      ],
      "execution_count": null,
      "outputs": [
        {
          "output_type": "execute_result",
          "data": {
            "text/html": [
              "<div>\n",
              "<style scoped>\n",
              "    .dataframe tbody tr th:only-of-type {\n",
              "        vertical-align: middle;\n",
              "    }\n",
              "\n",
              "    .dataframe tbody tr th {\n",
              "        vertical-align: top;\n",
              "    }\n",
              "\n",
              "    .dataframe thead th {\n",
              "        text-align: right;\n",
              "    }\n",
              "</style>\n",
              "<table border=\"1\" class=\"dataframe\">\n",
              "  <thead>\n",
              "    <tr style=\"text-align: right;\">\n",
              "      <th></th>\n",
              "      <th>title</th>\n",
              "      <th>auth_name</th>\n",
              "      <th>publisher</th>\n",
              "      <th>year</th>\n",
              "      <th>payment</th>\n",
              "    </tr>\n",
              "  </thead>\n",
              "  <tbody>\n",
              "    <tr>\n",
              "      <th>0</th>\n",
              "      <td>Translation Quality Assessment</td>\n",
              "      <td>Moorkens Castilho Gaspari Doherty</td>\n",
              "      <td>Springer</td>\n",
              "      <td>2018</td>\n",
              "      <td>$1,000</td>\n",
              "    </tr>\n",
              "    <tr>\n",
              "      <th>6</th>\n",
              "      <td>The Wild Inside</td>\n",
              "      <td>Jamey Bradbury</td>\n",
              "      <td>HarperCollins (and Imprints)</td>\n",
              "      <td>2018</td>\n",
              "      <td>$285,000</td>\n",
              "    </tr>\n",
              "    <tr>\n",
              "      <th>7</th>\n",
              "      <td>People Who Knew Me</td>\n",
              "      <td>Kim Hooper</td>\n",
              "      <td>St. Martin's Press</td>\n",
              "      <td>2016</td>\n",
              "      <td>$25,000</td>\n",
              "    </tr>\n",
              "    <tr>\n",
              "      <th>8</th>\n",
              "      <td>Cherry Blossoms</td>\n",
              "      <td>Kim Hooper</td>\n",
              "      <td>Turner</td>\n",
              "      <td>2018</td>\n",
              "      <td>$5,000</td>\n",
              "    </tr>\n",
              "    <tr>\n",
              "      <th>9</th>\n",
              "      <td>Tiny</td>\n",
              "      <td>Kim Hooper</td>\n",
              "      <td>Turner</td>\n",
              "      <td>2019</td>\n",
              "      <td>$5,000</td>\n",
              "    </tr>\n",
              "  </tbody>\n",
              "</table>\n",
              "</div>"
            ],
            "text/plain": [
              "                            title  ...   payment\n",
              "0  Translation Quality Assessment  ...    $1,000\n",
              "6                 The Wild Inside  ...  $285,000\n",
              "7              People Who Knew Me  ...   $25,000\n",
              "8                 Cherry Blossoms  ...    $5,000\n",
              "9                            Tiny  ...    $5,000\n",
              "\n",
              "[5 rows x 5 columns]"
            ]
          },
          "metadata": {
            "tags": []
          },
          "execution_count": 160
        }
      ]
    },
    {
      "cell_type": "code",
      "metadata": {
        "id": "tdX0CJv6gqNK",
        "colab": {
          "base_uri": "https://localhost:8080/",
          "height": 272
        },
        "outputId": "7b60bc13-1728-47f3-c881-5490b9e4c7e3"
      },
      "source": [
        "gr_results.head(5)"
      ],
      "execution_count": null,
      "outputs": [
        {
          "output_type": "execute_result",
          "data": {
            "text/html": [
              "<div>\n",
              "<style scoped>\n",
              "    .dataframe tbody tr th:only-of-type {\n",
              "        vertical-align: middle;\n",
              "    }\n",
              "\n",
              "    .dataframe tbody tr th {\n",
              "        vertical-align: top;\n",
              "    }\n",
              "\n",
              "    .dataframe thead th {\n",
              "        text-align: right;\n",
              "    }\n",
              "</style>\n",
              "<table border=\"1\" class=\"dataframe\">\n",
              "  <thead>\n",
              "    <tr style=\"text-align: right;\">\n",
              "      <th></th>\n",
              "      <th>search_term</th>\n",
              "      <th>title</th>\n",
              "      <th>author</th>\n",
              "      <th>publisher</th>\n",
              "      <th>ratings_count</th>\n",
              "      <th>average_rating</th>\n",
              "      <th>pub_date</th>\n",
              "      <th>pub_year</th>\n",
              "    </tr>\n",
              "  </thead>\n",
              "  <tbody>\n",
              "    <tr>\n",
              "      <th>0</th>\n",
              "      <td>Translation Quality Assessment Moorkens Castil...</td>\n",
              "      <td>Translation Quality Assessment: From Principle...</td>\n",
              "      <td>Joss Moorkens</td>\n",
              "      <td>Springer</td>\n",
              "      <td>1</td>\n",
              "      <td>5.00</td>\n",
              "      <td>(9, 12, 2018)</td>\n",
              "      <td>2018</td>\n",
              "    </tr>\n",
              "    <tr>\n",
              "      <th>1</th>\n",
              "      <td>Translation Quality Assessment Moorkens Castil...</td>\n",
              "      <td>Translation Quality Assessment: From Principle...</td>\n",
              "      <td>Joss Moorkens</td>\n",
              "      <td>None</td>\n",
              "      <td>0</td>\n",
              "      <td>0.00</td>\n",
              "      <td>(None, None, None)</td>\n",
              "      <td>None</td>\n",
              "    </tr>\n",
              "    <tr>\n",
              "      <th>0</th>\n",
              "      <td>The Wild Inside Jamey Bradbury</td>\n",
              "      <td>The Wild Inside</td>\n",
              "      <td>Jamey Bradbury</td>\n",
              "      <td>William Morrow</td>\n",
              "      <td>574</td>\n",
              "      <td>3.29</td>\n",
              "      <td>(3, 20, 2018)</td>\n",
              "      <td>2018</td>\n",
              "    </tr>\n",
              "    <tr>\n",
              "      <th>0</th>\n",
              "      <td>People Who Knew Me Kim Hooper</td>\n",
              "      <td>People Who Knew Me</td>\n",
              "      <td>Kim Hooper</td>\n",
              "      <td>St. Martin's Press</td>\n",
              "      <td>925</td>\n",
              "      <td>3.99</td>\n",
              "      <td>(5, 24, 2016)</td>\n",
              "      <td>2016</td>\n",
              "    </tr>\n",
              "    <tr>\n",
              "      <th>0</th>\n",
              "      <td>Cherry Blossoms Kim Hooper</td>\n",
              "      <td>Cherry Blossoms</td>\n",
              "      <td>Kim Hooper</td>\n",
              "      <td>Turner</td>\n",
              "      <td>26</td>\n",
              "      <td>4.30</td>\n",
              "      <td>(10, 30, 2018)</td>\n",
              "      <td>2018</td>\n",
              "    </tr>\n",
              "  </tbody>\n",
              "</table>\n",
              "</div>"
            ],
            "text/plain": [
              "                                         search_term  ... pub_year\n",
              "0  Translation Quality Assessment Moorkens Castil...  ...     2018\n",
              "1  Translation Quality Assessment Moorkens Castil...  ...     None\n",
              "0                     The Wild Inside Jamey Bradbury  ...     2018\n",
              "0                      People Who Knew Me Kim Hooper  ...     2016\n",
              "0                         Cherry Blossoms Kim Hooper  ...     2018\n",
              "\n",
              "[5 rows x 8 columns]"
            ]
          },
          "metadata": {
            "tags": []
          },
          "execution_count": 161
        }
      ]
    },
    {
      "cell_type": "markdown",
      "metadata": {
        "id": "4Mw-7xYrDNGU"
      },
      "source": [
        "Create a function that will do this in chunks to prevent timeout issues. This is probably no longer necessary given the speedup I've realised with the search function."
      ]
    },
    {
      "cell_type": "code",
      "metadata": {
        "id": "LJcxYjA8zZiv"
      },
      "source": [
        "from google.colab import files"
      ],
      "execution_count": null,
      "outputs": []
    },
    {
      "cell_type": "code",
      "metadata": {
        "id": "M_6L-fXoFP1K"
      },
      "source": [
        "chunks = [list(titles.auth_title[x:x+200]) for x in range(0, len(titles.auth_title), 200)]\n",
        "chunk_names = [0,1,2,3]"
      ],
      "execution_count": null,
      "outputs": []
    },
    {
      "cell_type": "code",
      "metadata": {
        "id": "audOtntFFGNO",
        "colab": {
          "base_uri": "https://localhost:8080/",
          "height": 1000
        },
        "outputId": "93cf892f-2f08-4ec8-d8b2-c7aff45ad821"
      },
      "source": [
        "for name, books_chunk in zip(chunk_names, chunks):\n",
        "\n",
        "  book_list = books_chunk\n",
        "  results = list()\n",
        "\n",
        "  # iterate\n",
        "  for title in tqdm.tqdm(book_list): \n",
        "    print(title)\n",
        "    result = pull_top_matches(title, number_matches=25)\n",
        "    results.append(result)\n",
        "\n",
        "  # concatenate\n",
        "  gr_results = pd.concat(results)\n",
        "  gr_results.to_csv('goodreads_data_'+str(name)+'.csv')\n",
        "  files.download('goodreads_data_'+str(name)+'.csv')"
      ],
      "execution_count": null,
      "outputs": [
        {
          "output_type": "stream",
          "text": [
            "\r  0%|          | 0/200 [00:00<?, ?it/s]"
          ],
          "name": "stderr"
        },
        {
          "output_type": "stream",
          "text": [
            "Translation Quality Assessment Moorkens Castilho Gaspari Doherty\n"
          ],
          "name": "stdout"
        },
        {
          "output_type": "stream",
          "text": [
            "\r  0%|          | 1/200 [00:01<04:01,  1.21s/it]"
          ],
          "name": "stderr"
        },
        {
          "output_type": "stream",
          "text": [
            "The Wild Inside Jamey Bradbury\n"
          ],
          "name": "stdout"
        },
        {
          "output_type": "stream",
          "text": [
            "\r  1%|          | 2/200 [00:01<03:34,  1.08s/it]"
          ],
          "name": "stderr"
        },
        {
          "output_type": "stream",
          "text": [
            "People Who Knew Me Kim Hooper\n"
          ],
          "name": "stdout"
        },
        {
          "output_type": "stream",
          "text": [
            "\r  2%|▏         | 3/200 [00:02<03:16,  1.00it/s]"
          ],
          "name": "stderr"
        },
        {
          "output_type": "stream",
          "text": [
            "Cherry Blossoms Kim Hooper\n"
          ],
          "name": "stdout"
        },
        {
          "output_type": "stream",
          "text": [
            "\r  2%|▏         | 4/200 [00:03<03:02,  1.07it/s]"
          ],
          "name": "stderr"
        },
        {
          "output_type": "stream",
          "text": [
            "Tiny Kim Hooper\n"
          ],
          "name": "stdout"
        },
        {
          "output_type": "stream",
          "text": [
            "\r  2%|▎         | 5/200 [00:04<03:11,  1.02it/s]"
          ],
          "name": "stderr"
        },
        {
          "output_type": "stream",
          "text": [
            "Landfalls Naomi J. Williams\n"
          ],
          "name": "stdout"
        },
        {
          "output_type": "stream",
          "text": [
            "\r  3%|▎         | 6/200 [00:05<03:04,  1.05it/s]"
          ],
          "name": "stderr"
        },
        {
          "output_type": "stream",
          "text": [
            "Scratch: Writers, Money, and the Art of Making a Living Manjula Martin\n"
          ],
          "name": "stdout"
        },
        {
          "output_type": "stream",
          "text": [
            "\r  4%|▎         | 7/200 [00:06<02:54,  1.11it/s]"
          ],
          "name": "stderr"
        },
        {
          "output_type": "stream",
          "text": [
            "Fools in Love Rebecca Podos\n"
          ],
          "name": "stdout"
        },
        {
          "output_type": "stream",
          "text": [
            "\r  4%|▍         | 8/200 [00:07<02:49,  1.13it/s]"
          ],
          "name": "stderr"
        },
        {
          "output_type": "stream",
          "text": [
            "Loose Lips Amy Stephenson\n"
          ],
          "name": "stdout"
        },
        {
          "output_type": "stream",
          "text": [
            "\r  4%|▍         | 9/200 [00:07<02:40,  1.19it/s]"
          ],
          "name": "stderr"
        },
        {
          "output_type": "stream",
          "text": [
            "Moonflower, Nightshade, All the Hours of the Day JD Scott\n"
          ],
          "name": "stdout"
        },
        {
          "output_type": "stream",
          "text": [
            "\r  5%|▌         | 10/200 [00:08<02:50,  1.11it/s]"
          ],
          "name": "stderr"
        },
        {
          "output_type": "stream",
          "text": [
            "The War in Our Hearts Eva Seyler\n"
          ],
          "name": "stdout"
        },
        {
          "output_type": "stream",
          "text": [
            "\r  6%|▌         | 11/200 [00:09<02:42,  1.16it/s]"
          ],
          "name": "stderr"
        },
        {
          "output_type": "stream",
          "text": [
            "You're Grounded Chris Lassiter\n"
          ],
          "name": "stdout"
        },
        {
          "output_type": "stream",
          "text": [
            "\r  6%|▌         | 12/200 [00:10<02:38,  1.19it/s]"
          ],
          "name": "stderr"
        },
        {
          "output_type": "stream",
          "text": [
            "Ceremonials Katharine Coldiron \n"
          ],
          "name": "stdout"
        },
        {
          "output_type": "stream",
          "text": [
            "\r  6%|▋         | 13/200 [00:11<02:38,  1.18it/s]"
          ],
          "name": "stderr"
        },
        {
          "output_type": "stream",
          "text": [
            "Witchy Ariel Ries\n"
          ],
          "name": "stdout"
        },
        {
          "output_type": "stream",
          "text": [
            "\r  7%|▋         | 14/200 [00:12<02:45,  1.13it/s]"
          ],
          "name": "stderr"
        },
        {
          "output_type": "stream",
          "text": [
            "My Riot Emmett Helen\n"
          ],
          "name": "stdout"
        },
        {
          "output_type": "stream",
          "text": [
            "\r  8%|▊         | 15/200 [00:13<02:40,  1.15it/s]"
          ],
          "name": "stderr"
        },
        {
          "output_type": "stream",
          "text": [
            "DeadEndia 1 Hamish Steele\n"
          ],
          "name": "stdout"
        },
        {
          "output_type": "stream",
          "text": [
            "\r  8%|▊         | 16/200 [00:14<02:40,  1.15it/s]"
          ],
          "name": "stderr"
        },
        {
          "output_type": "stream",
          "text": [
            "DeadEndia 2 Hamish Steele\n"
          ],
          "name": "stdout"
        },
        {
          "output_type": "stream",
          "text": [
            "\r  8%|▊         | 17/200 [00:14<02:03,  1.48it/s]"
          ],
          "name": "stderr"
        },
        {
          "output_type": "stream",
          "text": [
            "error:  DeadEndia 2 Hamish Steele\n",
            "Pantheon Hamish Steele\n"
          ],
          "name": "stdout"
        },
        {
          "output_type": "stream",
          "text": [
            "\r  9%|▉         | 18/200 [00:15<02:08,  1.42it/s]"
          ],
          "name": "stderr"
        },
        {
          "output_type": "stream",
          "text": [
            "Bloom Kevin Panetta\n"
          ],
          "name": "stdout"
        },
        {
          "output_type": "stream",
          "text": [
            "\r 10%|▉         | 19/200 [00:15<02:13,  1.35it/s]"
          ],
          "name": "stderr"
        },
        {
          "output_type": "stream",
          "text": [
            "Northwest Passage Scott Chantler\n"
          ],
          "name": "stdout"
        },
        {
          "output_type": "stream",
          "text": [
            "\r 10%|█         | 20/200 [00:18<03:48,  1.27s/it]"
          ],
          "name": "stderr"
        },
        {
          "output_type": "stream",
          "text": [
            "Two Generals Scott Chantler\n"
          ],
          "name": "stdout"
        },
        {
          "output_type": "stream",
          "text": [
            "\r 10%|█         | 21/200 [00:19<03:22,  1.13s/it]"
          ],
          "name": "stderr"
        },
        {
          "output_type": "stream",
          "text": [
            "Three Thieves Scott Chantler\n"
          ],
          "name": "stdout"
        },
        {
          "output_type": "stream",
          "text": [
            "\r 11%|█         | 22/200 [00:24<07:16,  2.45s/it]"
          ],
          "name": "stderr"
        },
        {
          "output_type": "stream",
          "text": [
            "Three Thieves Scott Chantler\n"
          ],
          "name": "stdout"
        },
        {
          "output_type": "stream",
          "text": [
            "\r 12%|█▏        | 23/200 [00:29<09:31,  3.23s/it]"
          ],
          "name": "stderr"
        },
        {
          "output_type": "stream",
          "text": [
            "Bix Scott Chantler\n"
          ],
          "name": "stdout"
        },
        {
          "output_type": "stream",
          "text": [
            "\r 12%|█▏        | 24/200 [00:30<07:18,  2.49s/it]"
          ],
          "name": "stderr"
        },
        {
          "output_type": "stream",
          "text": [
            "Unnannounced Scott Chantler\n"
          ],
          "name": "stdout"
        },
        {
          "output_type": "stream",
          "text": [
            "\r 12%|█▎        | 25/200 [00:30<05:16,  1.81s/it]"
          ],
          "name": "stderr"
        },
        {
          "output_type": "stream",
          "text": [
            "error:  Unnannounced Scott Chantler\n",
            "Bowie Steve Horton\n"
          ],
          "name": "stdout"
        },
        {
          "output_type": "stream",
          "text": [
            " 14%|█▎        | 27/200 [00:32<03:50,  1.33s/it]"
          ],
          "name": "stderr"
        },
        {
          "output_type": "stream",
          "text": [
            "Spinning, Are You Listening Tillie Walden\n",
            "error:  Spinning, Are You Listening Tillie Walden\n",
            "On A Sunbeam Tillie Walden\n"
          ],
          "name": "stdout"
        },
        {
          "output_type": "stream",
          "text": [
            "\r 14%|█▍        | 28/200 [00:33<03:26,  1.20s/it]"
          ],
          "name": "stderr"
        },
        {
          "output_type": "stream",
          "text": [
            "Tell No Tales Sam Maggs\n"
          ],
          "name": "stdout"
        },
        {
          "output_type": "stream",
          "text": [
            "\r 14%|█▍        | 29/200 [00:34<03:01,  1.06s/it]"
          ],
          "name": "stderr"
        },
        {
          "output_type": "stream",
          "text": [
            "Spill Zone Scott Westerfeld\n"
          ],
          "name": "stdout"
        },
        {
          "output_type": "stream",
          "text": [
            "\r 15%|█▌        | 30/200 [00:38<05:11,  1.83s/it]"
          ],
          "name": "stderr"
        },
        {
          "output_type": "stream",
          "text": [
            "Hild Nicola Griffith\n"
          ],
          "name": "stdout"
        },
        {
          "output_type": "stream",
          "text": [
            "\r 16%|█▌        | 31/200 [00:39<04:28,  1.59s/it]"
          ],
          "name": "stderr"
        },
        {
          "output_type": "stream",
          "text": [
            "Menewood Nicola Griffith\n"
          ],
          "name": "stdout"
        },
        {
          "output_type": "stream",
          "text": [
            "\r 16%|█▌        | 32/200 [00:39<03:43,  1.33s/it]"
          ],
          "name": "stderr"
        },
        {
          "output_type": "stream",
          "text": [
            "The Flight Girls Noelle Salazar\n"
          ],
          "name": "stdout"
        },
        {
          "output_type": "stream",
          "text": [
            "\r 16%|█▋        | 33/200 [00:41<03:39,  1.31s/it]"
          ],
          "name": "stderr"
        },
        {
          "output_type": "stream",
          "text": [
            "*** ***\n"
          ],
          "name": "stdout"
        },
        {
          "output_type": "stream",
          "text": [
            "\r 17%|█▋        | 34/200 [00:41<02:43,  1.02it/s]"
          ],
          "name": "stderr"
        },
        {
          "output_type": "stream",
          "text": [
            "error:  *** ***\n",
            "The Dept. of Lost and Found Allison Winn Scotch\n"
          ],
          "name": "stdout"
        },
        {
          "output_type": "stream",
          "text": [
            "\r 18%|█▊        | 35/200 [00:41<02:04,  1.33it/s]"
          ],
          "name": "stderr"
        },
        {
          "output_type": "stream",
          "text": [
            "error:  The Dept. of Lost and Found Allison Winn Scotch\n",
            "Time of My Life Allison Winn Scotch\n"
          ],
          "name": "stdout"
        },
        {
          "output_type": "stream",
          "text": [
            "\r 18%|█▊        | 36/200 [00:42<02:06,  1.30it/s]"
          ],
          "name": "stderr"
        },
        {
          "output_type": "stream",
          "text": [
            "And I Do Not Forgive You Amber Sparks\n"
          ],
          "name": "stdout"
        },
        {
          "output_type": "stream",
          "text": [
            "\r 18%|█▊        | 37/200 [00:43<02:11,  1.24it/s]"
          ],
          "name": "stderr"
        },
        {
          "output_type": "stream",
          "text": [
            "May We Shed Amber Sparks\n"
          ],
          "name": "stdout"
        },
        {
          "output_type": "stream",
          "text": [
            "\r 19%|█▉        | 38/200 [00:44<02:13,  1.21it/s]"
          ],
          "name": "stderr"
        },
        {
          "output_type": "stream",
          "text": [
            "Desert Places Amber Sparks\n"
          ],
          "name": "stdout"
        },
        {
          "output_type": "stream",
          "text": [
            "\r 20%|█▉        | 39/200 [00:45<02:28,  1.08it/s]"
          ],
          "name": "stderr"
        },
        {
          "output_type": "stream",
          "text": [
            "The Unfinished World Amber Sparks\n"
          ],
          "name": "stdout"
        },
        {
          "output_type": "stream",
          "text": [
            "\r 20%|██        | 40/200 [00:46<02:28,  1.07it/s]"
          ],
          "name": "stderr"
        },
        {
          "output_type": "stream",
          "text": [
            "I Do Not Forgive You Amber Sparks\n"
          ],
          "name": "stdout"
        },
        {
          "output_type": "stream",
          "text": [
            "\r 20%|██        | 41/200 [00:47<02:24,  1.10it/s]"
          ],
          "name": "stderr"
        },
        {
          "output_type": "stream",
          "text": [
            "Walking on the Ceiling Aysegul Savas\n"
          ],
          "name": "stdout"
        },
        {
          "output_type": "stream",
          "text": [
            "\r 21%|██        | 42/200 [00:47<02:16,  1.16it/s]"
          ],
          "name": "stderr"
        },
        {
          "output_type": "stream",
          "text": [
            "The Floating World Babst\n"
          ],
          "name": "stdout"
        },
        {
          "output_type": "stream",
          "text": [
            "\r 22%|██▏       | 43/200 [00:48<02:12,  1.18it/s]"
          ],
          "name": "stderr"
        },
        {
          "output_type": "stream",
          "text": [
            "REAL LIFE Brandon Taylor\n"
          ],
          "name": "stdout"
        },
        {
          "output_type": "stream",
          "text": [
            "\r 22%|██▏       | 44/200 [00:49<02:11,  1.18it/s]"
          ],
          "name": "stderr"
        },
        {
          "output_type": "stream",
          "text": [
            "If You Can Get It Brendan Hodge\n"
          ],
          "name": "stdout"
        },
        {
          "output_type": "stream",
          "text": [
            "\r 22%|██▎       | 45/200 [00:50<02:28,  1.04it/s]"
          ],
          "name": "stderr"
        },
        {
          "output_type": "stream",
          "text": [
            "LOT Bryan Washington\n"
          ],
          "name": "stdout"
        },
        {
          "output_type": "stream",
          "text": [
            "\r 23%|██▎       | 46/200 [00:51<02:21,  1.09it/s]"
          ],
          "name": "stderr"
        },
        {
          "output_type": "stream",
          "text": [
            "MEMORIAL Bryan Washington\n"
          ],
          "name": "stdout"
        },
        {
          "output_type": "stream",
          "text": [
            "\r 24%|██▎       | 47/200 [00:52<02:14,  1.14it/s]"
          ],
          "name": "stderr"
        },
        {
          "output_type": "stream",
          "text": [
            "HER BODY AND OTHER PARTIES Carmen Maria Manchado\n"
          ],
          "name": "stdout"
        },
        {
          "output_type": "stream",
          "text": [
            " 24%|██▍       | 49/200 [00:52<01:20,  1.87it/s]"
          ],
          "name": "stderr"
        },
        {
          "output_type": "stream",
          "text": [
            "error:  HER BODY AND OTHER PARTIES Carmen Maria Manchado\n",
            "The Circus in Einter Cathy Day\n",
            "error:  The Circus in Einter Cathy Day\n",
            "Place Last Seen Charlotte M. Freeman\n"
          ],
          "name": "stdout"
        },
        {
          "output_type": "stream",
          "text": [
            "\r 25%|██▌       | 50/200 [00:52<01:05,  2.29it/s]"
          ],
          "name": "stderr"
        },
        {
          "output_type": "stream",
          "text": [
            "error:  Place Last Seen Charlotte M. Freeman\n",
            "Place Last Seen Charlotte McGuinn Freeman\n"
          ],
          "name": "stdout"
        },
        {
          "output_type": "stream",
          "text": [
            "\r 26%|██▌       | 51/200 [00:54<01:45,  1.41it/s]"
          ],
          "name": "stderr"
        },
        {
          "output_type": "stream",
          "text": [
            "Cape May Chip Cheek\n"
          ],
          "name": "stdout"
        },
        {
          "output_type": "stream",
          "text": [
            "\r 26%|██▌       | 52/200 [00:55<02:13,  1.11it/s]"
          ],
          "name": "stderr"
        },
        {
          "output_type": "stream",
          "text": [
            "Portraits of a Few of the People I've Made Cry Christine Sneed\n"
          ],
          "name": "stdout"
        },
        {
          "output_type": "stream",
          "text": [
            "\r 26%|██▋       | 53/200 [00:56<02:10,  1.13it/s]"
          ],
          "name": "stderr"
        },
        {
          "output_type": "stream",
          "text": [
            "Little Known Facts Christine Sneed\n"
          ],
          "name": "stdout"
        },
        {
          "output_type": "stream",
          "text": [
            "\r 27%|██▋       | 54/200 [00:57<02:08,  1.14it/s]"
          ],
          "name": "stderr"
        },
        {
          "output_type": "stream",
          "text": [
            "Paris, He Said Christine Sneed\n"
          ],
          "name": "stdout"
        },
        {
          "output_type": "stream",
          "text": [
            "\r 28%|██▊       | 55/200 [00:58<02:21,  1.03it/s]"
          ],
          "name": "stderr"
        },
        {
          "output_type": "stream",
          "text": [
            "The Virginity of Famous Men Christine Sneed\n"
          ],
          "name": "stdout"
        },
        {
          "output_type": "stream",
          "text": [
            "\r 28%|██▊       | 56/200 [00:59<02:13,  1.08it/s]"
          ],
          "name": "stderr"
        },
        {
          "output_type": "stream",
          "text": [
            "The Unraveling of Cassidy Holmes Elissa Sloan\n"
          ],
          "name": "stdout"
        },
        {
          "output_type": "stream",
          "text": [
            "\r 28%|██▊       | 57/200 [01:00<02:10,  1.10it/s]"
          ],
          "name": "stderr"
        },
        {
          "output_type": "stream",
          "text": [
            "The Girls (+ two additional books) Emma Cline\n"
          ],
          "name": "stdout"
        },
        {
          "output_type": "stream",
          "text": [
            "\r 29%|██▉       | 58/200 [01:00<01:39,  1.43it/s]"
          ],
          "name": "stderr"
        },
        {
          "output_type": "stream",
          "text": [
            "error:  The Girls (+ two additional books) Emma Cline\n",
            "Crazy Horse’s Girlfriend  Erika T. Wurth\n"
          ],
          "name": "stdout"
        },
        {
          "output_type": "stream",
          "text": [
            "\r 30%|██▉       | 59/200 [01:01<01:44,  1.34it/s]"
          ],
          "name": "stderr"
        },
        {
          "output_type": "stream",
          "text": [
            "Behold the Dreamers Imbolo Mbue\n"
          ],
          "name": "stdout"
        },
        {
          "output_type": "stream",
          "text": [
            "\r 30%|███       | 60/200 [01:03<02:31,  1.08s/it]"
          ],
          "name": "stderr"
        },
        {
          "output_type": "stream",
          "text": [
            "American Dirt Jeanine Cummins\n"
          ],
          "name": "stdout"
        },
        {
          "output_type": "stream",
          "text": [
            "\r 30%|███       | 61/200 [01:05<03:25,  1.48s/it]"
          ],
          "name": "stderr"
        },
        {
          "output_type": "stream",
          "text": [
            "Land of the Blind Jess Walter\n"
          ],
          "name": "stdout"
        },
        {
          "output_type": "stream",
          "text": [
            "\r 31%|███       | 62/200 [01:06<03:18,  1.44s/it]"
          ],
          "name": "stderr"
        },
        {
          "output_type": "stream",
          "text": [
            "Citizen Vince Jess Walter\n"
          ],
          "name": "stdout"
        },
        {
          "output_type": "stream",
          "text": [
            "\r 32%|███▏      | 63/200 [01:07<02:50,  1.24s/it]"
          ],
          "name": "stderr"
        },
        {
          "output_type": "stream",
          "text": [
            "The Zero Jess Walter\n"
          ],
          "name": "stdout"
        },
        {
          "output_type": "stream",
          "text": [
            "\r 32%|███▏      | 64/200 [01:08<02:31,  1.12s/it]"
          ],
          "name": "stderr"
        },
        {
          "output_type": "stream",
          "text": [
            "The Financial Lives of the Poets Jess Walter\n"
          ],
          "name": "stdout"
        },
        {
          "output_type": "stream",
          "text": [
            "\r 32%|███▎      | 65/200 [01:09<02:18,  1.03s/it]"
          ],
          "name": "stderr"
        },
        {
          "output_type": "stream",
          "text": [
            "Beautiful Ruins Jess Walter\n"
          ],
          "name": "stdout"
        },
        {
          "output_type": "stream",
          "text": [
            "\r 33%|███▎      | 66/200 [01:11<02:51,  1.28s/it]"
          ],
          "name": "stderr"
        },
        {
          "output_type": "stream",
          "text": [
            "We Live in Water Jess Walter\n"
          ],
          "name": "stdout"
        },
        {
          "output_type": "stream",
          "text": [
            "\r 34%|███▎      | 67/200 [01:11<02:29,  1.13s/it]"
          ],
          "name": "stderr"
        },
        {
          "output_type": "stream",
          "text": [
            "Under the Small Lights John Cotter\n"
          ],
          "name": "stdout"
        },
        {
          "output_type": "stream",
          "text": [
            " 34%|███▍      | 69/200 [01:12<01:37,  1.34it/s]"
          ],
          "name": "stderr"
        },
        {
          "output_type": "stream",
          "text": [
            "Woman of Light  Kali Fajardo-Anstine\n",
            "error:  Woman of Light  Kali Fajardo-Anstine\n",
            "Sabrina & Corina  Kali Fajardo-Anstine\n"
          ],
          "name": "stdout"
        },
        {
          "output_type": "stream",
          "text": [
            "\r 35%|███▌      | 70/200 [01:13<01:45,  1.24it/s]"
          ],
          "name": "stderr"
        },
        {
          "output_type": "stream",
          "text": [
            "Alcestis Katharine Beutner\n"
          ],
          "name": "stdout"
        },
        {
          "output_type": "stream",
          "text": [
            "\r 36%|███▌      | 71/200 [01:14<01:46,  1.21it/s]"
          ],
          "name": "stderr"
        },
        {
          "output_type": "stream",
          "text": [
            "Still Life With Monkey Katharine Weber\n"
          ],
          "name": "stdout"
        },
        {
          "output_type": "stream",
          "text": [
            "\r 36%|███▌      | 72/200 [01:15<01:43,  1.23it/s]"
          ],
          "name": "stderr"
        },
        {
          "output_type": "stream",
          "text": [
            "Ashes of Fiery Weather Kathleen Donohoe\n"
          ],
          "name": "stdout"
        },
        {
          "output_type": "stream",
          "text": [
            "\r 36%|███▋      | 73/200 [01:16<01:41,  1.25it/s]"
          ],
          "name": "stderr"
        },
        {
          "output_type": "stream",
          "text": [
            "Ghosts of the Missing Kathleen Donohoe\n"
          ],
          "name": "stdout"
        },
        {
          "output_type": "stream",
          "text": [
            "\r 37%|███▋      | 74/200 [01:17<01:47,  1.17it/s]"
          ],
          "name": "stderr"
        },
        {
          "output_type": "stream",
          "text": [
            "Mostly Dead Things Kristen Arnett\n"
          ],
          "name": "stdout"
        },
        {
          "output_type": "stream",
          "text": [
            "\r 38%|███▊      | 75/200 [01:17<01:46,  1.17it/s]"
          ],
          "name": "stderr"
        },
        {
          "output_type": "stream",
          "text": [
            "You Know You Want This Kristen Roupenian\n"
          ],
          "name": "stdout"
        },
        {
          "output_type": "stream",
          "text": [
            "\r 38%|███▊      | 76/200 [01:18<01:43,  1.19it/s]"
          ],
          "name": "stderr"
        },
        {
          "output_type": "stream",
          "text": [
            "The Secrets We Kept Lara Prescott\n"
          ],
          "name": "stdout"
        },
        {
          "output_type": "stream",
          "text": [
            "\r 38%|███▊      | 77/200 [01:19<01:44,  1.18it/s]"
          ],
          "name": "stderr"
        },
        {
          "output_type": "stream",
          "text": [
            "The Golden State Lydia Kiesling\n"
          ],
          "name": "stdout"
        },
        {
          "output_type": "stream",
          "text": [
            "\r 39%|███▉      | 78/200 [01:20<01:54,  1.07it/s]"
          ],
          "name": "stderr"
        },
        {
          "output_type": "stream",
          "text": [
            "The Ghost Keeper Natalie Morrill\n"
          ],
          "name": "stdout"
        },
        {
          "output_type": "stream",
          "text": [
            "\r 40%|███▉      | 79/200 [01:21<01:48,  1.12it/s]"
          ],
          "name": "stderr"
        },
        {
          "output_type": "stream",
          "text": [
            "Sons & Other Flammable Objects Porochista Khakpour\n"
          ],
          "name": "stdout"
        },
        {
          "output_type": "stream",
          "text": [
            "\r 40%|████      | 80/200 [01:22<01:48,  1.11it/s]"
          ],
          "name": "stderr"
        },
        {
          "output_type": "stream",
          "text": [
            "Tehrangeles Porochista Khakpour\n"
          ],
          "name": "stdout"
        },
        {
          "output_type": "stream",
          "text": [
            "\r 40%|████      | 81/200 [01:23<01:42,  1.17it/s]"
          ],
          "name": "stderr"
        },
        {
          "output_type": "stream",
          "text": [
            "SOMEONE WHO WILL LOVE IN YOU IN ALL YOUR DAMAGED GLORY Raphael Bob-Waksberg\n"
          ],
          "name": "stdout"
        },
        {
          "output_type": "stream",
          "text": [
            "\r 41%|████      | 82/200 [01:24<01:38,  1.20it/s]"
          ],
          "name": "stderr"
        },
        {
          "output_type": "stream",
          "text": [
            "An Untamed State Roxane Gay\n"
          ],
          "name": "stdout"
        },
        {
          "output_type": "stream",
          "text": [
            "\r 42%|████▏     | 83/200 [01:24<01:39,  1.18it/s]"
          ],
          "name": "stderr"
        },
        {
          "output_type": "stream",
          "text": [
            "True Love Sarah Gerard\n"
          ],
          "name": "stdout"
        },
        {
          "output_type": "stream",
          "text": [
            "\r 42%|████▏     | 84/200 [01:26<01:54,  1.01it/s]"
          ],
          "name": "stderr"
        },
        {
          "output_type": "stream",
          "text": [
            "Borrowed Horses Siân Griffiths\n"
          ],
          "name": "stdout"
        },
        {
          "output_type": "stream",
          "text": [
            "\r 42%|████▎     | 85/200 [01:27<01:48,  1.06it/s]"
          ],
          "name": "stderr"
        },
        {
          "output_type": "stream",
          "text": [
            "THE SYMPATHIZER Viet Thanh Nguyen\n"
          ],
          "name": "stdout"
        },
        {
          "output_type": "stream",
          "text": [
            "\r 43%|████▎     | 86/200 [01:32<04:05,  2.15s/it]"
          ],
          "name": "stderr"
        },
        {
          "output_type": "stream",
          "text": [
            "The Refugees Viet Thanh Nguyen\n"
          ],
          "name": "stdout"
        },
        {
          "output_type": "stream",
          "text": [
            "\r 44%|████▎     | 87/200 [01:33<03:39,  1.94s/it]"
          ],
          "name": "stderr"
        },
        {
          "output_type": "stream",
          "text": [
            "Homegoing Yaa Gyasi\n"
          ],
          "name": "stdout"
        },
        {
          "output_type": "stream",
          "text": [
            "\r 44%|████▍     | 88/200 [01:36<04:28,  2.40s/it]"
          ],
          "name": "stderr"
        },
        {
          "output_type": "stream",
          "text": [
            "The Last Illusion Porochista Khakpour\n"
          ],
          "name": "stdout"
        },
        {
          "output_type": "stream",
          "text": [
            " 45%|████▌     | 90/200 [01:37<02:33,  1.39s/it]"
          ],
          "name": "stderr"
        },
        {
          "output_type": "stream",
          "text": [
            "Fifty Cents for Your Soul karl taro greenfeld\n",
            "error:  Fifty Cents for Your Soul karl taro greenfeld\n",
            "IN THE DREAM HOUSE Carmen Maria Machado\n"
          ],
          "name": "stdout"
        },
        {
          "output_type": "stream",
          "text": [
            "\r 46%|████▌     | 91/200 [01:38<02:15,  1.24s/it]"
          ],
          "name": "stderr"
        },
        {
          "output_type": "stream",
          "text": [
            "Tango Lessons: A Memoir Meghan Flaherty\n"
          ],
          "name": "stdout"
        },
        {
          "output_type": "stream",
          "text": [
            "\r 46%|████▌     | 92/200 [01:39<02:07,  1.18s/it]"
          ],
          "name": "stderr"
        },
        {
          "output_type": "stream",
          "text": [
            "Prison Island Colleen Frakes\n"
          ],
          "name": "stdout"
        },
        {
          "output_type": "stream",
          "text": [
            "\r 46%|████▋     | 93/200 [01:40<01:54,  1.07s/it]"
          ],
          "name": "stderr"
        },
        {
          "output_type": "stream",
          "text": [
            "No Ivy Leage=ue Hazel Newlevant\n"
          ],
          "name": "stdout"
        },
        {
          "output_type": "stream",
          "text": [
            "\r 47%|████▋     | 94/200 [01:40<01:25,  1.23it/s]"
          ],
          "name": "stderr"
        },
        {
          "output_type": "stream",
          "text": [
            "error:  No Ivy Leage=ue Hazel Newlevant\n",
            "Electrigirl Jo Cotterill\n"
          ],
          "name": "stdout"
        },
        {
          "output_type": "stream",
          "text": [
            "\r 48%|████▊     | 95/200 [01:42<01:59,  1.14s/it]"
          ],
          "name": "stderr"
        },
        {
          "output_type": "stream",
          "text": [
            "Electrigirl Jo Cotterill\n"
          ],
          "name": "stdout"
        },
        {
          "output_type": "stream",
          "text": [
            "\r 48%|████▊     | 96/200 [01:44<02:26,  1.41s/it]"
          ],
          "name": "stderr"
        },
        {
          "output_type": "stream",
          "text": [
            "A Library of Lemons, A Storm of Strawberries Jo Cotterill\n"
          ],
          "name": "stdout"
        },
        {
          "output_type": "stream",
          "text": [
            "\r 48%|████▊     | 97/200 [01:45<01:48,  1.05s/it]"
          ],
          "name": "stderr"
        },
        {
          "output_type": "stream",
          "text": [
            "error:  A Library of Lemons, A Storm of Strawberries Jo Cotterill\n",
            "Wildfire Run Dee Garretson\n"
          ],
          "name": "stdout"
        },
        {
          "output_type": "stream",
          "text": [
            "\r 49%|████▉     | 98/200 [01:45<01:42,  1.00s/it]"
          ],
          "name": "stderr"
        },
        {
          "output_type": "stream",
          "text": [
            "Wolf Storm Dee Garretson\n"
          ],
          "name": "stdout"
        },
        {
          "output_type": "stream",
          "text": [
            "\r 50%|████▉     | 99/200 [01:46<01:37,  1.03it/s]"
          ],
          "name": "stderr"
        },
        {
          "output_type": "stream",
          "text": [
            "The Three Rules of Everyday Magic Amanda Rawson Hill\n"
          ],
          "name": "stdout"
        },
        {
          "output_type": "stream",
          "text": [
            "\r 50%|█████     | 100/200 [01:47<01:32,  1.08it/s]"
          ],
          "name": "stderr"
        },
        {
          "output_type": "stream",
          "text": [
            "Ivy Aberdeen, Sunny St James Ashley Herring Blake\n"
          ],
          "name": "stdout"
        },
        {
          "output_type": "stream",
          "text": [
            "\r 50%|█████     | 101/200 [01:47<01:10,  1.40it/s]"
          ],
          "name": "stderr"
        },
        {
          "output_type": "stream",
          "text": [
            "error:  Ivy Aberdeen, Sunny St James Ashley Herring Blake\n",
            "Hazel Bly Ashley Herring Blake\n"
          ],
          "name": "stdout"
        },
        {
          "output_type": "stream",
          "text": [
            "\r 51%|█████     | 102/200 [01:48<01:14,  1.32it/s]"
          ],
          "name": "stderr"
        },
        {
          "output_type": "stream",
          "text": [
            "My Seventh-Grade Life in Tights Brooks Benjamin\n"
          ],
          "name": "stdout"
        },
        {
          "output_type": "stream",
          "text": [
            "\r 52%|█████▏    | 103/200 [01:49<01:23,  1.16it/s]"
          ],
          "name": "stderr"
        },
        {
          "output_type": "stream",
          "text": [
            "ERNESTINE, CATASTROPHE QUEEN Merrill Wyatt\n"
          ],
          "name": "stdout"
        },
        {
          "output_type": "stream",
          "text": [
            "\r 52%|█████▏    | 104/200 [01:50<01:20,  1.19it/s]"
          ],
          "name": "stderr"
        },
        {
          "output_type": "stream",
          "text": [
            "Cardboard Kingdom, Doodleville Chad Sell\n"
          ],
          "name": "stdout"
        },
        {
          "output_type": "stream",
          "text": [
            "\r 52%|█████▎    | 105/200 [01:50<01:01,  1.53it/s]"
          ],
          "name": "stderr"
        },
        {
          "output_type": "stream",
          "text": [
            "error:  Cardboard Kingdom, Doodleville Chad Sell\n",
            "M.F.K. Nilah Magruder\n"
          ],
          "name": "stdout"
        },
        {
          "output_type": "stream",
          "text": [
            "\r 53%|█████▎    | 106/200 [01:51<01:04,  1.45it/s]"
          ],
          "name": "stderr"
        },
        {
          "output_type": "stream",
          "text": [
            "Creaky Acres Nilah Magruder\n"
          ],
          "name": "stdout"
        },
        {
          "output_type": "stream",
          "text": [
            "\r 54%|█████▎    | 107/200 [01:52<01:06,  1.40it/s]"
          ],
          "name": "stderr"
        },
        {
          "output_type": "stream",
          "text": [
            "Mooncakes Wendy Xu\n"
          ],
          "name": "stdout"
        },
        {
          "output_type": "stream",
          "text": [
            "\r 54%|█████▍    | 108/200 [01:54<01:58,  1.28s/it]"
          ],
          "name": "stderr"
        },
        {
          "output_type": "stream",
          "text": [
            "Fighting Words Kimberly Brubaker Bradley\n"
          ],
          "name": "stdout"
        },
        {
          "output_type": "stream",
          "text": [
            "\r 55%|█████▍    | 109/200 [01:56<01:50,  1.21s/it]"
          ],
          "name": "stderr"
        },
        {
          "output_type": "stream",
          "text": [
            "Orange For The Sunsets Tina Athaide\n"
          ],
          "name": "stdout"
        },
        {
          "output_type": "stream",
          "text": [
            "\r 55%|█████▌    | 110/200 [01:56<01:37,  1.08s/it]"
          ],
          "name": "stderr"
        },
        {
          "output_type": "stream",
          "text": [
            "THE COLORS OF THE RAIN Rachel (R.L.) Toalson\n"
          ],
          "name": "stdout"
        },
        {
          "output_type": "stream",
          "text": [
            "\r 56%|█████▌    | 111/200 [01:56<01:12,  1.22it/s]"
          ],
          "name": "stderr"
        },
        {
          "output_type": "stream",
          "text": [
            "error:  THE COLORS OF THE RAIN Rachel (R.L.) Toalson\n",
            "The Weight of Our Sky Hanna Alkaf\n"
          ],
          "name": "stdout"
        },
        {
          "output_type": "stream",
          "text": [
            "\r 56%|█████▌    | 112/200 [01:57<01:11,  1.22it/s]"
          ],
          "name": "stderr"
        },
        {
          "output_type": "stream",
          "text": [
            "The Goblin's Puzzle:Being the Adventures of a Boy With No Name and Two Girls Called Alice Andrew S. Chilton\n"
          ],
          "name": "stdout"
        },
        {
          "output_type": "stream",
          "text": [
            "\r 56%|█████▋    | 113/200 [01:59<01:23,  1.04it/s]"
          ],
          "name": "stderr"
        },
        {
          "output_type": "stream",
          "text": [
            "Anatopsis Chris Abouzeid\n"
          ],
          "name": "stdout"
        },
        {
          "output_type": "stream",
          "text": [
            "\r 57%|█████▋    | 114/200 [01:59<01:19,  1.09it/s]"
          ],
          "name": "stderr"
        },
        {
          "output_type": "stream",
          "text": [
            "We're Not From Here Geoff Rodkey\n"
          ],
          "name": "stdout"
        },
        {
          "output_type": "stream",
          "text": [
            "\r 57%|█████▊    | 115/200 [02:00<01:15,  1.13it/s]"
          ],
          "name": "stderr"
        },
        {
          "output_type": "stream",
          "text": [
            "A Riddle in Ruby, The Changer's Key, The Great Unravel Kent Davis\n"
          ],
          "name": "stdout"
        },
        {
          "output_type": "stream",
          "text": [
            "\r 58%|█████▊    | 116/200 [02:00<00:58,  1.43it/s]"
          ],
          "name": "stderr"
        },
        {
          "output_type": "stream",
          "text": [
            "error:  A Riddle in Ruby, The Changer's Key, The Great Unravel Kent Davis\n",
            "HOUR OF THE BEES/RACE TO THE BOTTOM OF THE SEA Lindsay Eagar\n"
          ],
          "name": "stdout"
        },
        {
          "output_type": "stream",
          "text": [
            " 59%|█████▉    | 118/200 [02:01<00:36,  2.24it/s]"
          ],
          "name": "stderr"
        },
        {
          "output_type": "stream",
          "text": [
            "error:  HOUR OF THE BEES/RACE TO THE BOTTOM OF THE SEA Lindsay Eagar\n",
            "HEARTSEEKER and RIVERBOUND Melinda Beatty\n",
            "error:  HEARTSEEKER and RIVERBOUND Melinda Beatty\n",
            "Secrets of the Dragon Tomb Patrick Samphire\n"
          ],
          "name": "stdout"
        },
        {
          "output_type": "stream",
          "text": [
            "\r 60%|█████▉    | 119/200 [02:03<01:20,  1.01it/s]"
          ],
          "name": "stderr"
        },
        {
          "output_type": "stream",
          "text": [
            "The Emperor of Mars Patrick Samphire\n"
          ],
          "name": "stdout"
        },
        {
          "output_type": "stream",
          "text": [
            "\r 60%|██████    | 120/200 [02:04<01:17,  1.03it/s]"
          ],
          "name": "stderr"
        },
        {
          "output_type": "stream",
          "text": [
            "Tentacle and Wing Sarah Porter\n"
          ],
          "name": "stdout"
        },
        {
          "output_type": "stream",
          "text": [
            "\r 60%|██████    | 121/200 [02:05<01:14,  1.06it/s]"
          ],
          "name": "stderr"
        },
        {
          "output_type": "stream",
          "text": [
            "Warren the 13th Tania del Rio\n"
          ],
          "name": "stdout"
        },
        {
          "output_type": "stream",
          "text": [
            "\r 61%|██████    | 122/200 [02:08<02:06,  1.62s/it]"
          ],
          "name": "stderr"
        },
        {
          "output_type": "stream",
          "text": [
            "No One Man Should Have All That Power Amos Barshad\n"
          ],
          "name": "stdout"
        },
        {
          "output_type": "stream",
          "text": [
            "\r 62%|██████▏   | 123/200 [02:09<01:46,  1.38s/it]"
          ],
          "name": "stderr"
        },
        {
          "output_type": "stream",
          "text": [
            "Face Value: The Hidden Ways Beauty Shapes Women's Lives Autumn Whitefield-Madrano\n"
          ],
          "name": "stdout"
        },
        {
          "output_type": "stream",
          "text": [
            "\r 62%|██████▏   | 124/200 [02:10<01:34,  1.24s/it]"
          ],
          "name": "stderr"
        },
        {
          "output_type": "stream",
          "text": [
            "The Eagles of Heart Mountain Bradford Pearson\n"
          ],
          "name": "stdout"
        },
        {
          "output_type": "stream",
          "text": [
            "\r 62%|██████▎   | 125/200 [02:11<01:22,  1.10s/it]"
          ],
          "name": "stderr"
        },
        {
          "output_type": "stream",
          "text": [
            "Comeback Season Cathy Day\n"
          ],
          "name": "stdout"
        },
        {
          "output_type": "stream",
          "text": [
            " 64%|██████▎   | 127/200 [02:12<00:55,  1.32it/s]"
          ],
          "name": "stderr"
        },
        {
          "output_type": "stream",
          "text": [
            "1000000 Cliff Sims\n",
            "error:  1000000 Cliff Sims\n",
            "Rapture Ready Daniel Radosh\n"
          ],
          "name": "stdout"
        },
        {
          "output_type": "stream",
          "text": [
            "\r 64%|██████▍   | 128/200 [02:12<00:54,  1.32it/s]"
          ],
          "name": "stderr"
        },
        {
          "output_type": "stream",
          "text": [
            "Nine Inch Nails Pretty Hate Machine Daphne Carr\n"
          ],
          "name": "stdout"
        },
        {
          "output_type": "stream",
          "text": [
            "\r 64%|██████▍   | 129/200 [02:14<01:08,  1.03it/s]"
          ],
          "name": "stderr"
        },
        {
          "output_type": "stream",
          "text": [
            "Chillpreneur  Denise Duffield-Thomas\n"
          ],
          "name": "stdout"
        },
        {
          "output_type": "stream",
          "text": [
            "\r 65%|██████▌   | 130/200 [02:15<01:16,  1.09s/it]"
          ],
          "name": "stderr"
        },
        {
          "output_type": "stream",
          "text": [
            "Laziness Does Not Exist  Devon Price\n"
          ],
          "name": "stdout"
        },
        {
          "output_type": "stream",
          "text": [
            "\r 66%|██████▌   | 131/200 [02:16<01:18,  1.13s/it]"
          ],
          "name": "stderr"
        },
        {
          "output_type": "stream",
          "text": [
            "A Higher Loyalty James Comey\n"
          ],
          "name": "stdout"
        },
        {
          "output_type": "stream",
          "text": [
            "\r 66%|██████▌   | 132/200 [02:25<03:48,  3.36s/it]"
          ],
          "name": "stderr"
        },
        {
          "output_type": "stream",
          "text": [
            "Yours, for Probably Always Janet Somerville\n"
          ],
          "name": "stdout"
        },
        {
          "output_type": "stream",
          "text": [
            "\r 66%|██████▋   | 133/200 [02:26<02:54,  2.61s/it]"
          ],
          "name": "stderr"
        },
        {
          "output_type": "stream",
          "text": [
            "When Women Invented Television Jennifer Keishin Armstrong\n"
          ],
          "name": "stdout"
        },
        {
          "output_type": "stream",
          "text": [
            "\r 67%|██████▋   | 134/200 [02:27<02:15,  2.06s/it]"
          ],
          "name": "stderr"
        },
        {
          "output_type": "stream",
          "text": [
            "Every Knee Shall Bow Jess Walter\n"
          ],
          "name": "stdout"
        },
        {
          "output_type": "stream",
          "text": [
            "\r 68%|██████▊   | 135/200 [02:28<01:58,  1.83s/it]"
          ],
          "name": "stderr"
        },
        {
          "output_type": "stream",
          "text": [
            "In Progress Jessica Hische\n"
          ],
          "name": "stdout"
        },
        {
          "output_type": "stream",
          "text": [
            "\r 68%|██████▊   | 136/200 [02:29<01:37,  1.52s/it]"
          ],
          "name": "stderr"
        },
        {
          "output_type": "stream",
          "text": [
            "Lurking Joanne McNeil\n"
          ],
          "name": "stdout"
        },
        {
          "output_type": "stream",
          "text": [
            "\r 68%|██████▊   | 137/200 [02:29<01:20,  1.28s/it]"
          ],
          "name": "stderr"
        },
        {
          "output_type": "stream",
          "text": [
            "The Room Where It Happened John Bolton\n"
          ],
          "name": "stdout"
        },
        {
          "output_type": "stream",
          "text": [
            "\r 69%|██████▉   | 138/200 [02:40<04:18,  4.17s/it]"
          ],
          "name": "stderr"
        },
        {
          "output_type": "stream",
          "text": [
            "Geek Feminist Revolution Kameron Hurley\n"
          ],
          "name": "stdout"
        },
        {
          "output_type": "stream",
          "text": [
            "\r 70%|██████▉   | 139/200 [02:41<03:13,  3.17s/it]"
          ],
          "name": "stderr"
        },
        {
          "output_type": "stream",
          "text": [
            "Equally Wed: The Ultimate Guide to Planning Your LGBTQ+ Wedding Kirsten Ott Palladino\n"
          ],
          "name": "stdout"
        },
        {
          "output_type": "stream",
          "text": [
            "\r 70%|███████   | 140/200 [02:42<02:26,  2.45s/it]"
          ],
          "name": "stderr"
        },
        {
          "output_type": "stream",
          "text": [
            "The Far Away Brothers LAUREN MARKHAM\n"
          ],
          "name": "stdout"
        },
        {
          "output_type": "stream",
          "text": [
            "\r 70%|███████   | 141/200 [02:44<02:15,  2.29s/it]"
          ],
          "name": "stderr"
        },
        {
          "output_type": "stream",
          "text": [
            "Fruit Trees for Every Garden Manjula Martin\n"
          ],
          "name": "stdout"
        },
        {
          "output_type": "stream",
          "text": [
            "\r 71%|███████   | 142/200 [02:45<01:54,  1.98s/it]"
          ],
          "name": "stderr"
        },
        {
          "output_type": "stream",
          "text": [
            "The Man Who Quit Money Mark Sundeen\n"
          ],
          "name": "stdout"
        },
        {
          "output_type": "stream",
          "text": [
            "\r 72%|███████▏  | 143/200 [02:46<01:35,  1.68s/it]"
          ],
          "name": "stderr"
        },
        {
          "output_type": "stream",
          "text": [
            "The 7 Laws of Magical Thinking Matthew Hutson\n"
          ],
          "name": "stdout"
        },
        {
          "output_type": "stream",
          "text": [
            "\r 72%|███████▏  | 144/200 [02:47<01:18,  1.41s/it]"
          ],
          "name": "stderr"
        },
        {
          "output_type": "stream",
          "text": [
            "Let the Lord Sort Them: The Rise and Fall of the Death Penalty Maurice Chammah\n"
          ],
          "name": "stdout"
        },
        {
          "output_type": "stream",
          "text": [
            "\r 72%|███████▎  | 145/200 [02:48<01:05,  1.20s/it]"
          ],
          "name": "stderr"
        },
        {
          "output_type": "stream",
          "text": [
            "A Hacker Manifesto McKenzie Wark\n"
          ],
          "name": "stdout"
        },
        {
          "output_type": "stream",
          "text": [
            "\r 73%|███████▎  | 146/200 [02:48<00:58,  1.08s/it]"
          ],
          "name": "stderr"
        },
        {
          "output_type": "stream",
          "text": [
            "Leaving India Minal Hajratwala\n"
          ],
          "name": "stdout"
        },
        {
          "output_type": "stream",
          "text": [
            "\r 74%|███████▎  | 147/200 [02:49<00:53,  1.02s/it]"
          ],
          "name": "stderr"
        },
        {
          "output_type": "stream",
          "text": [
            "Moon Fiji Minal Hajratwala\n"
          ],
          "name": "stdout"
        },
        {
          "output_type": "stream",
          "text": [
            "\r 74%|███████▍  | 148/200 [02:51<01:02,  1.20s/it]"
          ],
          "name": "stderr"
        },
        {
          "output_type": "stream",
          "text": [
            "Managing Online Forums Patrick O'Keefe\n"
          ],
          "name": "stdout"
        },
        {
          "output_type": "stream",
          "text": [
            "\r 74%|███████▍  | 149/200 [02:52<00:54,  1.07s/it]"
          ],
          "name": "stderr"
        },
        {
          "output_type": "stream",
          "text": [
            "Catch and Kill Ronan Farrow\n"
          ],
          "name": "stdout"
        },
        {
          "output_type": "stream",
          "text": [
            "\r 75%|███████▌  | 150/200 [02:55<01:20,  1.60s/it]"
          ],
          "name": "stderr"
        },
        {
          "output_type": "stream",
          "text": [
            "Bad Feminist Roxane Gay\n"
          ],
          "name": "stdout"
        },
        {
          "output_type": "stream",
          "text": [
            "\r 76%|███████▌  | 151/200 [02:58<01:43,  2.12s/it]"
          ],
          "name": "stderr"
        },
        {
          "output_type": "stream",
          "text": [
            "Fangirl's Guide to the Galaxy Sam Maggs\n"
          ],
          "name": "stdout"
        },
        {
          "output_type": "stream",
          "text": [
            "\r 76%|███████▌  | 152/200 [02:59<01:23,  1.73s/it]"
          ],
          "name": "stderr"
        },
        {
          "output_type": "stream",
          "text": [
            "Wonder Women Sam Maggs\n"
          ],
          "name": "stdout"
        },
        {
          "output_type": "stream",
          "text": [
            "\r 76%|███████▋  | 153/200 [02:59<01:07,  1.45s/it]"
          ],
          "name": "stderr"
        },
        {
          "output_type": "stream",
          "text": [
            "Girl Squads Sam Maggs\n"
          ],
          "name": "stdout"
        },
        {
          "output_type": "stream",
          "text": [
            "\r 77%|███████▋  | 154/200 [03:00<00:57,  1.26s/it]"
          ],
          "name": "stderr"
        },
        {
          "output_type": "stream",
          "text": [
            "I Overcame My Autism And All I Got Was This Lousy Anxiety Disorder Sarah Kurchak\n"
          ],
          "name": "stdout"
        },
        {
          "output_type": "stream",
          "text": [
            "\r 78%|███████▊  | 155/200 [03:01<00:51,  1.14s/it]"
          ],
          "name": "stderr"
        },
        {
          "output_type": "stream",
          "text": [
            "The Red Market Scott Carney\n"
          ],
          "name": "stdout"
        },
        {
          "output_type": "stream",
          "text": [
            "\r 78%|███████▊  | 156/200 [03:02<00:51,  1.18s/it]"
          ],
          "name": "stderr"
        },
        {
          "output_type": "stream",
          "text": [
            "A Death on Diamond Mountain Scott Carney\n"
          ],
          "name": "stdout"
        },
        {
          "output_type": "stream",
          "text": [
            "\r 78%|███████▊  | 157/200 [03:04<00:53,  1.23s/it]"
          ],
          "name": "stderr"
        },
        {
          "output_type": "stream",
          "text": [
            "What Doesn't Kill Us Scott Carney\n"
          ],
          "name": "stdout"
        },
        {
          "output_type": "stream",
          "text": [
            "\r 79%|███████▉  | 158/200 [03:06<01:02,  1.50s/it]"
          ],
          "name": "stderr"
        },
        {
          "output_type": "stream",
          "text": [
            "THE DISPLACED Viet Thanh Nguyen\n"
          ],
          "name": "stdout"
        },
        {
          "output_type": "stream",
          "text": [
            "\r 80%|███████▉  | 159/200 [03:07<00:52,  1.29s/it]"
          ],
          "name": "stderr"
        },
        {
          "output_type": "stream",
          "text": [
            "Librarian Tales William Ottens\n"
          ],
          "name": "stdout"
        },
        {
          "output_type": "stream",
          "text": [
            "\r 80%|████████  | 160/200 [03:08<00:52,  1.31s/it]"
          ],
          "name": "stderr"
        },
        {
          "output_type": "stream",
          "text": [
            "nan\n"
          ],
          "name": "stdout"
        },
        {
          "output_type": "stream",
          "text": [
            "\r 80%|████████  | 161/200 [03:22<03:17,  5.06s/it]"
          ],
          "name": "stderr"
        },
        {
          "output_type": "stream",
          "text": [
            "The Wild Diet Abel James\n"
          ],
          "name": "stdout"
        },
        {
          "output_type": "stream",
          "text": [
            "\r 81%|████████  | 162/200 [03:23<02:23,  3.77s/it]"
          ],
          "name": "stderr"
        },
        {
          "output_type": "stream",
          "text": [
            "Brown Album Porochista Khakpour\n"
          ],
          "name": "stdout"
        },
        {
          "output_type": "stream",
          "text": [
            "\r 82%|████████▏ | 163/200 [03:23<01:47,  2.89s/it]"
          ],
          "name": "stderr"
        },
        {
          "output_type": "stream",
          "text": [
            "Ask A Queer Chick Lindsay King-Miller\n"
          ],
          "name": "stdout"
        },
        {
          "output_type": "stream",
          "text": [
            "\r 82%|████████▏ | 164/200 [03:24<01:23,  2.31s/it]"
          ],
          "name": "stderr"
        },
        {
          "output_type": "stream",
          "text": [
            "Codependence  Amy Long\n"
          ],
          "name": "stdout"
        },
        {
          "output_type": "stream",
          "text": [
            "\r 82%|████████▎ | 165/200 [03:25<01:06,  1.89s/it]"
          ],
          "name": "stderr"
        },
        {
          "output_type": "stream",
          "text": [
            "Sonata: A Memoir of Pain and the Piano Andrea Avery\n"
          ],
          "name": "stdout"
        },
        {
          "output_type": "stream",
          "text": [
            "\r 83%|████████▎ | 166/200 [03:27<01:02,  1.84s/it]"
          ],
          "name": "stderr"
        },
        {
          "output_type": "stream",
          "text": [
            "Navel Gazing: One Woman's Quest for a Size Normal Anne H Putnam\n"
          ],
          "name": "stdout"
        },
        {
          "output_type": "stream",
          "text": [
            "\r 84%|████████▎ | 167/200 [03:28<00:54,  1.65s/it]"
          ],
          "name": "stderr"
        },
        {
          "output_type": "stream",
          "text": [
            "The Knitter's Gift Bernadette Murphy\n"
          ],
          "name": "stdout"
        },
        {
          "output_type": "stream",
          "text": [
            "\r 84%|████████▍ | 168/200 [03:29<00:45,  1.42s/it]"
          ],
          "name": "stderr"
        },
        {
          "output_type": "stream",
          "text": [
            "The Tao Gals' Guide to Real Estate Bernadette Murphy\n"
          ],
          "name": "stdout"
        },
        {
          "output_type": "stream",
          "text": [
            "\r 84%|████████▍ | 169/200 [03:30<00:36,  1.19s/it]"
          ],
          "name": "stderr"
        },
        {
          "output_type": "stream",
          "text": [
            "Harley and Me Bernadette Murphy\n"
          ],
          "name": "stdout"
        },
        {
          "output_type": "stream",
          "text": [
            "\r 85%|████████▌ | 170/200 [03:31<00:32,  1.09s/it]"
          ],
          "name": "stderr"
        },
        {
          "output_type": "stream",
          "text": [
            "Zen and the Art of Knitting Bernadette Murphy\n"
          ],
          "name": "stdout"
        },
        {
          "output_type": "stream",
          "text": [
            " 86%|████████▌ | 172/200 [03:32<00:20,  1.34it/s]"
          ],
          "name": "stderr"
        },
        {
          "output_type": "stream",
          "text": [
            "School Girl Caroline Calloway\n",
            "error:  School Girl Caroline Calloway\n",
            "My Body Is a Book of Rules Elissa Washuta\n"
          ],
          "name": "stdout"
        },
        {
          "output_type": "stream",
          "text": [
            "\r 86%|████████▋ | 173/200 [03:32<00:20,  1.29it/s]"
          ],
          "name": "stderr"
        },
        {
          "output_type": "stream",
          "text": [
            "Wild Life Keena Roberts\n"
          ],
          "name": "stdout"
        },
        {
          "output_type": "stream",
          "text": [
            "\r 87%|████████▋ | 174/200 [03:33<00:20,  1.27it/s]"
          ],
          "name": "stderr"
        },
        {
          "output_type": "stream",
          "text": [
            "How to Slowly Kill Yourself and Others in America Kiese Laymon\n"
          ],
          "name": "stdout"
        },
        {
          "output_type": "stream",
          "text": [
            "\r 88%|████████▊ | 175/200 [03:34<00:19,  1.26it/s]"
          ],
          "name": "stderr"
        },
        {
          "output_type": "stream",
          "text": [
            "The Woo-Woo Lindsay Wong\n"
          ],
          "name": "stdout"
        },
        {
          "output_type": "stream",
          "text": [
            "\r 88%|████████▊ | 176/200 [03:35<00:19,  1.22it/s]"
          ],
          "name": "stderr"
        },
        {
          "output_type": "stream",
          "text": [
            "Eat the Apple Matt Young\n"
          ],
          "name": "stdout"
        },
        {
          "output_type": "stream",
          "text": [
            "\r 88%|████████▊ | 177/200 [03:36<00:21,  1.06it/s]"
          ],
          "name": "stderr"
        },
        {
          "output_type": "stream",
          "text": [
            "The Brand New Catastrophe Mike Scalise\n"
          ],
          "name": "stdout"
        },
        {
          "output_type": "stream",
          "text": [
            "\r 89%|████████▉ | 178/200 [03:37<00:19,  1.13it/s]"
          ],
          "name": "stderr"
        },
        {
          "output_type": "stream",
          "text": [
            "Sick: A Memoir Porochista Khakpour\n"
          ],
          "name": "stdout"
        },
        {
          "output_type": "stream",
          "text": [
            "\r 90%|████████▉ | 179/200 [03:38<00:17,  1.17it/s]"
          ],
          "name": "stderr"
        },
        {
          "output_type": "stream",
          "text": [
            "The Heart and Other Monsters  Rose Andersen\n"
          ],
          "name": "stdout"
        },
        {
          "output_type": "stream",
          "text": [
            "\r 90%|█████████ | 180/200 [03:38<00:16,  1.21it/s]"
          ],
          "name": "stderr"
        },
        {
          "output_type": "stream",
          "text": [
            "Hunger Roxane Gay\n"
          ],
          "name": "stdout"
        },
        {
          "output_type": "stream",
          "text": [
            "\r 90%|█████████ | 181/200 [03:39<00:15,  1.19it/s]"
          ],
          "name": "stderr"
        },
        {
          "output_type": "stream",
          "text": [
            "Yoga Bitch Suzanne Morrison\n"
          ],
          "name": "stdout"
        },
        {
          "output_type": "stream",
          "text": [
            "\r 91%|█████████ | 182/200 [03:40<00:14,  1.21it/s]"
          ],
          "name": "stderr"
        },
        {
          "output_type": "stream",
          "text": [
            "Rock Needs River: A Memoir About a Very Open Adoption Vanessa McGrady\n"
          ],
          "name": "stdout"
        },
        {
          "output_type": "stream",
          "text": [
            "\r 92%|█████████▏| 183/200 [03:41<00:13,  1.26it/s]"
          ],
          "name": "stderr"
        },
        {
          "output_type": "stream",
          "text": [
            "nan\n"
          ],
          "name": "stdout"
        },
        {
          "output_type": "stream",
          "text": [
            "\r 92%|█████████▏| 184/200 [03:55<01:14,  4.66s/it]"
          ],
          "name": "stderr"
        },
        {
          "output_type": "stream",
          "text": [
            "nan\n"
          ],
          "name": "stdout"
        },
        {
          "output_type": "stream",
          "text": [
            "\r 92%|█████████▎| 185/200 [04:09<01:52,  7.48s/it]"
          ],
          "name": "stderr"
        },
        {
          "output_type": "stream",
          "text": [
            "A Mind Spread on the Ground Alicia Elliott\n"
          ],
          "name": "stdout"
        },
        {
          "output_type": "stream",
          "text": [
            "\r 93%|█████████▎| 186/200 [04:09<01:16,  5.48s/it]"
          ],
          "name": "stderr"
        },
        {
          "output_type": "stream",
          "text": [
            "Different Colored Doorways Lauren Hough\n"
          ],
          "name": "stdout"
        },
        {
          "output_type": "stream",
          "text": [
            "\r 94%|█████████▎| 187/200 [04:10<00:52,  4.04s/it]"
          ],
          "name": "stderr"
        },
        {
          "output_type": "stream",
          "text": [
            "How to Fall In Love with Anyone Mandy Len Catron\n"
          ],
          "name": "stdout"
        },
        {
          "output_type": "stream",
          "text": [
            "\r 94%|█████████▍| 188/200 [04:11<00:37,  3.12s/it]"
          ],
          "name": "stderr"
        },
        {
          "output_type": "stream",
          "text": [
            "The Collected Schizophrenias Esme Weijun Wang\n"
          ],
          "name": "stdout"
        },
        {
          "output_type": "stream",
          "text": [
            "\r 94%|█████████▍| 189/200 [04:12<00:26,  2.42s/it]"
          ],
          "name": "stderr"
        },
        {
          "output_type": "stream",
          "text": [
            "Okay Fine Whatever: The Year I Went From Being Afraid of Everything to Only Being Afraid of Most Things  Courtenay Hameister\n"
          ],
          "name": "stdout"
        },
        {
          "output_type": "stream",
          "text": [
            "\r 95%|█████████▌| 190/200 [04:13<00:19,  1.93s/it]"
          ],
          "name": "stderr"
        },
        {
          "output_type": "stream",
          "text": [
            "The American Way of Eating Tracie McMillan\n"
          ],
          "name": "stdout"
        },
        {
          "output_type": "stream",
          "text": [
            "\r 96%|█████████▌| 191/200 [04:14<00:15,  1.73s/it]"
          ],
          "name": "stderr"
        },
        {
          "output_type": "stream",
          "text": [
            "10000 10000\n"
          ],
          "name": "stdout"
        },
        {
          "output_type": "stream",
          "text": [
            "\r 96%|█████████▌| 192/200 [04:26<00:38,  4.87s/it]"
          ],
          "name": "stderr"
        },
        {
          "output_type": "stream",
          "text": [
            "You'll Find Me Amanda Rawson Hill\n"
          ],
          "name": "stdout"
        },
        {
          "output_type": "stream",
          "text": [
            "\r 96%|█████████▋| 193/200 [04:27<00:25,  3.63s/it]"
          ],
          "name": "stderr"
        },
        {
          "output_type": "stream",
          "text": [
            "THE ARABIC QUILT  Aya Khalil \n"
          ],
          "name": "stdout"
        },
        {
          "output_type": "stream",
          "text": [
            "\r 97%|█████████▋| 194/200 [04:28<00:16,  2.80s/it]"
          ],
          "name": "stderr"
        },
        {
          "output_type": "stream",
          "text": [
            "PICTURE BOOK Brown Person\n"
          ],
          "name": "stdout"
        },
        {
          "output_type": "stream",
          "text": [
            "\r 98%|█████████▊| 195/200 [04:28<00:10,  2.17s/it]"
          ],
          "name": "stderr"
        },
        {
          "output_type": "stream",
          "text": [
            "If Pluto Was A Pea Gabrielle Prendergast\n"
          ],
          "name": "stdout"
        },
        {
          "output_type": "stream",
          "text": [
            "\r 98%|█████████▊| 196/200 [04:29<00:07,  1.81s/it]"
          ],
          "name": "stderr"
        },
        {
          "output_type": "stream",
          "text": [
            "Tomorrow I'll Be Brave Jessica Hische\n"
          ],
          "name": "stdout"
        },
        {
          "output_type": "stream",
          "text": [
            "\r 98%|█████████▊| 197/200 [04:30<00:04,  1.48s/it]"
          ],
          "name": "stderr"
        },
        {
          "output_type": "stream",
          "text": [
            "Tomorrow I'll Be Kind Jessica Hische\n"
          ],
          "name": "stdout"
        },
        {
          "output_type": "stream",
          "text": [
            "\r 99%|█████████▉| 198/200 [04:31<00:02,  1.31s/it]"
          ],
          "name": "stderr"
        },
        {
          "output_type": "stream",
          "text": [
            "Bedtime for Superheroes Katherine Locke\n"
          ],
          "name": "stdout"
        },
        {
          "output_type": "stream",
          "text": [
            "\r100%|█████████▉| 199/200 [04:32<00:01,  1.14s/it]"
          ],
          "name": "stderr"
        },
        {
          "output_type": "stream",
          "text": [
            "These Hands Margaret H. Mason\n"
          ],
          "name": "stdout"
        },
        {
          "output_type": "stream",
          "text": [
            "100%|██████████| 200/200 [04:33<00:00,  1.37s/it]\n"
          ],
          "name": "stderr"
        },
        {
          "output_type": "display_data",
          "data": {
            "application/javascript": [
              "\n",
              "    async function download(id, filename, size) {\n",
              "      if (!google.colab.kernel.accessAllowed) {\n",
              "        return;\n",
              "      }\n",
              "      const div = document.createElement('div');\n",
              "      const label = document.createElement('label');\n",
              "      label.textContent = `Downloading \"${filename}\": `;\n",
              "      div.appendChild(label);\n",
              "      const progress = document.createElement('progress');\n",
              "      progress.max = size;\n",
              "      div.appendChild(progress);\n",
              "      document.body.appendChild(div);\n",
              "\n",
              "      const buffers = [];\n",
              "      let downloaded = 0;\n",
              "\n",
              "      const channel = await google.colab.kernel.comms.open(id);\n",
              "      // Send a message to notify the kernel that we're ready.\n",
              "      channel.send({})\n",
              "\n",
              "      for await (const message of channel.messages) {\n",
              "        // Send a message to notify the kernel that we're ready.\n",
              "        channel.send({})\n",
              "        if (message.buffers) {\n",
              "          for (const buffer of message.buffers) {\n",
              "            buffers.push(buffer);\n",
              "            downloaded += buffer.byteLength;\n",
              "            progress.value = downloaded;\n",
              "          }\n",
              "        }\n",
              "      }\n",
              "      const blob = new Blob(buffers, {type: 'application/binary'});\n",
              "      const a = document.createElement('a');\n",
              "      a.href = window.URL.createObjectURL(blob);\n",
              "      a.download = filename;\n",
              "      div.appendChild(a);\n",
              "      a.click();\n",
              "      div.remove();\n",
              "    }\n",
              "  "
            ],
            "text/plain": [
              "<IPython.core.display.Javascript object>"
            ]
          },
          "metadata": {
            "tags": []
          }
        },
        {
          "output_type": "display_data",
          "data": {
            "application/javascript": [
              "download(\"download_d4b1b17a-12e9-4117-b211-47678208657d\", \"goodreads_data_0.csv\", 51707)"
            ],
            "text/plain": [
              "<IPython.core.display.Javascript object>"
            ]
          },
          "metadata": {
            "tags": []
          }
        },
        {
          "output_type": "stream",
          "text": [
            "\r  0%|          | 0/200 [00:00<?, ?it/s]"
          ],
          "name": "stderr"
        },
        {
          "output_type": "stream",
          "text": [
            "Pirate Year Round Marla Lesage\n"
          ],
          "name": "stdout"
        },
        {
          "output_type": "stream",
          "text": [
            "\r  0%|          | 1/200 [00:00<02:34,  1.29it/s]"
          ],
          "name": "stderr"
        },
        {
          "output_type": "stream",
          "text": [
            "10 Little Ninjas Miranda Paul\n"
          ],
          "name": "stdout"
        },
        {
          "output_type": "stream",
          "text": [
            "\r  1%|          | 2/200 [00:02<03:07,  1.06it/s]"
          ],
          "name": "stderr"
        },
        {
          "output_type": "stream",
          "text": [
            "Trainbots Miranda Paul\n"
          ],
          "name": "stdout"
        },
        {
          "output_type": "stream",
          "text": [
            "\r  2%|▏         | 3/200 [00:03<03:25,  1.04s/it]"
          ],
          "name": "stderr"
        },
        {
          "output_type": "stream",
          "text": [
            "Blobfish Throws a Party Miranda Paul\n"
          ],
          "name": "stdout"
        },
        {
          "output_type": "stream",
          "text": [
            "\r  2%|▏         | 4/200 [00:04<03:25,  1.05s/it]"
          ],
          "name": "stderr"
        },
        {
          "output_type": "stream",
          "text": [
            "Mia Moves Out Miranda Paul\n"
          ],
          "name": "stdout"
        },
        {
          "output_type": "stream",
          "text": [
            "\r  2%|▎         | 5/200 [00:05<03:12,  1.02it/s]"
          ],
          "name": "stderr"
        },
        {
          "output_type": "stream",
          "text": [
            "Are We Pears Yet Miranda Paul\n"
          ],
          "name": "stdout"
        },
        {
          "output_type": "stream",
          "text": [
            "\r  3%|▎         | 6/200 [00:06<03:12,  1.01it/s]"
          ],
          "name": "stderr"
        },
        {
          "output_type": "stream",
          "text": [
            "The Great Pasta Escape Miranda Paul\n"
          ],
          "name": "stdout"
        },
        {
          "output_type": "stream",
          "text": [
            "\r  4%|▎         | 7/200 [00:07<03:08,  1.03it/s]"
          ],
          "name": "stderr"
        },
        {
          "output_type": "stream",
          "text": [
            "How to Find a Fox Nilah Magruder\n"
          ],
          "name": "stdout"
        },
        {
          "output_type": "stream",
          "text": [
            "\r  4%|▍         | 8/200 [00:08<02:59,  1.07it/s]"
          ],
          "name": "stderr"
        },
        {
          "output_type": "stream",
          "text": [
            "The Three Little Pugs Nina Victor Crittenden\n"
          ],
          "name": "stdout"
        },
        {
          "output_type": "stream",
          "text": [
            "\r  4%|▍         | 9/200 [00:08<02:53,  1.10it/s]"
          ],
          "name": "stderr"
        },
        {
          "output_type": "stream",
          "text": [
            "Time to Roar Olivia Cole\n"
          ],
          "name": "stdout"
        },
        {
          "output_type": "stream",
          "text": [
            "\r  5%|▌         | 10/200 [00:11<04:02,  1.27s/it]"
          ],
          "name": "stderr"
        },
        {
          "output_type": "stream",
          "text": [
            "Mother Ghost Rachel Kolar\n"
          ],
          "name": "stdout"
        },
        {
          "output_type": "stream",
          "text": [
            "\r  6%|▌         | 11/200 [00:11<03:35,  1.14s/it]"
          ],
          "name": "stderr"
        },
        {
          "output_type": "stream",
          "text": [
            "Ruby’s Hope Sarah Dvojack\n"
          ],
          "name": "stdout"
        },
        {
          "output_type": "stream",
          "text": [
            "\r  6%|▌         | 12/200 [00:12<03:16,  1.04s/it]"
          ],
          "name": "stderr"
        },
        {
          "output_type": "stream",
          "text": [
            "This is MY Room Alexandria Neonakis\n"
          ],
          "name": "stdout"
        },
        {
          "output_type": "stream",
          "text": [
            "\r  6%|▋         | 13/200 [00:13<03:08,  1.01s/it]"
          ],
          "name": "stderr"
        },
        {
          "output_type": "stream",
          "text": [
            "One Plastic Bag Miranda Paul\n"
          ],
          "name": "stdout"
        },
        {
          "output_type": "stream",
          "text": [
            "\r  7%|▋         | 14/200 [00:14<03:03,  1.02it/s]"
          ],
          "name": "stderr"
        },
        {
          "output_type": "stream",
          "text": [
            "Water is Water Miranda Paul\n"
          ],
          "name": "stdout"
        },
        {
          "output_type": "stream",
          "text": [
            "\r  8%|▊         | 15/200 [00:15<02:56,  1.05it/s]"
          ],
          "name": "stderr"
        },
        {
          "output_type": "stream",
          "text": [
            "Whose Hands Are These? Miranda Paul\n"
          ],
          "name": "stdout"
        },
        {
          "output_type": "stream",
          "text": [
            "\r  8%|▊         | 16/200 [00:16<02:48,  1.09it/s]"
          ],
          "name": "stderr"
        },
        {
          "output_type": "stream",
          "text": [
            "I Am Farmer: Growing am Environmental Movement in Cameroon  Miranda Paul\n"
          ],
          "name": "stdout"
        },
        {
          "output_type": "stream",
          "text": [
            "\r  8%|▊         | 17/200 [00:17<02:47,  1.09it/s]"
          ],
          "name": "stderr"
        },
        {
          "output_type": "stream",
          "text": [
            "Adventures to School Miranda Paul\n"
          ],
          "name": "stdout"
        },
        {
          "output_type": "stream",
          "text": [
            " 10%|▉         | 19/200 [00:18<02:04,  1.46it/s]"
          ],
          "name": "stderr"
        },
        {
          "output_type": "stream",
          "text": [
            "TK Sarah Dvojack\n",
            "error:  TK Sarah Dvojack\n",
            "nan\n"
          ],
          "name": "stdout"
        },
        {
          "output_type": "stream",
          "text": [
            "\r 10%|█         | 20/200 [00:32<14:04,  4.69s/it]"
          ],
          "name": "stderr"
        },
        {
          "output_type": "stream",
          "text": [
            "Sunshine State Sarah Gerard\n"
          ],
          "name": "stdout"
        },
        {
          "output_type": "stream",
          "text": [
            "\r 10%|█         | 21/200 [00:33<10:43,  3.60s/it]"
          ],
          "name": "stderr"
        },
        {
          "output_type": "stream",
          "text": [
            "Beyond (forthcoming in 2021) Miranda Paul\n"
          ],
          "name": "stdout"
        },
        {
          "output_type": "stream",
          "text": [
            "\r 11%|█         | 22/200 [00:33<07:39,  2.58s/it]"
          ],
          "name": "stderr"
        },
        {
          "output_type": "stream",
          "text": [
            "error:  Beyond (forthcoming in 2021) Miranda Paul\n",
            "Ashley Sugarnotch & the Wolf Elizabeth Deanna Morris Lakes \n"
          ],
          "name": "stdout"
        },
        {
          "output_type": "stream",
          "text": [
            "\r 12%|█▏        | 23/200 [00:34<06:05,  2.07s/it]"
          ],
          "name": "stderr"
        },
        {
          "output_type": "stream",
          "text": [
            "Universe in the Key of Matryoshka Ronnie K. Stephens\n"
          ],
          "name": "stdout"
        },
        {
          "output_type": "stream",
          "text": [
            "\r 12%|█▏        | 24/200 [00:35<05:07,  1.75s/it]"
          ],
          "name": "stderr"
        },
        {
          "output_type": "stream",
          "text": [
            "They Rewrote Themselves Legendary Ronnie K. Stephens\n"
          ],
          "name": "stdout"
        },
        {
          "output_type": "stream",
          "text": [
            "\r 12%|█▎        | 25/200 [00:36<04:21,  1.50s/it]"
          ],
          "name": "stderr"
        },
        {
          "output_type": "stream",
          "text": [
            "A Recipe for Disaster Belinda Missen\n"
          ],
          "name": "stdout"
        },
        {
          "output_type": "stream",
          "text": [
            "\r 13%|█▎        | 26/200 [00:37<04:04,  1.40s/it]"
          ],
          "name": "stderr"
        },
        {
          "output_type": "stream",
          "text": [
            "How to Survive a Modern Day Fairy Tale Erika Cruz\n"
          ],
          "name": "stdout"
        },
        {
          "output_type": "stream",
          "text": [
            " 14%|█▍        | 28/200 [00:37<02:16,  1.26it/s]"
          ],
          "name": "stderr"
        },
        {
          "output_type": "stream",
          "text": [
            "error:  How to Survive a Modern Day Fairy Tale Erika Cruz\n",
            "EP Katee Roberts\n",
            "error:  EP Katee Roberts\n",
            "O'Malley Katee Roberts\n"
          ],
          "name": "stdout"
        },
        {
          "output_type": "stream",
          "text": [
            "\r 14%|█▍        | 29/200 [00:42<05:24,  1.90s/it]"
          ],
          "name": "stderr"
        },
        {
          "output_type": "stream",
          "text": [
            "Kings Katee Roberts\n"
          ],
          "name": "stdout"
        },
        {
          "output_type": "stream",
          "text": [
            "\r 15%|█▌        | 30/200 [00:45<06:10,  2.18s/it]"
          ],
          "name": "stderr"
        },
        {
          "output_type": "stream",
          "text": [
            "Viper Force Series Marlie May\n"
          ],
          "name": "stdout"
        },
        {
          "output_type": "stream",
          "text": [
            "\r 16%|█▌        | 31/200 [00:46<05:10,  1.84s/it]"
          ],
          "name": "stderr"
        },
        {
          "output_type": "stream",
          "text": [
            "Lovestruck Librarians Olivia Dade\n"
          ],
          "name": "stdout"
        },
        {
          "output_type": "stream",
          "text": [
            "\r 16%|█▌        | 32/200 [00:50<07:03,  2.52s/it]"
          ],
          "name": "stderr"
        },
        {
          "output_type": "stream",
          "text": [
            "A Man of His Word Sarah M. Anderson\n"
          ],
          "name": "stdout"
        },
        {
          "output_type": "stream",
          "text": [
            "\r 16%|█▋        | 33/200 [00:54<07:56,  2.85s/it]"
          ],
          "name": "stderr"
        },
        {
          "output_type": "stream",
          "text": [
            "Seduction on His Terms Sarah M. Anderson\n"
          ],
          "name": "stdout"
        },
        {
          "output_type": "stream",
          "text": [
            "\r 17%|█▋        | 34/200 [00:56<07:25,  2.68s/it]"
          ],
          "name": "stderr"
        },
        {
          "output_type": "stream",
          "text": [
            "The Rakess Scarlett Peckham\n"
          ],
          "name": "stdout"
        },
        {
          "output_type": "stream",
          "text": [
            "\r 18%|█▊        | 35/200 [00:57<05:51,  2.13s/it]"
          ],
          "name": "stderr"
        },
        {
          "output_type": "stream",
          "text": [
            "Hot Knight in Paradise Sofia Harper (Melissa Blue)\n"
          ],
          "name": "stdout"
        },
        {
          "output_type": "stream",
          "text": [
            "\r 18%|█▊        | 36/200 [00:57<04:16,  1.56s/it]"
          ],
          "name": "stderr"
        },
        {
          "output_type": "stream",
          "text": [
            "error:  Hot Knight in Paradise Sofia Harper (Melissa Blue)\n",
            "Mistletoe & Mr. Right Trisha Leigh\n"
          ],
          "name": "stdout"
        },
        {
          "output_type": "stream",
          "text": [
            "\r 18%|█▊        | 37/200 [00:57<03:10,  1.17s/it]"
          ],
          "name": "stderr"
        },
        {
          "output_type": "stream",
          "text": [
            "error:  Mistletoe & Mr. Right Trisha Leigh\n",
            "nan\n"
          ],
          "name": "stdout"
        },
        {
          "output_type": "stream",
          "text": [
            "\r 19%|█▉        | 38/200 [01:11<13:33,  5.02s/it]"
          ],
          "name": "stderr"
        },
        {
          "output_type": "stream",
          "text": [
            "nan\n"
          ],
          "name": "stdout"
        },
        {
          "output_type": "stream",
          "text": [
            "\r 20%|█▉        | 39/200 [01:24<19:59,  7.45s/it]"
          ],
          "name": "stderr"
        },
        {
          "output_type": "stream",
          "text": [
            "Grimm Agency J. C. Nelson\n"
          ],
          "name": "stdout"
        },
        {
          "output_type": "stream",
          "text": [
            "\r 20%|██        | 40/200 [01:28<16:39,  6.25s/it]"
          ],
          "name": "stderr"
        },
        {
          "output_type": "stream",
          "text": [
            "Bitten Kelley Armstrong\n"
          ],
          "name": "stdout"
        },
        {
          "output_type": "stream",
          "text": [
            "\r 20%|██        | 41/200 [01:39<20:29,  7.73s/it]"
          ],
          "name": "stderr"
        },
        {
          "output_type": "stream",
          "text": [
            "Stay Victor Martins\n"
          ],
          "name": "stdout"
        },
        {
          "output_type": "stream",
          "text": [
            "\r 21%|██        | 42/200 [01:39<14:25,  5.48s/it]"
          ],
          "name": "stderr"
        },
        {
          "output_type": "stream",
          "text": [
            "error:  Stay Victor Martins\n",
            "The Ten Thousand Doors of January Alex E. Harrow\n"
          ],
          "name": "stdout"
        },
        {
          "output_type": "stream",
          "text": [
            "\r 22%|██▏       | 43/200 [01:40<10:46,  4.12s/it]"
          ],
          "name": "stderr"
        },
        {
          "output_type": "stream",
          "text": [
            "The Handbook For Surviving a Giant Monster Attack Anthony Wendel\n"
          ],
          "name": "stdout"
        },
        {
          "output_type": "stream",
          "text": [
            "\r 22%|██▏       | 44/200 [01:41<08:31,  3.28s/it]"
          ],
          "name": "stderr"
        },
        {
          "output_type": "stream",
          "text": [
            "Transcendent 2: The Year's Best Transgender Speculative Fiction 2016 Bogi Takács\n"
          ],
          "name": "stdout"
        },
        {
          "output_type": "stream",
          "text": [
            "\r 22%|██▎       | 45/200 [01:43<07:05,  2.74s/it]"
          ],
          "name": "stderr"
        },
        {
          "output_type": "stream",
          "text": [
            "Transcendent 4: The Year's Best Transgender Speculative Fiction 2018 Bogi Takács\n"
          ],
          "name": "stdout"
        },
        {
          "output_type": "stream",
          "text": [
            "\r 23%|██▎       | 46/200 [01:45<06:34,  2.56s/it]"
          ],
          "name": "stderr"
        },
        {
          "output_type": "stream",
          "text": [
            "The Trans Space Octopus Congregation Bogi Takács\n"
          ],
          "name": "stdout"
        },
        {
          "output_type": "stream",
          "text": [
            "\r 24%|██▎       | 47/200 [01:46<05:17,  2.08s/it]"
          ],
          "name": "stderr"
        },
        {
          "output_type": "stream",
          "text": [
            "Algorithmic Shapeshifting Bogi Takács\n"
          ],
          "name": "stdout"
        },
        {
          "output_type": "stream",
          "text": [
            "\r 24%|██▍       | 48/200 [01:47<04:49,  1.91s/it]"
          ],
          "name": "stderr"
        },
        {
          "output_type": "stream",
          "text": [
            "Rosalind's Siblings Bogi Takács\n"
          ],
          "name": "stdout"
        },
        {
          "output_type": "stream",
          "text": [
            "\r 24%|██▍       | 49/200 [01:48<03:32,  1.41s/it]"
          ],
          "name": "stderr"
        },
        {
          "output_type": "stream",
          "text": [
            "error:  Rosalind's Siblings Bogi Takács\n",
            "The Song of Spores Bogi Takács\n"
          ],
          "name": "stdout"
        },
        {
          "output_type": "stream",
          "text": [
            "\r 25%|██▌       | 50/200 [01:48<02:37,  1.05s/it]"
          ],
          "name": "stderr"
        },
        {
          "output_type": "stream",
          "text": [
            "error:  The Song of Spores Bogi Takács\n",
            "Transcendent 3: The Year's Best Transgender Speculative Fiction 2017 Bogi Takács \n"
          ],
          "name": "stdout"
        },
        {
          "output_type": "stream",
          "text": [
            "\r 26%|██▌       | 51/200 [01:49<02:38,  1.06s/it]"
          ],
          "name": "stderr"
        },
        {
          "output_type": "stream",
          "text": [
            "The Luminous Dead Caitlin Starling\n"
          ],
          "name": "stdout"
        },
        {
          "output_type": "stream",
          "text": [
            "\r 26%|██▌       | 52/200 [01:50<02:29,  1.01s/it]"
          ],
          "name": "stderr"
        },
        {
          "output_type": "stream",
          "text": [
            "Jane Lawrence Caitlin Starling\n"
          ],
          "name": "stdout"
        },
        {
          "output_type": "stream",
          "text": [
            "\r 26%|██▋       | 53/200 [01:51<02:19,  1.05it/s]"
          ],
          "name": "stderr"
        },
        {
          "output_type": "stream",
          "text": [
            "Cold Counsel Chris Sharp\n"
          ],
          "name": "stdout"
        },
        {
          "output_type": "stream",
          "text": [
            "\r 27%|██▋       | 54/200 [01:52<02:14,  1.08it/s]"
          ],
          "name": "stderr"
        },
        {
          "output_type": "stream",
          "text": [
            "Miriam Black Chuck Wendig\n"
          ],
          "name": "stdout"
        },
        {
          "output_type": "stream",
          "text": [
            "\r 28%|██▊       | 55/200 [01:58<05:58,  2.47s/it]"
          ],
          "name": "stderr"
        },
        {
          "output_type": "stream",
          "text": [
            "Mookie Chuck Wendig\n"
          ],
          "name": "stdout"
        },
        {
          "output_type": "stream",
          "text": [
            "\r 28%|██▊       | 56/200 [02:00<06:02,  2.52s/it]"
          ],
          "name": "stderr"
        },
        {
          "output_type": "stream",
          "text": [
            "Miriam Black (Second Purchase) Chuck Wendig\n"
          ],
          "name": "stdout"
        },
        {
          "output_type": "stream",
          "text": [
            "\r 28%|██▊       | 57/200 [02:00<04:21,  1.83s/it]"
          ],
          "name": "stderr"
        },
        {
          "output_type": "stream",
          "text": [
            "error:  Miriam Black (Second Purchase) Chuck Wendig\n",
            "Ferryman, Bombmaker, Black Cairn Point Claire McFall\n"
          ],
          "name": "stdout"
        },
        {
          "output_type": "stream",
          "text": [
            "\r 29%|██▉       | 58/200 [02:01<03:10,  1.34s/it]"
          ],
          "name": "stderr"
        },
        {
          "output_type": "stream",
          "text": [
            "error:  Ferryman, Bombmaker, Black Cairn Point Claire McFall\n",
            "The Caledonian Gambit Dan Moren\n"
          ],
          "name": "stdout"
        },
        {
          "output_type": "stream",
          "text": [
            "\r 30%|██▉       | 59/200 [02:02<02:47,  1.19s/it]"
          ],
          "name": "stderr"
        },
        {
          "output_type": "stream",
          "text": [
            "The Bayern Agenda/The Aleph Extraction Dan Moren\n"
          ],
          "name": "stdout"
        },
        {
          "output_type": "stream",
          "text": [
            "\r 30%|███       | 60/200 [02:02<02:05,  1.11it/s]"
          ],
          "name": "stderr"
        },
        {
          "output_type": "stream",
          "text": [
            "error:  The Bayern Agenda/The Aleph Extraction Dan Moren\n",
            "Long Price Daniel Abraham\n"
          ],
          "name": "stdout"
        },
        {
          "output_type": "stream",
          "text": [
            "\r 30%|███       | 61/200 [02:08<06:03,  2.61s/it]"
          ],
          "name": "stderr"
        },
        {
          "output_type": "stream",
          "text": [
            "Black Sun's Daughter Daniel Abraham\n"
          ],
          "name": "stdout"
        },
        {
          "output_type": "stream",
          "text": [
            "\r 31%|███       | 62/200 [02:09<04:22,  1.90s/it]"
          ],
          "name": "stderr"
        },
        {
          "output_type": "stream",
          "text": [
            "error:  Black Sun's Daughter Daniel Abraham\n",
            "Dagger & Coin Daniel Abraham\n"
          ],
          "name": "stdout"
        },
        {
          "output_type": "stream",
          "text": [
            "\r 32%|███▏      | 63/200 [02:13<05:46,  2.53s/it]"
          ],
          "name": "stderr"
        },
        {
          "output_type": "stream",
          "text": [
            "Arabella of Mars David D. Levine\n"
          ],
          "name": "stdout"
        },
        {
          "output_type": "stream",
          "text": [
            "\r 32%|███▏      | 64/200 [02:15<05:53,  2.60s/it]"
          ],
          "name": "stderr"
        },
        {
          "output_type": "stream",
          "text": [
            "The Reborn Empire Devin Madson\n"
          ],
          "name": "stdout"
        },
        {
          "output_type": "stream",
          "text": [
            "\r 32%|███▎      | 65/200 [02:17<05:11,  2.31s/it]"
          ],
          "name": "stderr"
        },
        {
          "output_type": "stream",
          "text": [
            "Corporate Gunslinger Doug Engstrom\n"
          ],
          "name": "stdout"
        },
        {
          "output_type": "stream",
          "text": [
            "\r 33%|███▎      | 66/200 [02:18<04:07,  1.85s/it]"
          ],
          "name": "stderr"
        },
        {
          "output_type": "stream",
          "text": [
            "A Thousand Nights E. K. Johnston\n"
          ],
          "name": "stdout"
        },
        {
          "output_type": "stream",
          "text": [
            "\r 34%|███▎      | 67/200 [02:20<04:36,  2.08s/it]"
          ],
          "name": "stderr"
        },
        {
          "output_type": "stream",
          "text": [
            "Flex, Flux, Fix Ferrett Steinmetz\n"
          ],
          "name": "stdout"
        },
        {
          "output_type": "stream",
          "text": [
            " 34%|███▍      | 69/200 [02:21<02:26,  1.12s/it]"
          ],
          "name": "stderr"
        },
        {
          "output_type": "stream",
          "text": [
            "error:  Flex, Flux, Fix Ferrett Steinmetz\n",
            "Sol Majestic, Automatic Reload Ferrett Steinmetz\n",
            "error:  Sol Majestic, Automatic Reload Ferrett Steinmetz\n",
            "The Bird King G. Willow Wilson\n"
          ],
          "name": "stdout"
        },
        {
          "output_type": "stream",
          "text": [
            "\r 35%|███▌      | 70/200 [02:22<02:15,  1.04s/it]"
          ],
          "name": "stderr"
        },
        {
          "output_type": "stream",
          "text": [
            "Vellum, Ink Hal Duncan\n"
          ],
          "name": "stdout"
        },
        {
          "output_type": "stream",
          "text": [
            " 36%|███▌      | 72/200 [02:22<01:17,  1.65it/s]"
          ],
          "name": "stderr"
        },
        {
          "output_type": "stream",
          "text": [
            "error:  Vellum, Ink Hal Duncan\n",
            "Machinations + sequel Hayley Stone\n",
            "error:  Machinations + sequel Hayley Stone\n",
            "Terminal 3 Illimani Ferreira\n"
          ],
          "name": "stdout"
        },
        {
          "output_type": "stream",
          "text": [
            "\r 36%|███▋      | 73/200 [02:23<01:20,  1.58it/s]"
          ],
          "name": "stderr"
        },
        {
          "output_type": "stream",
          "text": [
            "The Reburialists J. C. Nelson\n"
          ],
          "name": "stdout"
        },
        {
          "output_type": "stream",
          "text": [
            "\r 37%|███▋      | 74/200 [02:24<01:26,  1.45it/s]"
          ],
          "name": "stderr"
        },
        {
          "output_type": "stream",
          "text": [
            "The Golden City J. Kathleen Cheney\n"
          ],
          "name": "stdout"
        },
        {
          "output_type": "stream",
          "text": [
            "\r 38%|███▊      | 75/200 [02:28<03:40,  1.77s/it]"
          ],
          "name": "stderr"
        },
        {
          "output_type": "stream",
          "text": [
            "The Seat of Magic J. Kathleen Cheney\n"
          ],
          "name": "stdout"
        },
        {
          "output_type": "stream",
          "text": [
            "\r 38%|███▊      | 76/200 [02:29<03:05,  1.50s/it]"
          ],
          "name": "stderr"
        },
        {
          "output_type": "stream",
          "text": [
            "The Shores of Spain J. Kathleen Cheney\n"
          ],
          "name": "stdout"
        },
        {
          "output_type": "stream",
          "text": [
            "\r 38%|███▊      | 77/200 [02:30<02:49,  1.38s/it]"
          ],
          "name": "stderr"
        },
        {
          "output_type": "stream",
          "text": [
            "Dreaming Death J. Kathleen Cheney\n"
          ],
          "name": "stdout"
        },
        {
          "output_type": "stream",
          "text": [
            "\r 39%|███▉      | 78/200 [02:32<03:04,  1.51s/it]"
          ],
          "name": "stderr"
        },
        {
          "output_type": "stream",
          "text": [
            "Monkey Around Jadie Jang\n"
          ],
          "name": "stdout"
        },
        {
          "output_type": "stream",
          "text": [
            "\r 40%|███▉      | 79/200 [02:32<02:34,  1.28s/it]"
          ],
          "name": "stderr"
        },
        {
          "output_type": "stream",
          "text": [
            "A Chorus of Dragons Jenn Lyons\n"
          ],
          "name": "stdout"
        },
        {
          "output_type": "stream",
          "text": [
            "\r 40%|████      | 80/200 [02:35<03:40,  1.84s/it]"
          ],
          "name": "stderr"
        },
        {
          "output_type": "stream",
          "text": [
            "The Black Knight Chronicles John G. Hartness\n"
          ],
          "name": "stdout"
        },
        {
          "output_type": "stream",
          "text": [
            "\r 40%|████      | 81/200 [02:39<04:34,  2.31s/it]"
          ],
          "name": "stderr"
        },
        {
          "output_type": "stream",
          "text": [
            "Indranan War K. B. Wagers\n"
          ],
          "name": "stdout"
        },
        {
          "output_type": "stream",
          "text": [
            "\r 41%|████      | 82/200 [02:42<04:49,  2.46s/it]"
          ],
          "name": "stderr"
        },
        {
          "output_type": "stream",
          "text": [
            "Farian War K. B. Wagers\n"
          ],
          "name": "stdout"
        },
        {
          "output_type": "stream",
          "text": [
            "\r 42%|████▏     | 83/200 [02:44<04:33,  2.34s/it]"
          ],
          "name": "stderr"
        },
        {
          "output_type": "stream",
          "text": [
            "God's War Trilogy Kameron Hurley\n"
          ],
          "name": "stdout"
        },
        {
          "output_type": "stream",
          "text": [
            "\r 42%|████▏     | 84/200 [02:44<03:16,  1.70s/it]"
          ],
          "name": "stderr"
        },
        {
          "output_type": "stream",
          "text": [
            "error:  God's War Trilogy Kameron Hurley\n",
            "Mirror Empire, Empire Ascendant Kameron Hurley\n"
          ],
          "name": "stdout"
        },
        {
          "output_type": "stream",
          "text": [
            "\r 42%|████▎     | 85/200 [02:44<02:24,  1.25s/it]"
          ],
          "name": "stderr"
        },
        {
          "output_type": "stream",
          "text": [
            "error:  Mirror Empire, Empire Ascendant Kameron Hurley\n",
            "Broken Heavens Kameron Hurley\n"
          ],
          "name": "stdout"
        },
        {
          "output_type": "stream",
          "text": [
            "\r 43%|████▎     | 86/200 [02:45<02:11,  1.16s/it]"
          ],
          "name": "stderr"
        },
        {
          "output_type": "stream",
          "text": [
            "Stars Are Legion Kameron Hurley\n"
          ],
          "name": "stdout"
        },
        {
          "output_type": "stream",
          "text": [
            "\r 44%|████▎     | 87/200 [02:46<02:01,  1.07s/it]"
          ],
          "name": "stderr"
        },
        {
          "output_type": "stream",
          "text": [
            "Light Bridgade. Kameron Hurley\n"
          ],
          "name": "stdout"
        },
        {
          "output_type": "stream",
          "text": [
            "\r 44%|████▍     | 88/200 [02:46<01:31,  1.22it/s]"
          ],
          "name": "stderr"
        },
        {
          "output_type": "stream",
          "text": [
            "error:  Light Bridgade. Kameron Hurley\n",
            "Fake Tattoos Ken Poirier\n"
          ],
          "name": "stdout"
        },
        {
          "output_type": "stream",
          "text": [
            "\r 44%|████▍     | 89/200 [02:48<02:05,  1.13s/it]"
          ],
          "name": "stderr"
        },
        {
          "output_type": "stream",
          "text": [
            "Long Division Kiese Laymon\n"
          ],
          "name": "stdout"
        },
        {
          "output_type": "stream",
          "text": [
            "\r 45%|████▌     | 90/200 [02:49<01:57,  1.07s/it]"
          ],
          "name": "stderr"
        },
        {
          "output_type": "stream",
          "text": [
            "The Day Before Liana Brooks\n"
          ],
          "name": "stdout"
        },
        {
          "output_type": "stream",
          "text": [
            "\r 46%|████▌     | 91/200 [02:50<01:51,  1.02s/it]"
          ],
          "name": "stderr"
        },
        {
          "output_type": "stream",
          "text": [
            "Orphancorp Marlee Jane Ward\n"
          ],
          "name": "stdout"
        },
        {
          "output_type": "stream",
          "text": [
            "\r 46%|████▌     | 92/200 [02:52<02:32,  1.42s/it]"
          ],
          "name": "stderr"
        },
        {
          "output_type": "stream",
          "text": [
            "Psynode, Prisoncorp Marlee Jane Ward\n"
          ],
          "name": "stdout"
        },
        {
          "output_type": "stream",
          "text": [
            "\r 46%|████▋     | 93/200 [02:52<01:53,  1.06s/it]"
          ],
          "name": "stderr"
        },
        {
          "output_type": "stream",
          "text": [
            "error:  Psynode, Prisoncorp Marlee Jane Ward\n",
            "Money for Something Marlee Jane Ward (Mia Walsch)\n"
          ],
          "name": "stdout"
        },
        {
          "output_type": "stream",
          "text": [
            "\r 47%|████▋     | 94/200 [02:53<01:25,  1.24it/s]"
          ],
          "name": "stderr"
        },
        {
          "output_type": "stream",
          "text": [
            "error:  Money for Something Marlee Jane Ward (Mia Walsch)\n",
            "Element of Fire Martha Wells\n"
          ],
          "name": "stdout"
        },
        {
          "output_type": "stream",
          "text": [
            "\r 48%|████▊     | 95/200 [02:54<01:25,  1.23it/s]"
          ],
          "name": "stderr"
        },
        {
          "output_type": "stream",
          "text": [
            "City of Bones Martha Wells\n"
          ],
          "name": "stdout"
        },
        {
          "output_type": "stream",
          "text": [
            "\r 48%|████▊     | 96/200 [02:54<01:24,  1.23it/s]"
          ],
          "name": "stderr"
        },
        {
          "output_type": "stream",
          "text": [
            "Death of the Necromancer Martha Wells\n"
          ],
          "name": "stdout"
        },
        {
          "output_type": "stream",
          "text": [
            "\r 48%|████▊     | 97/200 [02:57<02:14,  1.30s/it]"
          ],
          "name": "stderr"
        },
        {
          "output_type": "stream",
          "text": [
            "Wheel of the Infinite Martha Wells\n"
          ],
          "name": "stdout"
        },
        {
          "output_type": "stream",
          "text": [
            "\r 49%|████▉     | 98/200 [02:58<01:56,  1.15s/it]"
          ],
          "name": "stderr"
        },
        {
          "output_type": "stream",
          "text": [
            "Ile Rien Martha Wells\n"
          ],
          "name": "stdout"
        },
        {
          "output_type": "stream",
          "text": [
            "\r 50%|████▉     | 99/200 [03:02<03:21,  1.99s/it]"
          ],
          "name": "stderr"
        },
        {
          "output_type": "stream",
          "text": [
            "The Cloud Roads Martha Wells\n"
          ],
          "name": "stdout"
        },
        {
          "output_type": "stream",
          "text": [
            "\r 50%|█████     | 100/200 [03:02<02:45,  1.65s/it]"
          ],
          "name": "stderr"
        },
        {
          "output_type": "stream",
          "text": [
            "Siren Depths Martha Wells\n"
          ],
          "name": "stdout"
        },
        {
          "output_type": "stream",
          "text": [
            "\r 50%|█████     | 101/200 [03:03<02:20,  1.42s/it]"
          ],
          "name": "stderr"
        },
        {
          "output_type": "stream",
          "text": [
            "Raksura Martha Wells\n"
          ],
          "name": "stdout"
        },
        {
          "output_type": "stream",
          "text": [
            "\r 51%|█████     | 102/200 [03:11<05:19,  3.27s/it]"
          ],
          "name": "stderr"
        },
        {
          "output_type": "stream",
          "text": [
            "The Edge of Worlds Martha Wells\n"
          ],
          "name": "stdout"
        },
        {
          "output_type": "stream",
          "text": [
            "\r 52%|█████▏    | 103/200 [03:12<04:05,  2.53s/it]"
          ],
          "name": "stderr"
        },
        {
          "output_type": "stream",
          "text": [
            "Network Effect Martha Wells\n"
          ],
          "name": "stdout"
        },
        {
          "output_type": "stream",
          "text": [
            "\r 52%|█████▏    | 104/200 [03:12<03:13,  2.02s/it]"
          ],
          "name": "stderr"
        },
        {
          "output_type": "stream",
          "text": [
            "The Frame-Up Meghan Scott Molin\n"
          ],
          "name": "stdout"
        },
        {
          "output_type": "stream",
          "text": [
            "\r 52%|█████▎    | 105/200 [03:14<02:45,  1.74s/it]"
          ],
          "name": "stderr"
        },
        {
          "output_type": "stream",
          "text": [
            "Theft of Swords Michael J. Sullivan\n"
          ],
          "name": "stdout"
        },
        {
          "output_type": "stream",
          "text": [
            "\r 53%|█████▎    | 106/200 [03:15<02:37,  1.67s/it]"
          ],
          "name": "stderr"
        },
        {
          "output_type": "stream",
          "text": [
            "The Crown Tower Michael J. Sullivan\n"
          ],
          "name": "stdout"
        },
        {
          "output_type": "stream",
          "text": [
            "\r 54%|█████▎    | 107/200 [03:17<02:51,  1.84s/it]"
          ],
          "name": "stderr"
        },
        {
          "output_type": "stream",
          "text": [
            "Age of Myth Michael J. Sullivan\n"
          ],
          "name": "stdout"
        },
        {
          "output_type": "stream",
          "text": [
            "\r 54%|█████▍    | 108/200 [03:18<02:23,  1.55s/it]"
          ],
          "name": "stderr"
        },
        {
          "output_type": "stream",
          "text": [
            "Nolyn Michael J. Sullivan\n"
          ],
          "name": "stdout"
        },
        {
          "output_type": "stream",
          "text": [
            "\r 55%|█████▍    | 109/200 [03:19<02:02,  1.35s/it]"
          ],
          "name": "stderr"
        },
        {
          "output_type": "stream",
          "text": [
            "Planetside, Spaceside Michael Mammay\n"
          ],
          "name": "stdout"
        },
        {
          "output_type": "stream",
          "text": [
            "\r 55%|█████▌    | 110/200 [03:20<01:47,  1.20s/it]"
          ],
          "name": "stderr"
        },
        {
          "output_type": "stream",
          "text": [
            "Colonyside + 1 Other Michael Mammay\n"
          ],
          "name": "stdout"
        },
        {
          "output_type": "stream",
          "text": [
            "\r 56%|█████▌    | 111/200 [03:20<01:20,  1.11it/s]"
          ],
          "name": "stderr"
        },
        {
          "output_type": "stream",
          "text": [
            "error:  Colonyside + 1 Other Michael Mammay\n",
            "Geekomancy Michael R. Underwood\n"
          ],
          "name": "stdout"
        },
        {
          "output_type": "stream",
          "text": [
            "\r 56%|█████▌    | 112/200 [03:22<01:42,  1.17s/it]"
          ],
          "name": "stderr"
        },
        {
          "output_type": "stream",
          "text": [
            "Celebromancy Michael R. Underwood\n"
          ],
          "name": "stdout"
        },
        {
          "output_type": "stream",
          "text": [
            "\r 56%|█████▋    | 113/200 [03:23<01:35,  1.10s/it]"
          ],
          "name": "stderr"
        },
        {
          "output_type": "stream",
          "text": [
            "Hexomancy Michael R. Underwood\n"
          ],
          "name": "stdout"
        },
        {
          "output_type": "stream",
          "text": [
            "\r 57%|█████▋    | 114/200 [03:24<01:27,  1.02s/it]"
          ],
          "name": "stderr"
        },
        {
          "output_type": "stream",
          "text": [
            "The Younger Gods Michael R. Underwood\n"
          ],
          "name": "stdout"
        },
        {
          "output_type": "stream",
          "text": [
            "\r 57%|█████▊    | 115/200 [03:25<01:25,  1.01s/it]"
          ],
          "name": "stderr"
        },
        {
          "output_type": "stream",
          "text": [
            "Attack the Geek Michael R. Underwood\n"
          ],
          "name": "stdout"
        },
        {
          "output_type": "stream",
          "text": [
            "\r 58%|█████▊    | 116/200 [03:26<01:21,  1.03it/s]"
          ],
          "name": "stderr"
        },
        {
          "output_type": "stream",
          "text": [
            "Shield & Crocus Michael R. Underwood\n"
          ],
          "name": "stdout"
        },
        {
          "output_type": "stream",
          "text": [
            "\r 58%|█████▊    | 117/200 [03:26<01:17,  1.07it/s]"
          ],
          "name": "stderr"
        },
        {
          "output_type": "stream",
          "text": [
            "Annihilation Aria Michael R. Underwood\n"
          ],
          "name": "stdout"
        },
        {
          "output_type": "stream",
          "text": [
            "\r 59%|█████▉    | 118/200 [03:28<01:22,  1.01s/it]"
          ],
          "name": "stderr"
        },
        {
          "output_type": "stream",
          "text": [
            "Inheritance N. K. Jemisin\n"
          ],
          "name": "stdout"
        },
        {
          "output_type": "stream",
          "text": [
            "\r 60%|█████▉    | 119/200 [03:34<03:39,  2.71s/it]"
          ],
          "name": "stderr"
        },
        {
          "output_type": "stream",
          "text": [
            "Broken Earth N. K. Jemisin\n"
          ],
          "name": "stdout"
        },
        {
          "output_type": "stream",
          "text": [
            "\r 60%|██████    | 120/200 [03:38<04:12,  3.15s/it]"
          ],
          "name": "stderr"
        },
        {
          "output_type": "stream",
          "text": [
            "Ammonite Nicola Griffith\n"
          ],
          "name": "stdout"
        },
        {
          "output_type": "stream",
          "text": [
            "\r 60%|██████    | 121/200 [03:39<03:15,  2.48s/it]"
          ],
          "name": "stderr"
        },
        {
          "output_type": "stream",
          "text": [
            "Slow River Nicola Griffith\n"
          ],
          "name": "stdout"
        },
        {
          "output_type": "stream",
          "text": [
            "\r 61%|██████    | 122/200 [03:40<02:35,  1.99s/it]"
          ],
          "name": "stderr"
        },
        {
          "output_type": "stream",
          "text": [
            "Last Call at the Nightshade Lounge Paul Kreuger\n"
          ],
          "name": "stdout"
        },
        {
          "output_type": "stream",
          "text": [
            "\r 62%|██████▏   | 123/200 [03:42<02:21,  1.84s/it]"
          ],
          "name": "stderr"
        },
        {
          "output_type": "stream",
          "text": [
            "Steel Crow Saga Paul Kreuger\n"
          ],
          "name": "stdout"
        },
        {
          "output_type": "stream",
          "text": [
            "\r 62%|██████▏   | 124/200 [03:42<01:43,  1.36s/it]"
          ],
          "name": "stderr"
        },
        {
          "output_type": "stream",
          "text": [
            "error:  Steel Crow Saga Paul Kreuger\n",
            "TItanborn + Sequel Rhett C Bruno\n"
          ],
          "name": "stdout"
        },
        {
          "output_type": "stream",
          "text": [
            "\r 62%|██████▎   | 125/200 [03:42<01:15,  1.01s/it]"
          ],
          "name": "stderr"
        },
        {
          "output_type": "stream",
          "text": [
            "error:  TItanborn + Sequel Rhett C Bruno\n",
            "AN UNKINDNESS OF GHOSTS Rivers Solomon\n"
          ],
          "name": "stdout"
        },
        {
          "output_type": "stream",
          "text": [
            "\r 63%|██████▎   | 126/200 [03:43<01:17,  1.05s/it]"
          ],
          "name": "stderr"
        },
        {
          "output_type": "stream",
          "text": [
            "THE DEEP Rivers Solomon\n"
          ],
          "name": "stdout"
        },
        {
          "output_type": "stream",
          "text": [
            "\r 64%|██████▎   | 127/200 [03:44<01:12,  1.01it/s]"
          ],
          "name": "stderr"
        },
        {
          "output_type": "stream",
          "text": [
            "SORROWLAND Rivers Solomon\n"
          ],
          "name": "stdout"
        },
        {
          "output_type": "stream",
          "text": [
            "\r 64%|██████▍   | 128/200 [03:45<01:06,  1.09it/s]"
          ],
          "name": "stderr"
        },
        {
          "output_type": "stream",
          "text": [
            "GRAVITY'S HEIR Sara T Bond\n"
          ],
          "name": "stdout"
        },
        {
          "output_type": "stream",
          "text": [
            "\r 64%|██████▍   | 129/200 [03:46<01:02,  1.13it/s]"
          ],
          "name": "stderr"
        },
        {
          "output_type": "stream",
          "text": [
            "Polymorph, Fine Prey Scott Westerfeld\n"
          ],
          "name": "stdout"
        },
        {
          "output_type": "stream",
          "text": [
            "\r 65%|██████▌   | 130/200 [03:46<00:47,  1.46it/s]"
          ],
          "name": "stderr"
        },
        {
          "output_type": "stream",
          "text": [
            "error:  Polymorph, Fine Prey Scott Westerfeld\n",
            "Evolution's Darling Scott Westerfeld\n"
          ],
          "name": "stdout"
        },
        {
          "output_type": "stream",
          "text": [
            "\r 66%|██████▌   | 131/200 [03:47<00:51,  1.33it/s]"
          ],
          "name": "stderr"
        },
        {
          "output_type": "stream",
          "text": [
            "Risen Empire, The Killing of Worlds Scott Westerfeld\n"
          ],
          "name": "stdout"
        },
        {
          "output_type": "stream",
          "text": [
            " 66%|██████▋   | 133/200 [03:48<00:37,  1.77it/s]"
          ],
          "name": "stderr"
        },
        {
          "output_type": "stream",
          "text": [
            "Certain Dark Things, The Beautiful Ones Silvia Moreno-Garcia\n",
            "error:  Certain Dark Things, The Beautiful Ones Silvia Moreno-Garcia\n",
            "Gods of Jade and Shadow, Mexican Gothic Silvia Moreno-Garcia\n"
          ],
          "name": "stdout"
        },
        {
          "output_type": "stream",
          "text": [
            "\r 67%|██████▋   | 134/200 [03:48<00:30,  2.13it/s]"
          ],
          "name": "stderr"
        },
        {
          "output_type": "stream",
          "text": [
            "error:  Gods of Jade and Shadow, Mexican Gothic Silvia Moreno-Garcia\n",
            "The Untamed Shore Silvia Moreno-Garcia\n"
          ],
          "name": "stdout"
        },
        {
          "output_type": "stream",
          "text": [
            "\r 68%|██████▊   | 135/200 [03:48<00:25,  2.55it/s]"
          ],
          "name": "stderr"
        },
        {
          "output_type": "stream",
          "text": [
            "error:  The Untamed Shore Silvia Moreno-Garcia\n",
            "Signal to Noise Silvia Moreno-Garcia\n"
          ],
          "name": "stdout"
        },
        {
          "output_type": "stream",
          "text": [
            "\r 68%|██████▊   | 136/200 [03:49<00:33,  1.90it/s]"
          ],
          "name": "stderr"
        },
        {
          "output_type": "stream",
          "text": [
            "Greta Helsing Trilogy Vivian Shaw\n"
          ],
          "name": "stdout"
        },
        {
          "output_type": "stream",
          "text": [
            "\r 68%|██████▊   | 137/200 [03:49<00:28,  2.24it/s]"
          ],
          "name": "stderr"
        },
        {
          "output_type": "stream",
          "text": [
            "error:  Greta Helsing Trilogy Vivian Shaw\n",
            "Sword Stone Table Jenn Northington and Swapna Krishna\n"
          ],
          "name": "stdout"
        },
        {
          "output_type": "stream",
          "text": [
            " 70%|██████▉   | 139/200 [03:50<00:19,  3.08it/s]"
          ],
          "name": "stderr"
        },
        {
          "output_type": "stream",
          "text": [
            "error:  Sword Stone Table Jenn Northington and Swapna Krishna\n",
            "VoidWitch Saga Audiobooks Corey J. White\n",
            "error:  VoidWitch Saga Audiobooks Corey J. White\n",
            "Repo Virtual Corey J. White\n"
          ],
          "name": "stdout"
        },
        {
          "output_type": "stream",
          "text": [
            "\r 70%|███████   | 140/200 [03:51<00:34,  1.72it/s]"
          ],
          "name": "stderr"
        },
        {
          "output_type": "stream",
          "text": [
            "The Nine Realms Sarah Kozloff\n"
          ],
          "name": "stdout"
        },
        {
          "output_type": "stream",
          "text": [
            "\r 70%|███████   | 141/200 [03:54<01:21,  1.38s/it]"
          ],
          "name": "stderr"
        },
        {
          "output_type": "stream",
          "text": [
            "A Conspiracy of Truths + A Choir of Lies Alexandra Rowland\n"
          ],
          "name": "stdout"
        },
        {
          "output_type": "stream",
          "text": [
            "\r 71%|███████   | 142/200 [03:55<01:09,  1.20s/it]"
          ],
          "name": "stderr"
        },
        {
          "output_type": "stream",
          "text": [
            "Here and Now and Then Mike Chen\n"
          ],
          "name": "stdout"
        },
        {
          "output_type": "stream",
          "text": [
            "\r 72%|███████▏  | 143/200 [03:56<01:03,  1.11s/it]"
          ],
          "name": "stderr"
        },
        {
          "output_type": "stream",
          "text": [
            "A Beginning At The End Mike Chen\n"
          ],
          "name": "stdout"
        },
        {
          "output_type": "stream",
          "text": [
            "\r 72%|███████▏  | 144/200 [03:57<00:57,  1.03s/it]"
          ],
          "name": "stderr"
        },
        {
          "output_type": "stream",
          "text": [
            "We Could Be Heroes Mike Chen\n"
          ],
          "name": "stdout"
        },
        {
          "output_type": "stream",
          "text": [
            "\r 72%|███████▎  | 145/200 [03:57<00:51,  1.06it/s]"
          ],
          "name": "stderr"
        },
        {
          "output_type": "stream",
          "text": [
            "Killing Gravity Corey J. White\n"
          ],
          "name": "stdout"
        },
        {
          "output_type": "stream",
          "text": [
            "\r 73%|███████▎  | 146/200 [03:58<00:49,  1.09it/s]"
          ],
          "name": "stderr"
        },
        {
          "output_type": "stream",
          "text": [
            "Void Black Shadow Corey J. White\n"
          ],
          "name": "stdout"
        },
        {
          "output_type": "stream",
          "text": [
            "\r 74%|███████▎  | 147/200 [03:59<00:50,  1.04it/s]"
          ],
          "name": "stderr"
        },
        {
          "output_type": "stream",
          "text": [
            "Static Ruin Corey J. White\n"
          ],
          "name": "stdout"
        },
        {
          "output_type": "stream",
          "text": [
            "\r 74%|███████▍  | 148/200 [04:00<00:47,  1.09it/s]"
          ],
          "name": "stderr"
        },
        {
          "output_type": "stream",
          "text": [
            "nan\n"
          ],
          "name": "stdout"
        },
        {
          "output_type": "stream",
          "text": [
            "\r 74%|███████▍  | 149/200 [04:13<03:56,  4.64s/it]"
          ],
          "name": "stderr"
        },
        {
          "output_type": "stream",
          "text": [
            "Room Little Darker June Caldwell\n"
          ],
          "name": "stdout"
        },
        {
          "output_type": "stream",
          "text": [
            "\r 75%|███████▌  | 150/200 [04:14<02:53,  3.48s/it]"
          ],
          "name": "stderr"
        },
        {
          "output_type": "stream",
          "text": [
            "Room Little Darker June Caldwell\n"
          ],
          "name": "stdout"
        },
        {
          "output_type": "stream",
          "text": [
            "\r 76%|███████▌  | 151/200 [04:15<02:17,  2.80s/it]"
          ],
          "name": "stderr"
        },
        {
          "output_type": "stream",
          "text": [
            "A Tip for the Hangman Allison Epstein\n"
          ],
          "name": "stdout"
        },
        {
          "output_type": "stream",
          "text": [
            "\r 76%|███████▌  | 152/200 [04:17<01:53,  2.36s/it]"
          ],
          "name": "stderr"
        },
        {
          "output_type": "stream",
          "text": [
            "Motherland G. D. Abson\n"
          ],
          "name": "stdout"
        },
        {
          "output_type": "stream",
          "text": [
            "\r 76%|███████▋  | 153/200 [04:18<01:30,  1.92s/it]"
          ],
          "name": "stderr"
        },
        {
          "output_type": "stream",
          "text": [
            "Sharp Objects Gillian Flynn\n"
          ],
          "name": "stdout"
        },
        {
          "output_type": "stream",
          "text": [
            "\r 77%|███████▋  | 154/200 [04:26<02:57,  3.85s/it]"
          ],
          "name": "stderr"
        },
        {
          "output_type": "stream",
          "text": [
            "Dark Places Gillian Flynn\n"
          ],
          "name": "stdout"
        },
        {
          "output_type": "stream",
          "text": [
            "\r 78%|███████▊  | 155/200 [04:34<03:52,  5.16s/it]"
          ],
          "name": "stderr"
        },
        {
          "output_type": "stream",
          "text": [
            "Gone Girl Gillian Flynn\n"
          ],
          "name": "stdout"
        },
        {
          "output_type": "stream",
          "text": [
            "\r 78%|███████▊  | 156/200 [04:47<05:30,  7.52s/it]"
          ],
          "name": "stderr"
        },
        {
          "output_type": "stream",
          "text": [
            "Over Tumbled Graves Jess Walter\n"
          ],
          "name": "stdout"
        },
        {
          "output_type": "stream",
          "text": [
            "\r 78%|███████▊  | 157/200 [04:48<03:56,  5.51s/it]"
          ],
          "name": "stderr"
        },
        {
          "output_type": "stream",
          "text": [
            "Bitterroot Lake Leslie Budewitz\n"
          ],
          "name": "stdout"
        },
        {
          "output_type": "stream",
          "text": [
            "\r 79%|███████▉  | 158/200 [04:48<02:44,  3.92s/it]"
          ],
          "name": "stderr"
        },
        {
          "output_type": "stream",
          "text": [
            "error:  Bitterroot Lake Leslie Budewitz\n",
            "SPITFIRE M. L. Huie\n"
          ],
          "name": "stdout"
        },
        {
          "output_type": "stream",
          "text": [
            "\r 80%|███████▉  | 159/200 [04:49<02:02,  2.99s/it]"
          ],
          "name": "stderr"
        },
        {
          "output_type": "stream",
          "text": [
            "Blue Place Nicola Griffith\n"
          ],
          "name": "stdout"
        },
        {
          "output_type": "stream",
          "text": [
            "\r 80%|████████  | 160/200 [04:50<01:33,  2.35s/it]"
          ],
          "name": "stderr"
        },
        {
          "output_type": "stream",
          "text": [
            "Stay Nicola Griffith\n"
          ],
          "name": "stdout"
        },
        {
          "output_type": "stream",
          "text": [
            "\r 80%|████████  | 161/200 [04:51<01:14,  1.91s/it]"
          ],
          "name": "stderr"
        },
        {
          "output_type": "stream",
          "text": [
            "Always Nicola Griffith\n"
          ],
          "name": "stdout"
        },
        {
          "output_type": "stream",
          "text": [
            "\r 81%|████████  | 162/200 [04:52<00:59,  1.58s/it]"
          ],
          "name": "stderr"
        },
        {
          "output_type": "stream",
          "text": [
            "All Things Violent  Nikki Dolson\n"
          ],
          "name": "stdout"
        },
        {
          "output_type": "stream",
          "text": [
            "\r 82%|████████▏ | 163/200 [04:53<00:51,  1.39s/it]"
          ],
          "name": "stderr"
        },
        {
          "output_type": "stream",
          "text": [
            "Love and other criminal behavior  Nikki Dolson\n"
          ],
          "name": "stdout"
        },
        {
          "output_type": "stream",
          "text": [
            "\r 82%|████████▏ | 164/200 [04:53<00:43,  1.20s/it]"
          ],
          "name": "stderr"
        },
        {
          "output_type": "stream",
          "text": [
            "Little White Lies Philippa East\n"
          ],
          "name": "stdout"
        },
        {
          "output_type": "stream",
          "text": [
            "\r 82%|████████▎ | 165/200 [04:55<00:45,  1.31s/it]"
          ],
          "name": "stderr"
        },
        {
          "output_type": "stream",
          "text": [
            "Follow Her Home Steph Cha\n"
          ],
          "name": "stdout"
        },
        {
          "output_type": "stream",
          "text": [
            "\r 83%|████████▎ | 166/200 [04:56<00:46,  1.38s/it]"
          ],
          "name": "stderr"
        },
        {
          "output_type": "stream",
          "text": [
            "Beware Beware Steph Cha\n"
          ],
          "name": "stdout"
        },
        {
          "output_type": "stream",
          "text": [
            "\r 84%|████████▎ | 167/200 [04:59<00:59,  1.79s/it]"
          ],
          "name": "stderr"
        },
        {
          "output_type": "stream",
          "text": [
            "Dead Soon Enough Steph Cha\n"
          ],
          "name": "stdout"
        },
        {
          "output_type": "stream",
          "text": [
            "\r 84%|████████▍ | 168/200 [05:00<00:47,  1.50s/it]"
          ],
          "name": "stderr"
        },
        {
          "output_type": "stream",
          "text": [
            "Cottonmouths Kelly J. Ford\n"
          ],
          "name": "stdout"
        },
        {
          "output_type": "stream",
          "text": [
            "\r 84%|████████▍ | 169/200 [05:01<00:42,  1.39s/it]"
          ],
          "name": "stderr"
        },
        {
          "output_type": "stream",
          "text": [
            "Your House Will Pay Steph Cha\n"
          ],
          "name": "stdout"
        },
        {
          "output_type": "stream",
          "text": [
            "\r 85%|████████▌ | 170/200 [05:02<00:38,  1.29s/it]"
          ],
          "name": "stderr"
        },
        {
          "output_type": "stream",
          "text": [
            "The Other Black Girl Zakiya Dalila Harris\n"
          ],
          "name": "stdout"
        },
        {
          "output_type": "stream",
          "text": [
            "\r 86%|████████▌ | 171/200 [05:03<00:33,  1.14s/it]"
          ],
          "name": "stderr"
        },
        {
          "output_type": "stream",
          "text": [
            "Glory Bishop Deborah King\n"
          ],
          "name": "stdout"
        },
        {
          "output_type": "stream",
          "text": [
            "\r 86%|████████▌ | 172/200 [05:04<00:29,  1.04s/it]"
          ],
          "name": "stderr"
        },
        {
          "output_type": "stream",
          "text": [
            "Courting Greta Ramsey Hootman\n"
          ],
          "name": "stdout"
        },
        {
          "output_type": "stream",
          "text": [
            "\r 86%|████████▋ | 173/200 [05:05<00:26,  1.01it/s]"
          ],
          "name": "stderr"
        },
        {
          "output_type": "stream",
          "text": [
            "A Lady’s Guide to Selling Out Sally Franson\n"
          ],
          "name": "stdout"
        },
        {
          "output_type": "stream",
          "text": [
            "\r 87%|████████▋ | 174/200 [05:05<00:24,  1.05it/s]"
          ],
          "name": "stderr"
        },
        {
          "output_type": "stream",
          "text": [
            "Hunting the Devil Suanne Schafer\n"
          ],
          "name": "stdout"
        },
        {
          "output_type": "stream",
          "text": [
            "\r 88%|████████▊ | 175/200 [05:06<00:24,  1.03it/s]"
          ],
          "name": "stderr"
        },
        {
          "output_type": "stream",
          "text": [
            "nan\n"
          ],
          "name": "stdout"
        },
        {
          "output_type": "stream",
          "text": [
            "\r 88%|████████▊ | 176/200 [05:20<01:53,  4.73s/it]"
          ],
          "name": "stderr"
        },
        {
          "output_type": "stream",
          "text": [
            "Together + 2 More Julie Cohen\n"
          ],
          "name": "stdout"
        },
        {
          "output_type": "stream",
          "text": [
            "\r 88%|████████▊ | 177/200 [05:20<01:17,  3.38s/it]"
          ],
          "name": "stderr"
        },
        {
          "output_type": "stream",
          "text": [
            "error:  Together + 2 More Julie Cohen\n",
            "*omitted* *omitted*\n"
          ],
          "name": "stdout"
        },
        {
          "output_type": "stream",
          "text": [
            "\r 89%|████████▉ | 178/200 [05:34<02:22,  6.46s/it]"
          ],
          "name": "stderr"
        },
        {
          "output_type": "stream",
          "text": [
            "Secrets of the Casa Rosada Alex Temblador\n"
          ],
          "name": "stdout"
        },
        {
          "output_type": "stream",
          "text": [
            " 90%|█████████ | 180/200 [05:35<01:09,  3.48s/it]"
          ],
          "name": "stderr"
        },
        {
          "output_type": "stream",
          "text": [
            "ZER0S, Invasive Chuck Wendig\n",
            "error:  ZER0S, Invasive Chuck Wendig\n",
            "Burro Hills Julia Lynn Rubin\n"
          ],
          "name": "stdout"
        },
        {
          "output_type": "stream",
          "text": [
            "\r 90%|█████████ | 181/200 [05:36<00:52,  2.76s/it]"
          ],
          "name": "stderr"
        },
        {
          "output_type": "stream",
          "text": [
            "Trouble Girls Julia Lynn Rubin\n"
          ],
          "name": "stdout"
        },
        {
          "output_type": "stream",
          "text": [
            "\r 91%|█████████ | 182/200 [05:37<00:40,  2.27s/it]"
          ],
          "name": "stderr"
        },
        {
          "output_type": "stream",
          "text": [
            "No Love Allowed Kate Evangelista\n"
          ],
          "name": "stdout"
        },
        {
          "output_type": "stream",
          "text": [
            "\r 92%|█████████▏| 183/200 [05:39<00:35,  2.12s/it]"
          ],
          "name": "stderr"
        },
        {
          "output_type": "stream",
          "text": [
            "No Holding Back + No Second Chances Kate Evangelista\n"
          ],
          "name": "stdout"
        },
        {
          "output_type": "stream",
          "text": [
            "\r 92%|█████████▏| 184/200 [05:39<00:24,  1.55s/it]"
          ],
          "name": "stderr"
        },
        {
          "output_type": "stream",
          "text": [
            "error:  No Holding Back + No Second Chances Kate Evangelista\n",
            "The Boyfriend Bracket Kate Evangelista\n"
          ],
          "name": "stdout"
        },
        {
          "output_type": "stream",
          "text": [
            "\r 92%|█████████▎| 185/200 [05:40<00:19,  1.31s/it]"
          ],
          "name": "stderr"
        },
        {
          "output_type": "stream",
          "text": [
            "Ash Princess Laura Sebastian\n"
          ],
          "name": "stdout"
        },
        {
          "output_type": "stream",
          "text": [
            "\r 93%|█████████▎| 186/200 [05:43<00:24,  1.77s/it]"
          ],
          "name": "stderr"
        },
        {
          "output_type": "stream",
          "text": [
            "Crystal Wing Academy Series Marty Mayberry\n"
          ],
          "name": "stdout"
        },
        {
          "output_type": "stream",
          "text": [
            "\r 94%|█████████▎| 187/200 [05:44<00:19,  1.50s/it]"
          ],
          "name": "stderr"
        },
        {
          "output_type": "stream",
          "text": [
            "All of Us With Wings Michelle Ruiz  Keil\n"
          ],
          "name": "stdout"
        },
        {
          "output_type": "stream",
          "text": [
            "\r 94%|█████████▍| 188/200 [05:45<00:15,  1.31s/it]"
          ],
          "name": "stderr"
        },
        {
          "output_type": "stream",
          "text": [
            "An Infinite Number of Parallel Universes Randy Ribay\n"
          ],
          "name": "stdout"
        },
        {
          "output_type": "stream",
          "text": [
            "\r 94%|█████████▍| 189/200 [05:46<00:12,  1.17s/it]"
          ],
          "name": "stderr"
        },
        {
          "output_type": "stream",
          "text": [
            "After the Shot Drops Randy Ribay\n"
          ],
          "name": "stdout"
        },
        {
          "output_type": "stream",
          "text": [
            "\r 95%|█████████▌| 190/200 [05:46<00:10,  1.06s/it]"
          ],
          "name": "stderr"
        },
        {
          "output_type": "stream",
          "text": [
            "Patron Saints of Nothing Randy Ribay\n"
          ],
          "name": "stdout"
        },
        {
          "output_type": "stream",
          "text": [
            "\r 96%|█████████▌| 191/200 [05:47<00:09,  1.06s/it]"
          ],
          "name": "stderr"
        },
        {
          "output_type": "stream",
          "text": [
            "This Beats Perfect Rebecca Denton\n"
          ],
          "name": "stdout"
        },
        {
          "output_type": "stream",
          "text": [
            "\r 96%|█████████▌| 192/200 [05:51<00:13,  1.70s/it]"
          ],
          "name": "stderr"
        },
        {
          "output_type": "stream",
          "text": [
            "The Kaleidoscope Sisters Ronnie K. Stephens\n"
          ],
          "name": "stdout"
        },
        {
          "output_type": "stream",
          "text": [
            "\r 96%|█████████▋| 193/200 [05:52<00:10,  1.51s/it]"
          ],
          "name": "stderr"
        },
        {
          "output_type": "stream",
          "text": [
            "Scrapple Siân Griffiths\n"
          ],
          "name": "stdout"
        },
        {
          "output_type": "stream",
          "text": [
            "\r 97%|█████████▋| 194/200 [05:53<00:07,  1.30s/it]"
          ],
          "name": "stderr"
        },
        {
          "output_type": "stream",
          "text": [
            "Jackaby William Ritter\n"
          ],
          "name": "stdout"
        },
        {
          "output_type": "stream",
          "text": [
            "\r 98%|█████████▊| 195/200 [05:57<00:11,  2.26s/it]"
          ],
          "name": "stderr"
        },
        {
          "output_type": "stream",
          "text": [
            "Oddmire William Ritter\n"
          ],
          "name": "stdout"
        },
        {
          "output_type": "stream",
          "text": [
            "\r 98%|█████████▊| 196/200 [05:59<00:08,  2.19s/it]"
          ],
          "name": "stderr"
        },
        {
          "output_type": "stream",
          "text": [
            "nan\n"
          ],
          "name": "stdout"
        },
        {
          "output_type": "stream",
          "text": [
            "\r 98%|█████████▊| 197/200 [06:13<00:17,  5.70s/it]"
          ],
          "name": "stderr"
        },
        {
          "output_type": "stream",
          "text": [
            "nan\n"
          ],
          "name": "stdout"
        },
        {
          "output_type": "stream",
          "text": [
            "\r 99%|█████████▉| 198/200 [06:27<00:16,  8.09s/it]"
          ],
          "name": "stderr"
        },
        {
          "output_type": "stream",
          "text": [
            "It Started With Goodbye Christina June\n"
          ],
          "name": "stdout"
        },
        {
          "output_type": "stream",
          "text": [
            "\r100%|█████████▉| 199/200 [06:28<00:05,  5.97s/it]"
          ],
          "name": "stderr"
        },
        {
          "output_type": "stream",
          "text": [
            "What if It's Us Adam Silvera\n"
          ],
          "name": "stdout"
        },
        {
          "output_type": "stream",
          "text": [
            "100%|██████████| 200/200 [06:29<00:00,  1.95s/it]\n"
          ],
          "name": "stderr"
        },
        {
          "output_type": "display_data",
          "data": {
            "application/javascript": [
              "\n",
              "    async function download(id, filename, size) {\n",
              "      if (!google.colab.kernel.accessAllowed) {\n",
              "        return;\n",
              "      }\n",
              "      const div = document.createElement('div');\n",
              "      const label = document.createElement('label');\n",
              "      label.textContent = `Downloading \"${filename}\": `;\n",
              "      div.appendChild(label);\n",
              "      const progress = document.createElement('progress');\n",
              "      progress.max = size;\n",
              "      div.appendChild(progress);\n",
              "      document.body.appendChild(div);\n",
              "\n",
              "      const buffers = [];\n",
              "      let downloaded = 0;\n",
              "\n",
              "      const channel = await google.colab.kernel.comms.open(id);\n",
              "      // Send a message to notify the kernel that we're ready.\n",
              "      channel.send({})\n",
              "\n",
              "      for await (const message of channel.messages) {\n",
              "        // Send a message to notify the kernel that we're ready.\n",
              "        channel.send({})\n",
              "        if (message.buffers) {\n",
              "          for (const buffer of message.buffers) {\n",
              "            buffers.push(buffer);\n",
              "            downloaded += buffer.byteLength;\n",
              "            progress.value = downloaded;\n",
              "          }\n",
              "        }\n",
              "      }\n",
              "      const blob = new Blob(buffers, {type: 'application/binary'});\n",
              "      const a = document.createElement('a');\n",
              "      a.href = window.URL.createObjectURL(blob);\n",
              "      a.download = filename;\n",
              "      div.appendChild(a);\n",
              "      a.click();\n",
              "      div.remove();\n",
              "    }\n",
              "  "
            ],
            "text/plain": [
              "<IPython.core.display.Javascript object>"
            ]
          },
          "metadata": {
            "tags": []
          }
        },
        {
          "output_type": "display_data",
          "data": {
            "application/javascript": [
              "download(\"download_9ab98303-62ca-4ad8-bf2d-a647364666f7\", \"goodreads_data_1.csv\", 65978)"
            ],
            "text/plain": [
              "<IPython.core.display.Javascript object>"
            ]
          },
          "metadata": {
            "tags": []
          }
        },
        {
          "output_type": "stream",
          "text": [
            "\r  0%|          | 0/200 [00:00<?, ?it/s]"
          ],
          "name": "stderr"
        },
        {
          "output_type": "stream",
          "text": [
            "Suffer Love Ashley Herring Blake\n"
          ],
          "name": "stdout"
        },
        {
          "output_type": "stream",
          "text": [
            "\r  0%|          | 1/200 [00:01<03:54,  1.18s/it]"
          ],
          "name": "stderr"
        },
        {
          "output_type": "stream",
          "text": [
            "How to Make a Wish, Girl Made of Stars Ashley Herring Blake\n"
          ],
          "name": "stdout"
        },
        {
          "output_type": "stream",
          "text": [
            "\r  1%|          | 2/200 [00:01<02:57,  1.12it/s]"
          ],
          "name": "stderr"
        },
        {
          "output_type": "stream",
          "text": [
            "error:  How to Make a Wish, Girl Made of Stars Ashley Herring Blake\n",
            "Simon vs. The Homo Sapiens Agenda Becky Albertalli\n"
          ],
          "name": "stdout"
        },
        {
          "output_type": "stream",
          "text": [
            "\r  2%|▏         | 3/200 [00:05<05:49,  1.78s/it]"
          ],
          "name": "stderr"
        },
        {
          "output_type": "stream",
          "text": [
            "The Upside of Unrequited Becky Albertalli\n"
          ],
          "name": "stdout"
        },
        {
          "output_type": "stream",
          "text": [
            "\r  2%|▏         | 4/200 [00:06<05:34,  1.71s/it]"
          ],
          "name": "stderr"
        },
        {
          "output_type": "stream",
          "text": [
            "Leah on the Offbeat Becky Albertalli\n"
          ],
          "name": "stdout"
        },
        {
          "output_type": "stream",
          "text": [
            "\r  2%|▎         | 5/200 [00:08<05:22,  1.65s/it]"
          ],
          "name": "stderr"
        },
        {
          "output_type": "stream",
          "text": [
            "Kate in Waiting Becky Albertalli\n"
          ],
          "name": "stdout"
        },
        {
          "output_type": "stream",
          "text": [
            "\r  3%|▎         | 6/200 [00:09<04:29,  1.39s/it]"
          ],
          "name": "stderr"
        },
        {
          "output_type": "stream",
          "text": [
            "Love Creekwood Becky Albertalli\n"
          ],
          "name": "stdout"
        },
        {
          "output_type": "stream",
          "text": [
            "\r  4%|▎         | 7/200 [00:09<03:54,  1.21s/it]"
          ],
          "name": "stderr"
        },
        {
          "output_type": "stream",
          "text": [
            "What if It's Us Becky Albertalli\n"
          ],
          "name": "stdout"
        },
        {
          "output_type": "stream",
          "text": [
            "\r  4%|▍         | 8/200 [00:11<04:16,  1.33s/it]"
          ],
          "name": "stderr"
        },
        {
          "output_type": "stream",
          "text": [
            "Dessert First Dean Gloster\n"
          ],
          "name": "stdout"
        },
        {
          "output_type": "stream",
          "text": [
            "\r  4%|▍         | 9/200 [00:12<03:45,  1.18s/it]"
          ],
          "name": "stderr"
        },
        {
          "output_type": "stream",
          "text": [
            "War & Speech Don Zolidis\n"
          ],
          "name": "stdout"
        },
        {
          "output_type": "stream",
          "text": [
            "\r  5%|▌         | 10/200 [00:13<03:24,  1.07s/it]"
          ],
          "name": "stderr"
        },
        {
          "output_type": "stream",
          "text": [
            "Seven Torments of Amy and Craig Don Zolidis\n"
          ],
          "name": "stdout"
        },
        {
          "output_type": "stream",
          "text": [
            "\r  6%|▌         | 11/200 [00:14<03:30,  1.11s/it]"
          ],
          "name": "stderr"
        },
        {
          "output_type": "stream",
          "text": [
            "Rebel Girls Elizabeth Keenan\n"
          ],
          "name": "stdout"
        },
        {
          "output_type": "stream",
          "text": [
            "\r  6%|▌         | 12/200 [00:15<03:14,  1.03s/it]"
          ],
          "name": "stderr"
        },
        {
          "output_type": "stream",
          "text": [
            "The Art of Escaping Erin Callahan\n"
          ],
          "name": "stdout"
        },
        {
          "output_type": "stream",
          "text": [
            "\r  6%|▋         | 13/200 [00:16<03:05,  1.01it/s]"
          ],
          "name": "stderr"
        },
        {
          "output_type": "stream",
          "text": [
            "12 Steps to Normal Farrah Penn\n"
          ],
          "name": "stdout"
        },
        {
          "output_type": "stream",
          "text": [
            "\r  7%|▋         | 14/200 [00:16<02:54,  1.06it/s]"
          ],
          "name": "stderr"
        },
        {
          "output_type": "stream",
          "text": [
            "Layoverland Gabby Noone\n"
          ],
          "name": "stdout"
        },
        {
          "output_type": "stream",
          "text": [
            "\r  8%|▊         | 15/200 [00:17<02:41,  1.15it/s]"
          ],
          "name": "stderr"
        },
        {
          "output_type": "stream",
          "text": [
            "Social Intercourse Greg Howard\n"
          ],
          "name": "stdout"
        },
        {
          "output_type": "stream",
          "text": [
            "\r  8%|▊         | 16/200 [00:18<02:38,  1.16it/s]"
          ],
          "name": "stderr"
        },
        {
          "output_type": "stream",
          "text": [
            "The Life and Times of Kit Sweetly, Lucky Girl Jamie Pacton\n"
          ],
          "name": "stdout"
        },
        {
          "output_type": "stream",
          "text": [
            "\r  8%|▊         | 17/200 [00:18<02:02,  1.49it/s]"
          ],
          "name": "stderr"
        },
        {
          "output_type": "stream",
          "text": [
            "error:  The Life and Times of Kit Sweetly, Lucky Girl Jamie Pacton\n",
            "Cursed Karol Ruth Silverstein\n"
          ],
          "name": "stdout"
        },
        {
          "output_type": "stream",
          "text": [
            "\r  9%|▉         | 18/200 [00:19<02:07,  1.43it/s]"
          ],
          "name": "stderr"
        },
        {
          "output_type": "stream",
          "text": [
            "Wing Jones Katherine Webber\n"
          ],
          "name": "stdout"
        },
        {
          "output_type": "stream",
          "text": [
            "\r 10%|▉         | 19/200 [00:20<02:10,  1.38it/s]"
          ],
          "name": "stderr"
        },
        {
          "output_type": "stream",
          "text": [
            "The Free Lauren McLaughlin\n"
          ],
          "name": "stdout"
        },
        {
          "output_type": "stream",
          "text": [
            "\r 10%|█         | 20/200 [00:21<02:35,  1.16it/s]"
          ],
          "name": "stderr"
        },
        {
          "output_type": "stream",
          "text": [
            "Send Pics Lauren McLaughlin\n"
          ],
          "name": "stdout"
        },
        {
          "output_type": "stream",
          "text": [
            "\r 10%|█         | 21/200 [00:22<02:47,  1.07it/s]"
          ],
          "name": "stderr"
        },
        {
          "output_type": "stream",
          "text": [
            "My Summer of Love and Misfortune Lindsay Wong\n"
          ],
          "name": "stdout"
        },
        {
          "output_type": "stream",
          "text": [
            "\r 11%|█         | 22/200 [00:23<02:39,  1.12it/s]"
          ],
          "name": "stderr"
        },
        {
          "output_type": "stream",
          "text": [
            "The Big F Maggie Ann Martin\n"
          ],
          "name": "stdout"
        },
        {
          "output_type": "stream",
          "text": [
            "\r 12%|█▏        | 23/200 [00:24<02:57,  1.00s/it]"
          ],
          "name": "stderr"
        },
        {
          "output_type": "stream",
          "text": [
            "To Be Honest Maggie Ann Martin\n"
          ],
          "name": "stdout"
        },
        {
          "output_type": "stream",
          "text": [
            "\r 12%|█▏        | 24/200 [00:25<02:45,  1.06it/s]"
          ],
          "name": "stderr"
        },
        {
          "output_type": "stream",
          "text": [
            "Color Me In Natasha Diaz\n"
          ],
          "name": "stdout"
        },
        {
          "output_type": "stream",
          "text": [
            " 13%|█▎        | 26/200 [00:26<02:05,  1.39it/s]"
          ],
          "name": "stderr"
        },
        {
          "output_type": "stream",
          "text": [
            "WHAT WE LEFT BEHIND and OUR OWN PRIVATE UNIVERSE Robin Talley\n",
            "error:  WHAT WE LEFT BEHIND and OUR OWN PRIVATE UNIVERSE Robin Talley\n",
            "The Year I Learned Everything Roxane Gay\n"
          ],
          "name": "stdout"
        },
        {
          "output_type": "stream",
          "text": [
            "\r 14%|█▎        | 27/200 [00:27<02:19,  1.24it/s]"
          ],
          "name": "stderr"
        },
        {
          "output_type": "stream",
          "text": [
            "Tell Me Everything Sarah Enni\n"
          ],
          "name": "stdout"
        },
        {
          "output_type": "stream",
          "text": [
            "\r 14%|█▍        | 28/200 [00:28<02:19,  1.23it/s]"
          ],
          "name": "stderr"
        },
        {
          "output_type": "stream",
          "text": [
            "Done Dirt Cheap Sarah Lemon\n"
          ],
          "name": "stdout"
        },
        {
          "output_type": "stream",
          "text": [
            "\r 14%|█▍        | 29/200 [00:29<02:17,  1.24it/s]"
          ],
          "name": "stderr"
        },
        {
          "output_type": "stream",
          "text": [
            "Valley Girls Sarah Lemon\n"
          ],
          "name": "stdout"
        },
        {
          "output_type": "stream",
          "text": [
            "\r 15%|█▌        | 30/200 [00:30<02:20,  1.21it/s]"
          ],
          "name": "stderr"
        },
        {
          "output_type": "stream",
          "text": [
            "Naughty List Suzanne Young\n"
          ],
          "name": "stdout"
        },
        {
          "output_type": "stream",
          "text": [
            "\r 16%|█▌        | 31/200 [00:32<03:25,  1.21s/it]"
          ],
          "name": "stderr"
        },
        {
          "output_type": "stream",
          "text": [
            "Check Please! Ngozi Ukazu\n"
          ],
          "name": "stdout"
        },
        {
          "output_type": "stream",
          "text": [
            "\r 16%|█▌        | 32/200 [00:39<08:17,  2.96s/it]"
          ],
          "name": "stderr"
        },
        {
          "output_type": "stream",
          "text": [
            "A Map to the Sun Sloane Leong\n"
          ],
          "name": "stdout"
        },
        {
          "output_type": "stream",
          "text": [
            "\r 16%|█▋        | 33/200 [00:40<06:26,  2.32s/it]"
          ],
          "name": "stderr"
        },
        {
          "output_type": "stream",
          "text": [
            "Traitor Amanda McCrina\n"
          ],
          "name": "stdout"
        },
        {
          "output_type": "stream",
          "text": [
            "\r 17%|█▋        | 34/200 [00:40<05:13,  1.89s/it]"
          ],
          "name": "stderr"
        },
        {
          "output_type": "stream",
          "text": [
            "The Weight of Our Sky Hanna Alkaf\n"
          ],
          "name": "stdout"
        },
        {
          "output_type": "stream",
          "text": [
            "\r 18%|█▊        | 35/200 [00:41<04:20,  1.58s/it]"
          ],
          "name": "stderr"
        },
        {
          "output_type": "stream",
          "text": [
            "Lies We Tell Ourselves Robin Talley\n"
          ],
          "name": "stdout"
        },
        {
          "output_type": "stream",
          "text": [
            " 18%|█▊        | 37/200 [00:42<02:42,  1.01it/s]"
          ],
          "name": "stderr"
        },
        {
          "output_type": "stream",
          "text": [
            "PULP and MUSIC FROM ANOTHER WORLD Robin Talley\n",
            "error:  PULP and MUSIC FROM ANOTHER WORLD Robin Talley\n",
            "A Golden Fury + 1 More Samantha Cohoe\n"
          ],
          "name": "stdout"
        },
        {
          "output_type": "stream",
          "text": [
            "\r 19%|█▉        | 38/200 [00:42<02:04,  1.31it/s]"
          ],
          "name": "stderr"
        },
        {
          "output_type": "stream",
          "text": [
            "error:  A Golden Fury + 1 More Samantha Cohoe\n",
            "Here There Are Monsters + The Dark Beneath the Ice Amelinda Bérubé\n"
          ],
          "name": "stdout"
        },
        {
          "output_type": "stream",
          "text": [
            "\r 20%|█▉        | 39/200 [00:43<01:36,  1.67it/s]"
          ],
          "name": "stderr"
        },
        {
          "output_type": "stream",
          "text": [
            "error:  Here There Are Monsters + The Dark Beneath the Ice Amelinda Bérubé\n",
            "WHAT BIG TEETH Rose Szabo\n"
          ],
          "name": "stdout"
        },
        {
          "output_type": "stream",
          "text": [
            "\r 20%|██        | 40/200 [00:43<01:42,  1.56it/s]"
          ],
          "name": "stderr"
        },
        {
          "output_type": "stream",
          "text": [
            "This Is Why They Hate Us Aaron H. Aceves\n"
          ],
          "name": "stdout"
        },
        {
          "output_type": "stream",
          "text": [
            "\r 20%|██        | 41/200 [00:44<01:56,  1.36it/s]"
          ],
          "name": "stderr"
        },
        {
          "output_type": "stream",
          "text": [
            "Sister Mischief Laura Goode\n"
          ],
          "name": "stdout"
        },
        {
          "output_type": "stream",
          "text": [
            "\r 21%|██        | 42/200 [00:45<02:01,  1.30it/s]"
          ],
          "name": "stderr"
        },
        {
          "output_type": "stream",
          "text": [
            "Cycler Lauren McLaughlin\n"
          ],
          "name": "stdout"
        },
        {
          "output_type": "stream",
          "text": [
            "\r 22%|██▏       | 43/200 [00:48<03:24,  1.31s/it]"
          ],
          "name": "stderr"
        },
        {
          "output_type": "stream",
          "text": [
            "(Re)Cycler Lauren McLaughlin\n"
          ],
          "name": "stdout"
        },
        {
          "output_type": "stream",
          "text": [
            "\r 22%|██▏       | 44/200 [00:49<03:03,  1.17s/it]"
          ],
          "name": "stderr"
        },
        {
          "output_type": "stream",
          "text": [
            "WHO I WAS WITH HER Nita Tyndall\n"
          ],
          "name": "stdout"
        },
        {
          "output_type": "stream",
          "text": [
            "\r 22%|██▎       | 45/200 [00:49<02:41,  1.04s/it]"
          ],
          "name": "stderr"
        },
        {
          "output_type": "stream",
          "text": [
            "The Birds, the Bees, and You and Me Olivia Hinebaugh\n"
          ],
          "name": "stdout"
        },
        {
          "output_type": "stream",
          "text": [
            "\r 23%|██▎       | 46/200 [00:50<02:30,  1.03it/s]"
          ],
          "name": "stderr"
        },
        {
          "output_type": "stream",
          "text": [
            "Between Perfect and Real Ray Stoeve\n"
          ],
          "name": "stdout"
        },
        {
          "output_type": "stream",
          "text": [
            "\r 24%|██▎       | 47/200 [00:51<02:25,  1.05it/s]"
          ],
          "name": "stderr"
        },
        {
          "output_type": "stream",
          "text": [
            "Heathens and Liars of Lickskillet County  Derek Berry\n"
          ],
          "name": "stdout"
        },
        {
          "output_type": "stream",
          "text": [
            "\r 24%|██▍       | 48/200 [00:52<02:15,  1.13it/s]"
          ],
          "name": "stderr"
        },
        {
          "output_type": "stream",
          "text": [
            "The Opposite of Music Janet Ruth Young\n"
          ],
          "name": "stdout"
        },
        {
          "output_type": "stream",
          "text": [
            "\r 24%|██▍       | 49/200 [00:53<02:10,  1.15it/s]"
          ],
          "name": "stderr"
        },
        {
          "output_type": "stream",
          "text": [
            "The Babysitter Murders/Things I Shouldn't Think Janet Ruth Young\n"
          ],
          "name": "stdout"
        },
        {
          "output_type": "stream",
          "text": [
            "\r 25%|██▌       | 50/200 [00:53<01:41,  1.49it/s]"
          ],
          "name": "stderr"
        },
        {
          "output_type": "stream",
          "text": [
            "error:  The Babysitter Murders/Things I Shouldn't Think Janet Ruth Young\n",
            "My Beautiful Failure Janet Ruth Young\n"
          ],
          "name": "stdout"
        },
        {
          "output_type": "stream",
          "text": [
            "\r 26%|██▌       | 51/200 [00:54<01:56,  1.28it/s]"
          ],
          "name": "stderr"
        },
        {
          "output_type": "stream",
          "text": [
            "Summer in The City of Roses Michelle Ruiz  Keil\n"
          ],
          "name": "stdout"
        },
        {
          "output_type": "stream",
          "text": [
            "\r 26%|██▌       | 52/200 [00:54<01:30,  1.63it/s]"
          ],
          "name": "stderr"
        },
        {
          "output_type": "stream",
          "text": [
            "error:  Summer in The City of Roses Michelle Ruiz  Keil\n",
            "Summer in The City of Roses Michelle Ruiz  Keil\n"
          ],
          "name": "stdout"
        },
        {
          "output_type": "stream",
          "text": [
            " 27%|██▋       | 54/200 [00:55<00:59,  2.47it/s]"
          ],
          "name": "stderr"
        },
        {
          "output_type": "stream",
          "text": [
            "error:  Summer in The City of Roses Michelle Ruiz  Keil\n",
            "Devils Unto Dust, Missing Presumed Dead Emma Berquist\n",
            "error:  Devils Unto Dust, Missing Presumed Dead Emma Berquist\n",
            "Mystery of Hollow Places Rebecca Podos\n"
          ],
          "name": "stdout"
        },
        {
          "output_type": "stream",
          "text": [
            "\r 28%|██▊       | 55/200 [00:55<01:20,  1.80it/s]"
          ],
          "name": "stderr"
        },
        {
          "output_type": "stream",
          "text": [
            "Cemetery Boys Aiden Thomas\n"
          ],
          "name": "stdout"
        },
        {
          "output_type": "stream",
          "text": [
            "\r 28%|██▊       | 56/200 [00:57<01:54,  1.26it/s]"
          ],
          "name": "stderr"
        },
        {
          "output_type": "stream",
          "text": [
            "Born Wicked Jessica Spotswood\n"
          ],
          "name": "stdout"
        },
        {
          "output_type": "stream",
          "text": [
            "\r 28%|██▊       | 57/200 [00:58<01:56,  1.23it/s]"
          ],
          "name": "stderr"
        },
        {
          "output_type": "stream",
          "text": [
            "Bitten Kelley Armstrong\n"
          ],
          "name": "stdout"
        },
        {
          "output_type": "stream",
          "text": [
            "\r 29%|██▉       | 58/200 [01:06<07:26,  3.15s/it]"
          ],
          "name": "stderr"
        },
        {
          "output_type": "stream",
          "text": [
            "A Need So Beautiful Suzanne Young\n"
          ],
          "name": "stdout"
        },
        {
          "output_type": "stream",
          "text": [
            "\r 30%|██▉       | 59/200 [01:08<06:45,  2.88s/it]"
          ],
          "name": "stderr"
        },
        {
          "output_type": "stream",
          "text": [
            "The Henna Wars 1+2 Adiba Jaigirdar\n"
          ],
          "name": "stdout"
        },
        {
          "output_type": "stream",
          "text": [
            "\r 30%|███       | 60/200 [01:09<04:50,  2.08s/it]"
          ],
          "name": "stderr"
        },
        {
          "output_type": "stream",
          "text": [
            "error:  The Henna Wars 1+2 Adiba Jaigirdar\n",
            "Icebreaker Al Graziadei\n"
          ],
          "name": "stdout"
        },
        {
          "output_type": "stream",
          "text": [
            "\r 30%|███       | 61/200 [01:09<03:52,  1.67s/it]"
          ],
          "name": "stderr"
        },
        {
          "output_type": "stream",
          "text": [
            "The Quantum Weirdness of the Almost-Kiss Amy Noelle Parks\n"
          ],
          "name": "stdout"
        },
        {
          "output_type": "stream",
          "text": [
            "\r 31%|███       | 62/200 [01:10<03:24,  1.48s/it]"
          ],
          "name": "stderr"
        },
        {
          "output_type": "stream",
          "text": [
            "LAST YEAR'S MISTAKE Gina Ciocca\n"
          ],
          "name": "stdout"
        },
        {
          "output_type": "stream",
          "text": [
            "\r 32%|███▏      | 63/200 [01:11<03:02,  1.33s/it]"
          ],
          "name": "stderr"
        },
        {
          "output_type": "stream",
          "text": [
            "Up to this Pointe Jennifer Longo\n"
          ],
          "name": "stdout"
        },
        {
          "output_type": "stream",
          "text": [
            "\r 32%|███▏      | 64/200 [01:12<02:44,  1.21s/it]"
          ],
          "name": "stderr"
        },
        {
          "output_type": "stream",
          "text": [
            "Don't Date Rosa Santos Nina Moreno\n"
          ],
          "name": "stdout"
        },
        {
          "output_type": "stream",
          "text": [
            "\r 32%|███▎      | 65/200 [01:13<02:28,  1.10s/it]"
          ],
          "name": "stderr"
        },
        {
          "output_type": "stream",
          "text": [
            "Our Way Back to Always Nina Moreno\n"
          ],
          "name": "stdout"
        },
        {
          "output_type": "stream",
          "text": [
            "\r 33%|███▎      | 66/200 [01:14<02:12,  1.02it/s]"
          ],
          "name": "stderr"
        },
        {
          "output_type": "stream",
          "text": [
            "If You Only Knew Prerna Pickett\n"
          ],
          "name": "stdout"
        },
        {
          "output_type": "stream",
          "text": [
            "\r 34%|███▎      | 67/200 [01:15<02:07,  1.05it/s]"
          ],
          "name": "stderr"
        },
        {
          "output_type": "stream",
          "text": [
            "Throw Like A Girl Sarah Henning\n"
          ],
          "name": "stdout"
        },
        {
          "output_type": "stream",
          "text": [
            "\r 34%|███▍      | 68/200 [01:16<02:00,  1.09it/s]"
          ],
          "name": "stderr"
        },
        {
          "output_type": "stream",
          "text": [
            "Delicate  Steph Campbell\n"
          ],
          "name": "stdout"
        },
        {
          "output_type": "stream",
          "text": [
            "\r 34%|███▍      | 69/200 [01:17<02:28,  1.13s/it]"
          ],
          "name": "stderr"
        },
        {
          "output_type": "stream",
          "text": [
            "Grounding Quinn Steph Campbell\n"
          ],
          "name": "stdout"
        },
        {
          "output_type": "stream",
          "text": [
            "\r 35%|███▌      | 70/200 [01:18<02:15,  1.04s/it]"
          ],
          "name": "stderr"
        },
        {
          "output_type": "stream",
          "text": [
            "TEMPEST trilogy Julie Cross\n"
          ],
          "name": "stdout"
        },
        {
          "output_type": "stream",
          "text": [
            " 36%|███▌      | 72/200 [01:19<01:38,  1.31it/s]"
          ],
          "name": "stderr"
        },
        {
          "output_type": "stream",
          "text": [
            "---- ----\n",
            "error:  ---- ----\n",
            "*omitted* *omitted*\n"
          ],
          "name": "stdout"
        },
        {
          "output_type": "stream",
          "text": [
            " 37%|███▋      | 74/200 [01:31<05:55,  2.83s/it]"
          ],
          "name": "stderr"
        },
        {
          "output_type": "stream",
          "text": [
            "Angel Radio A M Blaushild\n",
            "error:  Angel Radio A M Blaushild\n",
            "Scarlet AC Gaughen\n"
          ],
          "name": "stdout"
        },
        {
          "output_type": "stream",
          "text": [
            "\r 38%|███▊      | 75/200 [01:33<05:27,  2.62s/it]"
          ],
          "name": "stderr"
        },
        {
          "output_type": "stream",
          "text": [
            "Lady Thief and Lion Heart AC Gaughen\n"
          ],
          "name": "stdout"
        },
        {
          "output_type": "stream",
          "text": [
            " 38%|███▊      | 77/200 [01:33<02:50,  1.39s/it]"
          ],
          "name": "stderr"
        },
        {
          "output_type": "stream",
          "text": [
            "error:  Lady Thief and Lion Heart AC Gaughen\n",
            "Reign the Earth and Imprison the Sky AC Gaughen\n",
            "error:  Reign the Earth and Imprison the Sky AC Gaughen\n",
            "Proxy Alex London\n"
          ],
          "name": "stdout"
        },
        {
          "output_type": "stream",
          "text": [
            "\r 39%|███▉      | 78/200 [01:36<03:47,  1.87s/it]"
          ],
          "name": "stderr"
        },
        {
          "output_type": "stream",
          "text": [
            "Black Wings Beating Alex London\n"
          ],
          "name": "stdout"
        },
        {
          "output_type": "stream",
          "text": [
            "\r 40%|███▉      | 79/200 [01:37<03:07,  1.55s/it]"
          ],
          "name": "stderr"
        },
        {
          "output_type": "stream",
          "text": [
            "The Dark Tide Alicia Jasinska\n"
          ],
          "name": "stdout"
        },
        {
          "output_type": "stream",
          "text": [
            "\r 40%|████      | 80/200 [01:38<02:40,  1.34s/it]"
          ],
          "name": "stderr"
        },
        {
          "output_type": "stream",
          "text": [
            "Daughter of the Burning City Amanda Foody\n"
          ],
          "name": "stdout"
        },
        {
          "output_type": "stream",
          "text": [
            "\r 40%|████      | 81/200 [01:39<02:17,  1.16s/it]"
          ],
          "name": "stderr"
        },
        {
          "output_type": "stream",
          "text": [
            "Ace of Shades Amanda Foody\n"
          ],
          "name": "stdout"
        },
        {
          "output_type": "stream",
          "text": [
            "\r 41%|████      | 82/200 [01:40<02:07,  1.08s/it]"
          ],
          "name": "stderr"
        },
        {
          "output_type": "stream",
          "text": [
            "King of Fools Amanda Foody\n"
          ],
          "name": "stdout"
        },
        {
          "output_type": "stream",
          "text": [
            "\r 42%|████▏     | 83/200 [01:40<01:55,  1.01it/s]"
          ],
          "name": "stderr"
        },
        {
          "output_type": "stream",
          "text": [
            "Queen of Volts Amanda Foody\n"
          ],
          "name": "stdout"
        },
        {
          "output_type": "stream",
          "text": [
            "\r 42%|████▏     | 84/200 [01:41<01:49,  1.06it/s]"
          ],
          "name": "stderr"
        },
        {
          "output_type": "stream",
          "text": [
            "A River of Royal Blood  Amanda Joy\n"
          ],
          "name": "stdout"
        },
        {
          "output_type": "stream",
          "text": [
            "\r 42%|████▎     | 85/200 [01:43<02:04,  1.09s/it]"
          ],
          "name": "stderr"
        },
        {
          "output_type": "stream",
          "text": [
            "The Fire Wish Amber Lough\n"
          ],
          "name": "stdout"
        },
        {
          "output_type": "stream",
          "text": [
            "\r 43%|████▎     | 86/200 [01:44<02:02,  1.07s/it]"
          ],
          "name": "stderr"
        },
        {
          "output_type": "stream",
          "text": [
            "The Blind Wish Amber Lough\n"
          ],
          "name": "stdout"
        },
        {
          "output_type": "stream",
          "text": [
            "\r 44%|████▎     | 87/200 [01:45<01:53,  1.01s/it]"
          ],
          "name": "stderr"
        },
        {
          "output_type": "stream",
          "text": [
            "Open Fire Amber Lough\n"
          ],
          "name": "stdout"
        },
        {
          "output_type": "stream",
          "text": [
            "\r 44%|████▍     | 88/200 [01:46<01:56,  1.04s/it]"
          ],
          "name": "stderr"
        },
        {
          "output_type": "stream",
          "text": [
            "Now That You’re Here Amy Nichols\n"
          ],
          "name": "stdout"
        },
        {
          "output_type": "stream",
          "text": [
            "\r 44%|████▍     | 89/200 [01:47<01:55,  1.04s/it]"
          ],
          "name": "stderr"
        },
        {
          "output_type": "stream",
          "text": [
            "Royal Bastards Andrew Shvarts\n"
          ],
          "name": "stdout"
        },
        {
          "output_type": "stream",
          "text": [
            "\r 45%|████▌     | 90/200 [01:49<02:35,  1.42s/it]"
          ],
          "name": "stderr"
        },
        {
          "output_type": "stream",
          "text": [
            "It Ends in Fire Andrew Shvarts\n"
          ],
          "name": "stdout"
        },
        {
          "output_type": "stream",
          "text": [
            " 46%|████▌     | 92/200 [01:50<01:47,  1.01it/s]"
          ],
          "name": "stderr"
        },
        {
          "output_type": "stream",
          "text": [
            "Beyond the Red Ava Jae (now Gabe Cole)\n",
            "error:  Beyond the Red Ava Jae (now Gabe Cole)\n",
            "Into the Black, The Rising Gold Ava Jae (now Gabe Cole)\n"
          ],
          "name": "stdout"
        },
        {
          "output_type": "stream",
          "text": [
            " 47%|████▋     | 94/200 [01:51<01:02,  1.69it/s]"
          ],
          "name": "stderr"
        },
        {
          "output_type": "stream",
          "text": [
            "error:  Into the Black, The Rising Gold Ava Jae (now Gabe Cole)\n",
            "YA FANTASY TRILOGY Brown Person\n",
            "error:  YA FANTASY TRILOGY Brown Person\n",
            "Rewind Carolyn ODoherty\n"
          ],
          "name": "stdout"
        },
        {
          "output_type": "stream",
          "text": [
            "\r 48%|████▊     | 95/200 [01:52<01:29,  1.17it/s]"
          ],
          "name": "stderr"
        },
        {
          "output_type": "stream",
          "text": [
            "The Devouring Grey Christine Lynn Herman\n"
          ],
          "name": "stdout"
        },
        {
          "output_type": "stream",
          "text": [
            "\r 48%|████▊     | 96/200 [01:52<01:09,  1.50it/s]"
          ],
          "name": "stderr"
        },
        {
          "output_type": "stream",
          "text": [
            "error:  The Devouring Grey Christine Lynn Herman\n",
            "Silver Phoenix Cindy Pon\n"
          ],
          "name": "stdout"
        },
        {
          "output_type": "stream",
          "text": [
            "\r 48%|████▊     | 97/200 [01:54<01:38,  1.04it/s]"
          ],
          "name": "stderr"
        },
        {
          "output_type": "stream",
          "text": [
            "Serpentine Cindy Pon\n"
          ],
          "name": "stdout"
        },
        {
          "output_type": "stream",
          "text": [
            "\r 49%|████▉     | 98/200 [01:56<02:05,  1.23s/it]"
          ],
          "name": "stderr"
        },
        {
          "output_type": "stream",
          "text": [
            "Want Cindy Pon\n"
          ],
          "name": "stdout"
        },
        {
          "output_type": "stream",
          "text": [
            "\r 50%|████▉     | 99/200 [01:57<02:12,  1.31s/it]"
          ],
          "name": "stderr"
        },
        {
          "output_type": "stream",
          "text": [
            "We Were Restless Things + 1 More Cole Nagamatsu\n"
          ],
          "name": "stdout"
        },
        {
          "output_type": "stream",
          "text": [
            "\r 50%|█████     | 100/200 [01:58<01:40,  1.01s/it]"
          ],
          "name": "stderr"
        },
        {
          "output_type": "stream",
          "text": [
            "error:  We Were Restless Things + 1 More Cole Nagamatsu\n",
            "Strange Days Constantine Singer\n"
          ],
          "name": "stdout"
        },
        {
          "output_type": "stream",
          "text": [
            "\r 50%|█████     | 101/200 [01:58<01:31,  1.09it/s]"
          ],
          "name": "stderr"
        },
        {
          "output_type": "stream",
          "text": [
            "Otherbound Corinne Duyvis\n"
          ],
          "name": "stdout"
        },
        {
          "output_type": "stream",
          "text": [
            "\r 51%|█████     | 102/200 [01:59<01:32,  1.06it/s]"
          ],
          "name": "stderr"
        },
        {
          "output_type": "stream",
          "text": [
            "On the Edge of Gone Corinne Duyvis\n"
          ],
          "name": "stdout"
        },
        {
          "output_type": "stream",
          "text": [
            "\r 52%|█████▏    | 103/200 [02:00<01:28,  1.10it/s]"
          ],
          "name": "stderr"
        },
        {
          "output_type": "stream",
          "text": [
            "The Art of Saving the World Corinne Duyvis\n"
          ],
          "name": "stdout"
        },
        {
          "output_type": "stream",
          "text": [
            "\r 52%|█████▏    | 104/200 [02:01<01:29,  1.08it/s]"
          ],
          "name": "stderr"
        },
        {
          "output_type": "stream",
          "text": [
            "Garza Twins, Feathered Serpent, Dark Heart of Sky, The Call Me Guero David Bowles\n"
          ],
          "name": "stdout"
        },
        {
          "output_type": "stream",
          "text": [
            "\r 52%|█████▎    | 105/200 [02:01<01:08,  1.39it/s]"
          ],
          "name": "stderr"
        },
        {
          "output_type": "stream",
          "text": [
            "error:  Garza Twins, Feathered Serpent, Dark Heart of Sky, The Call Me Guero David Bowles\n",
            "Clockwork Curandera David Bowles\n"
          ],
          "name": "stdout"
        },
        {
          "output_type": "stream",
          "text": [
            " 54%|█████▎    | 107/200 [02:02<00:42,  2.20it/s]"
          ],
          "name": "stderr"
        },
        {
          "output_type": "stream",
          "text": [
            "error:  Clockwork Curandera David Bowles\n",
            "13th Street Series David Bowles\n",
            "error:  13th Street Series David Bowles\n",
            "Chupacabras David Bowles\n"
          ],
          "name": "stdout"
        },
        {
          "output_type": "stream",
          "text": [
            " 55%|█████▍    | 109/200 [02:04<01:03,  1.43it/s]"
          ],
          "name": "stderr"
        },
        {
          "output_type": "stream",
          "text": [
            "My Two Border Towns David Bowles\n",
            "error:  My Two Border Towns David Bowles\n",
            "The Belles Dhonielle Clayton\n"
          ],
          "name": "stdout"
        },
        {
          "output_type": "stream",
          "text": [
            "\r 55%|█████▌    | 110/200 [02:06<01:27,  1.03it/s]"
          ],
          "name": "stderr"
        },
        {
          "output_type": "stream",
          "text": [
            "Story of Owen E. K. Johnston\n"
          ],
          "name": "stdout"
        },
        {
          "output_type": "stream",
          "text": [
            "\r 56%|█████▌    | 111/200 [02:07<01:41,  1.14s/it]"
          ],
          "name": "stderr"
        },
        {
          "output_type": "stream",
          "text": [
            "Prairie Fire E. K. Johnston\n"
          ],
          "name": "stdout"
        },
        {
          "output_type": "stream",
          "text": [
            " 56%|█████▋    | 113/200 [02:08<01:08,  1.26it/s]"
          ],
          "name": "stderr"
        },
        {
          "output_type": "stream",
          "text": [
            "Exit Pursued, Inevitable Victorian E. K. Johnston\n",
            "error:  Exit Pursued, Inevitable Victorian E. K. Johnston\n",
            "Afterward E. K. Johnston\n"
          ],
          "name": "stdout"
        },
        {
          "output_type": "stream",
          "text": [
            "\r 57%|█████▋    | 114/200 [02:09<01:12,  1.19it/s]"
          ],
          "name": "stderr"
        },
        {
          "output_type": "stream",
          "text": [
            "Prophecy Ellen Oh\n"
          ],
          "name": "stdout"
        },
        {
          "output_type": "stream",
          "text": [
            "\r 57%|█████▊    | 115/200 [02:10<01:14,  1.15it/s]"
          ],
          "name": "stderr"
        },
        {
          "output_type": "stream",
          "text": [
            "The Abyss Surrounds Us Emily Skrutskie\n"
          ],
          "name": "stdout"
        },
        {
          "output_type": "stream",
          "text": [
            "\r 58%|█████▊    | 116/200 [02:12<01:46,  1.27s/it]"
          ],
          "name": "stderr"
        },
        {
          "output_type": "stream",
          "text": [
            "Hullmetal Girls Emily Skrutskie\n"
          ],
          "name": "stdout"
        },
        {
          "output_type": "stream",
          "text": [
            "\r 58%|█████▊    | 117/200 [02:13<01:33,  1.13s/it]"
          ],
          "name": "stderr"
        },
        {
          "output_type": "stream",
          "text": [
            "Zero Repeat Forever G. S. Prendergast\n"
          ],
          "name": "stdout"
        },
        {
          "output_type": "stream",
          "text": [
            "\r 59%|█████▉    | 118/200 [02:14<01:33,  1.14s/it]"
          ],
          "name": "stderr"
        },
        {
          "output_type": "stream",
          "text": [
            "Sea Heidi Kling\n"
          ],
          "name": "stdout"
        },
        {
          "output_type": "stream",
          "text": [
            "\r 60%|█████▉    | 119/200 [02:16<01:37,  1.20s/it]"
          ],
          "name": "stderr"
        },
        {
          "output_type": "stream",
          "text": [
            "Tithe Holly Black\n"
          ],
          "name": "stdout"
        },
        {
          "output_type": "stream",
          "text": [
            "\r 60%|██████    | 120/200 [02:17<01:44,  1.31s/it]"
          ],
          "name": "stderr"
        },
        {
          "output_type": "stream",
          "text": [
            "LINKED + Sequel Imogen Howson\n"
          ],
          "name": "stdout"
        },
        {
          "output_type": "stream",
          "text": [
            "\r 60%|██████    | 121/200 [02:17<01:18,  1.01it/s]"
          ],
          "name": "stderr"
        },
        {
          "output_type": "stream",
          "text": [
            "error:  LINKED + Sequel Imogen Howson\n",
            "These Witches Don’t Burn & This Coven Won’t Break Isabel Sterling\n"
          ],
          "name": "stdout"
        },
        {
          "output_type": "stream",
          "text": [
            "\r 61%|██████    | 122/200 [02:18<00:59,  1.32it/s]"
          ],
          "name": "stderr"
        },
        {
          "output_type": "stream",
          "text": [
            "error:  These Witches Don’t Burn & This Coven Won’t Break Isabel Sterling\n",
            "The Coldest Touch Isabel Sterling \n"
          ],
          "name": "stdout"
        },
        {
          "output_type": "stream",
          "text": [
            "\r 62%|██████▏   | 123/200 [02:18<00:56,  1.36it/s]"
          ],
          "name": "stderr"
        },
        {
          "output_type": "stream",
          "text": [
            "Untaken J. E. Anckorn\n"
          ],
          "name": "stdout"
        },
        {
          "output_type": "stream",
          "text": [
            "\r 62%|██████▏   | 124/200 [02:19<00:59,  1.27it/s]"
          ],
          "name": "stderr"
        },
        {
          "output_type": "stream",
          "text": [
            "The Offering Jessika Fleck\n"
          ],
          "name": "stdout"
        },
        {
          "output_type": "stream",
          "text": [
            "\r 62%|██████▎   | 125/200 [02:21<01:15,  1.01s/it]"
          ],
          "name": "stderr"
        },
        {
          "output_type": "stream",
          "text": [
            "The Diminished,The Exalted Kaitlyn Sage Patterson\n"
          ],
          "name": "stdout"
        },
        {
          "output_type": "stream",
          "text": [
            "\r 63%|██████▎   | 126/200 [02:21<00:58,  1.26it/s]"
          ],
          "name": "stderr"
        },
        {
          "output_type": "stream",
          "text": [
            "error:  The Diminished,The Exalted Kaitlyn Sage Patterson\n",
            "The Storm Crow Kalyn Josephson\n"
          ],
          "name": "stdout"
        },
        {
          "output_type": "stream",
          "text": [
            "\r 64%|██████▎   | 127/200 [02:23<01:18,  1.07s/it]"
          ],
          "name": "stderr"
        },
        {
          "output_type": "stream",
          "text": [
            "The Iron Witch Karen Mahoney\n"
          ],
          "name": "stdout"
        },
        {
          "output_type": "stream",
          "text": [
            "\r 64%|██████▍   | 128/200 [02:27<02:23,  1.99s/it]"
          ],
          "name": "stderr"
        },
        {
          "output_type": "stream",
          "text": [
            "The Wood Queen Karen Mahoney\n"
          ],
          "name": "stdout"
        },
        {
          "output_type": "stream",
          "text": [
            "\r 64%|██████▍   | 129/200 [02:28<01:57,  1.66s/it]"
          ],
          "name": "stderr"
        },
        {
          "output_type": "stream",
          "text": [
            "The Stone Demon Karen Mahoney\n"
          ],
          "name": "stdout"
        },
        {
          "output_type": "stream",
          "text": [
            "\r 65%|██████▌   | 130/200 [02:29<01:41,  1.45s/it]"
          ],
          "name": "stderr"
        },
        {
          "output_type": "stream",
          "text": [
            "Falling to Ash Karen Mahoney\n"
          ],
          "name": "stdout"
        },
        {
          "output_type": "stream",
          "text": [
            "\r 66%|██████▌   | 131/200 [02:31<01:45,  1.53s/it]"
          ],
          "name": "stderr"
        },
        {
          "output_type": "stream",
          "text": [
            "Hunting the Dark Karen Mahoney\n"
          ],
          "name": "stdout"
        },
        {
          "output_type": "stream",
          "text": [
            "\r 66%|██████▌   | 132/200 [02:31<01:32,  1.36s/it]"
          ],
          "name": "stderr"
        },
        {
          "output_type": "stream",
          "text": [
            "Weave A Circle Round Kari Maaren\n"
          ],
          "name": "stdout"
        },
        {
          "output_type": "stream",
          "text": [
            "\r 66%|██████▋   | 133/200 [02:32<01:21,  1.21s/it]"
          ],
          "name": "stderr"
        },
        {
          "output_type": "stream",
          "text": [
            "There Will Come a Darkness Katy Rose Pool\n"
          ],
          "name": "stdout"
        },
        {
          "output_type": "stream",
          "text": [
            "\r 67%|██████▋   | 134/200 [02:33<01:12,  1.10s/it]"
          ],
          "name": "stderr"
        },
        {
          "output_type": "stream",
          "text": [
            "The Last 8 Laura Pohl\n"
          ],
          "name": "stdout"
        },
        {
          "output_type": "stream",
          "text": [
            "\r 68%|██████▊   | 135/200 [02:35<01:18,  1.21s/it]"
          ],
          "name": "stderr"
        },
        {
          "output_type": "stream",
          "text": [
            "Ash Princess Laura Sebastian\n"
          ],
          "name": "stdout"
        },
        {
          "output_type": "stream",
          "text": [
            "\r 68%|██████▊   | 136/200 [02:37<01:45,  1.65s/it]"
          ],
          "name": "stderr"
        },
        {
          "output_type": "stream",
          "text": [
            "Castles in Their Bones Laura Sebastian\n"
          ],
          "name": "stdout"
        },
        {
          "output_type": "stream",
          "text": [
            "\r 68%|██████▊   | 137/200 [02:40<01:59,  1.89s/it]"
          ],
          "name": "stderr"
        },
        {
          "output_type": "stream",
          "text": [
            "Half Sick of Shadows Laura Sebastian\n"
          ],
          "name": "stdout"
        },
        {
          "output_type": "stream",
          "text": [
            "\r 69%|██████▉   | 138/200 [02:41<01:38,  1.58s/it]"
          ],
          "name": "stderr"
        },
        {
          "output_type": "stream",
          "text": [
            "Scored Lauren McLaughlin\n"
          ],
          "name": "stdout"
        },
        {
          "output_type": "stream",
          "text": [
            "\r 70%|██████▉   | 139/200 [02:42<01:25,  1.41s/it]"
          ],
          "name": "stderr"
        },
        {
          "output_type": "stream",
          "text": [
            "The Touch Trilogy Leah Clifford\n"
          ],
          "name": "stdout"
        },
        {
          "output_type": "stream",
          "text": [
            "\r 70%|███████   | 140/200 [02:42<01:03,  1.06s/it]"
          ],
          "name": "stderr"
        },
        {
          "output_type": "stream",
          "text": [
            "error:  The Touch Trilogy Leah Clifford\n",
            "Mask of Shadows, Ruin of Stars Linsey Miller\n"
          ],
          "name": "stdout"
        },
        {
          "output_type": "stream",
          "text": [
            "\r 70%|███████   | 141/200 [02:43<00:58,  1.01it/s]"
          ],
          "name": "stderr"
        },
        {
          "output_type": "stream",
          "text": [
            "Belle Revolte Linsey Miller\n"
          ],
          "name": "stdout"
        },
        {
          "output_type": "stream",
          "text": [
            "\r 71%|███████   | 142/200 [02:44<00:54,  1.07it/s]"
          ],
          "name": "stderr"
        },
        {
          "output_type": "stream",
          "text": [
            "The Mermaid, The Witch, and the Sea Maggie Tokuda-Hall\n"
          ],
          "name": "stdout"
        },
        {
          "output_type": "stream",
          "text": [
            "\r 72%|███████▏  | 143/200 [02:44<00:51,  1.12it/s]"
          ],
          "name": "stderr"
        },
        {
          "output_type": "stream",
          "text": [
            "Ash, Huntress Malinda Lo\n"
          ],
          "name": "stdout"
        },
        {
          "output_type": "stream",
          "text": [
            "\r 72%|███████▏  | 144/200 [02:45<00:38,  1.44it/s]"
          ],
          "name": "stderr"
        },
        {
          "output_type": "stream",
          "text": [
            "error:  Ash, Huntress Malinda Lo\n",
            "Adaptation, Inheritance Malinda Lo\n"
          ],
          "name": "stdout"
        },
        {
          "output_type": "stream",
          "text": [
            "\r 72%|███████▎  | 145/200 [02:45<00:40,  1.35it/s]"
          ],
          "name": "stderr"
        },
        {
          "output_type": "stream",
          "text": [
            "A Line in the Dark Malinda Lo\n"
          ],
          "name": "stdout"
        },
        {
          "output_type": "stream",
          "text": [
            "\r 73%|███████▎  | 146/200 [02:46<00:41,  1.30it/s]"
          ],
          "name": "stderr"
        },
        {
          "output_type": "stream",
          "text": [
            "Last Night at the Telegraph Club Malinda Lo\n"
          ],
          "name": "stdout"
        },
        {
          "output_type": "stream",
          "text": [
            " 74%|███████▍  | 148/200 [02:47<00:32,  1.62it/s]"
          ],
          "name": "stderr"
        },
        {
          "output_type": "stream",
          "text": [
            "Beyond the Ruby Veil + 1 More Mara Fitzgerald\n",
            "error:  Beyond the Ruby Veil + 1 More Mara Fitzgerald\n",
            "The Merciful Crow + 2 More Margaret Owen\n"
          ],
          "name": "stdout"
        },
        {
          "output_type": "stream",
          "text": [
            "\r 74%|███████▍  | 149/200 [02:48<00:25,  2.01it/s]"
          ],
          "name": "stderr"
        },
        {
          "output_type": "stream",
          "text": [
            "error:  The Merciful Crow + 2 More Margaret Owen\n",
            "Stronger Than A Bronze Dragon Mary Fan\n"
          ],
          "name": "stdout"
        },
        {
          "output_type": "stream",
          "text": [
            "\r 75%|███████▌  | 150/200 [02:48<00:31,  1.60it/s]"
          ],
          "name": "stderr"
        },
        {
          "output_type": "stream",
          "text": [
            "Lady of Sherwood Molly Bilinski\n"
          ],
          "name": "stdout"
        },
        {
          "output_type": "stream",
          "text": [
            "\r 76%|███████▌  | 151/200 [02:49<00:33,  1.46it/s]"
          ],
          "name": "stderr"
        },
        {
          "output_type": "stream",
          "text": [
            "GIRLS OF PAPER AND FIRE Natasha Ngan \n"
          ],
          "name": "stdout"
        },
        {
          "output_type": "stream",
          "text": [
            "\r 76%|███████▌  | 152/200 [02:51<00:53,  1.12s/it]"
          ],
          "name": "stderr"
        },
        {
          "output_type": "stream",
          "text": [
            "A Conspiracy of Stars, An Anatomy of Beasts Olivia Cole\n"
          ],
          "name": "stdout"
        },
        {
          "output_type": "stream",
          "text": [
            "\r 76%|███████▋  | 153/200 [02:52<00:39,  1.18it/s]"
          ],
          "name": "stderr"
        },
        {
          "output_type": "stream",
          "text": [
            "error:  A Conspiracy of Stars, An Anatomy of Beasts Olivia Cole\n",
            "The Valley and the Flood Rebecca Mahoney\n"
          ],
          "name": "stdout"
        },
        {
          "output_type": "stream",
          "text": [
            "\r 77%|███████▋  | 154/200 [02:52<00:37,  1.22it/s]"
          ],
          "name": "stderr"
        },
        {
          "output_type": "stream",
          "text": [
            "Wise and the Wicked Rebecca Podos\n"
          ],
          "name": "stdout"
        },
        {
          "output_type": "stream",
          "text": [
            "\r 78%|███████▊  | 155/200 [02:53<00:40,  1.10it/s]"
          ],
          "name": "stderr"
        },
        {
          "output_type": "stream",
          "text": [
            "A Wicked Thing, Kingdom of Ashes Rhiannon Thomas\n"
          ],
          "name": "stdout"
        },
        {
          "output_type": "stream",
          "text": [
            "\r 78%|███████▊  | 156/200 [02:54<00:39,  1.12it/s]"
          ],
          "name": "stderr"
        },
        {
          "output_type": "stream",
          "text": [
            "Long May She Reign Rhiannon Thomas\n"
          ],
          "name": "stdout"
        },
        {
          "output_type": "stream",
          "text": [
            "\r 78%|███████▊  | 157/200 [02:55<00:38,  1.13it/s]"
          ],
          "name": "stderr"
        },
        {
          "output_type": "stream",
          "text": [
            "The Girl from the Well Rin Chupeco\n"
          ],
          "name": "stdout"
        },
        {
          "output_type": "stream",
          "text": [
            "\r 79%|███████▉  | 158/200 [02:57<00:46,  1.12s/it]"
          ],
          "name": "stderr"
        },
        {
          "output_type": "stream",
          "text": [
            "The Bone Witch Rin Chupeco\n"
          ],
          "name": "stdout"
        },
        {
          "output_type": "stream",
          "text": [
            "\r 80%|███████▉  | 159/200 [02:59<00:59,  1.46s/it]"
          ],
          "name": "stderr"
        },
        {
          "output_type": "stream",
          "text": [
            "Never Tilting World Rin Chupeco\n"
          ],
          "name": "stdout"
        },
        {
          "output_type": "stream",
          "text": [
            "\r 80%|████████  | 160/200 [03:01<00:59,  1.49s/it]"
          ],
          "name": "stderr"
        },
        {
          "output_type": "stream",
          "text": [
            "Wicked As You Wish Rin Chupeco\n"
          ],
          "name": "stdout"
        },
        {
          "output_type": "stream",
          "text": [
            "\r 80%|████████  | 161/200 [03:01<00:49,  1.28s/it]"
          ],
          "name": "stderr"
        },
        {
          "output_type": "stream",
          "text": [
            "Blood Rose Rebellion Rosalyn Eves\n"
          ],
          "name": "stdout"
        },
        {
          "output_type": "stream",
          "text": [
            " 82%|████████▏ | 163/200 [03:04<00:43,  1.17s/it]"
          ],
          "name": "stderr"
        },
        {
          "output_type": "stream",
          "text": [
            "Cruel Beauty, Crimson Bound Rosamund Hodge\n",
            "error:  Cruel Beauty, Crimson Bound Rosamund Hodge\n",
            "Bright Smoke Cold Fire, Endless Water Starless Sky Rosamund Hodge\n"
          ],
          "name": "stdout"
        },
        {
          "output_type": "stream",
          "text": [
            "\r 82%|████████▏ | 164/200 [03:05<00:38,  1.06s/it]"
          ],
          "name": "stderr"
        },
        {
          "output_type": "stream",
          "text": [
            "What Monstrous Gods Rosamund Hodge\n"
          ],
          "name": "stdout"
        },
        {
          "output_type": "stream",
          "text": [
            "\r 82%|████████▎ | 165/200 [03:06<00:34,  1.03it/s]"
          ],
          "name": "stderr"
        },
        {
          "output_type": "stream",
          "text": [
            "Wintersong S. Jae-Jones\n"
          ],
          "name": "stdout"
        },
        {
          "output_type": "stream",
          "text": [
            "\r 83%|████████▎ | 166/200 [03:08<00:44,  1.30s/it]"
          ],
          "name": "stderr"
        },
        {
          "output_type": "stream",
          "text": [
            "Shadowsong S. Jae-Jones\n"
          ],
          "name": "stdout"
        },
        {
          "output_type": "stream",
          "text": [
            "\r 84%|████████▎ | 167/200 [03:08<00:37,  1.13s/it]"
          ],
          "name": "stderr"
        },
        {
          "output_type": "stream",
          "text": [
            "Guardians of Dawn S. Jae-Jones\n"
          ],
          "name": "stdout"
        },
        {
          "output_type": "stream",
          "text": [
            "\r 84%|████████▍ | 168/200 [03:11<00:49,  1.54s/it]"
          ],
          "name": "stderr"
        },
        {
          "output_type": "stream",
          "text": [
            "The Unstoppable Wasp Sam Maggs\n"
          ],
          "name": "stdout"
        },
        {
          "output_type": "stream",
          "text": [
            "\r 84%|████████▍ | 169/200 [03:12<00:42,  1.38s/it]"
          ],
          "name": "stderr"
        },
        {
          "output_type": "stream",
          "text": [
            "We Are the Fire Sam Taylor\n"
          ],
          "name": "stdout"
        },
        {
          "output_type": "stream",
          "text": [
            "\r 85%|████████▌ | 170/200 [03:13<00:37,  1.24s/it]"
          ],
          "name": "stderr"
        },
        {
          "output_type": "stream",
          "text": [
            "SNOW LIKE ASHES Sara Raasch\n"
          ],
          "name": "stdout"
        },
        {
          "output_type": "stream",
          "text": [
            "\r 86%|████████▌ | 171/200 [03:17<01:06,  2.29s/it]"
          ],
          "name": "stderr"
        },
        {
          "output_type": "stream",
          "text": [
            "THESE REBEL WAVES Sara Raasch\n"
          ],
          "name": "stdout"
        },
        {
          "output_type": "stream",
          "text": [
            "\r 86%|████████▌ | 172/200 [03:18<00:52,  1.86s/it]"
          ],
          "name": "stderr"
        },
        {
          "output_type": "stream",
          "text": [
            "SET FIRE TO THE GODS Sara Raasch\n"
          ],
          "name": "stdout"
        },
        {
          "output_type": "stream",
          "text": [
            "\r 86%|████████▋ | 173/200 [03:20<00:48,  1.80s/it]"
          ],
          "name": "stderr"
        },
        {
          "output_type": "stream",
          "text": [
            "Sea Witch Sarah Henning\n"
          ],
          "name": "stdout"
        },
        {
          "output_type": "stream",
          "text": [
            "\r 87%|████████▋ | 174/200 [03:22<00:49,  1.91s/it]"
          ],
          "name": "stderr"
        },
        {
          "output_type": "stream",
          "text": [
            "Sea With Rising Sarah Henning\n"
          ],
          "name": "stdout"
        },
        {
          "output_type": "stream",
          "text": [
            "\r 88%|████████▊ | 175/200 [03:22<00:35,  1.40s/it]"
          ],
          "name": "stderr"
        },
        {
          "output_type": "stream",
          "text": [
            "error:  Sea With Rising Sarah Henning\n",
            "The Princess Will Save You Sarah Henning\n"
          ],
          "name": "stdout"
        },
        {
          "output_type": "stream",
          "text": [
            "\r 88%|████████▊ | 176/200 [03:24<00:34,  1.45s/it]"
          ],
          "name": "stderr"
        },
        {
          "output_type": "stream",
          "text": [
            "Lost Voices Sarah Porter\n"
          ],
          "name": "stdout"
        },
        {
          "output_type": "stream",
          "text": [
            "\r 88%|████████▊ | 177/200 [03:27<00:45,  1.96s/it]"
          ],
          "name": "stderr"
        },
        {
          "output_type": "stream",
          "text": [
            "Vassa in the Night, When I Cast Your Shadow Sarah Porter\n"
          ],
          "name": "stdout"
        },
        {
          "output_type": "stream",
          "text": [
            "\r 89%|████████▉ | 178/200 [03:27<00:31,  1.44s/it]"
          ],
          "name": "stderr"
        },
        {
          "output_type": "stream",
          "text": [
            "error:  Vassa in the Night, When I Cast Your Shadow Sarah Porter\n",
            "Never-Contented Things + 1 More Sarah Porter\n"
          ],
          "name": "stdout"
        },
        {
          "output_type": "stream",
          "text": [
            "\r 90%|████████▉ | 179/200 [03:28<00:22,  1.07s/it]"
          ],
          "name": "stderr"
        },
        {
          "output_type": "stream",
          "text": [
            "error:  Never-Contented Things + 1 More Sarah Porter\n",
            "Midnighters Scott Westerfeld\n"
          ],
          "name": "stdout"
        },
        {
          "output_type": "stream",
          "text": [
            "\r 90%|█████████ | 180/200 [03:33<00:46,  2.32s/it]"
          ],
          "name": "stderr"
        },
        {
          "output_type": "stream",
          "text": [
            "Uglies Scott Westerfeld\n"
          ],
          "name": "stdout"
        },
        {
          "output_type": "stream",
          "text": [
            "\r 90%|█████████ | 181/200 [03:44<01:33,  4.90s/it]"
          ],
          "name": "stderr"
        },
        {
          "output_type": "stream",
          "text": [
            "So Yesterday, Peeps, Last Days Scott Westerfeld\n"
          ],
          "name": "stdout"
        },
        {
          "output_type": "stream",
          "text": [
            "\r 91%|█████████ | 182/200 [03:44<01:05,  3.65s/it]"
          ],
          "name": "stderr"
        },
        {
          "output_type": "stream",
          "text": [
            "Extras Scott Westerfeld\n"
          ],
          "name": "stdout"
        },
        {
          "output_type": "stream",
          "text": [
            "\r 92%|█████████▏| 183/200 [03:47<00:57,  3.41s/it]"
          ],
          "name": "stderr"
        },
        {
          "output_type": "stream",
          "text": [
            "Leviathan Scott Westerfeld\n"
          ],
          "name": "stdout"
        },
        {
          "output_type": "stream",
          "text": [
            " 92%|█████████▎| 185/200 [03:53<00:44,  2.98s/it]"
          ],
          "name": "stderr"
        },
        {
          "output_type": "stream",
          "text": [
            "Uglies (new) Scott Westerfeld\n",
            "error:  Uglies (new) Scott Westerfeld\n",
            "Afterworlds Scott Westerfeld\n"
          ],
          "name": "stdout"
        },
        {
          "output_type": "stream",
          "text": [
            "\r 93%|█████████▎| 186/200 [03:56<00:41,  2.94s/it]"
          ],
          "name": "stderr"
        },
        {
          "output_type": "stream",
          "text": [
            "Glitch Kingdom Sheena Boekweg\n"
          ],
          "name": "stdout"
        },
        {
          "output_type": "stream",
          "text": [
            "\r 94%|█████████▎| 187/200 [03:57<00:31,  2.39s/it]"
          ],
          "name": "stderr"
        },
        {
          "output_type": "stream",
          "text": [
            "The Program Suzanne Young\n"
          ],
          "name": "stdout"
        },
        {
          "output_type": "stream",
          "text": [
            " 94%|█████████▍| 189/200 [04:05<00:29,  2.70s/it]"
          ],
          "name": "stderr"
        },
        {
          "output_type": "stream",
          "text": [
            "Sequels to \"The Program\" Suzanne Young\n",
            "error:  Sequels to \"The Program\" Suzanne Young\n",
            "Girls with Sharp Sticks Suzanne Young\n"
          ],
          "name": "stdout"
        },
        {
          "output_type": "stream",
          "text": [
            "\r 95%|█████████▌| 190/200 [04:07<00:26,  2.63s/it]"
          ],
          "name": "stderr"
        },
        {
          "output_type": "stream",
          "text": [
            "Scavenge the Stars Duology Tara Sim\n"
          ],
          "name": "stdout"
        },
        {
          "output_type": "stream",
          "text": [
            "\r 96%|█████████▌| 191/200 [04:07<00:17,  1.94s/it]"
          ],
          "name": "stderr"
        },
        {
          "output_type": "stream",
          "text": [
            "error:  Scavenge the Stars Duology Tara Sim\n",
            "Return Once More Trisha Leigh\n"
          ],
          "name": "stdout"
        },
        {
          "output_type": "stream",
          "text": [
            "\r 96%|█████████▌| 192/200 [04:08<00:13,  1.66s/it]"
          ],
          "name": "stderr"
        },
        {
          "output_type": "stream",
          "text": [
            "The Near Witch Victoria (V.E.) Schwab\n"
          ],
          "name": "stdout"
        },
        {
          "output_type": "stream",
          "text": [
            "\r 96%|█████████▋| 193/200 [04:09<00:09,  1.42s/it]"
          ],
          "name": "stderr"
        },
        {
          "output_type": "stream",
          "text": [
            "The Archived Victoria (V.E.) Schwab\n"
          ],
          "name": "stdout"
        },
        {
          "output_type": "stream",
          "text": [
            "\r 97%|█████████▋| 194/200 [04:11<00:08,  1.48s/it]"
          ],
          "name": "stderr"
        },
        {
          "output_type": "stream",
          "text": [
            "The Unbound Victoria (V.E.) Schwab\n"
          ],
          "name": "stdout"
        },
        {
          "output_type": "stream",
          "text": [
            "\r 98%|█████████▊| 195/200 [04:12<00:06,  1.26s/it]"
          ],
          "name": "stderr"
        },
        {
          "output_type": "stream",
          "text": [
            "This Savage Song Victoria (V.E.) Schwab\n"
          ],
          "name": "stdout"
        },
        {
          "output_type": "stream",
          "text": [
            "\r 98%|█████████▊| 196/200 [04:13<00:04,  1.16s/it]"
          ],
          "name": "stderr"
        },
        {
          "output_type": "stream",
          "text": [
            "Our Dark Duet Victoria (V.E.) Schwab\n"
          ],
          "name": "stdout"
        },
        {
          "output_type": "stream",
          "text": [
            "\r 98%|█████████▊| 197/200 [04:13<00:03,  1.09s/it]"
          ],
          "name": "stderr"
        },
        {
          "output_type": "stream",
          "text": [
            "Girl with the Red Balloon, The Spy with the Red Baloon Katherine Locke\n"
          ],
          "name": "stdout"
        },
        {
          "output_type": "stream",
          "text": [
            "\r 99%|█████████▉| 198/200 [04:14<00:01,  1.20it/s]"
          ],
          "name": "stderr"
        },
        {
          "output_type": "stream",
          "text": [
            "error:  Girl with the Red Balloon, The Spy with the Red Baloon Katherine Locke\n",
            "Scapegracers Trilogy Hannah Abigail Clark\n"
          ],
          "name": "stdout"
        },
        {
          "output_type": "stream",
          "text": [
            "\r100%|█████████▉| 199/200 [04:14<00:00,  1.55it/s]"
          ],
          "name": "stderr"
        },
        {
          "output_type": "stream",
          "text": [
            "error:  Scapegracers Trilogy Hannah Abigail Clark\n",
            "The Extraordinaries T. J. Klune\n"
          ],
          "name": "stdout"
        },
        {
          "output_type": "stream",
          "text": [
            "100%|██████████| 200/200 [04:17<00:00,  1.29s/it]\n"
          ],
          "name": "stderr"
        },
        {
          "output_type": "display_data",
          "data": {
            "application/javascript": [
              "\n",
              "    async function download(id, filename, size) {\n",
              "      if (!google.colab.kernel.accessAllowed) {\n",
              "        return;\n",
              "      }\n",
              "      const div = document.createElement('div');\n",
              "      const label = document.createElement('label');\n",
              "      label.textContent = `Downloading \"${filename}\": `;\n",
              "      div.appendChild(label);\n",
              "      const progress = document.createElement('progress');\n",
              "      progress.max = size;\n",
              "      div.appendChild(progress);\n",
              "      document.body.appendChild(div);\n",
              "\n",
              "      const buffers = [];\n",
              "      let downloaded = 0;\n",
              "\n",
              "      const channel = await google.colab.kernel.comms.open(id);\n",
              "      // Send a message to notify the kernel that we're ready.\n",
              "      channel.send({})\n",
              "\n",
              "      for await (const message of channel.messages) {\n",
              "        // Send a message to notify the kernel that we're ready.\n",
              "        channel.send({})\n",
              "        if (message.buffers) {\n",
              "          for (const buffer of message.buffers) {\n",
              "            buffers.push(buffer);\n",
              "            downloaded += buffer.byteLength;\n",
              "            progress.value = downloaded;\n",
              "          }\n",
              "        }\n",
              "      }\n",
              "      const blob = new Blob(buffers, {type: 'application/binary'});\n",
              "      const a = document.createElement('a');\n",
              "      a.href = window.URL.createObjectURL(blob);\n",
              "      a.download = filename;\n",
              "      div.appendChild(a);\n",
              "      a.click();\n",
              "      div.remove();\n",
              "    }\n",
              "  "
            ],
            "text/plain": [
              "<IPython.core.display.Javascript object>"
            ]
          },
          "metadata": {
            "tags": []
          }
        },
        {
          "output_type": "display_data",
          "data": {
            "application/javascript": [
              "download(\"download_cf2d8432-6c3c-498e-942d-b256a841ceee\", \"goodreads_data_2.csv\", 46758)"
            ],
            "text/plain": [
              "<IPython.core.display.Javascript object>"
            ]
          },
          "metadata": {
            "tags": []
          }
        },
        {
          "output_type": "stream",
          "text": [
            "  5%|▌         | 1/19 [00:00<00:03,  5.43it/s]"
          ],
          "name": "stderr"
        },
        {
          "output_type": "stream",
          "text": [
            "Timekeeper Trilogy Tara Sim\n",
            "error:  Timekeeper Trilogy Tara Sim\n",
            "Labyrinth Lost Zoraida Córdova\n"
          ],
          "name": "stdout"
        },
        {
          "output_type": "stream",
          "text": [
            "\r 11%|█         | 2/19 [00:01<00:06,  2.48it/s]"
          ],
          "name": "stderr"
        },
        {
          "output_type": "stream",
          "text": [
            "Drowning Summer Christine Lynn Herman\n"
          ],
          "name": "stdout"
        },
        {
          "output_type": "stream",
          "text": [
            "\r 16%|█▌        | 3/19 [00:01<00:08,  1.93it/s]"
          ],
          "name": "stderr"
        },
        {
          "output_type": "stream",
          "text": [
            "PEOPLE LIKE US Dana Mele\n"
          ],
          "name": "stdout"
        },
        {
          "output_type": "stream",
          "text": [
            "\r 21%|██        | 4/19 [00:02<00:09,  1.57it/s]"
          ],
          "name": "stderr"
        },
        {
          "output_type": "stream",
          "text": [
            "Half in Love with Death Emily Ross\n"
          ],
          "name": "stdout"
        },
        {
          "output_type": "stream",
          "text": [
            "\r 26%|██▋       | 5/19 [00:03<00:10,  1.38it/s]"
          ],
          "name": "stderr"
        },
        {
          "output_type": "stream",
          "text": [
            "AS I DESCENDED and THE LOVE CURSE OF MELODY MCINTYRE Robin Talley\n"
          ],
          "name": "stdout"
        },
        {
          "output_type": "stream",
          "text": [
            "\r 32%|███▏      | 6/19 [00:03<00:07,  1.73it/s]"
          ],
          "name": "stderr"
        },
        {
          "output_type": "stream",
          "text": [
            "error:  AS I DESCENDED and THE LOVE CURSE OF MELODY MCINTYRE Robin Talley\n",
            "Wilder Girls, Burn Our Bodies Down Rory Power\n"
          ],
          "name": "stdout"
        },
        {
          "output_type": "stream",
          "text": [
            "\r 37%|███▋      | 7/19 [00:04<00:05,  2.11it/s]"
          ],
          "name": "stderr"
        },
        {
          "output_type": "stream",
          "text": [
            "error:  Wilder Girls, Burn Our Bodies Down Rory Power\n",
            "Audacious Gabrielle Prendergast\n"
          ],
          "name": "stdout"
        },
        {
          "output_type": "stream",
          "text": [
            "\r 42%|████▏     | 8/19 [00:05<00:07,  1.55it/s]"
          ],
          "name": "stderr"
        },
        {
          "output_type": "stream",
          "text": [
            "Temporary People  Deepak Unnikrishnan\n"
          ],
          "name": "stdout"
        },
        {
          "output_type": "stream",
          "text": [
            "\r 47%|████▋     | 9/19 [00:05<00:06,  1.47it/s]"
          ],
          "name": "stderr"
        },
        {
          "output_type": "stream",
          "text": [
            "Always Greener J.R.H. Lawless\n"
          ],
          "name": "stdout"
        },
        {
          "output_type": "stream",
          "text": [
            "\r 53%|█████▎    | 10/19 [00:07<00:07,  1.24it/s]"
          ],
          "name": "stderr"
        },
        {
          "output_type": "stream",
          "text": [
            "Gender Queer: A Memoir  Maia Kobabe\n"
          ],
          "name": "stdout"
        },
        {
          "output_type": "stream",
          "text": [
            "\r 58%|█████▊    | 11/19 [00:07<00:06,  1.26it/s]"
          ],
          "name": "stderr"
        },
        {
          "output_type": "stream",
          "text": [
            "The Seven-Petaled Shield Deborah J. Ross\n"
          ],
          "name": "stdout"
        },
        {
          "output_type": "stream",
          "text": [
            "\r 63%|██████▎   | 12/19 [00:10<00:09,  1.33s/it]"
          ],
          "name": "stderr"
        },
        {
          "output_type": "stream",
          "text": [
            "The Way of Shadows Brent Weeks\n"
          ],
          "name": "stdout"
        },
        {
          "output_type": "stream",
          "text": [
            "\r 68%|██████▊   | 13/19 [00:14<00:12,  2.04s/it]"
          ],
          "name": "stderr"
        },
        {
          "output_type": "stream",
          "text": [
            "Children of Tomorrow  Robert Greenberger\n"
          ],
          "name": "stdout"
        },
        {
          "output_type": "stream",
          "text": [
            "\r 74%|███████▎  | 14/19 [00:14<00:08,  1.66s/it]"
          ],
          "name": "stderr"
        },
        {
          "output_type": "stream",
          "text": [
            "THE BLACK CAT MYSTERY M. Garnet\n"
          ],
          "name": "stdout"
        },
        {
          "output_type": "stream",
          "text": [
            "\r 79%|███████▉  | 15/19 [00:15<00:05,  1.36s/it]"
          ],
          "name": "stderr"
        },
        {
          "output_type": "stream",
          "text": [
            "THE RAMSHEAD ALGORITHM AND OTHER STORIES KJ Kabza\n"
          ],
          "name": "stdout"
        },
        {
          "output_type": "stream",
          "text": [
            "\r 84%|████████▍ | 16/19 [00:16<00:03,  1.21s/it]"
          ],
          "name": "stderr"
        },
        {
          "output_type": "stream",
          "text": [
            "Consider the Platypus: Evolution through Biology's Most Baffling Beasts Maggie Ryan Sandford\n"
          ],
          "name": "stdout"
        },
        {
          "output_type": "stream",
          "text": [
            "\r 89%|████████▉ | 17/19 [00:17<00:02,  1.06s/it]"
          ],
          "name": "stderr"
        },
        {
          "output_type": "stream",
          "text": [
            "Squad Goals Erika J. Kendrick\n"
          ],
          "name": "stdout"
        },
        {
          "output_type": "stream",
          "text": [
            "\r 95%|█████████▍| 18/19 [00:17<00:00,  1.02it/s]"
          ],
          "name": "stderr"
        },
        {
          "output_type": "stream",
          "text": [
            "Son of the Storm (The Nameless Republic #1) Suyi Davies Okungbowa\n"
          ],
          "name": "stdout"
        },
        {
          "output_type": "stream",
          "text": [
            "100%|██████████| 19/19 [00:18<00:00,  1.01it/s]\n"
          ],
          "name": "stderr"
        },
        {
          "output_type": "display_data",
          "data": {
            "application/javascript": [
              "\n",
              "    async function download(id, filename, size) {\n",
              "      if (!google.colab.kernel.accessAllowed) {\n",
              "        return;\n",
              "      }\n",
              "      const div = document.createElement('div');\n",
              "      const label = document.createElement('label');\n",
              "      label.textContent = `Downloading \"${filename}\": `;\n",
              "      div.appendChild(label);\n",
              "      const progress = document.createElement('progress');\n",
              "      progress.max = size;\n",
              "      div.appendChild(progress);\n",
              "      document.body.appendChild(div);\n",
              "\n",
              "      const buffers = [];\n",
              "      let downloaded = 0;\n",
              "\n",
              "      const channel = await google.colab.kernel.comms.open(id);\n",
              "      // Send a message to notify the kernel that we're ready.\n",
              "      channel.send({})\n",
              "\n",
              "      for await (const message of channel.messages) {\n",
              "        // Send a message to notify the kernel that we're ready.\n",
              "        channel.send({})\n",
              "        if (message.buffers) {\n",
              "          for (const buffer of message.buffers) {\n",
              "            buffers.push(buffer);\n",
              "            downloaded += buffer.byteLength;\n",
              "            progress.value = downloaded;\n",
              "          }\n",
              "        }\n",
              "      }\n",
              "      const blob = new Blob(buffers, {type: 'application/binary'});\n",
              "      const a = document.createElement('a');\n",
              "      a.href = window.URL.createObjectURL(blob);\n",
              "      a.download = filename;\n",
              "      div.appendChild(a);\n",
              "      a.click();\n",
              "      div.remove();\n",
              "    }\n",
              "  "
            ],
            "text/plain": [
              "<IPython.core.display.Javascript object>"
            ]
          },
          "metadata": {
            "tags": []
          }
        },
        {
          "output_type": "display_data",
          "data": {
            "application/javascript": [
              "download(\"download_4448c54f-ddd1-4150-ba0e-6dc012dbeb79\", \"goodreads_data_3.csv\", 3232)"
            ],
            "text/plain": [
              "<IPython.core.display.Javascript object>"
            ]
          },
          "metadata": {
            "tags": []
          }
        }
      ]
    },
    {
      "cell_type": "markdown",
      "metadata": {
        "id": "h_FPr7qHIVG5"
      },
      "source": [
        "Now that data has loaded access all files from github and join to dataframe"
      ]
    },
    {
      "cell_type": "markdown",
      "metadata": {
        "id": "R7axKc7g8rHt"
      },
      "source": [
        "**Project**: Get data to autosave to GitHub:\r\n",
        "\r\n",
        "https://towardsdatascience.com/google-drive-google-colab-github-dont-just-read-do-it-5554d5824228\r\n",
        "\r\n",
        "https://zerowithdot.com/colab-github-workflow/"
      ]
    },
    {
      "cell_type": "markdown",
      "metadata": {
        "id": "SQFYB8w18MK1"
      },
      "source": [
        "## Save Data to GitHub"
      ]
    },
    {
      "cell_type": "markdown",
      "metadata": {
        "id": "gHzNx8Kmt91w"
      },
      "source": [
        "Create a new csv file of random data and then save it to drive and upload to github"
      ]
    },
    {
      "cell_type": "code",
      "metadata": {
        "colab": {
          "base_uri": "https://localhost:8080/",
          "height": 200
        },
        "id": "UYw9jHgQuLGK",
        "outputId": "988c42c2-7b6c-489f-f4df-e716e40cc65e"
      },
      "source": [
        "tmp = {'a':[1,2,3,4,5],'b':[1,2,3,4,5]}\r\n",
        "tmp = pd.DataFrame(tmp)\r\n",
        "tmp.head()"
      ],
      "execution_count": null,
      "outputs": [
        {
          "output_type": "execute_result",
          "data": {
            "text/html": [
              "<div>\n",
              "<style scoped>\n",
              "    .dataframe tbody tr th:only-of-type {\n",
              "        vertical-align: middle;\n",
              "    }\n",
              "\n",
              "    .dataframe tbody tr th {\n",
              "        vertical-align: top;\n",
              "    }\n",
              "\n",
              "    .dataframe thead th {\n",
              "        text-align: right;\n",
              "    }\n",
              "</style>\n",
              "<table border=\"1\" class=\"dataframe\">\n",
              "  <thead>\n",
              "    <tr style=\"text-align: right;\">\n",
              "      <th></th>\n",
              "      <th>a</th>\n",
              "      <th>b</th>\n",
              "    </tr>\n",
              "  </thead>\n",
              "  <tbody>\n",
              "    <tr>\n",
              "      <th>0</th>\n",
              "      <td>1</td>\n",
              "      <td>1</td>\n",
              "    </tr>\n",
              "    <tr>\n",
              "      <th>1</th>\n",
              "      <td>2</td>\n",
              "      <td>2</td>\n",
              "    </tr>\n",
              "    <tr>\n",
              "      <th>2</th>\n",
              "      <td>3</td>\n",
              "      <td>3</td>\n",
              "    </tr>\n",
              "    <tr>\n",
              "      <th>3</th>\n",
              "      <td>4</td>\n",
              "      <td>4</td>\n",
              "    </tr>\n",
              "    <tr>\n",
              "      <th>4</th>\n",
              "      <td>5</td>\n",
              "      <td>5</td>\n",
              "    </tr>\n",
              "  </tbody>\n",
              "</table>\n",
              "</div>"
            ],
            "text/plain": [
              "   a  b\n",
              "0  1  1\n",
              "1  2  2\n",
              "2  3  3\n",
              "3  4  4\n",
              "4  5  5"
            ]
          },
          "metadata": {
            "tags": []
          },
          "execution_count": 138
        }
      ]
    },
    {
      "cell_type": "code",
      "metadata": {
        "colab": {
          "base_uri": "https://localhost:8080/"
        },
        "id": "fPFWNGPQ30uu",
        "outputId": "a024e229-0301-4b94-ccfd-6daf082f5977"
      },
      "source": [
        "%cd  ./tmp\r\n",
        "!ls"
      ],
      "execution_count": null,
      "outputs": [
        {
          "output_type": "stream",
          "text": [
            "/content/tmp\n",
            "temp_file  test\n"
          ],
          "name": "stdout"
        }
      ]
    },
    {
      "cell_type": "code",
      "metadata": {
        "id": "nxM2RZTxuzzB"
      },
      "source": [
        "tmp.to_csv('./temp_file')"
      ],
      "execution_count": null,
      "outputs": []
    },
    {
      "cell_type": "markdown",
      "metadata": {
        "id": "VLoisSZ-w-ZE"
      },
      "source": [
        "Now we need to save this file into Google Drive"
      ]
    },
    {
      "cell_type": "markdown",
      "metadata": {
        "id": "MEJC5PUsxTEz"
      },
      "source": [
        "Step 1: copy new files over to Google Drive"
      ]
    },
    {
      "cell_type": "code",
      "metadata": {
        "id": "YR_0kDAKxrMf"
      },
      "source": [
        "!cp -r ./tmp/* \"{PROJECT_PATH}\""
      ],
      "execution_count": null,
      "outputs": []
    },
    {
      "cell_type": "code",
      "metadata": {
        "colab": {
          "base_uri": "https://localhost:8080/"
        },
        "id": "obA1-eQ4xvR1",
        "outputId": "734e2bb3-2d0a-4d41-e1d7-9754fda51562"
      },
      "source": [
        "!ls '{PROJECT_PATH}'"
      ],
      "execution_count": null,
      "outputs": [
        {
          "output_type": "stream",
          "text": [
            " books.csv\t\t     goodreads_data_2.csv\t LICENSE\n",
            "'goodreads_data_0 (1).csv'  'goodreads_data_3 (1).csv'\t ppm_20201010.csv\n",
            " goodreads_data_0.csv\t     goodreads_data_3.csv\t temp_file\n",
            "'goodreads_data_1 (1).csv'   goodreads_data_4.csv\t test\n",
            " goodreads_data_1.csv\t     goodreads_data_5.csv\n",
            "'goodreads_data_2 (1).csv'   goodreads_data_6.csv\n"
          ],
          "name": "stdout"
        }
      ]
    },
    {
      "cell_type": "markdown",
      "metadata": {
        "id": "y3M0OAsUx00_"
      },
      "source": [
        "Step 2: resubmit to GitHub"
      ]
    },
    {
      "cell_type": "code",
      "metadata": {
        "id": "qVFtqLuM39pA"
      },
      "source": [
        "GIT_COMMIT_MESSAGE = 'Testing Colab commit to GitHub'\r\n",
        "GIT_EMAIL = 'robert@sturrock.ca' \r\n",
        "GIT_NAME = 'Robert Sturrock'\r\n",
        "GIT_BRANCH_NAME = 'master'"
      ],
      "execution_count": null,
      "outputs": []
    },
    {
      "cell_type": "code",
      "metadata": {
        "colab": {
          "base_uri": "https://localhost:8080/"
        },
        "id": "LHKuETLd6npp",
        "outputId": "a170dc67-84f3-411b-f01a-af4bcc8c2f1b"
      },
      "source": [
        "!ls"
      ],
      "execution_count": null,
      "outputs": [
        {
          "output_type": "stream",
          "text": [
            "drive  sample_data\n"
          ],
          "name": "stdout"
        }
      ]
    },
    {
      "cell_type": "code",
      "metadata": {
        "id": "MoQS2y-ix3VT",
        "colab": {
          "base_uri": "https://localhost:8080/"
        },
        "outputId": "27210e24-4b8d-46b4-989c-4223c7590e59"
      },
      "source": [
        "!git clone \"https://{GIT_TOKEN}@github.com/{GIT_USERNAME}/{GIT_REPOSITORY}.git\" ./tmp/publishing-paid-me\r\n",
        "!rsync -aP --exclude=data/ \"{PROJECT_PATH}\"/* ./tmp/publishing-paid-me # this gets all the files in drive I think. You'd need a folder \"data/\" to exclude\r\n",
        "\r\n",
        "%cd ./tmp/publishing-paid-me\r\n",
        "!git add .\r\n",
        "!git commit -m '\"{GIT_COMMIT_MESSAGE}\"'\r\n",
        "!git config --global user.email \"{GIT_EMAIL}\"\r\n",
        "!git config --global user.name \"{GIT_NAME}\"\r\n",
        "!git push origin \"{GIT_BRANCH_NAME}\"\r\n",
        "%cd /content\r\n",
        "\r\n",
        "# Remove directory\r\n",
        "!rm -r ./tmp"
      ],
      "execution_count": null,
      "outputs": [
        {
          "output_type": "stream",
          "text": [
            "Cloning into './tmp/publishing-paid-me'...\n",
            "remote: Enumerating objects: 35, done.\u001b[K\n",
            "remote: Counting objects: 100% (35/35), done.\u001b[K\n",
            "remote: Compressing objects: 100% (32/32), done.\u001b[K\n",
            "remote: Total 35 (delta 9), reused 11 (delta 2), pack-reused 0\u001b[K\n",
            "Unpacking objects: 100% (35/35), done.\n",
            "sending incremental file list\n",
            "LICENSE\n",
            "         35,129 100%    2.25MB/s    0:00:00 (xfr#1, to-chk=15/16)\n",
            "books.csv\n",
            "      1,559,650 100%  165.27MB/s    0:00:00 (xfr#2, to-chk=14/16)\n",
            "goodreads_data_0 (1).csv\n",
            "         51,707 100%    4.93MB/s    0:00:00 (xfr#3, to-chk=13/16)\n",
            "goodreads_data_0.csv\n",
            "        170,457 100%   12.50MB/s    0:00:00 (xfr#4, to-chk=12/16)\n",
            "goodreads_data_1 (1).csv\n",
            "         65,978 100%    4.49MB/s    0:00:00 (xfr#5, to-chk=11/16)\n",
            "goodreads_data_1.csv\n",
            "        126,751 100%    7.55MB/s    0:00:00 (xfr#6, to-chk=10/16)\n",
            "goodreads_data_2 (1).csv\n",
            "         46,758 100%    2.62MB/s    0:00:00 (xfr#7, to-chk=9/16)\n",
            "goodreads_data_2.csv\n",
            "        118,738 100%    5.96MB/s    0:00:00 (xfr#8, to-chk=8/16)\n",
            "goodreads_data_3 (1).csv\n",
            "          3,232 100%  166.12kB/s    0:00:00 (xfr#9, to-chk=7/16)\n",
            "goodreads_data_3.csv\n",
            "        121,398 100%    5.79MB/s    0:00:00 (xfr#10, to-chk=6/16)\n",
            "goodreads_data_4.csv\n",
            "        139,135 100%    6.03MB/s    0:00:00 (xfr#11, to-chk=5/16)\n",
            "goodreads_data_5.csv\n",
            "        130,059 100%    5.39MB/s    0:00:00 (xfr#12, to-chk=4/16)\n",
            "goodreads_data_6.csv\n",
            "         27,090 100%    1.08MB/s    0:00:00 (xfr#13, to-chk=3/16)\n",
            "ppm_20201010.csv\n",
            "        424,076 100%   14.98MB/s    0:00:00 (xfr#14, to-chk=2/16)\n",
            "temp_file\n",
            "             35 100%    1.22kB/s    0:00:00 (xfr#15, to-chk=1/16)\n",
            "test/\n",
            "/content/tmp/publishing-paid-me\n",
            "On branch master\n",
            "Your branch is up to date with 'origin/master'.\n",
            "\n",
            "nothing to commit, working tree clean\n",
            "Everything up-to-date\n",
            "/content\n"
          ],
          "name": "stdout"
        }
      ]
    },
    {
      "cell_type": "markdown",
      "metadata": {
        "id": "eVxcZa3DAA3e"
      },
      "source": [
        "## Bonus: Remove Files from GitHub"
      ]
    },
    {
      "cell_type": "markdown",
      "metadata": {
        "id": "pKEj6A0h7dl9"
      },
      "source": [
        "I can also remove files from GitHub"
      ]
    },
    {
      "cell_type": "markdown",
      "metadata": {
        "id": "UEG4sPRMAEYx"
      },
      "source": [
        "1. Single File"
      ]
    },
    {
      "cell_type": "code",
      "metadata": {
        "colab": {
          "base_uri": "https://localhost:8080/"
        },
        "id": "NBDsBLMU7gGd",
        "outputId": "fe1e832e-9121-44f3-ed78-bc5e20ddf36f"
      },
      "source": [
        "!git clone \"https://{GIT_TOKEN}@github.com/{GIT_USERNAME}/{GIT_REPOSITORY}.git\" ./tmp/publishing-paid-me # get git repo\r\n",
        "!rsync -aP \"{PROJECT_PATH}\"/* ./tmp/publishing-paid-me # this gets all the files in drive I think.\r\n",
        "\r\n",
        "# Git hub changes\r\n",
        "print(\"GitHub Section\")\r\n",
        "%cd ./tmp/publishing-paid-me\r\n",
        "!git rm goodreads_data_0.csv\r\n",
        "!git commit -m \"remove goodreads file (test)\"\r\n",
        "!git push origin \"{GIT_BRANCH_NAME}\"\r\n",
        "%cd /content\r\n",
        "\r\n",
        "# Remove directory\r\n",
        "!rm -r ./tmp"
      ],
      "execution_count": null,
      "outputs": [
        {
          "output_type": "stream",
          "text": [
            "Cloning into './tmp/publishing-paid-me'...\n",
            "remote: Enumerating objects: 35, done.\u001b[K\n",
            "remote: Counting objects: 100% (35/35), done.\u001b[K\n",
            "remote: Compressing objects: 100% (32/32), done.\u001b[K\n",
            "remote: Total 35 (delta 9), reused 11 (delta 2), pack-reused 0\u001b[K\n",
            "Unpacking objects: 100% (35/35), done.\n",
            "sending incremental file list\n",
            "LICENSE\n",
            "         35,129 100%    2.25MB/s    0:00:00 (xfr#1, to-chk=15/16)\n",
            "books.csv\n",
            "      1,559,650 100%  185.92MB/s    0:00:00 (xfr#2, to-chk=14/16)\n",
            "goodreads_data_0 (1).csv\n",
            "         51,707 100%    4.93MB/s    0:00:00 (xfr#3, to-chk=13/16)\n",
            "goodreads_data_0.csv\n",
            "        170,457 100%   13.55MB/s    0:00:00 (xfr#4, to-chk=12/16)\n",
            "goodreads_data_1 (1).csv\n",
            "         65,978 100%    4.84MB/s    0:00:00 (xfr#5, to-chk=11/16)\n",
            "goodreads_data_1.csv\n",
            "        126,751 100%    8.06MB/s    0:00:00 (xfr#6, to-chk=10/16)\n",
            "goodreads_data_2 (1).csv\n",
            "         46,758 100%    2.79MB/s    0:00:00 (xfr#7, to-chk=9/16)\n",
            "goodreads_data_2.csv\n",
            "        118,738 100%    6.66MB/s    0:00:00 (xfr#8, to-chk=8/16)\n",
            "goodreads_data_3 (1).csv\n",
            "          3,232 100%  175.35kB/s    0:00:00 (xfr#9, to-chk=7/16)\n",
            "goodreads_data_3.csv\n",
            "        121,398 100%    6.09MB/s    0:00:00 (xfr#10, to-chk=6/16)\n",
            "goodreads_data_4.csv\n",
            "        139,135 100%    6.32MB/s    0:00:00 (xfr#11, to-chk=5/16)\n",
            "goodreads_data_5.csv\n",
            "        130,059 100%    5.64MB/s    0:00:00 (xfr#12, to-chk=4/16)\n",
            "goodreads_data_6.csv\n",
            "         27,090 100%    1.12MB/s    0:00:00 (xfr#13, to-chk=3/16)\n",
            "ppm_20201010.csv\n",
            "        424,076 100%   15.56MB/s    0:00:00 (xfr#14, to-chk=2/16)\n",
            "temp_file\n",
            "             35 100%    1.27kB/s    0:00:00 (xfr#15, to-chk=1/16)\n",
            "test/\n",
            "GitHub Section\n",
            "/content/tmp/publishing-paid-me\n",
            "rm 'goodreads_data_0.csv'\n",
            "[master 998cd0d] remove goodreads file (test)\n",
            " 1 file changed, 1220 deletions(-)\n",
            " delete mode 100644 goodreads_data_0.csv\n",
            "Counting objects: 2, done.\n",
            "Delta compression using up to 2 threads.\n",
            "Compressing objects: 100% (2/2), done.\n",
            "Writing objects: 100% (2/2), 238 bytes | 238.00 KiB/s, done.\n",
            "Total 2 (delta 1), reused 0 (delta 0)\n",
            "remote: Resolving deltas: 100% (1/1), completed with 1 local object.\u001b[K\n",
            "To https://github.com/robert-sturrock/publishing-paid-me.git\n",
            "   cd266d4..998cd0d  master -> master\n",
            "/content\n"
          ],
          "name": "stdout"
        }
      ]
    },
    {
      "cell_type": "markdown",
      "metadata": {
        "id": "SbMnWR0fAGiR"
      },
      "source": [
        "2. Multiple files"
      ]
    },
    {
      "cell_type": "code",
      "metadata": {
        "colab": {
          "base_uri": "https://localhost:8080/"
        },
        "id": "4GWz5pQSAH-O",
        "outputId": "7cc9bf1f-8a44-4f6b-8bfc-94afec96c0ff"
      },
      "source": [
        "!git clone \"https://{GIT_TOKEN}@github.com/{GIT_USERNAME}/{GIT_REPOSITORY}.git\" ./tmp/publishing-paid-me # get git repo\r\n",
        "# !rsync -aP \"{PROJECT_PATH}\"/* ./tmp/publishing-paid-me # this gets all the files in drive I think.\r\n",
        "\r\n",
        "print(\"GitHub Section\")\r\n",
        "%cd ./tmp/publishing-paid-me\r\n",
        "!git rm goodreads_data_*.csv\r\n",
        "!git commit -m \"remove goodreads file (test)\"\r\n",
        "!git push origin \"{GIT_BRANCH_NAME}\"\r\n",
        "%cd /content\r\n",
        "\r\n",
        "# Remove directory\r\n",
        "!rm -r ./tmp"
      ],
      "execution_count": null,
      "outputs": [
        {
          "output_type": "stream",
          "text": [
            "Cloning into './tmp/publishing-paid-me'...\n",
            "remote: Enumerating objects: 37, done.\u001b[K\n",
            "remote: Counting objects: 100% (37/37), done.\u001b[K\n",
            "remote: Compressing objects: 100% (33/33), done.\u001b[K\n",
            "remote: Total 37 (delta 10), reused 13 (delta 3), pack-reused 0\u001b[K\n",
            "Unpacking objects: 100% (37/37), done.\n",
            "GitHub Section\n",
            "/content/tmp/publishing-paid-me\n",
            "rm 'goodreads_data_0 (1).csv'\n",
            "rm 'goodreads_data_1 (1).csv'\n",
            "rm 'goodreads_data_1.csv'\n",
            "rm 'goodreads_data_2 (1).csv'\n",
            "rm 'goodreads_data_2.csv'\n",
            "rm 'goodreads_data_3 (1).csv'\n",
            "rm 'goodreads_data_3.csv'\n",
            "rm 'goodreads_data_4.csv'\n",
            "rm 'goodreads_data_5.csv'\n",
            "rm 'goodreads_data_6.csv'\n",
            "[master d5272fd] remove goodreads file (test)\n",
            " 10 files changed, 5971 deletions(-)\n",
            " delete mode 100644 goodreads_data_0 (1).csv\n",
            " delete mode 100644 goodreads_data_1 (1).csv\n",
            " delete mode 100644 goodreads_data_1.csv\n",
            " delete mode 100644 goodreads_data_2 (1).csv\n",
            " delete mode 100644 goodreads_data_2.csv\n",
            " delete mode 100644 goodreads_data_3 (1).csv\n",
            " delete mode 100644 goodreads_data_3.csv\n",
            " delete mode 100644 goodreads_data_4.csv\n",
            " delete mode 100644 goodreads_data_5.csv\n",
            " delete mode 100644 goodreads_data_6.csv\n",
            "Counting objects: 2, done.\n",
            "Delta compression using up to 2 threads.\n",
            "Compressing objects: 100% (2/2), done.\n",
            "Writing objects: 100% (2/2), 237 bytes | 237.00 KiB/s, done.\n",
            "Total 2 (delta 1), reused 0 (delta 0)\n",
            "remote: Resolving deltas: 100% (1/1), completed with 1 local object.\u001b[K\n",
            "To https://github.com/robert-sturrock/publishing-paid-me.git\n",
            "   998cd0d..d5272fd  master -> master\n",
            "/content\n"
          ],
          "name": "stdout"
        }
      ]
    },
    {
      "cell_type": "markdown",
      "metadata": {
        "id": "G4dyz8Oi0dGm"
      },
      "source": [
        "## Bonus: Git revert \r\n",
        "\r\n",
        "Have to  do this since unfortunately the Goodreads API is now dead."
      ]
    },
    {
      "cell_type": "code",
      "metadata": {
        "id": "wD8zWOZz47Y5"
      },
      "source": [
        "GIT_COMMIT_MESSAGE = \"rolling back delete of data as Goodreads API is broken\"\r\n",
        "GIT_EMAIL = 'robert@sturrock.ca' \r\n",
        "GIT_NAME = 'Robert Sturrock'\r\n",
        "GIT_BRANCH_NAME = 'master'"
      ],
      "execution_count": null,
      "outputs": []
    },
    {
      "cell_type": "code",
      "metadata": {
        "colab": {
          "base_uri": "https://localhost:8080/"
        },
        "id": "x-qJg18X0lDD",
        "outputId": "066b17b6-4b80-4d20-9164-bbd2cde3313c"
      },
      "source": [
        "GIT_USERNAME = \"robert-sturrock\" \r\n",
        "GIT_TOKEN = \"50391de799dba17eec450691a028bc5319e4412a\" \r\n",
        "GIT_REPOSITORY = \"publishing-paid-me\"    \r\n",
        "\r\n",
        "# get repository\r\n",
        "!git clone \"https://{GIT_TOKEN}@github.com/{GIT_USERNAME}/{GIT_REPOSITORY}.git\" ./tmp/publishing-paid-me # get git repo\r\n",
        "\r\n",
        "# revert\r\n",
        "%cd ./tmp/publishing-paid-me\r\n",
        "!git revert '998cd0dee604fbd1deecfe513ac52d901b535f60' # commit hash\r\n",
        "!git commit -m '\"{GIT_COMMIT_MESSAGE}\"'\r\n",
        "!git config --global user.email \"{GIT_EMAIL}\"\r\n",
        "!git config --global user.name \"{GIT_NAME}\"\r\n",
        "!git push origin \"{GIT_BRANCH_NAME}\"\r\n"
      ],
      "execution_count": null,
      "outputs": [
        {
          "output_type": "stream",
          "text": [
            "Cloning into './tmp/publishing-paid-me'...\n",
            "remote: Enumerating objects: 42, done.\u001b[K\n",
            "remote: Counting objects: 100% (42/42), done.\u001b[K\n",
            "remote: Compressing objects: 100% (36/36), done.\u001b[K\n",
            "remote: Total 42 (delta 13), reused 25 (delta 5), pack-reused 0\u001b[K\n",
            "Unpacking objects: 100% (42/42), done.\n",
            "/content/tmp/publishing-paid-me/tmp/publishing-paid-me/tmp/publishing-paid-me/tmp/publishing-paid-me/tmp/publishing-paid-me/tmp/publishing-paid-me/tmp/publishing-paid-me/tmp/publishing-paid-me/tmp/publishing-paid-me\n",
            "hint: Waiting for your editor to close the file... error: unable to start editor 'editor'\n",
            "Please supply the message using either -m or -F option.\n",
            "[master c932905] \"rolling back delete of data as Goodreads API is broken\"\n",
            " 1 file changed, 1220 insertions(+)\n",
            " create mode 100644 goodreads_data_0.csv\n",
            "Counting objects: 3, done.\n",
            "Delta compression using up to 2 threads.\n",
            "Compressing objects: 100% (3/3), done.\n",
            "Writing objects: 100% (3/3), 56.45 KiB | 5.13 MiB/s, done.\n",
            "Total 3 (delta 1), reused 0 (delta 0)\n",
            "remote: Resolving deltas: 100% (1/1), completed with 1 local object.\u001b[K\n",
            "To https://github.com/robert-sturrock/publishing-paid-me.git\n",
            "   9cf1695..c932905  master -> master\n"
          ],
          "name": "stdout"
        }
      ]
    }
  ]
}