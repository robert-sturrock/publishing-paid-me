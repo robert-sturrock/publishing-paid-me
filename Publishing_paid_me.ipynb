{
  "nbformat": 4,
  "nbformat_minor": 0,
  "metadata": {
    "colab": {
      "name": "Publishing paid me.ipynb",
      "provenance": [],
      "collapsed_sections": [
        "YhciROc9lPUO",
        "QctASfsslIss",
        "N6kkKWsjQOW9",
        "PJfnxfdra0Ef",
        "Muyzabd2njBb",
        "hx3Jhx6anSN5",
        "Awub2WP87Urp"
      ],
      "toc_visible": true,
      "authorship_tag": "ABX9TyO/AiYd93F8wwsBl75t1TS3",
      "include_colab_link": true
    },
    "kernelspec": {
      "name": "python3",
      "display_name": "Python 3"
    }
  },
  "cells": [
    {
      "cell_type": "markdown",
      "metadata": {
        "id": "view-in-github",
        "colab_type": "text"
      },
      "source": [
        "<a href=\"https://colab.research.google.com/github/robert-sturrock/publishing-paid-me/blob/master/Publishing_paid_me.ipynb\" target=\"_parent\"><img src=\"https://colab.research.google.com/assets/colab-badge.svg\" alt=\"Open In Colab\"/></a>"
      ]
    },
    {
      "cell_type": "markdown",
      "metadata": {
        "id": "07b4xVGSDzTq"
      },
      "source": [
        "## Mount Google Drive + GitHub"
      ]
    },
    {
      "cell_type": "markdown",
      "metadata": {
        "id": "BzVraJPBf-hH"
      },
      "source": [
        "Mount drive and Github"
      ]
    },
    {
      "cell_type": "code",
      "metadata": {
        "colab": {
          "base_uri": "https://localhost:8080/"
        },
        "id": "OUlveEqFf9sH",
        "outputId": "c1f78478-2a69-4407-bbee-c18256f33838"
      },
      "source": [
        "from google.colab import drive\r\n",
        "from os.path import join\r\n",
        "\r\n",
        "ROOT = '/content/drive'     # default for the drive\r\n",
        "PROJ = 'My Drive/Data Projects/Publishing Paid Me'\r\n",
        "\r\n",
        "GIT_USERNAME = \"robert-sturrock\" \r\n",
        "GIT_TOKEN = \"50391de799dba17eec450691a028bc5319e4412a\" \r\n",
        "GIT_REPOSITORY = \"publishing-paid-me\"    \r\n",
        "\r\n",
        "drive.mount(ROOT)  # we mount the drive at /content/drive\r\n",
        "\r\n",
        "PROJECT_PATH = join(ROOT, PROJ)\r\n",
        "\r\n",
        "GIT_PATH = f\"https://{GIT_TOKEN}@github.com/{GIT_USERNAME}/{GIT_REPOSITORY}.git\"\r\n",
        "!mkdir ./tmp/publishing-paid-me\r\n",
        "!git clone \"{GIT_PATH}\" ./tmp/publishing-paid-me\r\n",
        "!mv ./tmp/publishing-paid-me/* \"{PROJECT_PATH}\"\r\n",
        "!rm -r ./tmp/publishing-paid-me\r\n",
        "\r\n",
        "# not sure what rsync is doing here. But I think it's copying the files back to the root\r\n",
        "# !rsync -a -P --exclude=data/ \"{PROJECT_PATH}\"/* ./"
      ],
      "execution_count": 1,
      "outputs": [
        {
          "output_type": "stream",
          "text": [
            "Mounted at /content/drive\n",
            "mkdir: cannot create directory ‘./tmp/publishing-paid-me’: No such file or directory\n",
            "Cloning into './tmp/publishing-paid-me'...\n",
            "remote: Enumerating objects: 43, done.\u001b[K\n",
            "remote: Counting objects: 100% (43/43), done.\u001b[K\n",
            "remote: Compressing objects: 100% (38/38), done.\u001b[K\n",
            "remote: Total 43 (delta 14), reused 25 (delta 4), pack-reused 0\u001b[K\n",
            "Unpacking objects: 100% (43/43), done.\n"
          ],
          "name": "stdout"
        }
      ]
    },
    {
      "cell_type": "markdown",
      "metadata": {
        "id": "7jC0MVms8des"
      },
      "source": [
        "# Publishing paid me\n",
        "\n",
        "Aim of this document is to summarise and find trends in the now 1000+ entries in the Publishing Paid Me spreadsheet. Ideas for exploration include: \n",
        "\n",
        "\n",
        "Extensions: \n",
        "* Join with Goodreads review numbers as a proxy for # of sales (dataset already on Kaggle [here](https://www.kaggle.com/jealousleopard/goodreadsbooks)"
      ]
    },
    {
      "cell_type": "code",
      "metadata": {
        "id": "Yw3d6unwbW98"
      },
      "source": [
        "#@title Set up code here{display-mode: \"form\"} \n",
        "import numpy as np\n",
        "import matplotlib as m\n",
        "import matplotlib.pyplot as plt\n",
        "from tqdm.notebook import tqdm\n",
        "\n",
        "import re as re\n",
        "import pandas as pd\n",
        "import unicodedata \n",
        "import requests\n",
        "import seaborn as sns\n",
        "%matplotlib inline"
      ],
      "execution_count": 2,
      "outputs": []
    },
    {
      "cell_type": "code",
      "metadata": {
        "id": "as5uhrwLiARO"
      },
      "source": [
        "import pandas as pd\n",
        "import numpy as np\n",
        "import seaborn as sns\n",
        "import matplotlib.pyplot as plt\n",
        "\n",
        "# Loading package for % on axis\n",
        "import matplotlib.ticker as mtick\n",
        "from matplotlib.dates import DateFormatter\n",
        "\n",
        "# set style\n",
        "# NOTE: without this the other formatting options (eg. dpi) don't actually work\n",
        "# Load packages for plotting / styling\n",
        "import matplotlib.style as style\n",
        "# print(plt.style.available)\n",
        "import seaborn as sns\n",
        "style.use('default')"
      ],
      "execution_count": 3,
      "outputs": []
    },
    {
      "cell_type": "code",
      "metadata": {
        "id": "HEbwrLH8n0vQ"
      },
      "source": [
        "# Limiting floats output to 3 decimal points\n",
        "pd.set_option('display.float_format', lambda x: '{:.3f}'.format(x)) "
      ],
      "execution_count": 4,
      "outputs": []
    },
    {
      "cell_type": "markdown",
      "metadata": {
        "id": "THWYBRpdbhCQ"
      },
      "source": [
        "## Functions"
      ]
    },
    {
      "cell_type": "markdown",
      "metadata": {
        "id": "rmiT6vsVbiuA"
      },
      "source": [
        "Set of commonly used functions for this analysis"
      ]
    },
    {
      "cell_type": "code",
      "metadata": {
        "id": "JSQz8g5hbiK2"
      },
      "source": [
        "def box_plot_splits(df, x):\n",
        "  f,ax = plt.subplots(3, 1, figsize=(12,8))\n",
        "  \n",
        "  # lower outlier dataset / counts \n",
        "  tmp = df.loc[df.payment_cleaned < 200_000]\n",
        "  counts = df.groupby(x).genre.count().reset_index()\n",
        "  counts['percent'] = counts.genre / sum(counts.genre)\n",
        "  counts = counts.sort_values(by='percent', ascending=False) \n",
        "  order = list(counts[x])\n",
        "\n",
        "  # plots\n",
        "  sns.boxplot(data=df, x=x, y='payment_cleaned', order=order, ax=ax[0])\n",
        "  sns.boxplot(data=tmp, x=x, y='payment_cleaned', order=order, ax=ax[1])\n",
        "  sns.barplot(data=counts, x=x, y='percent', ax=ax[2])\n",
        "  plt.tight_layout()"
      ],
      "execution_count": 5,
      "outputs": []
    },
    {
      "cell_type": "markdown",
      "metadata": {
        "id": "Kv1uhDSWbPjn"
      },
      "source": [
        "## Load + clean data"
      ]
    },
    {
      "cell_type": "markdown",
      "metadata": {
        "id": "paNejLvLEYjg"
      },
      "source": [
        "Data stored in Drive / Github"
      ]
    },
    {
      "cell_type": "code",
      "metadata": {
        "id": "kXN4MrUDcU9e"
      },
      "source": [
        "file_path = f\"{PROJECT_PATH}/ppm_20201010.csv\"\n",
        "df = pd.read_csv(file_path)"
      ],
      "execution_count": 6,
      "outputs": []
    },
    {
      "cell_type": "markdown",
      "metadata": {
        "id": "d5jQVes1dHyK"
      },
      "source": [
        "Rename all of the columns"
      ]
    },
    {
      "cell_type": "code",
      "metadata": {
        "id": "ghdY6vuKc-05",
        "colab": {
          "base_uri": "https://localhost:8080/",
          "height": 339
        },
        "outputId": "d9137356-097d-4ec9-9cc9-0631748d451d"
      },
      "source": [
        "cols = ['timestamp','genre','payment','rights','year','publisher','debut','agented','race','gender','sex_orient','disability','auth_name','title','comp_titles','comments']\n",
        "df.columns = cols\n",
        "df.head()"
      ],
      "execution_count": 7,
      "outputs": [
        {
          "output_type": "execute_result",
          "data": {
            "text/html": [
              "<div>\n",
              "<style scoped>\n",
              "    .dataframe tbody tr th:only-of-type {\n",
              "        vertical-align: middle;\n",
              "    }\n",
              "\n",
              "    .dataframe tbody tr th {\n",
              "        vertical-align: top;\n",
              "    }\n",
              "\n",
              "    .dataframe thead th {\n",
              "        text-align: right;\n",
              "    }\n",
              "</style>\n",
              "<table border=\"1\" class=\"dataframe\">\n",
              "  <thead>\n",
              "    <tr style=\"text-align: right;\">\n",
              "      <th></th>\n",
              "      <th>timestamp</th>\n",
              "      <th>genre</th>\n",
              "      <th>payment</th>\n",
              "      <th>rights</th>\n",
              "      <th>year</th>\n",
              "      <th>publisher</th>\n",
              "      <th>debut</th>\n",
              "      <th>agented</th>\n",
              "      <th>race</th>\n",
              "      <th>gender</th>\n",
              "      <th>sex_orient</th>\n",
              "      <th>disability</th>\n",
              "      <th>auth_name</th>\n",
              "      <th>title</th>\n",
              "      <th>comp_titles</th>\n",
              "      <th>comments</th>\n",
              "    </tr>\n",
              "  </thead>\n",
              "  <tbody>\n",
              "    <tr>\n",
              "      <th>0</th>\n",
              "      <td>6/11/2020 7:09:01</td>\n",
              "      <td>Academic</td>\n",
              "      <td>$1,000</td>\n",
              "      <td>Worldwide</td>\n",
              "      <td>2018</td>\n",
              "      <td>Springer</td>\n",
              "      <td>Yes</td>\n",
              "      <td>No</td>\n",
              "      <td>White</td>\n",
              "      <td>Cis Man</td>\n",
              "      <td>Straight</td>\n",
              "      <td>No</td>\n",
              "      <td>Moorkens Castilho Gaspari Doherty</td>\n",
              "      <td>Translation Quality Assessment</td>\n",
              "      <td>NaN</td>\n",
              "      <td>NaN</td>\n",
              "    </tr>\n",
              "    <tr>\n",
              "      <th>1</th>\n",
              "      <td>6/7/2020 0:17:09</td>\n",
              "      <td>Academic</td>\n",
              "      <td>$3,000</td>\n",
              "      <td>Worldwide</td>\n",
              "      <td>2019</td>\n",
              "      <td>University Press</td>\n",
              "      <td>No</td>\n",
              "      <td>Yes</td>\n",
              "      <td>White</td>\n",
              "      <td>NaN</td>\n",
              "      <td>Straight</td>\n",
              "      <td>No</td>\n",
              "      <td>NaN</td>\n",
              "      <td>NaN</td>\n",
              "      <td>NaN</td>\n",
              "      <td>NaN</td>\n",
              "    </tr>\n",
              "    <tr>\n",
              "      <th>2</th>\n",
              "      <td>6/9/2020 7:15:32</td>\n",
              "      <td>Academic</td>\n",
              "      <td>$0</td>\n",
              "      <td>North America Only</td>\n",
              "      <td>2011</td>\n",
              "      <td>Louisiana State University</td>\n",
              "      <td>Yes</td>\n",
              "      <td>No</td>\n",
              "      <td>White</td>\n",
              "      <td>Cis Woman</td>\n",
              "      <td>Straight</td>\n",
              "      <td>No</td>\n",
              "      <td>NaN</td>\n",
              "      <td>NaN</td>\n",
              "      <td>NaN</td>\n",
              "      <td>NaN</td>\n",
              "    </tr>\n",
              "    <tr>\n",
              "      <th>3</th>\n",
              "      <td>6/10/2020 9:23:46</td>\n",
              "      <td>Academic</td>\n",
              "      <td>$500</td>\n",
              "      <td>Worldwide</td>\n",
              "      <td>2013</td>\n",
              "      <td>Praeger</td>\n",
              "      <td>No</td>\n",
              "      <td>No</td>\n",
              "      <td>Multiracial</td>\n",
              "      <td>Cis Woman</td>\n",
              "      <td>Straight</td>\n",
              "      <td>No</td>\n",
              "      <td>NaN</td>\n",
              "      <td>NaN</td>\n",
              "      <td>NaN</td>\n",
              "      <td>NaN</td>\n",
              "    </tr>\n",
              "    <tr>\n",
              "      <th>4</th>\n",
              "      <td>6/10/2020 9:24:52</td>\n",
              "      <td>Academic</td>\n",
              "      <td>$0</td>\n",
              "      <td>Worldwide</td>\n",
              "      <td>2012</td>\n",
              "      <td>University Press</td>\n",
              "      <td>Yes</td>\n",
              "      <td>No</td>\n",
              "      <td>Multiracial</td>\n",
              "      <td>Cis Woman</td>\n",
              "      <td>Straight</td>\n",
              "      <td>No</td>\n",
              "      <td>NaN</td>\n",
              "      <td>NaN</td>\n",
              "      <td>NaN</td>\n",
              "      <td>NaN</td>\n",
              "    </tr>\n",
              "  </tbody>\n",
              "</table>\n",
              "</div>"
            ],
            "text/plain": [
              "           timestamp     genre  ... comp_titles comments\n",
              "0  6/11/2020 7:09:01  Academic  ...         NaN      NaN\n",
              "1   6/7/2020 0:17:09  Academic  ...         NaN      NaN\n",
              "2   6/9/2020 7:15:32  Academic  ...         NaN      NaN\n",
              "3  6/10/2020 9:23:46  Academic  ...         NaN      NaN\n",
              "4  6/10/2020 9:24:52  Academic  ...         NaN      NaN\n",
              "\n",
              "[5 rows x 16 columns]"
            ]
          },
          "metadata": {
            "tags": []
          },
          "execution_count": 7
        }
      ]
    },
    {
      "cell_type": "markdown",
      "metadata": {
        "id": "9Q_NONX9d-JE"
      },
      "source": [
        "Describe the dataset"
      ]
    },
    {
      "cell_type": "code",
      "metadata": {
        "id": "9ChHJE-Nd_fG",
        "colab": {
          "base_uri": "https://localhost:8080/",
          "height": 187
        },
        "outputId": "32ae930f-2486-413b-d1a3-aa87f81a17a4"
      },
      "source": [
        "df.describe()"
      ],
      "execution_count": 8,
      "outputs": [
        {
          "output_type": "execute_result",
          "data": {
            "text/html": [
              "<div>\n",
              "<style scoped>\n",
              "    .dataframe tbody tr th:only-of-type {\n",
              "        vertical-align: middle;\n",
              "    }\n",
              "\n",
              "    .dataframe tbody tr th {\n",
              "        vertical-align: top;\n",
              "    }\n",
              "\n",
              "    .dataframe thead th {\n",
              "        text-align: right;\n",
              "    }\n",
              "</style>\n",
              "<table border=\"1\" class=\"dataframe\">\n",
              "  <thead>\n",
              "    <tr style=\"text-align: right;\">\n",
              "      <th></th>\n",
              "      <th>timestamp</th>\n",
              "      <th>genre</th>\n",
              "      <th>payment</th>\n",
              "      <th>rights</th>\n",
              "      <th>year</th>\n",
              "      <th>publisher</th>\n",
              "      <th>debut</th>\n",
              "      <th>agented</th>\n",
              "      <th>race</th>\n",
              "      <th>gender</th>\n",
              "      <th>sex_orient</th>\n",
              "      <th>disability</th>\n",
              "      <th>auth_name</th>\n",
              "      <th>title</th>\n",
              "      <th>comp_titles</th>\n",
              "      <th>comments</th>\n",
              "    </tr>\n",
              "  </thead>\n",
              "  <tbody>\n",
              "    <tr>\n",
              "      <th>count</th>\n",
              "      <td>2787</td>\n",
              "      <td>2802</td>\n",
              "      <td>2802</td>\n",
              "      <td>2054</td>\n",
              "      <td>2342</td>\n",
              "      <td>2426</td>\n",
              "      <td>2297</td>\n",
              "      <td>2025</td>\n",
              "      <td>2526</td>\n",
              "      <td>2360</td>\n",
              "      <td>2012</td>\n",
              "      <td>1844</td>\n",
              "      <td>963</td>\n",
              "      <td>619</td>\n",
              "      <td>655</td>\n",
              "      <td>1195</td>\n",
              "    </tr>\n",
              "    <tr>\n",
              "      <th>unique</th>\n",
              "      <td>2512</td>\n",
              "      <td>215</td>\n",
              "      <td>276</td>\n",
              "      <td>51</td>\n",
              "      <td>34</td>\n",
              "      <td>216</td>\n",
              "      <td>26</td>\n",
              "      <td>4</td>\n",
              "      <td>46</td>\n",
              "      <td>10</td>\n",
              "      <td>19</td>\n",
              "      <td>5</td>\n",
              "      <td>505</td>\n",
              "      <td>607</td>\n",
              "      <td>309</td>\n",
              "      <td>859</td>\n",
              "    </tr>\n",
              "    <tr>\n",
              "      <th>top</th>\n",
              "      <td>6/11/2020 13:31:59</td>\n",
              "      <td>YA</td>\n",
              "      <td>$15,000</td>\n",
              "      <td>Worldwide</td>\n",
              "      <td>2018</td>\n",
              "      <td>Small/Indie</td>\n",
              "      <td>Yes</td>\n",
              "      <td>Yes</td>\n",
              "      <td>White</td>\n",
              "      <td>Cis Woman</td>\n",
              "      <td>Straight</td>\n",
              "      <td>No</td>\n",
              "      <td>Rachel Caine</td>\n",
              "      <td>Three Thieves</td>\n",
              "      <td>No</td>\n",
              "      <td>2-book deal.</td>\n",
              "    </tr>\n",
              "    <tr>\n",
              "      <th>freq</th>\n",
              "      <td>15</td>\n",
              "      <td>376</td>\n",
              "      <td>176</td>\n",
              "      <td>915</td>\n",
              "      <td>376</td>\n",
              "      <td>495</td>\n",
              "      <td>1314</td>\n",
              "      <td>1634</td>\n",
              "      <td>1926</td>\n",
              "      <td>1775</td>\n",
              "      <td>1291</td>\n",
              "      <td>1619</td>\n",
              "      <td>24</td>\n",
              "      <td>2</td>\n",
              "      <td>208</td>\n",
              "      <td>33</td>\n",
              "    </tr>\n",
              "  </tbody>\n",
              "</table>\n",
              "</div>"
            ],
            "text/plain": [
              "                 timestamp genre  ... comp_titles      comments\n",
              "count                 2787  2802  ...         655          1195\n",
              "unique                2512   215  ...         309           859\n",
              "top     6/11/2020 13:31:59    YA  ...          No  2-book deal.\n",
              "freq                    15   376  ...         208            33\n",
              "\n",
              "[4 rows x 16 columns]"
            ]
          },
          "metadata": {
            "tags": []
          },
          "execution_count": 8
        }
      ]
    },
    {
      "cell_type": "markdown",
      "metadata": {
        "id": "5vj7IKHHdGaP"
      },
      "source": [
        "Check for number of null values\n",
        "\n",
        "\n"
      ]
    },
    {
      "cell_type": "code",
      "metadata": {
        "id": "zVQusoULd1Ou",
        "colab": {
          "base_uri": "https://localhost:8080/"
        },
        "outputId": "9885a0df-732f-4e94-f0f0-566144b83d55"
      },
      "source": [
        "df.isnull().sum().sort_values()"
      ],
      "execution_count": 9,
      "outputs": [
        {
          "output_type": "execute_result",
          "data": {
            "text/plain": [
              "genre             0\n",
              "payment           0\n",
              "timestamp        15\n",
              "race            276\n",
              "publisher       376\n",
              "gender          442\n",
              "year            460\n",
              "debut           505\n",
              "rights          748\n",
              "agented         777\n",
              "sex_orient      790\n",
              "disability      958\n",
              "comments       1607\n",
              "auth_name      1839\n",
              "comp_titles    2147\n",
              "title          2183\n",
              "dtype: int64"
            ]
          },
          "metadata": {
            "tags": []
          },
          "execution_count": 9
        }
      ]
    },
    {
      "cell_type": "markdown",
      "metadata": {
        "id": "Y_sBLio_e7Wi"
      },
      "source": [
        "So initially what we are seeing is that we've got complete data for genre and payment (as required by the form), and we've generally got pretty good race, gender, and publisher info. "
      ]
    },
    {
      "cell_type": "markdown",
      "metadata": {
        "id": "Q0K4O8U1lF_8"
      },
      "source": [
        "# EDA"
      ]
    },
    {
      "cell_type": "markdown",
      "metadata": {
        "id": "YhciROc9lPUO"
      },
      "source": [
        "## Payout"
      ]
    },
    {
      "cell_type": "code",
      "metadata": {
        "id": "PqFRfYgslVO_",
        "colab": {
          "base_uri": "https://localhost:8080/"
        },
        "outputId": "24721f67-d596-48b8-c08a-8cd9736693ac"
      },
      "source": [
        "df.columns"
      ],
      "execution_count": 10,
      "outputs": [
        {
          "output_type": "execute_result",
          "data": {
            "text/plain": [
              "Index(['timestamp', 'genre', 'payment', 'rights', 'year', 'publisher', 'debut',\n",
              "       'agented', 'race', 'gender', 'sex_orient', 'disability', 'auth_name',\n",
              "       'title', 'comp_titles', 'comments'],\n",
              "      dtype='object')"
            ]
          },
          "metadata": {
            "tags": []
          },
          "execution_count": 10
        }
      ]
    },
    {
      "cell_type": "code",
      "metadata": {
        "id": "6zw7ZoiElp0c",
        "colab": {
          "base_uri": "https://localhost:8080/"
        },
        "outputId": "a5f5bccc-3b3f-4ca1-c9ee-4c70b1ad04b3"
      },
      "source": [
        "df.payment.describe()"
      ],
      "execution_count": 11,
      "outputs": [
        {
          "output_type": "execute_result",
          "data": {
            "text/plain": [
              "count        2802\n",
              "unique        276\n",
              "top       $15,000\n",
              "freq          176\n",
              "Name: payment, dtype: object"
            ]
          },
          "metadata": {
            "tags": []
          },
          "execution_count": 11
        }
      ]
    },
    {
      "cell_type": "code",
      "metadata": {
        "id": "BYuYMAXdmjqU",
        "colab": {
          "base_uri": "https://localhost:8080/"
        },
        "outputId": "16490c70-7472-4bc6-e1f5-5f3cc3ee34e9"
      },
      "source": [
        "df.payment.describe()"
      ],
      "execution_count": 12,
      "outputs": [
        {
          "output_type": "execute_result",
          "data": {
            "text/plain": [
              "count        2802\n",
              "unique        276\n",
              "top       $15,000\n",
              "freq          176\n",
              "Name: payment, dtype: object"
            ]
          },
          "metadata": {
            "tags": []
          },
          "execution_count": 12
        }
      ]
    },
    {
      "cell_type": "code",
      "metadata": {
        "id": "Fip6iNTylsx0",
        "colab": {
          "base_uri": "https://localhost:8080/"
        },
        "outputId": "fea286ec-134c-42ce-df9b-ca724833504a"
      },
      "source": [
        "df['payment_cleaned'] = df.payment.str.replace('$','')\n",
        "df['payment_cleaned'] = df.payment_cleaned.str.replace(',','').astype('float')\n",
        "df.payment_cleaned.describe()"
      ],
      "execution_count": 13,
      "outputs": [
        {
          "output_type": "execute_result",
          "data": {
            "text/plain": [
              "count      2802.000\n",
              "mean      49382.034\n",
              "std      138888.514\n",
              "min        -100.000\n",
              "25%        5500.000\n",
              "50%       18000.000\n",
              "75%       45000.000\n",
              "max     3000000.000\n",
              "Name: payment_cleaned, dtype: float64"
            ]
          },
          "metadata": {
            "tags": []
          },
          "execution_count": 13
        }
      ]
    },
    {
      "cell_type": "code",
      "metadata": {
        "id": "gDCZBfOslQtD",
        "colab": {
          "base_uri": "https://localhost:8080/",
          "height": 542
        },
        "outputId": "df535f86-ebda-42b8-ae68-3c8cb08562c3"
      },
      "source": [
        "f,ax = plt.subplots(figsize=(15,6))\n",
        "sns.histplot(data=df, x=df.payment_cleaned, kde=True, bins=200, ax=ax)\n",
        "\n",
        "# Labels:\n",
        "ax.set_xlabel('Payment')\n",
        "ax.set_ylabel('# Submissions')\n",
        "\n",
        "# formatting\n",
        "ax.set_xlim(0,1_000_000)\n",
        "formatter_dollar = mtick.FormatStrFormatter('$%1.0f')\n",
        "ax.xaxis.set_major_formatter(formatter_dollar)\n",
        "\n"
      ],
      "execution_count": 14,
      "outputs": [
        {
          "output_type": "display_data",
          "data": {
            "image/png": "[encoded data removed]",
            "text/plain": [
              "<Figure size 1500x600 with 1 Axes>"
            ]
          },
          "metadata": {
            "tags": []
          }
        }
      ]
    },
    {
      "cell_type": "markdown",
      "metadata": {
        "id": "pArWTNbUZVQ5"
      },
      "source": [
        "Let's do a zoomed in version on just the lower end of the distribution"
      ]
    },
    {
      "cell_type": "code",
      "metadata": {
        "id": "hOZ8P12KZZbl",
        "colab": {
          "base_uri": "https://localhost:8080/",
          "height": 542
        },
        "outputId": "9a29c2fe-6202-461b-95cc-937fa51de852"
      },
      "source": [
        "f,ax = plt.subplots(figsize=(8,6))\n",
        "\n",
        "# plot:\n",
        "tmp = df.loc[df.payment_cleaned < 200_000]\n",
        "sns.histplot(data=tmp, x='payment_cleaned', kde=True, bins=40, ax=ax)\n",
        "\n",
        "# labels:\n",
        "ax.set_xlabel('Payment')\n",
        "ax.set_ylabel('# Submissions')\n",
        "\n",
        "# formatting\n",
        "formatter_dollar = mtick.FormatStrFormatter('$%1.0f')\n",
        "ax.xaxis.set_major_formatter(formatter_dollar)"
      ],
      "execution_count": 15,
      "outputs": [
        {
          "output_type": "display_data",
          "data": {
            "image/png": "[encoded data removed]",
            "text/plain": [
              "<Figure size 800x600 with 1 Axes>"
            ]
          },
          "metadata": {
            "tags": []
          }
        }
      ]
    },
    {
      "cell_type": "markdown",
      "metadata": {
        "id": "8r7UDciuZqe7"
      },
      "source": [
        "Key finding here: most offers per book are low, but publishers really like round numbers (spikes at 50k, 75k, 100k, 125k, 150k, 175k per book)"
      ]
    },
    {
      "cell_type": "markdown",
      "metadata": {
        "id": "QctASfsslIss"
      },
      "source": [
        "## Genre"
      ]
    },
    {
      "cell_type": "markdown",
      "metadata": {
        "id": "47ioTrObfXdJ"
      },
      "source": [
        "Let's get a better sense of the data itself. First, what are the most popular genres?"
      ]
    },
    {
      "cell_type": "code",
      "metadata": {
        "id": "jYfcEGRxhtM1",
        "colab": {
          "base_uri": "https://localhost:8080/",
          "height": 542
        },
        "outputId": "638c1937-e552-4955-83c0-9edfa71c50ee"
      },
      "source": [
        "f,ax = plt.subplots(figsize=(5,6))\n",
        "\n",
        "tmp = df.genre.value_counts().reset_index().head(15)\n",
        "tmp = tmp.sort_values(by='genre', ascending=True)\n",
        "tmp.plot.barh(x='index', ax=ax)\n",
        "\n",
        "# Labels:\n",
        "ax.set_xlabel('Entries')\n",
        "ax.set_ylabel('')\n",
        "\n",
        "# Legend\n",
        "ax.get_legend().remove()"
      ],
      "execution_count": 16,
      "outputs": [
        {
          "output_type": "display_data",
          "data": {
            "image/png": "[encoded data removed]",
            "text/plain": [
              "<Figure size 500x600 with 1 Axes>"
            ]
          },
          "metadata": {
            "tags": []
          }
        }
      ]
    },
    {
      "cell_type": "markdown",
      "metadata": {
        "id": "7mz7RqSgkc26"
      },
      "source": [
        "Main takeaway from here: I've probably got to create a high level flag variable."
      ]
    },
    {
      "cell_type": "code",
      "metadata": {
        "id": "HQhPoS6bKjv7"
      },
      "source": [
        "pd.set_option('display.max_rows', 250)\n"
      ],
      "execution_count": 17,
      "outputs": []
    },
    {
      "cell_type": "code",
      "metadata": {
        "id": "hNABk0ikJMI1",
        "colab": {
          "base_uri": "https://localhost:8080/",
          "height": 1000
        },
        "outputId": "e0952692-6768-4d6e-d9d8-947165eb0ba3"
      },
      "source": [
        "tmp = df.genre.value_counts().reset_index()\n",
        "tmp.loc[tmp.genre > 1]"
      ],
      "execution_count": 18,
      "outputs": [
        {
          "output_type": "execute_result",
          "data": {
            "text/html": [
              "<div>\n",
              "<style scoped>\n",
              "    .dataframe tbody tr th:only-of-type {\n",
              "        vertical-align: middle;\n",
              "    }\n",
              "\n",
              "    .dataframe tbody tr th {\n",
              "        vertical-align: top;\n",
              "    }\n",
              "\n",
              "    .dataframe thead th {\n",
              "        text-align: right;\n",
              "    }\n",
              "</style>\n",
              "<table border=\"1\" class=\"dataframe\">\n",
              "  <thead>\n",
              "    <tr style=\"text-align: right;\">\n",
              "      <th></th>\n",
              "      <th>index</th>\n",
              "      <th>genre</th>\n",
              "    </tr>\n",
              "  </thead>\n",
              "  <tbody>\n",
              "    <tr>\n",
              "      <th>0</th>\n",
              "      <td>YA</td>\n",
              "      <td>376</td>\n",
              "    </tr>\n",
              "    <tr>\n",
              "      <th>1</th>\n",
              "      <td>YA, Science Fiction and Fantasy</td>\n",
              "      <td>286</td>\n",
              "    </tr>\n",
              "    <tr>\n",
              "      <th>2</th>\n",
              "      <td>Science Fiction and Fantasy</td>\n",
              "      <td>268</td>\n",
              "    </tr>\n",
              "    <tr>\n",
              "      <th>3</th>\n",
              "      <td>Literary Fiction</td>\n",
              "      <td>242</td>\n",
              "    </tr>\n",
              "    <tr>\n",
              "      <th>4</th>\n",
              "      <td>Non-Fiction</td>\n",
              "      <td>188</td>\n",
              "    </tr>\n",
              "    <tr>\n",
              "      <th>5</th>\n",
              "      <td>PB</td>\n",
              "      <td>171</td>\n",
              "    </tr>\n",
              "    <tr>\n",
              "      <th>6</th>\n",
              "      <td>MG</td>\n",
              "      <td>166</td>\n",
              "    </tr>\n",
              "    <tr>\n",
              "      <th>7</th>\n",
              "      <td>Romance</td>\n",
              "      <td>108</td>\n",
              "    </tr>\n",
              "    <tr>\n",
              "      <th>8</th>\n",
              "      <td>Thriller/Mystery</td>\n",
              "      <td>94</td>\n",
              "    </tr>\n",
              "    <tr>\n",
              "      <th>9</th>\n",
              "      <td>Non-Fiction, Memoir</td>\n",
              "      <td>68</td>\n",
              "    </tr>\n",
              "    <tr>\n",
              "      <th>10</th>\n",
              "      <td>MG, Science Fiction and Fantasy</td>\n",
              "      <td>66</td>\n",
              "    </tr>\n",
              "    <tr>\n",
              "      <th>11</th>\n",
              "      <td>YA, Contemporary</td>\n",
              "      <td>60</td>\n",
              "    </tr>\n",
              "    <tr>\n",
              "      <th>12</th>\n",
              "      <td>YA, Romance</td>\n",
              "      <td>48</td>\n",
              "    </tr>\n",
              "    <tr>\n",
              "      <th>13</th>\n",
              "      <td>Graphic Novel</td>\n",
              "      <td>38</td>\n",
              "    </tr>\n",
              "    <tr>\n",
              "      <th>14</th>\n",
              "      <td>Adult Literary Fiction</td>\n",
              "      <td>34</td>\n",
              "    </tr>\n",
              "    <tr>\n",
              "      <th>15</th>\n",
              "      <td>YA, Thriller/Mystery</td>\n",
              "      <td>32</td>\n",
              "    </tr>\n",
              "    <tr>\n",
              "      <th>16</th>\n",
              "      <td>Women's</td>\n",
              "      <td>26</td>\n",
              "    </tr>\n",
              "    <tr>\n",
              "      <th>17</th>\n",
              "      <td>YA, Historical</td>\n",
              "      <td>19</td>\n",
              "    </tr>\n",
              "    <tr>\n",
              "      <th>18</th>\n",
              "      <td>MG, Graphic Novel</td>\n",
              "      <td>17</td>\n",
              "    </tr>\n",
              "    <tr>\n",
              "      <th>19</th>\n",
              "      <td>Memoir</td>\n",
              "      <td>17</td>\n",
              "    </tr>\n",
              "    <tr>\n",
              "      <th>20</th>\n",
              "      <td>Poetry</td>\n",
              "      <td>15</td>\n",
              "    </tr>\n",
              "    <tr>\n",
              "      <th>21</th>\n",
              "      <td>Historical</td>\n",
              "      <td>13</td>\n",
              "    </tr>\n",
              "    <tr>\n",
              "      <th>22</th>\n",
              "      <td>YA, LGBT</td>\n",
              "      <td>13</td>\n",
              "    </tr>\n",
              "    <tr>\n",
              "      <th>23</th>\n",
              "      <td>PB, Non-Fiction</td>\n",
              "      <td>12</td>\n",
              "    </tr>\n",
              "    <tr>\n",
              "      <th>24</th>\n",
              "      <td>Science Fiction and Fantasy, Literary Fiction</td>\n",
              "      <td>12</td>\n",
              "    </tr>\n",
              "    <tr>\n",
              "      <th>25</th>\n",
              "      <td>YA, Graphic Novel</td>\n",
              "      <td>11</td>\n",
              "    </tr>\n",
              "    <tr>\n",
              "      <th>26</th>\n",
              "      <td>MG, Contemporary</td>\n",
              "      <td>11</td>\n",
              "    </tr>\n",
              "    <tr>\n",
              "      <th>27</th>\n",
              "      <td>Literary Fiction, Historical</td>\n",
              "      <td>9</td>\n",
              "    </tr>\n",
              "    <tr>\n",
              "      <th>28</th>\n",
              "      <td>Romance, Science Fiction and Fantasy</td>\n",
              "      <td>9</td>\n",
              "    </tr>\n",
              "    <tr>\n",
              "      <th>29</th>\n",
              "      <td>Romance, Paranormal</td>\n",
              "      <td>8</td>\n",
              "    </tr>\n",
              "    <tr>\n",
              "      <th>30</th>\n",
              "      <td>Science Fiction and Fantasy, Audio</td>\n",
              "      <td>7</td>\n",
              "    </tr>\n",
              "    <tr>\n",
              "      <th>31</th>\n",
              "      <td>Chapter Book</td>\n",
              "      <td>7</td>\n",
              "    </tr>\n",
              "    <tr>\n",
              "      <th>32</th>\n",
              "      <td>YA, Science Fiction and Fantasy, Thriller/Mystery</td>\n",
              "      <td>7</td>\n",
              "    </tr>\n",
              "    <tr>\n",
              "      <th>33</th>\n",
              "      <td>Thriller/Mystery, Literary Fiction</td>\n",
              "      <td>7</td>\n",
              "    </tr>\n",
              "    <tr>\n",
              "      <th>34</th>\n",
              "      <td>Historical Fiction</td>\n",
              "      <td>7</td>\n",
              "    </tr>\n",
              "    <tr>\n",
              "      <th>35</th>\n",
              "      <td>MG, Verse</td>\n",
              "      <td>7</td>\n",
              "    </tr>\n",
              "    <tr>\n",
              "      <th>36</th>\n",
              "      <td>Romance, M/M</td>\n",
              "      <td>6</td>\n",
              "    </tr>\n",
              "    <tr>\n",
              "      <th>37</th>\n",
              "      <td>YA, Paranormal</td>\n",
              "      <td>6</td>\n",
              "    </tr>\n",
              "    <tr>\n",
              "      <th>38</th>\n",
              "      <td>MG, Historical</td>\n",
              "      <td>6</td>\n",
              "    </tr>\n",
              "    <tr>\n",
              "      <th>39</th>\n",
              "      <td>Literary Fiction, Women's</td>\n",
              "      <td>6</td>\n",
              "    </tr>\n",
              "    <tr>\n",
              "      <th>40</th>\n",
              "      <td>Academic</td>\n",
              "      <td>6</td>\n",
              "    </tr>\n",
              "    <tr>\n",
              "      <th>41</th>\n",
              "      <td>YA, Literary Fiction</td>\n",
              "      <td>6</td>\n",
              "    </tr>\n",
              "    <tr>\n",
              "      <th>42</th>\n",
              "      <td>MG, Non-Fiction</td>\n",
              "      <td>6</td>\n",
              "    </tr>\n",
              "    <tr>\n",
              "      <th>43</th>\n",
              "      <td>Women's Fiction</td>\n",
              "      <td>6</td>\n",
              "    </tr>\n",
              "    <tr>\n",
              "      <th>44</th>\n",
              "      <td>Romance, Historical Fiction</td>\n",
              "      <td>6</td>\n",
              "    </tr>\n",
              "    <tr>\n",
              "      <th>45</th>\n",
              "      <td>YA, Non-Fiction</td>\n",
              "      <td>6</td>\n",
              "    </tr>\n",
              "    <tr>\n",
              "      <th>46</th>\n",
              "      <td>YA, Romance, Science Fiction and Fantasy</td>\n",
              "      <td>5</td>\n",
              "    </tr>\n",
              "    <tr>\n",
              "      <th>47</th>\n",
              "      <td>YA, Horror</td>\n",
              "      <td>5</td>\n",
              "    </tr>\n",
              "    <tr>\n",
              "      <th>48</th>\n",
              "      <td>Anthology, Short Stories</td>\n",
              "      <td>5</td>\n",
              "    </tr>\n",
              "    <tr>\n",
              "      <th>49</th>\n",
              "      <td>Romance, Historical</td>\n",
              "      <td>5</td>\n",
              "    </tr>\n",
              "    <tr>\n",
              "      <th>50</th>\n",
              "      <td>Anthology, Literary Fiction, Short Story</td>\n",
              "      <td>5</td>\n",
              "    </tr>\n",
              "    <tr>\n",
              "      <th>51</th>\n",
              "      <td>YA, Science Fiction And Fantasy</td>\n",
              "      <td>5</td>\n",
              "    </tr>\n",
              "    <tr>\n",
              "      <th>52</th>\n",
              "      <td>PB, Illustrator Only</td>\n",
              "      <td>4</td>\n",
              "    </tr>\n",
              "    <tr>\n",
              "      <th>53</th>\n",
              "      <td>Essays</td>\n",
              "      <td>4</td>\n",
              "    </tr>\n",
              "    <tr>\n",
              "      <th>54</th>\n",
              "      <td>YA, Science Fiction and Fantasy, LGBT</td>\n",
              "      <td>4</td>\n",
              "    </tr>\n",
              "    <tr>\n",
              "      <th>55</th>\n",
              "      <td>Non-Fiction, Memoir, Essay</td>\n",
              "      <td>4</td>\n",
              "    </tr>\n",
              "    <tr>\n",
              "      <th>56</th>\n",
              "      <td>Romance, Women's</td>\n",
              "      <td>4</td>\n",
              "    </tr>\n",
              "    <tr>\n",
              "      <th>57</th>\n",
              "      <td>Anthology</td>\n",
              "      <td>4</td>\n",
              "    </tr>\n",
              "    <tr>\n",
              "      <th>58</th>\n",
              "      <td>YA, Historical, Paranormal</td>\n",
              "      <td>4</td>\n",
              "    </tr>\n",
              "    <tr>\n",
              "      <th>59</th>\n",
              "      <td>YA, Mystery/Thriller</td>\n",
              "      <td>4</td>\n",
              "    </tr>\n",
              "    <tr>\n",
              "      <th>60</th>\n",
              "      <td>Science Fiction and Fantasy, Thriller/Mystery</td>\n",
              "      <td>4</td>\n",
              "    </tr>\n",
              "    <tr>\n",
              "      <th>61</th>\n",
              "      <td>Cookbook</td>\n",
              "      <td>3</td>\n",
              "    </tr>\n",
              "    <tr>\n",
              "      <th>62</th>\n",
              "      <td>Graphic Novel, Writer Only</td>\n",
              "      <td>3</td>\n",
              "    </tr>\n",
              "    <tr>\n",
              "      <th>63</th>\n",
              "      <td>Non-Fiction, Knitting</td>\n",
              "      <td>3</td>\n",
              "    </tr>\n",
              "    <tr>\n",
              "      <th>64</th>\n",
              "      <td>YA, Science Fiction and Fantasy, Historical</td>\n",
              "      <td>3</td>\n",
              "    </tr>\n",
              "    <tr>\n",
              "      <th>65</th>\n",
              "      <td>Adult Literary Fiction, Historical Fiction</td>\n",
              "      <td>3</td>\n",
              "    </tr>\n",
              "    <tr>\n",
              "      <th>66</th>\n",
              "      <td>Art Book, Author/Illustrator</td>\n",
              "      <td>3</td>\n",
              "    </tr>\n",
              "    <tr>\n",
              "      <th>67</th>\n",
              "      <td>PB, Author/Illustrator</td>\n",
              "      <td>3</td>\n",
              "    </tr>\n",
              "    <tr>\n",
              "      <th>68</th>\n",
              "      <td>Non-Fiction, Narrative</td>\n",
              "      <td>3</td>\n",
              "    </tr>\n",
              "    <tr>\n",
              "      <th>69</th>\n",
              "      <td>Science Fiction and Fantasy, Novella</td>\n",
              "      <td>3</td>\n",
              "    </tr>\n",
              "    <tr>\n",
              "      <th>70</th>\n",
              "      <td>PB, Non-Fiction, Illustrator</td>\n",
              "      <td>2</td>\n",
              "    </tr>\n",
              "    <tr>\n",
              "      <th>71</th>\n",
              "      <td>PB, Non-Fiction, Memoir</td>\n",
              "      <td>2</td>\n",
              "    </tr>\n",
              "    <tr>\n",
              "      <th>72</th>\n",
              "      <td>Graphic Novel, Writer</td>\n",
              "      <td>2</td>\n",
              "    </tr>\n",
              "    <tr>\n",
              "      <th>73</th>\n",
              "      <td>Humor</td>\n",
              "      <td>2</td>\n",
              "    </tr>\n",
              "    <tr>\n",
              "      <th>74</th>\n",
              "      <td>Anthology, Literary Fiction</td>\n",
              "      <td>2</td>\n",
              "    </tr>\n",
              "    <tr>\n",
              "      <th>75</th>\n",
              "      <td>Mystery/Thriller</td>\n",
              "      <td>2</td>\n",
              "    </tr>\n",
              "    <tr>\n",
              "      <th>76</th>\n",
              "      <td>PB, Science Fiction and Fantasy</td>\n",
              "      <td>2</td>\n",
              "    </tr>\n",
              "    <tr>\n",
              "      <th>77</th>\n",
              "      <td>Thriller/Mystery, Historical</td>\n",
              "      <td>2</td>\n",
              "    </tr>\n",
              "    <tr>\n",
              "      <th>78</th>\n",
              "      <td>Non-Fiction, Memoir, Nature</td>\n",
              "      <td>2</td>\n",
              "    </tr>\n",
              "    <tr>\n",
              "      <th>79</th>\n",
              "      <td>Literary Fiction, Women's, Historical</td>\n",
              "      <td>2</td>\n",
              "    </tr>\n",
              "    <tr>\n",
              "      <th>80</th>\n",
              "      <td>Non-Fiction, Humor</td>\n",
              "      <td>2</td>\n",
              "    </tr>\n",
              "    <tr>\n",
              "      <th>81</th>\n",
              "      <td>Non-Fiction, Cookbook</td>\n",
              "      <td>2</td>\n",
              "    </tr>\n",
              "    <tr>\n",
              "      <th>82</th>\n",
              "      <td>MG, LGBT</td>\n",
              "      <td>2</td>\n",
              "    </tr>\n",
              "    <tr>\n",
              "      <th>83</th>\n",
              "      <td>Non-Fiction, Essay</td>\n",
              "      <td>2</td>\n",
              "    </tr>\n",
              "    <tr>\n",
              "      <th>84</th>\n",
              "      <td>Thriller/Mystery, Paranormal</td>\n",
              "      <td>2</td>\n",
              "    </tr>\n",
              "    <tr>\n",
              "      <th>85</th>\n",
              "      <td>PB, Historical, Illustrator</td>\n",
              "      <td>2</td>\n",
              "    </tr>\n",
              "    <tr>\n",
              "      <th>86</th>\n",
              "      <td>PB, Informational</td>\n",
              "      <td>2</td>\n",
              "    </tr>\n",
              "    <tr>\n",
              "      <th>87</th>\n",
              "      <td>Non-Fiction, Memoir, Reportage</td>\n",
              "      <td>2</td>\n",
              "    </tr>\n",
              "    <tr>\n",
              "      <th>88</th>\n",
              "      <td>Science Fiction and Fantasy, Adult Literary Fi...</td>\n",
              "      <td>2</td>\n",
              "    </tr>\n",
              "    <tr>\n",
              "      <th>89</th>\n",
              "      <td>YA, Magical realism/literary fantasy</td>\n",
              "      <td>2</td>\n",
              "    </tr>\n",
              "    <tr>\n",
              "      <th>90</th>\n",
              "      <td>Non-Fiction, Travel</td>\n",
              "      <td>2</td>\n",
              "    </tr>\n",
              "    <tr>\n",
              "      <th>91</th>\n",
              "      <td>MG, Adventure</td>\n",
              "      <td>2</td>\n",
              "    </tr>\n",
              "    <tr>\n",
              "      <th>92</th>\n",
              "      <td>Memoir, Graphic Novel</td>\n",
              "      <td>2</td>\n",
              "    </tr>\n",
              "    <tr>\n",
              "      <th>93</th>\n",
              "      <td>Romance, Women's Fiction, Historical Fiction</td>\n",
              "      <td>2</td>\n",
              "    </tr>\n",
              "    <tr>\n",
              "      <th>94</th>\n",
              "      <td>Women’s</td>\n",
              "      <td>2</td>\n",
              "    </tr>\n",
              "  </tbody>\n",
              "</table>\n",
              "</div>"
            ],
            "text/plain": [
              "                                                index  genre\n",
              "0                                                  YA    376\n",
              "1                     YA, Science Fiction and Fantasy    286\n",
              "2                         Science Fiction and Fantasy    268\n",
              "3                                    Literary Fiction    242\n",
              "4                                         Non-Fiction    188\n",
              "5                                                  PB    171\n",
              "6                                                  MG    166\n",
              "7                                             Romance    108\n",
              "8                                    Thriller/Mystery     94\n",
              "9                                 Non-Fiction, Memoir     68\n",
              "10                    MG, Science Fiction and Fantasy     66\n",
              "11                                   YA, Contemporary     60\n",
              "12                                        YA, Romance     48\n",
              "13                                      Graphic Novel     38\n",
              "14                             Adult Literary Fiction     34\n",
              "15                               YA, Thriller/Mystery     32\n",
              "16                                            Women's     26\n",
              "17                                     YA, Historical     19\n",
              "18                                  MG, Graphic Novel     17\n",
              "19                                             Memoir     17\n",
              "20                                             Poetry     15\n",
              "21                                         Historical     13\n",
              "22                                           YA, LGBT     13\n",
              "23                                    PB, Non-Fiction     12\n",
              "24      Science Fiction and Fantasy, Literary Fiction     12\n",
              "25                                  YA, Graphic Novel     11\n",
              "26                                   MG, Contemporary     11\n",
              "27                       Literary Fiction, Historical      9\n",
              "28               Romance, Science Fiction and Fantasy      9\n",
              "29                                Romance, Paranormal      8\n",
              "30                 Science Fiction and Fantasy, Audio      7\n",
              "31                                       Chapter Book      7\n",
              "32  YA, Science Fiction and Fantasy, Thriller/Mystery      7\n",
              "33                 Thriller/Mystery, Literary Fiction      7\n",
              "34                                 Historical Fiction      7\n",
              "35                                          MG, Verse      7\n",
              "36                                       Romance, M/M      6\n",
              "37                                     YA, Paranormal      6\n",
              "38                                     MG, Historical      6\n",
              "39                          Literary Fiction, Women's      6\n",
              "40                                           Academic      6\n",
              "41                               YA, Literary Fiction      6\n",
              "42                                    MG, Non-Fiction      6\n",
              "43                                    Women's Fiction      6\n",
              "44                        Romance, Historical Fiction      6\n",
              "45                                    YA, Non-Fiction      6\n",
              "46           YA, Romance, Science Fiction and Fantasy      5\n",
              "47                                         YA, Horror      5\n",
              "48                           Anthology, Short Stories      5\n",
              "49                                Romance, Historical      5\n",
              "50           Anthology, Literary Fiction, Short Story      5\n",
              "51                    YA, Science Fiction And Fantasy      5\n",
              "52                               PB, Illustrator Only      4\n",
              "53                                             Essays      4\n",
              "54              YA, Science Fiction and Fantasy, LGBT      4\n",
              "55                         Non-Fiction, Memoir, Essay      4\n",
              "56                                   Romance, Women's      4\n",
              "57                                          Anthology      4\n",
              "58                         YA, Historical, Paranormal      4\n",
              "59                               YA, Mystery/Thriller      4\n",
              "60      Science Fiction and Fantasy, Thriller/Mystery      4\n",
              "61                                           Cookbook      3\n",
              "62                         Graphic Novel, Writer Only      3\n",
              "63                              Non-Fiction, Knitting      3\n",
              "64        YA, Science Fiction and Fantasy, Historical      3\n",
              "65         Adult Literary Fiction, Historical Fiction      3\n",
              "66                       Art Book, Author/Illustrator      3\n",
              "67                             PB, Author/Illustrator      3\n",
              "68                             Non-Fiction, Narrative      3\n",
              "69               Science Fiction and Fantasy, Novella      3\n",
              "70                       PB, Non-Fiction, Illustrator      2\n",
              "71                            PB, Non-Fiction, Memoir      2\n",
              "72                              Graphic Novel, Writer      2\n",
              "73                                              Humor      2\n",
              "74                        Anthology, Literary Fiction      2\n",
              "75                                   Mystery/Thriller      2\n",
              "76                    PB, Science Fiction and Fantasy      2\n",
              "77                       Thriller/Mystery, Historical      2\n",
              "78                        Non-Fiction, Memoir, Nature      2\n",
              "79              Literary Fiction, Women's, Historical      2\n",
              "80                                 Non-Fiction, Humor      2\n",
              "81                              Non-Fiction, Cookbook      2\n",
              "82                                           MG, LGBT      2\n",
              "83                                 Non-Fiction, Essay      2\n",
              "84                       Thriller/Mystery, Paranormal      2\n",
              "85                        PB, Historical, Illustrator      2\n",
              "86                                  PB, Informational      2\n",
              "87                     Non-Fiction, Memoir, Reportage      2\n",
              "88  Science Fiction and Fantasy, Adult Literary Fi...      2\n",
              "89               YA, Magical realism/literary fantasy      2\n",
              "90                                Non-Fiction, Travel      2\n",
              "91                                      MG, Adventure      2\n",
              "92                              Memoir, Graphic Novel      2\n",
              "93       Romance, Women's Fiction, Historical Fiction      2\n",
              "94                                           Women’s       2"
            ]
          },
          "metadata": {
            "tags": []
          },
          "execution_count": 18
        }
      ]
    },
    {
      "cell_type": "code",
      "metadata": {
        "id": "ZXfiHVJNJG8I"
      },
      "source": [
        "def top_genre(row):\n",
        "  if 'PB' in row['genre']: \n",
        "    return 'Picture Book'\n",
        "  if 'YA' in row['genre']:\n",
        "    return 'YA'\n",
        "  if 'Science' in row['genre']:\n",
        "    return 'Sci-Fi Fantasy'\n",
        "  if 'Literary' in row['genre']:\n",
        "    return 'Literary'\n",
        "  if 'MG' in row['genre']:\n",
        "    return 'MG'\n",
        "  if 'Romance' in row['genre']:\n",
        "    return 'Romance'\n",
        "  if 'Thriller' in row['genre']: \n",
        "    return 'Thriller/Mystery'\n",
        "  if 'Non-Fiction' in row['genre']: \n",
        "    return 'Non-Fiction'\n",
        "  else:\n",
        "    return 'Other'"
      ],
      "execution_count": 19,
      "outputs": []
    },
    {
      "cell_type": "code",
      "metadata": {
        "id": "MajVR1boNKGx",
        "colab": {
          "base_uri": "https://localhost:8080/"
        },
        "outputId": "d4d33ab6-67db-46a3-9b76-33dd3ef37522"
      },
      "source": [
        "# apply genre cleaning and view categories\n",
        "df['genre_clean'] = df.apply(top_genre, axis=1)\n",
        "df.genre_clean.value_counts()"
      ],
      "execution_count": 20,
      "outputs": [
        {
          "output_type": "execute_result",
          "data": {
            "text/plain": [
              "YA                  922\n",
              "Sci-Fi Fantasy      386\n",
              "Literary            321\n",
              "Non-Fiction         292\n",
              "MG                  226\n",
              "Picture Book        211\n",
              "Other               194\n",
              "Romance             148\n",
              "Thriller/Mystery    102\n",
              "Name: genre_clean, dtype: int64"
            ]
          },
          "metadata": {
            "tags": []
          },
          "execution_count": 20
        }
      ]
    },
    {
      "cell_type": "markdown",
      "metadata": {
        "id": "glo7ray1OvA3"
      },
      "source": [
        "Now we want to look at payout by genre, and the range of payouts"
      ]
    },
    {
      "cell_type": "code",
      "metadata": {
        "id": "BNCGFnzPXKef",
        "colab": {
          "base_uri": "https://localhost:8080/",
          "height": 807
        },
        "outputId": "ee8cff53-a9f3-42c7-f163-15c9bfbd6311"
      },
      "source": [
        "box_plot_splits(df, x='genre_clean')"
      ],
      "execution_count": 21,
      "outputs": [
        {
          "output_type": "display_data",
          "data": {
            "image/png": "[encoded data removed]",
            "text/plain": [
              "<Figure size 1200x800 with 3 Axes>"
            ]
          },
          "metadata": {
            "tags": []
          }
        }
      ]
    },
    {
      "cell_type": "markdown",
      "metadata": {
        "id": "N6kkKWsjQOW9"
      },
      "source": [
        "## Publisher data\n",
        "\n",
        "We know one of the big divides is between how much the Big 5 publishers will pay and how much independant presses will pay. Let's look at what proportion of sales are to big 5, and what the average payment differences are"
      ]
    },
    {
      "cell_type": "code",
      "metadata": {
        "id": "AAjeHRQhS09P",
        "colab": {
          "base_uri": "https://localhost:8080/"
        },
        "outputId": "66b0e54c-f85c-4ccd-a6de-5e133bd8c30c"
      },
      "source": [
        "df.publisher.nunique()"
      ],
      "execution_count": 22,
      "outputs": [
        {
          "output_type": "execute_result",
          "data": {
            "text/plain": [
              "216"
            ]
          },
          "metadata": {
            "tags": []
          },
          "execution_count": 22
        }
      ]
    },
    {
      "cell_type": "code",
      "metadata": {
        "id": "GVrGK3G-Qb-p",
        "colab": {
          "base_uri": "https://localhost:8080/"
        },
        "outputId": "67e4c1d5-0ef6-46a6-8143-0b0a5bfc54ee"
      },
      "source": [
        "df.publisher.value_counts().head(40)"
      ],
      "execution_count": 23,
      "outputs": [
        {
          "output_type": "execute_result",
          "data": {
            "text/plain": [
              "Small/Indie                            495\n",
              "Penguin Random House (and Imprints)    293\n",
              "Large (Big 5)                          265\n",
              "Mid-Size (Scholastic, Disney, etc)     239\n",
              "HarperCollins (and Imprints)           235\n",
              "Macmillan (and Imprints)               214\n",
              "Hachette (and Imprints)                116\n",
              "Simon & Schuster (and Inprints)         96\n",
              "Simon & Schuster (and Imprints)         57\n",
              "Balzer + Bray                           12\n",
              "Bloomsbury                              12\n",
              "Sourcebooks                             12\n",
              "Simon Pulse                             10\n",
              "Amazon Publishing                       10\n",
              "Self-Pub                                 9\n",
              "Nobrow                                   8\n",
              "Scholastic                               7\n",
              "Swoon Reads                              7\n",
              "University Press                         7\n",
              "Disney                                   7\n",
              "Tor                                      6\n",
              "Flux                                     6\n",
              "Page Street                              6\n",
              "HarperCollins                            5\n",
              "Harlequin                                5\n",
              "Kensington                               5\n",
              "Knopf                                    5\n",
              "Orbit                                    4\n",
              "Abrams                                   4\n",
              "Razorbill                                4\n",
              "Houghton Mifflin                         4\n",
              "Delacorte                                4\n",
              "Amazon Publishing (47 North)             4\n",
              "UK Publisher                             4\n",
              "Quirk Books                              4\n",
              "Greenwillow                              3\n",
              "Work for Hire                            3\n",
              "Putnam                                   3\n",
              "Carolrhoda                               3\n",
              "Inkyard Press                            3\n",
              "Name: publisher, dtype: int64"
            ]
          },
          "metadata": {
            "tags": []
          },
          "execution_count": 23
        }
      ]
    },
    {
      "cell_type": "code",
      "metadata": {
        "id": "59eYVr4_WIdA"
      },
      "source": [
        "# first get rid of all Nan values\n",
        "df['publisher'] = df.publisher.fillna(value='Not listed')"
      ],
      "execution_count": 24,
      "outputs": []
    },
    {
      "cell_type": "code",
      "metadata": {
        "id": "iOXKXw_zQz5O"
      },
      "source": [
        "def top_publisher(row): \n",
        "  large_pubs = ['Large','Penguin','HarperCollins','Macmillan','Hachette','Simon']\n",
        "  mid_pubs = ['Mid-Size','Disney','Scholastic']\n",
        "  small_pubs = ['Small','Sourcebooks']\n",
        "\n",
        "  # replace all NaN values\n",
        "  if any(pub in row['publisher'] for pub in small_pubs):\n",
        "    return 'Small/Indie'\n",
        "  if any(pub in row['publisher'] for pub in mid_pubs):\n",
        "    return 'Mid-Size'\n",
        "  if any(pub in row['publisher'] for pub in large_pubs):\n",
        "    return 'Big 5'\n",
        "  else: \n",
        "    return 'Other'"
      ],
      "execution_count": 25,
      "outputs": []
    },
    {
      "cell_type": "code",
      "metadata": {
        "id": "WKv9uOnZTNfY"
      },
      "source": [
        "df['publisher_clean'] = df.apply(top_publisher, axis=1)"
      ],
      "execution_count": 26,
      "outputs": []
    },
    {
      "cell_type": "code",
      "metadata": {
        "id": "rup5sRRaWQqC",
        "colab": {
          "base_uri": "https://localhost:8080/"
        },
        "outputId": "13ee0386-2b32-49f6-c747-df30cec5f326"
      },
      "source": [
        "df.publisher_clean.value_counts()"
      ],
      "execution_count": 27,
      "outputs": [
        {
          "output_type": "execute_result",
          "data": {
            "text/plain": [
              "Big 5          1303\n",
              "Other           730\n",
              "Small/Indie     510\n",
              "Mid-Size        259\n",
              "Name: publisher_clean, dtype: int64"
            ]
          },
          "metadata": {
            "tags": []
          },
          "execution_count": 27
        }
      ]
    },
    {
      "cell_type": "markdown",
      "metadata": {
        "id": "55rtEqaUWalM"
      },
      "source": [
        "Unfortunately there's quite a bit of sorting that would need to be done in order to properly capture that long tail of imprints. But hopefully the well categorized top is good enough"
      ]
    },
    {
      "cell_type": "code",
      "metadata": {
        "id": "ZsT-29KrWlIs",
        "colab": {
          "base_uri": "https://localhost:8080/",
          "height": 807
        },
        "outputId": "8fedb329-c5c9-4b3b-c438-4ac30fcb71e7"
      },
      "source": [
        "box_plot_splits(df, x='publisher_clean')"
      ],
      "execution_count": 28,
      "outputs": [
        {
          "output_type": "display_data",
          "data": {
            "image/png": "[encoded data removed]",
            "text/plain": [
              "<Figure size 1200x800 with 3 Axes>"
            ]
          },
          "metadata": {
            "tags": []
          }
        }
      ]
    },
    {
      "cell_type": "markdown",
      "metadata": {
        "id": "PJfnxfdra0Ef"
      },
      "source": [
        "## Gender / race\n",
        "\n",
        "Basic analysis across different categories. Start first by making the race data more managable / easy to visualise on charts\n",
        "\n"
      ]
    },
    {
      "cell_type": "code",
      "metadata": {
        "id": "xmBrdyb2bKKX",
        "colab": {
          "base_uri": "https://localhost:8080/",
          "height": 359
        },
        "outputId": "133342a1-ce38-4093-8b2a-a4568222b09f"
      },
      "source": [
        "df.head()"
      ],
      "execution_count": 29,
      "outputs": [
        {
          "output_type": "execute_result",
          "data": {
            "text/html": [
              "<div>\n",
              "<style scoped>\n",
              "    .dataframe tbody tr th:only-of-type {\n",
              "        vertical-align: middle;\n",
              "    }\n",
              "\n",
              "    .dataframe tbody tr th {\n",
              "        vertical-align: top;\n",
              "    }\n",
              "\n",
              "    .dataframe thead th {\n",
              "        text-align: right;\n",
              "    }\n",
              "</style>\n",
              "<table border=\"1\" class=\"dataframe\">\n",
              "  <thead>\n",
              "    <tr style=\"text-align: right;\">\n",
              "      <th></th>\n",
              "      <th>timestamp</th>\n",
              "      <th>genre</th>\n",
              "      <th>payment</th>\n",
              "      <th>rights</th>\n",
              "      <th>year</th>\n",
              "      <th>publisher</th>\n",
              "      <th>debut</th>\n",
              "      <th>agented</th>\n",
              "      <th>race</th>\n",
              "      <th>gender</th>\n",
              "      <th>sex_orient</th>\n",
              "      <th>disability</th>\n",
              "      <th>auth_name</th>\n",
              "      <th>title</th>\n",
              "      <th>comp_titles</th>\n",
              "      <th>comments</th>\n",
              "      <th>payment_cleaned</th>\n",
              "      <th>genre_clean</th>\n",
              "      <th>publisher_clean</th>\n",
              "    </tr>\n",
              "  </thead>\n",
              "  <tbody>\n",
              "    <tr>\n",
              "      <th>0</th>\n",
              "      <td>6/11/2020 7:09:01</td>\n",
              "      <td>Academic</td>\n",
              "      <td>$1,000</td>\n",
              "      <td>Worldwide</td>\n",
              "      <td>2018</td>\n",
              "      <td>Springer</td>\n",
              "      <td>Yes</td>\n",
              "      <td>No</td>\n",
              "      <td>White</td>\n",
              "      <td>Cis Man</td>\n",
              "      <td>Straight</td>\n",
              "      <td>No</td>\n",
              "      <td>Moorkens Castilho Gaspari Doherty</td>\n",
              "      <td>Translation Quality Assessment</td>\n",
              "      <td>NaN</td>\n",
              "      <td>NaN</td>\n",
              "      <td>1000.000</td>\n",
              "      <td>Other</td>\n",
              "      <td>Other</td>\n",
              "    </tr>\n",
              "    <tr>\n",
              "      <th>1</th>\n",
              "      <td>6/7/2020 0:17:09</td>\n",
              "      <td>Academic</td>\n",
              "      <td>$3,000</td>\n",
              "      <td>Worldwide</td>\n",
              "      <td>2019</td>\n",
              "      <td>University Press</td>\n",
              "      <td>No</td>\n",
              "      <td>Yes</td>\n",
              "      <td>White</td>\n",
              "      <td>NaN</td>\n",
              "      <td>Straight</td>\n",
              "      <td>No</td>\n",
              "      <td>NaN</td>\n",
              "      <td>NaN</td>\n",
              "      <td>NaN</td>\n",
              "      <td>NaN</td>\n",
              "      <td>3000.000</td>\n",
              "      <td>Other</td>\n",
              "      <td>Other</td>\n",
              "    </tr>\n",
              "    <tr>\n",
              "      <th>2</th>\n",
              "      <td>6/9/2020 7:15:32</td>\n",
              "      <td>Academic</td>\n",
              "      <td>$0</td>\n",
              "      <td>North America Only</td>\n",
              "      <td>2011</td>\n",
              "      <td>Louisiana State University</td>\n",
              "      <td>Yes</td>\n",
              "      <td>No</td>\n",
              "      <td>White</td>\n",
              "      <td>Cis Woman</td>\n",
              "      <td>Straight</td>\n",
              "      <td>No</td>\n",
              "      <td>NaN</td>\n",
              "      <td>NaN</td>\n",
              "      <td>NaN</td>\n",
              "      <td>NaN</td>\n",
              "      <td>0.000</td>\n",
              "      <td>Other</td>\n",
              "      <td>Other</td>\n",
              "    </tr>\n",
              "    <tr>\n",
              "      <th>3</th>\n",
              "      <td>6/10/2020 9:23:46</td>\n",
              "      <td>Academic</td>\n",
              "      <td>$500</td>\n",
              "      <td>Worldwide</td>\n",
              "      <td>2013</td>\n",
              "      <td>Praeger</td>\n",
              "      <td>No</td>\n",
              "      <td>No</td>\n",
              "      <td>Multiracial</td>\n",
              "      <td>Cis Woman</td>\n",
              "      <td>Straight</td>\n",
              "      <td>No</td>\n",
              "      <td>NaN</td>\n",
              "      <td>NaN</td>\n",
              "      <td>NaN</td>\n",
              "      <td>NaN</td>\n",
              "      <td>500.000</td>\n",
              "      <td>Other</td>\n",
              "      <td>Other</td>\n",
              "    </tr>\n",
              "    <tr>\n",
              "      <th>4</th>\n",
              "      <td>6/10/2020 9:24:52</td>\n",
              "      <td>Academic</td>\n",
              "      <td>$0</td>\n",
              "      <td>Worldwide</td>\n",
              "      <td>2012</td>\n",
              "      <td>University Press</td>\n",
              "      <td>Yes</td>\n",
              "      <td>No</td>\n",
              "      <td>Multiracial</td>\n",
              "      <td>Cis Woman</td>\n",
              "      <td>Straight</td>\n",
              "      <td>No</td>\n",
              "      <td>NaN</td>\n",
              "      <td>NaN</td>\n",
              "      <td>NaN</td>\n",
              "      <td>NaN</td>\n",
              "      <td>0.000</td>\n",
              "      <td>Other</td>\n",
              "      <td>Other</td>\n",
              "    </tr>\n",
              "  </tbody>\n",
              "</table>\n",
              "</div>"
            ],
            "text/plain": [
              "           timestamp     genre  ... genre_clean publisher_clean\n",
              "0  6/11/2020 7:09:01  Academic  ...       Other           Other\n",
              "1   6/7/2020 0:17:09  Academic  ...       Other           Other\n",
              "2   6/9/2020 7:15:32  Academic  ...       Other           Other\n",
              "3  6/10/2020 9:23:46  Academic  ...       Other           Other\n",
              "4  6/10/2020 9:24:52  Academic  ...       Other           Other\n",
              "\n",
              "[5 rows x 19 columns]"
            ]
          },
          "metadata": {
            "tags": []
          },
          "execution_count": 29
        }
      ]
    },
    {
      "cell_type": "code",
      "metadata": {
        "id": "zHDrQ3N0UXb1",
        "colab": {
          "base_uri": "https://localhost:8080/",
          "height": 962
        },
        "outputId": "98e81b8a-2233-4ce9-d7d1-bf18f064dbef"
      },
      "source": [
        "df.groupby('race').payment_cleaned.agg(['mean','count']).reset_index().sort_values(by='count', ascending=False).head(30)"
      ],
      "execution_count": 30,
      "outputs": [
        {
          "output_type": "execute_result",
          "data": {
            "text/html": [
              "<div>\n",
              "<style scoped>\n",
              "    .dataframe tbody tr th:only-of-type {\n",
              "        vertical-align: middle;\n",
              "    }\n",
              "\n",
              "    .dataframe tbody tr th {\n",
              "        vertical-align: top;\n",
              "    }\n",
              "\n",
              "    .dataframe thead th {\n",
              "        text-align: right;\n",
              "    }\n",
              "</style>\n",
              "<table border=\"1\" class=\"dataframe\">\n",
              "  <thead>\n",
              "    <tr style=\"text-align: right;\">\n",
              "      <th></th>\n",
              "      <th>race</th>\n",
              "      <th>mean</th>\n",
              "      <th>count</th>\n",
              "    </tr>\n",
              "  </thead>\n",
              "  <tbody>\n",
              "    <tr>\n",
              "      <th>44</th>\n",
              "      <td>White</td>\n",
              "      <td>42099.193</td>\n",
              "      <td>1926</td>\n",
              "    </tr>\n",
              "    <tr>\n",
              "      <th>4</th>\n",
              "      <td>Black</td>\n",
              "      <td>97863.896</td>\n",
              "      <td>134</td>\n",
              "    </tr>\n",
              "    <tr>\n",
              "      <th>11</th>\n",
              "      <td>East Asian</td>\n",
              "      <td>77724.828</td>\n",
              "      <td>116</td>\n",
              "    </tr>\n",
              "    <tr>\n",
              "      <th>28</th>\n",
              "      <td>Multiracial</td>\n",
              "      <td>63525.178</td>\n",
              "      <td>73</td>\n",
              "    </tr>\n",
              "    <tr>\n",
              "      <th>21</th>\n",
              "      <td>Latin American</td>\n",
              "      <td>38274.746</td>\n",
              "      <td>59</td>\n",
              "    </tr>\n",
              "    <tr>\n",
              "      <th>17</th>\n",
              "      <td>Indian/South Asian</td>\n",
              "      <td>35480.804</td>\n",
              "      <td>56</td>\n",
              "    </tr>\n",
              "    <tr>\n",
              "      <th>39</th>\n",
              "      <td>Southeast Asian</td>\n",
              "      <td>49440.421</td>\n",
              "      <td>38</td>\n",
              "    </tr>\n",
              "    <tr>\n",
              "      <th>0</th>\n",
              "      <td>Arab/West Asian/Middle Eastern</td>\n",
              "      <td>24694.444</td>\n",
              "      <td>18</td>\n",
              "    </tr>\n",
              "    <tr>\n",
              "      <th>32</th>\n",
              "      <td>Nonwhite</td>\n",
              "      <td>47750.000</td>\n",
              "      <td>12</td>\n",
              "    </tr>\n",
              "    <tr>\n",
              "      <th>29</th>\n",
              "      <td>Native American/First Nations</td>\n",
              "      <td>94777.778</td>\n",
              "      <td>9</td>\n",
              "    </tr>\n",
              "    <tr>\n",
              "      <th>26</th>\n",
              "      <td>Latin American, White</td>\n",
              "      <td>7200.000</td>\n",
              "      <td>9</td>\n",
              "    </tr>\n",
              "    <tr>\n",
              "      <th>23</th>\n",
              "      <td>Latin American, Multiracial</td>\n",
              "      <td>25642.857</td>\n",
              "      <td>7</td>\n",
              "    </tr>\n",
              "    <tr>\n",
              "      <th>2</th>\n",
              "      <td>Arab/West Asian/Middle Eastern, White</td>\n",
              "      <td>85400.000</td>\n",
              "      <td>5</td>\n",
              "    </tr>\n",
              "    <tr>\n",
              "      <th>16</th>\n",
              "      <td>East Asian, White, Multiracial</td>\n",
              "      <td>61500.000</td>\n",
              "      <td>5</td>\n",
              "    </tr>\n",
              "    <tr>\n",
              "      <th>10</th>\n",
              "      <td>Black, White, Multiracial</td>\n",
              "      <td>22900.000</td>\n",
              "      <td>5</td>\n",
              "    </tr>\n",
              "    <tr>\n",
              "      <th>34</th>\n",
              "      <td>Other</td>\n",
              "      <td>9333.333</td>\n",
              "      <td>3</td>\n",
              "    </tr>\n",
              "    <tr>\n",
              "      <th>35</th>\n",
              "      <td>Pacific Islander</td>\n",
              "      <td>24500.000</td>\n",
              "      <td>3</td>\n",
              "    </tr>\n",
              "    <tr>\n",
              "      <th>3</th>\n",
              "      <td>Arab/West Asian/Middle Eastern, White, Multira...</td>\n",
              "      <td>53000.000</td>\n",
              "      <td>3</td>\n",
              "    </tr>\n",
              "    <tr>\n",
              "      <th>27</th>\n",
              "      <td>Latin American, White, Multiracial</td>\n",
              "      <td>28500.000</td>\n",
              "      <td>3</td>\n",
              "    </tr>\n",
              "    <tr>\n",
              "      <th>8</th>\n",
              "      <td>Black, Latin American, White, Multiracial</td>\n",
              "      <td>8266.667</td>\n",
              "      <td>3</td>\n",
              "    </tr>\n",
              "    <tr>\n",
              "      <th>25</th>\n",
              "      <td>Latin American, Nonwhite, Multiracial</td>\n",
              "      <td>257500.000</td>\n",
              "      <td>3</td>\n",
              "    </tr>\n",
              "    <tr>\n",
              "      <th>30</th>\n",
              "      <td>Native American/First Nations, White</td>\n",
              "      <td>28333.333</td>\n",
              "      <td>3</td>\n",
              "    </tr>\n",
              "    <tr>\n",
              "      <th>43</th>\n",
              "      <td>Southeast Asian, White, Multiracial</td>\n",
              "      <td>19333.333</td>\n",
              "      <td>3</td>\n",
              "    </tr>\n",
              "    <tr>\n",
              "      <th>22</th>\n",
              "      <td>Latin American, Arab/West Asian/Middle Eastern...</td>\n",
              "      <td>37500.000</td>\n",
              "      <td>2</td>\n",
              "    </tr>\n",
              "    <tr>\n",
              "      <th>37</th>\n",
              "      <td>Pacific Islander, White, Multiracial</td>\n",
              "      <td>40000.000</td>\n",
              "      <td>2</td>\n",
              "    </tr>\n",
              "    <tr>\n",
              "      <th>24</th>\n",
              "      <td>Latin American, Native American/First Nations,...</td>\n",
              "      <td>57000.000</td>\n",
              "      <td>2</td>\n",
              "    </tr>\n",
              "    <tr>\n",
              "      <th>20</th>\n",
              "      <td>Indian/South Asian, White, Multiracial</td>\n",
              "      <td>51550.000</td>\n",
              "      <td>2</td>\n",
              "    </tr>\n",
              "    <tr>\n",
              "      <th>19</th>\n",
              "      <td>Indian/South Asian, White</td>\n",
              "      <td>62500.000</td>\n",
              "      <td>2</td>\n",
              "    </tr>\n",
              "    <tr>\n",
              "      <th>40</th>\n",
              "      <td>Southeast Asian, Multiracial</td>\n",
              "      <td>195000.000</td>\n",
              "      <td>2</td>\n",
              "    </tr>\n",
              "    <tr>\n",
              "      <th>15</th>\n",
              "      <td>East Asian, White</td>\n",
              "      <td>60500.000</td>\n",
              "      <td>2</td>\n",
              "    </tr>\n",
              "  </tbody>\n",
              "</table>\n",
              "</div>"
            ],
            "text/plain": [
              "                                                 race       mean  count\n",
              "44                                              White  42099.193   1926\n",
              "4                                               Black  97863.896    134\n",
              "11                                         East Asian  77724.828    116\n",
              "28                                        Multiracial  63525.178     73\n",
              "21                                     Latin American  38274.746     59\n",
              "17                                 Indian/South Asian  35480.804     56\n",
              "39                                    Southeast Asian  49440.421     38\n",
              "0                      Arab/West Asian/Middle Eastern  24694.444     18\n",
              "32                                           Nonwhite  47750.000     12\n",
              "29                      Native American/First Nations  94777.778      9\n",
              "26                              Latin American, White   7200.000      9\n",
              "23                        Latin American, Multiracial  25642.857      7\n",
              "2               Arab/West Asian/Middle Eastern, White  85400.000      5\n",
              "16                     East Asian, White, Multiracial  61500.000      5\n",
              "10                          Black, White, Multiracial  22900.000      5\n",
              "34                                              Other   9333.333      3\n",
              "35                                   Pacific Islander  24500.000      3\n",
              "3   Arab/West Asian/Middle Eastern, White, Multira...  53000.000      3\n",
              "27                 Latin American, White, Multiracial  28500.000      3\n",
              "8           Black, Latin American, White, Multiracial   8266.667      3\n",
              "25              Latin American, Nonwhite, Multiracial 257500.000      3\n",
              "30               Native American/First Nations, White  28333.333      3\n",
              "43                Southeast Asian, White, Multiracial  19333.333      3\n",
              "22  Latin American, Arab/West Asian/Middle Eastern...  37500.000      2\n",
              "37               Pacific Islander, White, Multiracial  40000.000      2\n",
              "24  Latin American, Native American/First Nations,...  57000.000      2\n",
              "20             Indian/South Asian, White, Multiracial  51550.000      2\n",
              "19                          Indian/South Asian, White  62500.000      2\n",
              "40                       Southeast Asian, Multiracial 195000.000      2\n",
              "15                                  East Asian, White  60500.000      2"
            ]
          },
          "metadata": {
            "tags": []
          },
          "execution_count": 30
        }
      ]
    },
    {
      "cell_type": "markdown",
      "metadata": {
        "id": "uNVqjEuWUuKQ"
      },
      "source": [
        "So a number of these categories overlap. In order to make it easier to actually see the results we are going to group together any categories with multiple as \"Multiracial\". \n",
        "\n",
        "I'm also going to one that is just \"White, Black, and Other\" - and look at the ranges"
      ]
    },
    {
      "cell_type": "code",
      "metadata": {
        "id": "1jX_ZtTQWAFb"
      },
      "source": [
        "def white_black_other(row):\n",
        "  if row['race'] in ('White','Black'):\n",
        "    return row['race']\n",
        "  else:\n",
        "    return 'Other'"
      ],
      "execution_count": 31,
      "outputs": []
    },
    {
      "cell_type": "code",
      "metadata": {
        "id": "Buce1cHztPvi",
        "colab": {
          "base_uri": "https://localhost:8080/"
        },
        "outputId": "cd8e3149-f7ae-463b-fdec-128e58376d6c"
      },
      "source": [
        "type(df.race)"
      ],
      "execution_count": 32,
      "outputs": [
        {
          "output_type": "execute_result",
          "data": {
            "text/plain": [
              "pandas.core.series.Series"
            ]
          },
          "metadata": {
            "tags": []
          },
          "execution_count": 32
        }
      ]
    },
    {
      "cell_type": "code",
      "metadata": {
        "id": "RURHZ7gIIKEU"
      },
      "source": [
        "# fill in nan values which cause errors\n",
        "df['race'] = df.race.fillna(value='Not specified')"
      ],
      "execution_count": 33,
      "outputs": []
    },
    {
      "cell_type": "code",
      "metadata": {
        "id": "FtNHRPrjsD9b"
      },
      "source": [
        "def race_group(row):\n",
        "  if row['race'] in ('White','Black'):\n",
        "    return row['race']\n",
        "  if ',' in row['race'] or row['race']=='Multiracial':\n",
        "    return \"Multiracial\"\n",
        "  if 'Asian' in row['race']:\n",
        "    return 'Asian'\n",
        "  if 'Latin American' in row['race']:\n",
        "    return 'Latin American'\n",
        "  else:\n",
        "    return 'Other'"
      ],
      "execution_count": 34,
      "outputs": []
    },
    {
      "cell_type": "code",
      "metadata": {
        "id": "HtXqBehKWIdD"
      },
      "source": [
        "df['race_group'] = df.apply(white_black_other, axis=1)\n",
        "df['race_group_detail'] = df.apply(race_group, axis=1)\n"
      ],
      "execution_count": 35,
      "outputs": []
    },
    {
      "cell_type": "code",
      "metadata": {
        "id": "3X9rtFLaWN7V",
        "colab": {
          "base_uri": "https://localhost:8080/"
        },
        "outputId": "e9aa3334-3b72-4afe-83c0-778eac45a8ff"
      },
      "source": [
        "df.race_group.value_counts()"
      ],
      "execution_count": 36,
      "outputs": [
        {
          "output_type": "execute_result",
          "data": {
            "text/plain": [
              "White    1926\n",
              "Other     742\n",
              "Black     134\n",
              "Name: race_group, dtype: int64"
            ]
          },
          "metadata": {
            "tags": []
          },
          "execution_count": 36
        }
      ]
    },
    {
      "cell_type": "code",
      "metadata": {
        "id": "jmOvDTlaIvf8",
        "colab": {
          "base_uri": "https://localhost:8080/"
        },
        "outputId": "99563152-a915-41c6-c0dc-068e308a8a68"
      },
      "source": [
        "df.race_group_detail.value_counts()"
      ],
      "execution_count": 37,
      "outputs": [
        {
          "output_type": "execute_result",
          "data": {
            "text/plain": [
              "White             1926\n",
              "Other              303\n",
              "Asian              229\n",
              "Multiracial        151\n",
              "Black              134\n",
              "Latin American      59\n",
              "Name: race_group_detail, dtype: int64"
            ]
          },
          "metadata": {
            "tags": []
          },
          "execution_count": 37
        }
      ]
    },
    {
      "cell_type": "markdown",
      "metadata": {
        "id": "FBL6eDJcWqka"
      },
      "source": [
        "Let's look at the how the distribution of payment looks for these different groups of writers"
      ]
    },
    {
      "cell_type": "code",
      "metadata": {
        "id": "PP4YjWSJXkzH",
        "colab": {
          "base_uri": "https://localhost:8080/",
          "height": 483
        },
        "outputId": "ff015a4e-50a6-4adf-e8bd-2d0a9707bbe0"
      },
      "source": [
        "sns.boxplot(data=df, y='payment_cleaned',x='race_group')"
      ],
      "execution_count": 38,
      "outputs": [
        {
          "output_type": "execute_result",
          "data": {
            "text/plain": [
              "<matplotlib.axes._subplots.AxesSubplot at 0x7fa458149c50>"
            ]
          },
          "metadata": {
            "tags": []
          },
          "execution_count": 38
        },
        {
          "output_type": "display_data",
          "data": {
            "image/png": "[encoded data removed]",
            "text/plain": [
              "<Figure size 640x480 with 1 Axes>"
            ]
          },
          "metadata": {
            "tags": []
          }
        }
      ]
    },
    {
      "cell_type": "markdown",
      "metadata": {
        "id": "PnVEfB-sX31E"
      },
      "source": [
        "Truncate the results so that we don't have as wide outliers"
      ]
    },
    {
      "cell_type": "code",
      "metadata": {
        "id": "_QZauzLcYQhu",
        "colab": {
          "base_uri": "https://localhost:8080/",
          "height": 467
        },
        "outputId": "cfcdc687-ebde-4844-e416-bde181d21a34"
      },
      "source": [
        "tmp = df.loc[df.payment_cleaned < 250_000]\n",
        "sns.boxplot(data=tmp, y='payment_cleaned',x='race_group')"
      ],
      "execution_count": 39,
      "outputs": [
        {
          "output_type": "execute_result",
          "data": {
            "text/plain": [
              "<matplotlib.axes._subplots.AxesSubplot at 0x7fa45806c1d0>"
            ]
          },
          "metadata": {
            "tags": []
          },
          "execution_count": 39
        },
        {
          "output_type": "display_data",
          "data": {
            "image/png": "[encoded data removed]",
            "text/plain": [
              "<Figure size 640x480 with 1 Axes>"
            ]
          },
          "metadata": {
            "tags": []
          }
        }
      ]
    },
    {
      "cell_type": "markdown",
      "metadata": {
        "id": "BWdH2gJHYXtB"
      },
      "source": [
        "That's a bit surprising - seems like the distributions are very similar - black writers are just missing out on some of the larger deals, but it looks more like an artifact of having fewer observations"
      ]
    },
    {
      "cell_type": "code",
      "metadata": {
        "id": "QoXdk5NiZ3Ei",
        "colab": {
          "base_uri": "https://localhost:8080/"
        },
        "outputId": "22653883-9b7f-4d8a-d6be-dd1500ca1f45"
      },
      "source": [
        "df.groupby('race_group').payment_cleaned.mean()"
      ],
      "execution_count": 40,
      "outputs": [
        {
          "output_type": "execute_result",
          "data": {
            "text/plain": [
              "race_group\n",
              "Black   97863.896\n",
              "Other   59530.530\n",
              "White   42099.193\n",
              "Name: payment_cleaned, dtype: float64"
            ]
          },
          "metadata": {
            "tags": []
          },
          "execution_count": 40
        }
      ]
    },
    {
      "cell_type": "code",
      "metadata": {
        "id": "RLpPHD9XaIy3",
        "colab": {
          "base_uri": "https://localhost:8080/"
        },
        "outputId": "f06aa61b-f069-4798-c389-80700943d41e"
      },
      "source": [
        "df.groupby('race_group').payment_cleaned.median()"
      ],
      "execution_count": 41,
      "outputs": [
        {
          "output_type": "execute_result",
          "data": {
            "text/plain": [
              "race_group\n",
              "Black   25000.000\n",
              "Other   19000.000\n",
              "White   17500.000\n",
              "Name: payment_cleaned, dtype: float64"
            ]
          },
          "metadata": {
            "tags": []
          },
          "execution_count": 41
        }
      ]
    },
    {
      "cell_type": "markdown",
      "metadata": {
        "id": "xOb-veqcaMq-"
      },
      "source": [
        "But we also need to make this a bit easier to understand. I'm going to create a bucketed version of this for the three categories "
      ]
    },
    {
      "cell_type": "code",
      "metadata": {
        "id": "3lMSjSsPdYQN"
      },
      "source": [
        "df['payment_category'] = pd.cut(df.payment_cleaned, \n",
        "                                bins = (-101,10_000, 20_000, 30_000, 50_000, 100_000, 5_000_000), \n",
        "                                labels = ['0-$10k','$10k-$20k','$20k-$30k','$30k-$50k','$50k-$100k','$100k+'], \n",
        "                                include_lowest = True) "
      ],
      "execution_count": 42,
      "outputs": []
    },
    {
      "cell_type": "code",
      "metadata": {
        "id": "8KMk0-ZUfr8I",
        "colab": {
          "base_uri": "https://localhost:8080/"
        },
        "outputId": "39a1de3e-b183-4566-90cf-c8d090099450"
      },
      "source": [
        "df.payment_category.describe()"
      ],
      "execution_count": 43,
      "outputs": [
        {
          "output_type": "execute_result",
          "data": {
            "text/plain": [
              "count       2802\n",
              "unique         6\n",
              "top       0-$10k\n",
              "freq        1062\n",
              "Name: payment_category, dtype: object"
            ]
          },
          "metadata": {
            "tags": []
          },
          "execution_count": 43
        }
      ]
    },
    {
      "cell_type": "code",
      "metadata": {
        "id": "dYpD_LjUgwnz",
        "colab": {
          "base_uri": "https://localhost:8080/"
        },
        "outputId": "a596c578-7efb-4672-8bbf-30addfdaed13"
      },
      "source": [
        "df.payment_category.value_counts()"
      ],
      "execution_count": 44,
      "outputs": [
        {
          "output_type": "execute_result",
          "data": {
            "text/plain": [
              "0-$10k        1062\n",
              "$10k-$20k      505\n",
              "$30k-$50k      364\n",
              "$20k-$30k      322\n",
              "$50k-$100k     282\n",
              "$100k+         267\n",
              "Name: payment_category, dtype: int64"
            ]
          },
          "metadata": {
            "tags": []
          },
          "execution_count": 44
        }
      ]
    },
    {
      "cell_type": "code",
      "metadata": {
        "id": "AI6JS5oofwyn",
        "colab": {
          "base_uri": "https://localhost:8080/"
        },
        "outputId": "0e02212a-621f-4435-9feb-cb4e9b30cdbf"
      },
      "source": [
        "df.payment_cleaned.describe()"
      ],
      "execution_count": 45,
      "outputs": [
        {
          "output_type": "execute_result",
          "data": {
            "text/plain": [
              "count      2802.000\n",
              "mean      49382.034\n",
              "std      138888.514\n",
              "min        -100.000\n",
              "25%        5500.000\n",
              "50%       18000.000\n",
              "75%       45000.000\n",
              "max     3000000.000\n",
              "Name: payment_cleaned, dtype: float64"
            ]
          },
          "metadata": {
            "tags": []
          },
          "execution_count": 45
        }
      ]
    },
    {
      "cell_type": "code",
      "metadata": {
        "id": "Yp4-c_EIeq1g",
        "colab": {
          "base_uri": "https://localhost:8080/"
        },
        "outputId": "33bc033e-e263-4887-d7de-c627d723eb5a"
      },
      "source": [
        "# Let's look at \n",
        "tmp = (df.groupby(['race_group','payment_category']).payment_cleaned.count() / \n",
        "        df.groupby(['race_group']).payment_cleaned.count())\n",
        "\n",
        "tmp\n"
      ],
      "execution_count": 46,
      "outputs": [
        {
          "output_type": "execute_result",
          "data": {
            "text/plain": [
              "race_group  payment_category\n",
              "Black       0-$10k             0.254\n",
              "            $10k-$20k          0.224\n",
              "            $20k-$30k          0.112\n",
              "            $30k-$50k          0.179\n",
              "            $50k-$100k         0.097\n",
              "            $100k+             0.134\n",
              "Other       0-$10k             0.379\n",
              "            $10k-$20k          0.178\n",
              "            $20k-$30k          0.102\n",
              "            $30k-$50k          0.151\n",
              "            $50k-$100k         0.100\n",
              "            $100k+             0.090\n",
              "White       0-$10k             0.388\n",
              "            $10k-$20k          0.178\n",
              "            $20k-$30k          0.120\n",
              "            $30k-$50k          0.118\n",
              "            $50k-$100k         0.101\n",
              "            $100k+             0.094\n",
              "Name: payment_cleaned, dtype: float64"
            ]
          },
          "metadata": {
            "tags": []
          },
          "execution_count": 46
        }
      ]
    },
    {
      "cell_type": "code",
      "metadata": {
        "id": "XwvD7oe6fbBg",
        "colab": {
          "base_uri": "https://localhost:8080/"
        },
        "outputId": "19e1073e-7ade-4a1f-b784-0b021e7b2427"
      },
      "source": [
        "tmp.reset_index().groupby('race_group').payment_cleaned.sum()"
      ],
      "execution_count": 47,
      "outputs": [
        {
          "output_type": "execute_result",
          "data": {
            "text/plain": [
              "race_group\n",
              "Black   1.000\n",
              "Other   1.000\n",
              "White   1.000\n",
              "Name: payment_cleaned, dtype: float64"
            ]
          },
          "metadata": {
            "tags": []
          },
          "execution_count": 47
        }
      ]
    },
    {
      "cell_type": "markdown",
      "metadata": {
        "id": "YvThP7sXg9-T"
      },
      "source": [
        "Plot the distributions in vertical bar space"
      ]
    },
    {
      "cell_type": "code",
      "metadata": {
        "id": "1NlPn78HhDXc",
        "colab": {
          "base_uri": "https://localhost:8080/",
          "height": 494
        },
        "outputId": "c6e39e5f-4991-48c0-bf9d-271550b0e967"
      },
      "source": [
        "tmp.unstack().plot.bar(stacked=True)"
      ],
      "execution_count": 48,
      "outputs": [
        {
          "output_type": "execute_result",
          "data": {
            "text/plain": [
              "<matplotlib.axes._subplots.AxesSubplot at 0x7fa4581434a8>"
            ]
          },
          "metadata": {
            "tags": []
          },
          "execution_count": 48
        },
        {
          "output_type": "display_data",
          "data": {
            "image/png": "[encoded data removed]",
            "text/plain": [
              "<Figure size 640x480 with 1 Axes>"
            ]
          },
          "metadata": {
            "tags": []
          }
        }
      ]
    },
    {
      "cell_type": "markdown",
      "metadata": {
        "id": "Muyzabd2njBb"
      },
      "source": [
        "## Genre + Race - automated charts"
      ]
    },
    {
      "cell_type": "markdown",
      "metadata": {
        "id": "bQhnGY1-nl5k"
      },
      "source": [
        "Let's now try and look at how race and genre vary acorss the the different genres. We want to get a sense if maybe the mix of genres actually impacts the top line race statistics (eg. if Black authors publish in more lucrative genres they may look like they are paid more than White writers - while actually still being paid less in every genre they publish in)."
      ]
    },
    {
      "cell_type": "code",
      "metadata": {
        "id": "pQe8oE3coonY"
      },
      "source": [
        "def automated_bars(df, chart_cat, bar_cat): \n",
        "  \n",
        "  # number of charts\n",
        "  chart_cats = list(df['chart_cat'].unique())\n",
        "\n",
        "  f, ax = plt.subplots()"
      ],
      "execution_count": 49,
      "outputs": []
    },
    {
      "cell_type": "code",
      "metadata": {
        "id": "K47ej6HvpC2u",
        "colab": {
          "base_uri": "https://localhost:8080/",
          "height": 714
        },
        "outputId": "c28f4a09-c8c4-4707-bb51-6236dc5f82d1"
      },
      "source": [
        "\n",
        "f, ax = plt.subplots(1,1,figsize=(8,8))\n",
        "\n",
        "chart_cat = 'YA'\n",
        "tmp = df.loc[df['genre']==chart_cat]\n",
        "\n",
        "sns.barplot(data=tmp, x='race_group', y='payment_cleaned', estimator=np.median)"
      ],
      "execution_count": 50,
      "outputs": [
        {
          "output_type": "execute_result",
          "data": {
            "text/plain": [
              "<matplotlib.axes._subplots.AxesSubplot at 0x7fa45c3cab70>"
            ]
          },
          "metadata": {
            "tags": []
          },
          "execution_count": 50
        },
        {
          "output_type": "display_data",
          "data": {
            "image/png": "[encoded data removed]",
            "text/plain": [
              "<Figure size 800x800 with 1 Axes>"
            ]
          },
          "metadata": {
            "tags": []
          }
        }
      ]
    },
    {
      "cell_type": "code",
      "metadata": {
        "id": "sswUuCWfptSF",
        "colab": {
          "base_uri": "https://localhost:8080/",
          "height": 1000
        },
        "outputId": "dba62bcb-9edf-4760-df67-ced4bc14236d"
      },
      "source": [
        "sns.catplot(x='race_group', y='payment_cleaned',col='genre_clean',data=df,kind='bar', col_wrap=3)"
      ],
      "execution_count": 51,
      "outputs": [
        {
          "output_type": "execute_result",
          "data": {
            "text/plain": [
              "<seaborn.axisgrid.FacetGrid at 0x7fa45caff978>"
            ]
          },
          "metadata": {
            "tags": []
          },
          "execution_count": 51
        },
        {
          "output_type": "display_data",
          "data": {
            "image/png": "[encoded data removed]",
            "text/plain": [
              "<Figure size 1500x1500 with 9 Axes>"
            ]
          },
          "metadata": {
            "tags": []
          }
        }
      ]
    },
    {
      "cell_type": "markdown",
      "metadata": {
        "id": "uLhIlUdOqvxY"
      },
      "source": [
        "# Title + Goodreads data"
      ]
    },
    {
      "cell_type": "markdown",
      "metadata": {
        "id": "blUn47sII8OK"
      },
      "source": [
        "Aim of this is to look at how advance relates to Goodreads reviews (as a proxy for sales / reach of the book). "
      ]
    },
    {
      "cell_type": "code",
      "metadata": {
        "id": "M-ZFrKjnJHkg"
      },
      "source": [
        "titles = df.loc[~df.title.isna()]"
      ],
      "execution_count": 52,
      "outputs": []
    },
    {
      "cell_type": "code",
      "metadata": {
        "id": "r60n0CvIJI1l",
        "colab": {
          "base_uri": "https://localhost:8080/",
          "height": 876
        },
        "outputId": "98a2adfe-25c7-42bb-fc6c-b8071283c6b2"
      },
      "source": [
        "titles.head(10)"
      ],
      "execution_count": 53,
      "outputs": [
        {
          "output_type": "execute_result",
          "data": {
            "text/html": [
              "<div>\n",
              "<style scoped>\n",
              "    .dataframe tbody tr th:only-of-type {\n",
              "        vertical-align: middle;\n",
              "    }\n",
              "\n",
              "    .dataframe tbody tr th {\n",
              "        vertical-align: top;\n",
              "    }\n",
              "\n",
              "    .dataframe thead th {\n",
              "        text-align: right;\n",
              "    }\n",
              "</style>\n",
              "<table border=\"1\" class=\"dataframe\">\n",
              "  <thead>\n",
              "    <tr style=\"text-align: right;\">\n",
              "      <th></th>\n",
              "      <th>timestamp</th>\n",
              "      <th>genre</th>\n",
              "      <th>payment</th>\n",
              "      <th>rights</th>\n",
              "      <th>year</th>\n",
              "      <th>publisher</th>\n",
              "      <th>debut</th>\n",
              "      <th>agented</th>\n",
              "      <th>race</th>\n",
              "      <th>gender</th>\n",
              "      <th>sex_orient</th>\n",
              "      <th>disability</th>\n",
              "      <th>auth_name</th>\n",
              "      <th>title</th>\n",
              "      <th>comp_titles</th>\n",
              "      <th>comments</th>\n",
              "      <th>payment_cleaned</th>\n",
              "      <th>genre_clean</th>\n",
              "      <th>publisher_clean</th>\n",
              "      <th>race_group</th>\n",
              "      <th>race_group_detail</th>\n",
              "      <th>payment_category</th>\n",
              "    </tr>\n",
              "  </thead>\n",
              "  <tbody>\n",
              "    <tr>\n",
              "      <th>0</th>\n",
              "      <td>6/11/2020 7:09:01</td>\n",
              "      <td>Academic</td>\n",
              "      <td>$1,000</td>\n",
              "      <td>Worldwide</td>\n",
              "      <td>2018</td>\n",
              "      <td>Springer</td>\n",
              "      <td>Yes</td>\n",
              "      <td>No</td>\n",
              "      <td>White</td>\n",
              "      <td>Cis Man</td>\n",
              "      <td>Straight</td>\n",
              "      <td>No</td>\n",
              "      <td>Moorkens Castilho Gaspari Doherty</td>\n",
              "      <td>Translation Quality Assessment</td>\n",
              "      <td>NaN</td>\n",
              "      <td>NaN</td>\n",
              "      <td>1000.000</td>\n",
              "      <td>Other</td>\n",
              "      <td>Other</td>\n",
              "      <td>White</td>\n",
              "      <td>White</td>\n",
              "      <td>0-$10k</td>\n",
              "    </tr>\n",
              "    <tr>\n",
              "      <th>6</th>\n",
              "      <td>6/10/2020 15:30:39</td>\n",
              "      <td>Adult Literary Fiction</td>\n",
              "      <td>$285,000</td>\n",
              "      <td>English Language Only</td>\n",
              "      <td>2018</td>\n",
              "      <td>HarperCollins (and Imprints)</td>\n",
              "      <td>Yes</td>\n",
              "      <td>Yes</td>\n",
              "      <td>White</td>\n",
              "      <td>Cis Woman</td>\n",
              "      <td>Demi/Asexual</td>\n",
              "      <td>No</td>\n",
              "      <td>Jamey Bradbury</td>\n",
              "      <td>The Wild Inside</td>\n",
              "      <td>NaN</td>\n",
              "      <td>NaN</td>\n",
              "      <td>285000.000</td>\n",
              "      <td>Literary</td>\n",
              "      <td>Big 5</td>\n",
              "      <td>White</td>\n",
              "      <td>White</td>\n",
              "      <td>$100k+</td>\n",
              "    </tr>\n",
              "    <tr>\n",
              "      <th>7</th>\n",
              "      <td>6/10/2020 16:11:32</td>\n",
              "      <td>Adult Literary Fiction</td>\n",
              "      <td>$25,000</td>\n",
              "      <td>NaN</td>\n",
              "      <td>2016</td>\n",
              "      <td>St. Martin's Press</td>\n",
              "      <td>Yes</td>\n",
              "      <td>NaN</td>\n",
              "      <td>Not specified</td>\n",
              "      <td>NaN</td>\n",
              "      <td>NaN</td>\n",
              "      <td>NaN</td>\n",
              "      <td>Kim Hooper</td>\n",
              "      <td>People Who Knew Me</td>\n",
              "      <td>NaN</td>\n",
              "      <td>NaN</td>\n",
              "      <td>25000.000</td>\n",
              "      <td>Literary</td>\n",
              "      <td>Other</td>\n",
              "      <td>Other</td>\n",
              "      <td>Other</td>\n",
              "      <td>$20k-$30k</td>\n",
              "    </tr>\n",
              "    <tr>\n",
              "      <th>8</th>\n",
              "      <td>6/10/2020 16:11:32</td>\n",
              "      <td>Adult Literary Fiction</td>\n",
              "      <td>$5,000</td>\n",
              "      <td>NaN</td>\n",
              "      <td>2018</td>\n",
              "      <td>Turner</td>\n",
              "      <td>No</td>\n",
              "      <td>NaN</td>\n",
              "      <td>Not specified</td>\n",
              "      <td>NaN</td>\n",
              "      <td>NaN</td>\n",
              "      <td>NaN</td>\n",
              "      <td>Kim Hooper</td>\n",
              "      <td>Cherry Blossoms</td>\n",
              "      <td>NaN</td>\n",
              "      <td>NaN</td>\n",
              "      <td>5000.000</td>\n",
              "      <td>Literary</td>\n",
              "      <td>Other</td>\n",
              "      <td>Other</td>\n",
              "      <td>Other</td>\n",
              "      <td>0-$10k</td>\n",
              "    </tr>\n",
              "    <tr>\n",
              "      <th>9</th>\n",
              "      <td>6/10/2020 16:11:32</td>\n",
              "      <td>Adult Literary Fiction</td>\n",
              "      <td>$5,000</td>\n",
              "      <td>NaN</td>\n",
              "      <td>2019</td>\n",
              "      <td>Turner</td>\n",
              "      <td>No</td>\n",
              "      <td>NaN</td>\n",
              "      <td>Not specified</td>\n",
              "      <td>NaN</td>\n",
              "      <td>NaN</td>\n",
              "      <td>NaN</td>\n",
              "      <td>Kim Hooper</td>\n",
              "      <td>Tiny</td>\n",
              "      <td>NaN</td>\n",
              "      <td>NaN</td>\n",
              "      <td>5000.000</td>\n",
              "      <td>Literary</td>\n",
              "      <td>Other</td>\n",
              "      <td>Other</td>\n",
              "      <td>Other</td>\n",
              "      <td>0-$10k</td>\n",
              "    </tr>\n",
              "    <tr>\n",
              "      <th>10</th>\n",
              "      <td>6/10/2020 15:55:15</td>\n",
              "      <td>Adult Literary Fiction</td>\n",
              "      <td>$75,000</td>\n",
              "      <td>North America Only</td>\n",
              "      <td>2013</td>\n",
              "      <td>Macmillan (and Imprints)</td>\n",
              "      <td>Yes</td>\n",
              "      <td>Yes</td>\n",
              "      <td>East Asian, White, Multiracial</td>\n",
              "      <td>Cis Woman</td>\n",
              "      <td>Straight</td>\n",
              "      <td>No</td>\n",
              "      <td>Naomi J. Williams</td>\n",
              "      <td>Landfalls</td>\n",
              "      <td>NaN</td>\n",
              "      <td>at-auction</td>\n",
              "      <td>75000.000</td>\n",
              "      <td>Literary</td>\n",
              "      <td>Big 5</td>\n",
              "      <td>Other</td>\n",
              "      <td>Multiracial</td>\n",
              "      <td>$50k-$100k</td>\n",
              "    </tr>\n",
              "    <tr>\n",
              "      <th>46</th>\n",
              "      <td>6/9/2020 12:47:18</td>\n",
              "      <td>Anthology</td>\n",
              "      <td>$30,000</td>\n",
              "      <td>English Language Only</td>\n",
              "      <td>2017</td>\n",
              "      <td>Simon &amp; Schuster (and Imprints)</td>\n",
              "      <td>I was editor of the anthology; it was my first...</td>\n",
              "      <td>Yes</td>\n",
              "      <td>White</td>\n",
              "      <td>Cis Woman</td>\n",
              "      <td>Straight</td>\n",
              "      <td>No</td>\n",
              "      <td>Manjula Martin</td>\n",
              "      <td>Scratch: Writers, Money, and the Art of Making...</td>\n",
              "      <td>MFA vs. NYC, Goodbye to All That</td>\n",
              "      <td>30K advance for an anthology with 24 contribut...</td>\n",
              "      <td>30000.000</td>\n",
              "      <td>Other</td>\n",
              "      <td>Big 5</td>\n",
              "      <td>White</td>\n",
              "      <td>White</td>\n",
              "      <td>$20k-$30k</td>\n",
              "    </tr>\n",
              "    <tr>\n",
              "      <th>47</th>\n",
              "      <td>6/7/2020 23:54:06</td>\n",
              "      <td>Anthology</td>\n",
              "      <td>$20,000</td>\n",
              "      <td>NaN</td>\n",
              "      <td>2020</td>\n",
              "      <td>Running Press</td>\n",
              "      <td>NaN</td>\n",
              "      <td>NaN</td>\n",
              "      <td>Not specified</td>\n",
              "      <td>NaN</td>\n",
              "      <td>NaN</td>\n",
              "      <td>NaN</td>\n",
              "      <td>Rebecca Podos</td>\n",
              "      <td>Fools in Love</td>\n",
              "      <td>NaN</td>\n",
              "      <td>Split.</td>\n",
              "      <td>20000.000</td>\n",
              "      <td>Other</td>\n",
              "      <td>Other</td>\n",
              "      <td>Other</td>\n",
              "      <td>Other</td>\n",
              "      <td>$10k-$20k</td>\n",
              "    </tr>\n",
              "    <tr>\n",
              "      <th>49</th>\n",
              "      <td>6/9/2020 9:57:14</td>\n",
              "      <td>Anthology, \"Erotic\" Fanfic</td>\n",
              "      <td>$10,000</td>\n",
              "      <td>North America Only</td>\n",
              "      <td>2016</td>\n",
              "      <td>Hachette (and Imprints)</td>\n",
              "      <td>Yes</td>\n",
              "      <td>No</td>\n",
              "      <td>White</td>\n",
              "      <td>Cis Woman</td>\n",
              "      <td>Bi/Pansexual, Queer</td>\n",
              "      <td>No</td>\n",
              "      <td>Amy Stephenson</td>\n",
              "      <td>Loose Lips</td>\n",
              "      <td>No</td>\n",
              "      <td>Big names in the anthology, NYT bestsellers etc.</td>\n",
              "      <td>10000.000</td>\n",
              "      <td>Other</td>\n",
              "      <td>Big 5</td>\n",
              "      <td>White</td>\n",
              "      <td>White</td>\n",
              "      <td>0-$10k</td>\n",
              "    </tr>\n",
              "    <tr>\n",
              "      <th>50</th>\n",
              "      <td>6/7/2020 9:06:05</td>\n",
              "      <td>Anthology, Literary Fiction</td>\n",
              "      <td>$10,000</td>\n",
              "      <td>North America Only</td>\n",
              "      <td>2020</td>\n",
              "      <td>&amp;NOW books</td>\n",
              "      <td>Yes</td>\n",
              "      <td>No</td>\n",
              "      <td>White</td>\n",
              "      <td>Nonbinary/Agender</td>\n",
              "      <td>Queer</td>\n",
              "      <td>NaN</td>\n",
              "      <td>JD Scott</td>\n",
              "      <td>Moonflower, Nightshade, All the Hours of the Day</td>\n",
              "      <td>NaN</td>\n",
              "      <td>Technically fellowship money and not an advanc...</td>\n",
              "      <td>10000.000</td>\n",
              "      <td>Literary</td>\n",
              "      <td>Other</td>\n",
              "      <td>White</td>\n",
              "      <td>White</td>\n",
              "      <td>0-$10k</td>\n",
              "    </tr>\n",
              "  </tbody>\n",
              "</table>\n",
              "</div>"
            ],
            "text/plain": [
              "             timestamp  ... payment_category\n",
              "0    6/11/2020 7:09:01  ...           0-$10k\n",
              "6   6/10/2020 15:30:39  ...           $100k+\n",
              "7   6/10/2020 16:11:32  ...        $20k-$30k\n",
              "8   6/10/2020 16:11:32  ...           0-$10k\n",
              "9   6/10/2020 16:11:32  ...           0-$10k\n",
              "10  6/10/2020 15:55:15  ...       $50k-$100k\n",
              "46   6/9/2020 12:47:18  ...        $20k-$30k\n",
              "47   6/7/2020 23:54:06  ...        $10k-$20k\n",
              "49    6/9/2020 9:57:14  ...           0-$10k\n",
              "50    6/7/2020 9:06:05  ...           0-$10k\n",
              "\n",
              "[10 rows x 22 columns]"
            ]
          },
          "metadata": {
            "tags": []
          },
          "execution_count": 53
        }
      ]
    },
    {
      "cell_type": "code",
      "metadata": {
        "id": "EAg3fG_MJVxM",
        "colab": {
          "base_uri": "https://localhost:8080/",
          "height": 543
        },
        "outputId": "572092c4-9511-44e1-ae91-b4c79e22a94d"
      },
      "source": [
        "titles.genre_clean.value_counts().plot.bar()"
      ],
      "execution_count": 54,
      "outputs": [
        {
          "output_type": "execute_result",
          "data": {
            "text/plain": [
              "<matplotlib.axes._subplots.AxesSubplot at 0x7fa457f79908>"
            ]
          },
          "metadata": {
            "tags": []
          },
          "execution_count": 54
        },
        {
          "output_type": "display_data",
          "data": {
            "image/png": "[encoded data removed]",
            "text/plain": [
              "<Figure size 640x480 with 1 Axes>"
            ]
          },
          "metadata": {
            "tags": []
          }
        }
      ]
    },
    {
      "cell_type": "code",
      "metadata": {
        "id": "sZmZigPjJb_O",
        "colab": {
          "base_uri": "https://localhost:8080/",
          "height": 473
        },
        "outputId": "4308b280-42f5-42ca-8aef-6489b3afeb4e"
      },
      "source": [
        "titles.year.value_counts().plot.bar()"
      ],
      "execution_count": 55,
      "outputs": [
        {
          "output_type": "execute_result",
          "data": {
            "text/plain": [
              "<matplotlib.axes._subplots.AxesSubplot at 0x7fa457f1f6d8>"
            ]
          },
          "metadata": {
            "tags": []
          },
          "execution_count": 55
        },
        {
          "output_type": "display_data",
          "data": {
            "image/png": "[encoded data removed]",
            "text/plain": [
              "<Figure size 640x480 with 1 Axes>"
            ]
          },
          "metadata": {
            "tags": []
          }
        }
      ]
    },
    {
      "cell_type": "code",
      "metadata": {
        "id": "horEbA3wW3uL",
        "colab": {
          "base_uri": "https://localhost:8080/",
          "height": 539
        },
        "outputId": "ceb598e2-7bc5-4f4b-9978-95daeaffaa2e"
      },
      "source": [
        "titles.race_group_detail.value_counts().plot.bar()"
      ],
      "execution_count": 56,
      "outputs": [
        {
          "output_type": "execute_result",
          "data": {
            "text/plain": [
              "<matplotlib.axes._subplots.AxesSubplot at 0x7fa45ca5e668>"
            ]
          },
          "metadata": {
            "tags": []
          },
          "execution_count": 56
        },
        {
          "output_type": "display_data",
          "data": {
            "image/png": "[encoded data removed]",
            "text/plain": [
              "<Figure size 640x480 with 1 Axes>"
            ]
          },
          "metadata": {
            "tags": []
          }
        }
      ]
    },
    {
      "cell_type": "markdown",
      "metadata": {
        "id": "hx3Jhx6anSN5"
      },
      "source": [
        "## Load data from GitHub / Drive"
      ]
    },
    {
      "cell_type": "code",
      "metadata": {
        "id": "i4J0wfZ0aXTG"
      },
      "source": [
        "dataframes = list()\n",
        "\n",
        "for num in range(0,4):\n",
        "  drive_file = f\"{PROJECT_PATH}/goodreads_data_{num} (1).csv\"\n",
        "  df = pd.read_csv(drive_file)\n",
        "  dataframes.append(df)\n",
        "\n",
        "gr = pd.concat(dataframes)"
      ],
      "execution_count": 59,
      "outputs": []
    },
    {
      "cell_type": "code",
      "metadata": {
        "id": "yLZrXS8Wa8ZR",
        "colab": {
          "base_uri": "https://localhost:8080/"
        },
        "outputId": "e0e8d7d0-3eda-4af9-caa3-57353e029fcb"
      },
      "source": [
        "gr.columns"
      ],
      "execution_count": 60,
      "outputs": [
        {
          "output_type": "execute_result",
          "data": {
            "text/plain": [
              "Index(['Unnamed: 0', 'search_term', 'title', 'author', 'publisher',\n",
              "       'ratings_count', 'average_rating', 'pub_date', 'pub_year'],\n",
              "      dtype='object')"
            ]
          },
          "metadata": {
            "tags": []
          },
          "execution_count": 60
        }
      ]
    },
    {
      "cell_type": "markdown",
      "metadata": {
        "id": "Xuap3x6cbzE2"
      },
      "source": [
        "Next we need to join this with our Publishing Paid me dataset, where we are hoping to match on the titles"
      ]
    },
    {
      "cell_type": "code",
      "metadata": {
        "id": "TgG_e6GPcc5Q",
        "colab": {
          "base_uri": "https://localhost:8080/",
          "height": 287
        },
        "outputId": "a9acbd99-103c-42dc-ff19-2b5b0031fe5c"
      },
      "source": [
        "gr.head()"
      ],
      "execution_count": 61,
      "outputs": [
        {
          "output_type": "execute_result",
          "data": {
            "text/html": [
              "<div>\n",
              "<style scoped>\n",
              "    .dataframe tbody tr th:only-of-type {\n",
              "        vertical-align: middle;\n",
              "    }\n",
              "\n",
              "    .dataframe tbody tr th {\n",
              "        vertical-align: top;\n",
              "    }\n",
              "\n",
              "    .dataframe thead th {\n",
              "        text-align: right;\n",
              "    }\n",
              "</style>\n",
              "<table border=\"1\" class=\"dataframe\">\n",
              "  <thead>\n",
              "    <tr style=\"text-align: right;\">\n",
              "      <th></th>\n",
              "      <th>Unnamed: 0</th>\n",
              "      <th>search_term</th>\n",
              "      <th>title</th>\n",
              "      <th>author</th>\n",
              "      <th>publisher</th>\n",
              "      <th>ratings_count</th>\n",
              "      <th>average_rating</th>\n",
              "      <th>pub_date</th>\n",
              "      <th>pub_year</th>\n",
              "    </tr>\n",
              "  </thead>\n",
              "  <tbody>\n",
              "    <tr>\n",
              "      <th>0</th>\n",
              "      <td>0</td>\n",
              "      <td>Translation Quality Assessment Moorkens Castil...</td>\n",
              "      <td>Translation Quality Assessment: From Principle...</td>\n",
              "      <td>Joss Moorkens</td>\n",
              "      <td>Springer</td>\n",
              "      <td>1</td>\n",
              "      <td>5.000</td>\n",
              "      <td>('9', '12', '2018')</td>\n",
              "      <td>2018.000</td>\n",
              "    </tr>\n",
              "    <tr>\n",
              "      <th>1</th>\n",
              "      <td>1</td>\n",
              "      <td>Translation Quality Assessment Moorkens Castil...</td>\n",
              "      <td>Translation Quality Assessment: From Principle...</td>\n",
              "      <td>Joss Moorkens</td>\n",
              "      <td>NaN</td>\n",
              "      <td>0</td>\n",
              "      <td>0.000</td>\n",
              "      <td>(None, None, None)</td>\n",
              "      <td>nan</td>\n",
              "    </tr>\n",
              "    <tr>\n",
              "      <th>2</th>\n",
              "      <td>0</td>\n",
              "      <td>The Wild Inside Jamey Bradbury</td>\n",
              "      <td>The Wild Inside</td>\n",
              "      <td>Jamey Bradbury</td>\n",
              "      <td>William Morrow</td>\n",
              "      <td>574</td>\n",
              "      <td>3.290</td>\n",
              "      <td>('3', '20', '2018')</td>\n",
              "      <td>2018.000</td>\n",
              "    </tr>\n",
              "    <tr>\n",
              "      <th>3</th>\n",
              "      <td>0</td>\n",
              "      <td>People Who Knew Me Kim Hooper</td>\n",
              "      <td>People Who Knew Me</td>\n",
              "      <td>Kim Hooper</td>\n",
              "      <td>St. Martin's Press</td>\n",
              "      <td>925</td>\n",
              "      <td>3.990</td>\n",
              "      <td>('5', '24', '2016')</td>\n",
              "      <td>2016.000</td>\n",
              "    </tr>\n",
              "    <tr>\n",
              "      <th>4</th>\n",
              "      <td>0</td>\n",
              "      <td>Cherry Blossoms Kim Hooper</td>\n",
              "      <td>Cherry Blossoms</td>\n",
              "      <td>Kim Hooper</td>\n",
              "      <td>Turner</td>\n",
              "      <td>26</td>\n",
              "      <td>4.300</td>\n",
              "      <td>('10', '30', '2018')</td>\n",
              "      <td>2018.000</td>\n",
              "    </tr>\n",
              "  </tbody>\n",
              "</table>\n",
              "</div>"
            ],
            "text/plain": [
              "   Unnamed: 0  ... pub_year\n",
              "0           0  ... 2018.000\n",
              "1           1  ...      nan\n",
              "2           0  ... 2018.000\n",
              "3           0  ... 2016.000\n",
              "4           0  ... 2018.000\n",
              "\n",
              "[5 rows x 9 columns]"
            ]
          },
          "metadata": {
            "tags": []
          },
          "execution_count": 61
        }
      ]
    },
    {
      "cell_type": "code",
      "metadata": {
        "id": "Yg_XWxT2cgoz",
        "colab": {
          "base_uri": "https://localhost:8080/",
          "height": 411
        },
        "outputId": "c9a3db56-09e3-4b49-a65a-65e74adf8d79"
      },
      "source": [
        "titles.head(5)"
      ],
      "execution_count": 62,
      "outputs": [
        {
          "output_type": "execute_result",
          "data": {
            "text/html": [
              "<div>\n",
              "<style scoped>\n",
              "    .dataframe tbody tr th:only-of-type {\n",
              "        vertical-align: middle;\n",
              "    }\n",
              "\n",
              "    .dataframe tbody tr th {\n",
              "        vertical-align: top;\n",
              "    }\n",
              "\n",
              "    .dataframe thead th {\n",
              "        text-align: right;\n",
              "    }\n",
              "</style>\n",
              "<table border=\"1\" class=\"dataframe\">\n",
              "  <thead>\n",
              "    <tr style=\"text-align: right;\">\n",
              "      <th></th>\n",
              "      <th>timestamp</th>\n",
              "      <th>genre</th>\n",
              "      <th>payment</th>\n",
              "      <th>rights</th>\n",
              "      <th>year</th>\n",
              "      <th>publisher</th>\n",
              "      <th>debut</th>\n",
              "      <th>agented</th>\n",
              "      <th>race</th>\n",
              "      <th>gender</th>\n",
              "      <th>sex_orient</th>\n",
              "      <th>disability</th>\n",
              "      <th>auth_name</th>\n",
              "      <th>title</th>\n",
              "      <th>comp_titles</th>\n",
              "      <th>comments</th>\n",
              "      <th>payment_cleaned</th>\n",
              "      <th>genre_clean</th>\n",
              "      <th>publisher_clean</th>\n",
              "      <th>race_group</th>\n",
              "      <th>race_group_detail</th>\n",
              "      <th>payment_category</th>\n",
              "    </tr>\n",
              "  </thead>\n",
              "  <tbody>\n",
              "    <tr>\n",
              "      <th>0</th>\n",
              "      <td>6/11/2020 7:09:01</td>\n",
              "      <td>Academic</td>\n",
              "      <td>$1,000</td>\n",
              "      <td>Worldwide</td>\n",
              "      <td>2018</td>\n",
              "      <td>Springer</td>\n",
              "      <td>Yes</td>\n",
              "      <td>No</td>\n",
              "      <td>White</td>\n",
              "      <td>Cis Man</td>\n",
              "      <td>Straight</td>\n",
              "      <td>No</td>\n",
              "      <td>Moorkens Castilho Gaspari Doherty</td>\n",
              "      <td>Translation Quality Assessment</td>\n",
              "      <td>NaN</td>\n",
              "      <td>NaN</td>\n",
              "      <td>1000.000</td>\n",
              "      <td>Other</td>\n",
              "      <td>Other</td>\n",
              "      <td>White</td>\n",
              "      <td>White</td>\n",
              "      <td>0-$10k</td>\n",
              "    </tr>\n",
              "    <tr>\n",
              "      <th>6</th>\n",
              "      <td>6/10/2020 15:30:39</td>\n",
              "      <td>Adult Literary Fiction</td>\n",
              "      <td>$285,000</td>\n",
              "      <td>English Language Only</td>\n",
              "      <td>2018</td>\n",
              "      <td>HarperCollins (and Imprints)</td>\n",
              "      <td>Yes</td>\n",
              "      <td>Yes</td>\n",
              "      <td>White</td>\n",
              "      <td>Cis Woman</td>\n",
              "      <td>Demi/Asexual</td>\n",
              "      <td>No</td>\n",
              "      <td>Jamey Bradbury</td>\n",
              "      <td>The Wild Inside</td>\n",
              "      <td>NaN</td>\n",
              "      <td>NaN</td>\n",
              "      <td>285000.000</td>\n",
              "      <td>Literary</td>\n",
              "      <td>Big 5</td>\n",
              "      <td>White</td>\n",
              "      <td>White</td>\n",
              "      <td>$100k+</td>\n",
              "    </tr>\n",
              "    <tr>\n",
              "      <th>7</th>\n",
              "      <td>6/10/2020 16:11:32</td>\n",
              "      <td>Adult Literary Fiction</td>\n",
              "      <td>$25,000</td>\n",
              "      <td>NaN</td>\n",
              "      <td>2016</td>\n",
              "      <td>St. Martin's Press</td>\n",
              "      <td>Yes</td>\n",
              "      <td>NaN</td>\n",
              "      <td>Not specified</td>\n",
              "      <td>NaN</td>\n",
              "      <td>NaN</td>\n",
              "      <td>NaN</td>\n",
              "      <td>Kim Hooper</td>\n",
              "      <td>People Who Knew Me</td>\n",
              "      <td>NaN</td>\n",
              "      <td>NaN</td>\n",
              "      <td>25000.000</td>\n",
              "      <td>Literary</td>\n",
              "      <td>Other</td>\n",
              "      <td>Other</td>\n",
              "      <td>Other</td>\n",
              "      <td>$20k-$30k</td>\n",
              "    </tr>\n",
              "    <tr>\n",
              "      <th>8</th>\n",
              "      <td>6/10/2020 16:11:32</td>\n",
              "      <td>Adult Literary Fiction</td>\n",
              "      <td>$5,000</td>\n",
              "      <td>NaN</td>\n",
              "      <td>2018</td>\n",
              "      <td>Turner</td>\n",
              "      <td>No</td>\n",
              "      <td>NaN</td>\n",
              "      <td>Not specified</td>\n",
              "      <td>NaN</td>\n",
              "      <td>NaN</td>\n",
              "      <td>NaN</td>\n",
              "      <td>Kim Hooper</td>\n",
              "      <td>Cherry Blossoms</td>\n",
              "      <td>NaN</td>\n",
              "      <td>NaN</td>\n",
              "      <td>5000.000</td>\n",
              "      <td>Literary</td>\n",
              "      <td>Other</td>\n",
              "      <td>Other</td>\n",
              "      <td>Other</td>\n",
              "      <td>0-$10k</td>\n",
              "    </tr>\n",
              "    <tr>\n",
              "      <th>9</th>\n",
              "      <td>6/10/2020 16:11:32</td>\n",
              "      <td>Adult Literary Fiction</td>\n",
              "      <td>$5,000</td>\n",
              "      <td>NaN</td>\n",
              "      <td>2019</td>\n",
              "      <td>Turner</td>\n",
              "      <td>No</td>\n",
              "      <td>NaN</td>\n",
              "      <td>Not specified</td>\n",
              "      <td>NaN</td>\n",
              "      <td>NaN</td>\n",
              "      <td>NaN</td>\n",
              "      <td>Kim Hooper</td>\n",
              "      <td>Tiny</td>\n",
              "      <td>NaN</td>\n",
              "      <td>NaN</td>\n",
              "      <td>5000.000</td>\n",
              "      <td>Literary</td>\n",
              "      <td>Other</td>\n",
              "      <td>Other</td>\n",
              "      <td>Other</td>\n",
              "      <td>0-$10k</td>\n",
              "    </tr>\n",
              "  </tbody>\n",
              "</table>\n",
              "</div>"
            ],
            "text/plain": [
              "            timestamp  ... payment_category\n",
              "0   6/11/2020 7:09:01  ...           0-$10k\n",
              "6  6/10/2020 15:30:39  ...           $100k+\n",
              "7  6/10/2020 16:11:32  ...        $20k-$30k\n",
              "8  6/10/2020 16:11:32  ...           0-$10k\n",
              "9  6/10/2020 16:11:32  ...           0-$10k\n",
              "\n",
              "[5 rows x 22 columns]"
            ]
          },
          "metadata": {
            "tags": []
          },
          "execution_count": 62
        }
      ]
    },
    {
      "cell_type": "markdown",
      "metadata": {
        "id": "bgXfj7WEc9rQ"
      },
      "source": [
        "Join the data"
      ]
    },
    {
      "cell_type": "code",
      "metadata": {
        "id": "-oMMhoPLAyiE"
      },
      "source": [
        "gr_merge = titles.merge(gr, how='left', left_on=['title','auth_name'], right_on=['title','author'])"
      ],
      "execution_count": 63,
      "outputs": []
    },
    {
      "cell_type": "code",
      "metadata": {
        "id": "vfk7vUo8Bo8k",
        "colab": {
          "base_uri": "https://localhost:8080/",
          "height": 428
        },
        "outputId": "50d20f85-09a5-4e8c-b865-cccca29737d8"
      },
      "source": [
        "gr_merge.head()"
      ],
      "execution_count": 64,
      "outputs": [
        {
          "output_type": "execute_result",
          "data": {
            "text/html": [
              "<div>\n",
              "<style scoped>\n",
              "    .dataframe tbody tr th:only-of-type {\n",
              "        vertical-align: middle;\n",
              "    }\n",
              "\n",
              "    .dataframe tbody tr th {\n",
              "        vertical-align: top;\n",
              "    }\n",
              "\n",
              "    .dataframe thead th {\n",
              "        text-align: right;\n",
              "    }\n",
              "</style>\n",
              "<table border=\"1\" class=\"dataframe\">\n",
              "  <thead>\n",
              "    <tr style=\"text-align: right;\">\n",
              "      <th></th>\n",
              "      <th>timestamp</th>\n",
              "      <th>genre</th>\n",
              "      <th>payment</th>\n",
              "      <th>rights</th>\n",
              "      <th>year</th>\n",
              "      <th>publisher_x</th>\n",
              "      <th>debut</th>\n",
              "      <th>agented</th>\n",
              "      <th>race</th>\n",
              "      <th>gender</th>\n",
              "      <th>sex_orient</th>\n",
              "      <th>disability</th>\n",
              "      <th>auth_name</th>\n",
              "      <th>title</th>\n",
              "      <th>comp_titles</th>\n",
              "      <th>comments</th>\n",
              "      <th>payment_cleaned</th>\n",
              "      <th>genre_clean</th>\n",
              "      <th>publisher_clean</th>\n",
              "      <th>race_group</th>\n",
              "      <th>race_group_detail</th>\n",
              "      <th>payment_category</th>\n",
              "      <th>Unnamed: 0</th>\n",
              "      <th>search_term</th>\n",
              "      <th>author</th>\n",
              "      <th>publisher_y</th>\n",
              "      <th>ratings_count</th>\n",
              "      <th>average_rating</th>\n",
              "      <th>pub_date</th>\n",
              "      <th>pub_year</th>\n",
              "    </tr>\n",
              "  </thead>\n",
              "  <tbody>\n",
              "    <tr>\n",
              "      <th>0</th>\n",
              "      <td>6/11/2020 7:09:01</td>\n",
              "      <td>Academic</td>\n",
              "      <td>$1,000</td>\n",
              "      <td>Worldwide</td>\n",
              "      <td>2018</td>\n",
              "      <td>Springer</td>\n",
              "      <td>Yes</td>\n",
              "      <td>No</td>\n",
              "      <td>White</td>\n",
              "      <td>Cis Man</td>\n",
              "      <td>Straight</td>\n",
              "      <td>No</td>\n",
              "      <td>Moorkens Castilho Gaspari Doherty</td>\n",
              "      <td>Translation Quality Assessment</td>\n",
              "      <td>NaN</td>\n",
              "      <td>NaN</td>\n",
              "      <td>1000.000</td>\n",
              "      <td>Other</td>\n",
              "      <td>Other</td>\n",
              "      <td>White</td>\n",
              "      <td>White</td>\n",
              "      <td>0-$10k</td>\n",
              "      <td>nan</td>\n",
              "      <td>NaN</td>\n",
              "      <td>NaN</td>\n",
              "      <td>NaN</td>\n",
              "      <td>nan</td>\n",
              "      <td>nan</td>\n",
              "      <td>NaN</td>\n",
              "      <td>nan</td>\n",
              "    </tr>\n",
              "    <tr>\n",
              "      <th>1</th>\n",
              "      <td>6/10/2020 15:30:39</td>\n",
              "      <td>Adult Literary Fiction</td>\n",
              "      <td>$285,000</td>\n",
              "      <td>English Language Only</td>\n",
              "      <td>2018</td>\n",
              "      <td>HarperCollins (and Imprints)</td>\n",
              "      <td>Yes</td>\n",
              "      <td>Yes</td>\n",
              "      <td>White</td>\n",
              "      <td>Cis Woman</td>\n",
              "      <td>Demi/Asexual</td>\n",
              "      <td>No</td>\n",
              "      <td>Jamey Bradbury</td>\n",
              "      <td>The Wild Inside</td>\n",
              "      <td>NaN</td>\n",
              "      <td>NaN</td>\n",
              "      <td>285000.000</td>\n",
              "      <td>Literary</td>\n",
              "      <td>Big 5</td>\n",
              "      <td>White</td>\n",
              "      <td>White</td>\n",
              "      <td>$100k+</td>\n",
              "      <td>0.000</td>\n",
              "      <td>The Wild Inside Jamey Bradbury</td>\n",
              "      <td>Jamey Bradbury</td>\n",
              "      <td>William Morrow</td>\n",
              "      <td>574.000</td>\n",
              "      <td>3.290</td>\n",
              "      <td>('3', '20', '2018')</td>\n",
              "      <td>2018.000</td>\n",
              "    </tr>\n",
              "    <tr>\n",
              "      <th>2</th>\n",
              "      <td>6/10/2020 16:11:32</td>\n",
              "      <td>Adult Literary Fiction</td>\n",
              "      <td>$25,000</td>\n",
              "      <td>NaN</td>\n",
              "      <td>2016</td>\n",
              "      <td>St. Martin's Press</td>\n",
              "      <td>Yes</td>\n",
              "      <td>NaN</td>\n",
              "      <td>Not specified</td>\n",
              "      <td>NaN</td>\n",
              "      <td>NaN</td>\n",
              "      <td>NaN</td>\n",
              "      <td>Kim Hooper</td>\n",
              "      <td>People Who Knew Me</td>\n",
              "      <td>NaN</td>\n",
              "      <td>NaN</td>\n",
              "      <td>25000.000</td>\n",
              "      <td>Literary</td>\n",
              "      <td>Other</td>\n",
              "      <td>Other</td>\n",
              "      <td>Other</td>\n",
              "      <td>$20k-$30k</td>\n",
              "      <td>0.000</td>\n",
              "      <td>People Who Knew Me Kim Hooper</td>\n",
              "      <td>Kim Hooper</td>\n",
              "      <td>St. Martin's Press</td>\n",
              "      <td>925.000</td>\n",
              "      <td>3.990</td>\n",
              "      <td>('5', '24', '2016')</td>\n",
              "      <td>2016.000</td>\n",
              "    </tr>\n",
              "    <tr>\n",
              "      <th>3</th>\n",
              "      <td>6/10/2020 16:11:32</td>\n",
              "      <td>Adult Literary Fiction</td>\n",
              "      <td>$5,000</td>\n",
              "      <td>NaN</td>\n",
              "      <td>2018</td>\n",
              "      <td>Turner</td>\n",
              "      <td>No</td>\n",
              "      <td>NaN</td>\n",
              "      <td>Not specified</td>\n",
              "      <td>NaN</td>\n",
              "      <td>NaN</td>\n",
              "      <td>NaN</td>\n",
              "      <td>Kim Hooper</td>\n",
              "      <td>Cherry Blossoms</td>\n",
              "      <td>NaN</td>\n",
              "      <td>NaN</td>\n",
              "      <td>5000.000</td>\n",
              "      <td>Literary</td>\n",
              "      <td>Other</td>\n",
              "      <td>Other</td>\n",
              "      <td>Other</td>\n",
              "      <td>0-$10k</td>\n",
              "      <td>0.000</td>\n",
              "      <td>Cherry Blossoms Kim Hooper</td>\n",
              "      <td>Kim Hooper</td>\n",
              "      <td>Turner</td>\n",
              "      <td>26.000</td>\n",
              "      <td>4.300</td>\n",
              "      <td>('10', '30', '2018')</td>\n",
              "      <td>2018.000</td>\n",
              "    </tr>\n",
              "    <tr>\n",
              "      <th>4</th>\n",
              "      <td>6/10/2020 16:11:32</td>\n",
              "      <td>Adult Literary Fiction</td>\n",
              "      <td>$5,000</td>\n",
              "      <td>NaN</td>\n",
              "      <td>2019</td>\n",
              "      <td>Turner</td>\n",
              "      <td>No</td>\n",
              "      <td>NaN</td>\n",
              "      <td>Not specified</td>\n",
              "      <td>NaN</td>\n",
              "      <td>NaN</td>\n",
              "      <td>NaN</td>\n",
              "      <td>Kim Hooper</td>\n",
              "      <td>Tiny</td>\n",
              "      <td>NaN</td>\n",
              "      <td>NaN</td>\n",
              "      <td>5000.000</td>\n",
              "      <td>Literary</td>\n",
              "      <td>Other</td>\n",
              "      <td>Other</td>\n",
              "      <td>Other</td>\n",
              "      <td>0-$10k</td>\n",
              "      <td>0.000</td>\n",
              "      <td>Tiny Kim Hooper</td>\n",
              "      <td>Kim Hooper</td>\n",
              "      <td>Turner</td>\n",
              "      <td>66.000</td>\n",
              "      <td>4.120</td>\n",
              "      <td>(None, None, '2019')</td>\n",
              "      <td>2019.000</td>\n",
              "    </tr>\n",
              "  </tbody>\n",
              "</table>\n",
              "</div>"
            ],
            "text/plain": [
              "            timestamp                   genre  ...              pub_date pub_year\n",
              "0   6/11/2020 7:09:01                Academic  ...                   NaN      nan\n",
              "1  6/10/2020 15:30:39  Adult Literary Fiction  ...   ('3', '20', '2018') 2018.000\n",
              "2  6/10/2020 16:11:32  Adult Literary Fiction  ...   ('5', '24', '2016') 2016.000\n",
              "3  6/10/2020 16:11:32  Adult Literary Fiction  ...  ('10', '30', '2018') 2018.000\n",
              "4  6/10/2020 16:11:32  Adult Literary Fiction  ...  (None, None, '2019') 2019.000\n",
              "\n",
              "[5 rows x 30 columns]"
            ]
          },
          "metadata": {
            "tags": []
          },
          "execution_count": 64
        }
      ]
    },
    {
      "cell_type": "code",
      "metadata": {
        "id": "8Owrj8AdBqQM",
        "colab": {
          "base_uri": "https://localhost:8080/",
          "height": 498
        },
        "outputId": "4328f19f-3659-4dd3-f9c6-d5899eb9cd9e"
      },
      "source": [
        "f,ax = plt.subplots(figsize=(5,5))\n",
        "sns.scatterplot(data=gr_merge, x='payment_cleaned', y='ratings_count', ax=ax)\n",
        "\n"
      ],
      "execution_count": 65,
      "outputs": [
        {
          "output_type": "execute_result",
          "data": {
            "text/plain": [
              "<matplotlib.axes._subplots.AxesSubplot at 0x7fa457fc6278>"
            ]
          },
          "metadata": {
            "tags": []
          },
          "execution_count": 65
        },
        {
          "output_type": "display_data",
          "data": {
            "image/png": "[encoded data removed]",
            "text/plain": [
              "<Figure size 500x500 with 1 Axes>"
            ]
          },
          "metadata": {
            "tags": []
          }
        }
      ]
    },
    {
      "cell_type": "code",
      "metadata": {
        "id": "oaFyX5pJe3gr",
        "colab": {
          "base_uri": "https://localhost:8080/",
          "height": 488
        },
        "outputId": "91297871-641b-4113-8dd2-c1cffc69df3b"
      },
      "source": [
        "f,ax = plt.subplots(figsize=(5,5))\n",
        "sns.scatterplot(data=gr_merge, x='payment_cleaned', y='ratings_count', ax=ax)\n",
        "\n",
        "ax.set_xlim(0,200_000)\n",
        "ax.set_ylim(0,10_000)"
      ],
      "execution_count": 66,
      "outputs": [
        {
          "output_type": "execute_result",
          "data": {
            "text/plain": [
              "(0.0, 10000.0)"
            ]
          },
          "metadata": {
            "tags": []
          },
          "execution_count": 66
        },
        {
          "output_type": "display_data",
          "data": {
            "image/png": "[encoded data removed]",
            "text/plain": [
              "<Figure size 500x500 with 1 Axes>"
            ]
          },
          "metadata": {
            "tags": []
          }
        }
      ]
    },
    {
      "cell_type": "markdown",
      "metadata": {
        "id": "OS6EFTtB6vJo"
      },
      "source": [
        "It looks like there  is probably a decent amount of cleaning work to do here before we have a clean picture."
      ]
    },
    {
      "cell_type": "markdown",
      "metadata": {
        "id": "Awub2WP87Urp"
      },
      "source": [
        "## Sorting out merge issues"
      ]
    },
    {
      "cell_type": "code",
      "metadata": {
        "id": "l1RpLXXiffKH",
        "colab": {
          "base_uri": "https://localhost:8080/",
          "height": 1000
        },
        "outputId": "6f922580-e98a-4ea5-e187-ac8571f8f699"
      },
      "source": [
        "vars = ['title','author','genre','payment_cleaned','ratings_count']\n",
        "gr_merge.loc[gr_merge.payment_cleaned>200_000, vars]"
      ],
      "execution_count": 67,
      "outputs": [
        {
          "output_type": "execute_result",
          "data": {
            "text/html": [
              "<div>\n",
              "<style scoped>\n",
              "    .dataframe tbody tr th:only-of-type {\n",
              "        vertical-align: middle;\n",
              "    }\n",
              "\n",
              "    .dataframe tbody tr th {\n",
              "        vertical-align: top;\n",
              "    }\n",
              "\n",
              "    .dataframe thead th {\n",
              "        text-align: right;\n",
              "    }\n",
              "</style>\n",
              "<table border=\"1\" class=\"dataframe\">\n",
              "  <thead>\n",
              "    <tr style=\"text-align: right;\">\n",
              "      <th></th>\n",
              "      <th>title</th>\n",
              "      <th>author</th>\n",
              "      <th>genre</th>\n",
              "      <th>payment_cleaned</th>\n",
              "      <th>ratings_count</th>\n",
              "    </tr>\n",
              "  </thead>\n",
              "  <tbody>\n",
              "    <tr>\n",
              "      <th>1</th>\n",
              "      <td>The Wild Inside</td>\n",
              "      <td>Jamey Bradbury</td>\n",
              "      <td>Adult Literary Fiction</td>\n",
              "      <td>285000.000</td>\n",
              "      <td>574.000</td>\n",
              "    </tr>\n",
              "    <tr>\n",
              "      <th>51</th>\n",
              "      <td>Cape May</td>\n",
              "      <td>Chip Cheek</td>\n",
              "      <td>Literary Fiction</td>\n",
              "      <td>800000.000</td>\n",
              "      <td>255.000</td>\n",
              "    </tr>\n",
              "    <tr>\n",
              "      <th>57</th>\n",
              "      <td>The Girls (+ two additional books)</td>\n",
              "      <td>NaN</td>\n",
              "      <td>Literary Fiction</td>\n",
              "      <td>333333.000</td>\n",
              "      <td>nan</td>\n",
              "    </tr>\n",
              "    <tr>\n",
              "      <th>59</th>\n",
              "      <td>Behold the Dreamers</td>\n",
              "      <td>Imbolo Mbue</td>\n",
              "      <td>Literary Fiction</td>\n",
              "      <td>1000000.000</td>\n",
              "      <td>35770.000</td>\n",
              "    </tr>\n",
              "    <tr>\n",
              "      <th>60</th>\n",
              "      <td>American Dirt</td>\n",
              "      <td>Jeanine Cummins</td>\n",
              "      <td>Literary Fiction</td>\n",
              "      <td>1300000.000</td>\n",
              "      <td>126888.000</td>\n",
              "    </tr>\n",
              "    <tr>\n",
              "      <th>75</th>\n",
              "      <td>You Know You Want This</td>\n",
              "      <td>Kristen Roupenian</td>\n",
              "      <td>Literary Fiction</td>\n",
              "      <td>650000.000</td>\n",
              "      <td>4869.000</td>\n",
              "    </tr>\n",
              "    <tr>\n",
              "      <th>76</th>\n",
              "      <td>The Secrets We Kept</td>\n",
              "      <td>Lara Prescott</td>\n",
              "      <td>Literary Fiction</td>\n",
              "      <td>1000000.000</td>\n",
              "      <td>35955.000</td>\n",
              "    </tr>\n",
              "    <tr>\n",
              "      <th>86</th>\n",
              "      <td>The Refugees</td>\n",
              "      <td>Viet Thanh Nguyen</td>\n",
              "      <td>Literary Fiction</td>\n",
              "      <td>250000.000</td>\n",
              "      <td>12264.000</td>\n",
              "    </tr>\n",
              "    <tr>\n",
              "      <th>87</th>\n",
              "      <td>Homegoing</td>\n",
              "      <td>Yaa Gyasi</td>\n",
              "      <td>Literary Fiction</td>\n",
              "      <td>1000000.000</td>\n",
              "      <td>138964.000</td>\n",
              "    </tr>\n",
              "    <tr>\n",
              "      <th>127</th>\n",
              "      <td>The Eagles of Heart Mountain</td>\n",
              "      <td>NaN</td>\n",
              "      <td>Non-Fiction</td>\n",
              "      <td>300000.000</td>\n",
              "      <td>nan</td>\n",
              "    </tr>\n",
              "    <tr>\n",
              "      <th>129</th>\n",
              "      <td>1000000</td>\n",
              "      <td>NaN</td>\n",
              "      <td>Non-Fiction</td>\n",
              "      <td>1000000.000</td>\n",
              "      <td>nan</td>\n",
              "    </tr>\n",
              "    <tr>\n",
              "      <th>134</th>\n",
              "      <td>A Higher Loyalty</td>\n",
              "      <td>NaN</td>\n",
              "      <td>Non-Fiction</td>\n",
              "      <td>3000000.000</td>\n",
              "      <td>nan</td>\n",
              "    </tr>\n",
              "    <tr>\n",
              "      <th>140</th>\n",
              "      <td>The Room Where It Happened</td>\n",
              "      <td>NaN</td>\n",
              "      <td>Non-Fiction</td>\n",
              "      <td>2000000.000</td>\n",
              "      <td>nan</td>\n",
              "    </tr>\n",
              "    <tr>\n",
              "      <th>143</th>\n",
              "      <td>The Far Away Brothers</td>\n",
              "      <td>NaN</td>\n",
              "      <td>Non-Fiction</td>\n",
              "      <td>250000.000</td>\n",
              "      <td>nan</td>\n",
              "    </tr>\n",
              "    <tr>\n",
              "      <th>146</th>\n",
              "      <td>The 7 Laws of Magical Thinking</td>\n",
              "      <td>NaN</td>\n",
              "      <td>Non-Fiction</td>\n",
              "      <td>210000.000</td>\n",
              "      <td>nan</td>\n",
              "    </tr>\n",
              "    <tr>\n",
              "      <th>147</th>\n",
              "      <td>Let the Lord Sort Them: The Rise and Fall of t...</td>\n",
              "      <td>Maurice Chammah</td>\n",
              "      <td>Non-Fiction</td>\n",
              "      <td>265000.000</td>\n",
              "      <td>1.000</td>\n",
              "    </tr>\n",
              "    <tr>\n",
              "      <th>152</th>\n",
              "      <td>Catch and Kill</td>\n",
              "      <td>NaN</td>\n",
              "      <td>Non-Fiction</td>\n",
              "      <td>3000000.000</td>\n",
              "      <td>nan</td>\n",
              "    </tr>\n",
              "    <tr>\n",
              "      <th>164</th>\n",
              "      <td>The Wild Diet</td>\n",
              "      <td>NaN</td>\n",
              "      <td>Non-Fiction, Audio</td>\n",
              "      <td>473000.000</td>\n",
              "      <td>nan</td>\n",
              "    </tr>\n",
              "    <tr>\n",
              "      <th>190</th>\n",
              "      <td>How to Fall In Love with Anyone</td>\n",
              "      <td>NaN</td>\n",
              "      <td>Non-Fiction, Memoir, Essay</td>\n",
              "      <td>400000.000</td>\n",
              "      <td>nan</td>\n",
              "    </tr>\n",
              "    <tr>\n",
              "      <th>312</th>\n",
              "      <td>Nolyn</td>\n",
              "      <td>NaN</td>\n",
              "      <td>Science Fiction and Fantasy</td>\n",
              "      <td>333333.000</td>\n",
              "      <td>nan</td>\n",
              "    </tr>\n",
              "    <tr>\n",
              "      <th>331</th>\n",
              "      <td>SORROWLAND</td>\n",
              "      <td>NaN</td>\n",
              "      <td>Science Fiction and Fantasy</td>\n",
              "      <td>500000.000</td>\n",
              "      <td>nan</td>\n",
              "    </tr>\n",
              "    <tr>\n",
              "      <th>361</th>\n",
              "      <td>Gone Girl</td>\n",
              "      <td>Gillian Flynn</td>\n",
              "      <td>Thriller/Mystery</td>\n",
              "      <td>400000.000</td>\n",
              "      <td>1203719.000</td>\n",
              "    </tr>\n",
              "    <tr>\n",
              "      <th>376</th>\n",
              "      <td>The Other Black Girl</td>\n",
              "      <td>Zakiya Dalila Harris</td>\n",
              "      <td>Thriller/Mystery, Literary Fiction</td>\n",
              "      <td>1000000.000</td>\n",
              "      <td>0.000</td>\n",
              "    </tr>\n",
              "    <tr>\n",
              "      <th>379</th>\n",
              "      <td>A Lady’s Guide to Selling Out</td>\n",
              "      <td>NaN</td>\n",
              "      <td>Women's</td>\n",
              "      <td>290000.000</td>\n",
              "      <td>nan</td>\n",
              "    </tr>\n",
              "    <tr>\n",
              "      <th>463</th>\n",
              "      <td>Born Wicked</td>\n",
              "      <td>NaN</td>\n",
              "      <td>YA, Paranormal</td>\n",
              "      <td>300000.000</td>\n",
              "      <td>nan</td>\n",
              "    </tr>\n",
              "    <tr>\n",
              "      <th>464</th>\n",
              "      <td>Bitten</td>\n",
              "      <td>NaN</td>\n",
              "      <td>YA, Paranormal</td>\n",
              "      <td>500000.000</td>\n",
              "      <td>nan</td>\n",
              "    </tr>\n",
              "    <tr>\n",
              "      <th>479</th>\n",
              "      <td>*omitted*</td>\n",
              "      <td>NaN</td>\n",
              "      <td>YA, Science Fiction and Fantasy</td>\n",
              "      <td>300000.000</td>\n",
              "      <td>nan</td>\n",
              "    </tr>\n",
              "    <tr>\n",
              "      <th>500</th>\n",
              "      <td>YA FANTASY TRILOGY</td>\n",
              "      <td>NaN</td>\n",
              "      <td>YA, Science Fiction and Fantasy</td>\n",
              "      <td>333333.000</td>\n",
              "      <td>nan</td>\n",
              "    </tr>\n",
              "    <tr>\n",
              "      <th>540</th>\n",
              "      <td>There Will Come a Darkness</td>\n",
              "      <td>NaN</td>\n",
              "      <td>YA, Science Fiction and Fantasy</td>\n",
              "      <td>333000.000</td>\n",
              "      <td>nan</td>\n",
              "    </tr>\n",
              "    <tr>\n",
              "      <th>574</th>\n",
              "      <td>Guardians of Dawn</td>\n",
              "      <td>NaN</td>\n",
              "      <td>YA, Science Fiction and Fantasy</td>\n",
              "      <td>500000.000</td>\n",
              "      <td>nan</td>\n",
              "    </tr>\n",
              "    <tr>\n",
              "      <th>590</th>\n",
              "      <td>Leviathan</td>\n",
              "      <td>NaN</td>\n",
              "      <td>YA, Science Fiction and Fantasy</td>\n",
              "      <td>400000.000</td>\n",
              "      <td>nan</td>\n",
              "    </tr>\n",
              "    <tr>\n",
              "      <th>591</th>\n",
              "      <td>Uglies (new)</td>\n",
              "      <td>NaN</td>\n",
              "      <td>YA, Science Fiction and Fantasy</td>\n",
              "      <td>400000.000</td>\n",
              "      <td>nan</td>\n",
              "    </tr>\n",
              "    <tr>\n",
              "      <th>592</th>\n",
              "      <td>Afterworlds</td>\n",
              "      <td>NaN</td>\n",
              "      <td>YA, Science Fiction and Fantasy</td>\n",
              "      <td>500000.000</td>\n",
              "      <td>nan</td>\n",
              "    </tr>\n",
              "  </tbody>\n",
              "</table>\n",
              "</div>"
            ],
            "text/plain": [
              "                                                 title  ... ratings_count\n",
              "1                                      The Wild Inside  ...       574.000\n",
              "51                                            Cape May  ...       255.000\n",
              "57                  The Girls (+ two additional books)  ...           nan\n",
              "59                                 Behold the Dreamers  ...     35770.000\n",
              "60                                       American Dirt  ...    126888.000\n",
              "75                              You Know You Want This  ...      4869.000\n",
              "76                                 The Secrets We Kept  ...     35955.000\n",
              "86                                        The Refugees  ...     12264.000\n",
              "87                                           Homegoing  ...    138964.000\n",
              "127                       The Eagles of Heart Mountain  ...           nan\n",
              "129                                            1000000  ...           nan\n",
              "134                                   A Higher Loyalty  ...           nan\n",
              "140                         The Room Where It Happened  ...           nan\n",
              "143                              The Far Away Brothers  ...           nan\n",
              "146                     The 7 Laws of Magical Thinking  ...           nan\n",
              "147  Let the Lord Sort Them: The Rise and Fall of t...  ...         1.000\n",
              "152                                     Catch and Kill  ...           nan\n",
              "164                                      The Wild Diet  ...           nan\n",
              "190                    How to Fall In Love with Anyone  ...           nan\n",
              "312                                              Nolyn  ...           nan\n",
              "331                                         SORROWLAND  ...           nan\n",
              "361                                          Gone Girl  ...   1203719.000\n",
              "376                               The Other Black Girl  ...         0.000\n",
              "379                      A Lady’s Guide to Selling Out  ...           nan\n",
              "463                                        Born Wicked  ...           nan\n",
              "464                                             Bitten  ...           nan\n",
              "479                                          *omitted*  ...           nan\n",
              "500                                 YA FANTASY TRILOGY  ...           nan\n",
              "540                         There Will Come a Darkness  ...           nan\n",
              "574                                  Guardians of Dawn  ...           nan\n",
              "590                                          Leviathan  ...           nan\n",
              "591                                       Uglies (new)  ...           nan\n",
              "592                                        Afterworlds  ...           nan\n",
              "\n",
              "[33 rows x 5 columns]"
            ]
          },
          "metadata": {
            "tags": []
          },
          "execution_count": 67
        }
      ]
    },
    {
      "cell_type": "code",
      "metadata": {
        "id": "j2ZojSwUfnzv",
        "colab": {
          "base_uri": "https://localhost:8080/",
          "height": 113
        },
        "outputId": "873bfac9-0b27-4c6e-f8f4-c2859c691bec"
      },
      "source": [
        "gr.loc[gr.search_term.str.contains('The Eagles of Heart', na=False)]"
      ],
      "execution_count": 68,
      "outputs": [
        {
          "output_type": "execute_result",
          "data": {
            "text/html": [
              "<div>\n",
              "<style scoped>\n",
              "    .dataframe tbody tr th:only-of-type {\n",
              "        vertical-align: middle;\n",
              "    }\n",
              "\n",
              "    .dataframe tbody tr th {\n",
              "        vertical-align: top;\n",
              "    }\n",
              "\n",
              "    .dataframe thead th {\n",
              "        text-align: right;\n",
              "    }\n",
              "</style>\n",
              "<table border=\"1\" class=\"dataframe\">\n",
              "  <thead>\n",
              "    <tr style=\"text-align: right;\">\n",
              "      <th></th>\n",
              "      <th>Unnamed: 0</th>\n",
              "      <th>search_term</th>\n",
              "      <th>title</th>\n",
              "      <th>author</th>\n",
              "      <th>publisher</th>\n",
              "      <th>ratings_count</th>\n",
              "      <th>average_rating</th>\n",
              "      <th>pub_date</th>\n",
              "      <th>pub_year</th>\n",
              "    </tr>\n",
              "  </thead>\n",
              "  <tbody>\n",
              "    <tr>\n",
              "      <th>160</th>\n",
              "      <td>0</td>\n",
              "      <td>The Eagles of Heart Mountain Bradford Pearson</td>\n",
              "      <td>The Eagles of Heart Mountain: A True Story of ...</td>\n",
              "      <td>Bradford Pearson</td>\n",
              "      <td>Atria Books</td>\n",
              "      <td>3</td>\n",
              "      <td>4.330</td>\n",
              "      <td>('1', '5', '2021')</td>\n",
              "      <td>2021.000</td>\n",
              "    </tr>\n",
              "  </tbody>\n",
              "</table>\n",
              "</div>"
            ],
            "text/plain": [
              "     Unnamed: 0  ... pub_year\n",
              "160           0  ... 2021.000\n",
              "\n",
              "[1 rows x 9 columns]"
            ]
          },
          "metadata": {
            "tags": []
          },
          "execution_count": 68
        }
      ]
    },
    {
      "cell_type": "code",
      "metadata": {
        "id": "m5jseUyOiOTb",
        "colab": {
          "base_uri": "https://localhost:8080/",
          "height": 78
        },
        "outputId": "19b53da2-df55-4a4d-c1a5-dc54645b1658"
      },
      "source": [
        "gr.loc[gr.search_term.str.contains('Born Wicked', na=False)]"
      ],
      "execution_count": 69,
      "outputs": [
        {
          "output_type": "execute_result",
          "data": {
            "text/html": [
              "<div>\n",
              "<style scoped>\n",
              "    .dataframe tbody tr th:only-of-type {\n",
              "        vertical-align: middle;\n",
              "    }\n",
              "\n",
              "    .dataframe tbody tr th {\n",
              "        vertical-align: top;\n",
              "    }\n",
              "\n",
              "    .dataframe thead th {\n",
              "        text-align: right;\n",
              "    }\n",
              "</style>\n",
              "<table border=\"1\" class=\"dataframe\">\n",
              "  <thead>\n",
              "    <tr style=\"text-align: right;\">\n",
              "      <th></th>\n",
              "      <th>Unnamed: 0</th>\n",
              "      <th>search_term</th>\n",
              "      <th>title</th>\n",
              "      <th>author</th>\n",
              "      <th>publisher</th>\n",
              "      <th>ratings_count</th>\n",
              "      <th>average_rating</th>\n",
              "      <th>pub_date</th>\n",
              "      <th>pub_year</th>\n",
              "    </tr>\n",
              "  </thead>\n",
              "  <tbody>\n",
              "    <tr>\n",
              "      <th>68</th>\n",
              "      <td>0</td>\n",
              "      <td>Born Wicked Jessica Spotswood</td>\n",
              "      <td>Born Wicked (The Cahill Witch Chronicles, #1)</td>\n",
              "      <td>Jessica Spotswood</td>\n",
              "      <td>Putnam Juvenile</td>\n",
              "      <td>14060</td>\n",
              "      <td>3.890</td>\n",
              "      <td>('2', '7', '2012')</td>\n",
              "      <td>2012.000</td>\n",
              "    </tr>\n",
              "  </tbody>\n",
              "</table>\n",
              "</div>"
            ],
            "text/plain": [
              "    Unnamed: 0                    search_term  ...            pub_date pub_year\n",
              "68           0  Born Wicked Jessica Spotswood  ...  ('2', '7', '2012') 2012.000\n",
              "\n",
              "[1 rows x 9 columns]"
            ]
          },
          "metadata": {
            "tags": []
          },
          "execution_count": 69
        }
      ]
    },
    {
      "cell_type": "markdown",
      "metadata": {
        "id": "r_4iyyqrjKhi"
      },
      "source": [
        "## Save files back to GitHub"
      ]
    },
    {
      "cell_type": "markdown",
      "metadata": {
        "id": "i5pkoSGLGCO7"
      },
      "source": [
        "Step 0: Copy "
      ]
    },
    {
      "cell_type": "markdown",
      "metadata": {
        "id": "MEJC5PUsxTEz"
      },
      "source": [
        "Step 1: copy new files over to Google Drive"
      ]
    },
    {
      "cell_type": "code",
      "metadata": {
        "id": "YR_0kDAKxrMf"
      },
      "source": [
        "!cp -r ./tmp/* \"{PROJECT_PATH}\""
      ],
      "execution_count": null,
      "outputs": []
    },
    {
      "cell_type": "code",
      "metadata": {
        "colab": {
          "base_uri": "https://localhost:8080/"
        },
        "id": "obA1-eQ4xvR1",
        "outputId": "734e2bb3-2d0a-4d41-e1d7-9754fda51562"
      },
      "source": [
        "!ls '{PROJECT_PATH}'"
      ],
      "execution_count": null,
      "outputs": [
        {
          "output_type": "stream",
          "text": [
            " books.csv\t\t     goodreads_data_2.csv\t LICENSE\n",
            "'goodreads_data_0 (1).csv'  'goodreads_data_3 (1).csv'\t ppm_20201010.csv\n",
            " goodreads_data_0.csv\t     goodreads_data_3.csv\t temp_file\n",
            "'goodreads_data_1 (1).csv'   goodreads_data_4.csv\t test\n",
            " goodreads_data_1.csv\t     goodreads_data_5.csv\n",
            "'goodreads_data_2 (1).csv'   goodreads_data_6.csv\n"
          ],
          "name": "stdout"
        }
      ]
    },
    {
      "cell_type": "markdown",
      "metadata": {
        "id": "y3M0OAsUx00_"
      },
      "source": [
        "Step 2: resubmit to GitHub"
      ]
    },
    {
      "cell_type": "code",
      "metadata": {
        "id": "qVFtqLuM39pA"
      },
      "source": [
        "GIT_COMMIT_MESSAGE = 'Testing Colab commit to GitHub'\r\n",
        "GIT_EMAIL = 'robert@sturrock.ca' \r\n",
        "GIT_NAME = 'Robert Sturrock'\r\n",
        "GIT_BRANCH_NAME = 'master'"
      ],
      "execution_count": null,
      "outputs": []
    },
    {
      "cell_type": "code",
      "metadata": {
        "colab": {
          "base_uri": "https://localhost:8080/"
        },
        "id": "LHKuETLd6npp",
        "outputId": "a170dc67-84f3-411b-f01a-af4bcc8c2f1b"
      },
      "source": [
        "!ls"
      ],
      "execution_count": null,
      "outputs": [
        {
          "output_type": "stream",
          "text": [
            "drive  sample_data\n"
          ],
          "name": "stdout"
        }
      ]
    },
    {
      "cell_type": "code",
      "metadata": {
        "id": "MoQS2y-ix3VT",
        "colab": {
          "base_uri": "https://localhost:8080/"
        },
        "outputId": "27210e24-4b8d-46b4-989c-4223c7590e59"
      },
      "source": [
        "!git clone \"https://{GIT_TOKEN}@github.com/{GIT_USERNAME}/{GIT_REPOSITORY}.git\" ./tmp/publishing-paid-me\r\n",
        "!rsync -aP --exclude=data/ \"{PROJECT_PATH}\"/* ./tmp/publishing-paid-me # this gets all the files in drive I think. You'd need a folder \"data/\" to exclude\r\n",
        "\r\n",
        "%cd ./tmp/publishing-paid-me\r\n",
        "!git add .\r\n",
        "!git commit -m '\"{GIT_COMMIT_MESSAGE}\"'\r\n",
        "!git config --global user.email \"{GIT_EMAIL}\"\r\n",
        "!git config --global user.name \"{GIT_NAME}\"\r\n",
        "!git push origin \"{GIT_BRANCH_NAME}\"\r\n",
        "%cd /content\r\n",
        "\r\n",
        "# Remove directory\r\n",
        "!rm -r ./tmp"
      ],
      "execution_count": null,
      "outputs": [
        {
          "output_type": "stream",
          "text": [
            "Cloning into './tmp/publishing-paid-me'...\n",
            "remote: Enumerating objects: 35, done.\u001b[K\n",
            "remote: Counting objects: 100% (35/35), done.\u001b[K\n",
            "remote: Compressing objects: 100% (32/32), done.\u001b[K\n",
            "remote: Total 35 (delta 9), reused 11 (delta 2), pack-reused 0\u001b[K\n",
            "Unpacking objects: 100% (35/35), done.\n",
            "sending incremental file list\n",
            "LICENSE\n",
            "         35,129 100%    2.25MB/s    0:00:00 (xfr#1, to-chk=15/16)\n",
            "books.csv\n",
            "      1,559,650 100%  165.27MB/s    0:00:00 (xfr#2, to-chk=14/16)\n",
            "goodreads_data_0 (1).csv\n",
            "         51,707 100%    4.93MB/s    0:00:00 (xfr#3, to-chk=13/16)\n",
            "goodreads_data_0.csv\n",
            "        170,457 100%   12.50MB/s    0:00:00 (xfr#4, to-chk=12/16)\n",
            "goodreads_data_1 (1).csv\n",
            "         65,978 100%    4.49MB/s    0:00:00 (xfr#5, to-chk=11/16)\n",
            "goodreads_data_1.csv\n",
            "        126,751 100%    7.55MB/s    0:00:00 (xfr#6, to-chk=10/16)\n",
            "goodreads_data_2 (1).csv\n",
            "         46,758 100%    2.62MB/s    0:00:00 (xfr#7, to-chk=9/16)\n",
            "goodreads_data_2.csv\n",
            "        118,738 100%    5.96MB/s    0:00:00 (xfr#8, to-chk=8/16)\n",
            "goodreads_data_3 (1).csv\n",
            "          3,232 100%  166.12kB/s    0:00:00 (xfr#9, to-chk=7/16)\n",
            "goodreads_data_3.csv\n",
            "        121,398 100%    5.79MB/s    0:00:00 (xfr#10, to-chk=6/16)\n",
            "goodreads_data_4.csv\n",
            "        139,135 100%    6.03MB/s    0:00:00 (xfr#11, to-chk=5/16)\n",
            "goodreads_data_5.csv\n",
            "        130,059 100%    5.39MB/s    0:00:00 (xfr#12, to-chk=4/16)\n",
            "goodreads_data_6.csv\n",
            "         27,090 100%    1.08MB/s    0:00:00 (xfr#13, to-chk=3/16)\n",
            "ppm_20201010.csv\n",
            "        424,076 100%   14.98MB/s    0:00:00 (xfr#14, to-chk=2/16)\n",
            "temp_file\n",
            "             35 100%    1.22kB/s    0:00:00 (xfr#15, to-chk=1/16)\n",
            "test/\n",
            "/content/tmp/publishing-paid-me\n",
            "On branch master\n",
            "Your branch is up to date with 'origin/master'.\n",
            "\n",
            "nothing to commit, working tree clean\n",
            "Everything up-to-date\n",
            "/content\n"
          ],
          "name": "stdout"
        }
      ]
    }
  ]
}